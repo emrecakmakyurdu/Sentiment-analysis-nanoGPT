{
  "cells": [
    {
      "cell_type": "markdown",
      "source": [
        "# Data Preparation\n",
        "\n",
        "\n",
        "\n",
        "---\n",
        "In this part, data is loaded and explotary data analysis is conducted. Dataset contains 11 columns however \"customer_sentiment\" and \"conversation\" columns will be used in this assignment. <br>\n",
        "\n",
        "Distribution of customer sentiment is imbalanced. There are 542 neutral, 411 negative and 17 positive instances in the dataset. There seems to be a negative correlation between experience level and customer sentiment. There is a balanced relationship between customer sentiment and issue complexity. Bar plots can be found below.\n",
        "\n",
        "\n"
      ],
      "metadata": {
        "id": "a6K6eUDXjve1"
      }
    },
    {
      "cell_type": "code",
      "source": [
        "import pandas as pd\n",
        "import matplotlib.pyplot as plt\n",
        "import seaborn as sns"
      ],
      "metadata": {
        "id": "4bjt4vI2W6tr"
      },
      "execution_count": null,
      "outputs": []
    },
    {
      "cell_type": "code",
      "execution_count": 2,
      "metadata": {
        "colab": {
          "base_uri": "https://localhost:8080/"
        },
        "id": "vKHmds8aWYQI",
        "outputId": "d9243eec-c646-42aa-d378-86369d44837a"
      },
      "outputs": [
        {
          "output_type": "execute_result",
          "data": {
            "text/plain": [
              "((970, 11), (30, 11))"
            ]
          },
          "metadata": {},
          "execution_count": 2
        }
      ],
      "source": [
        "train_data = pd.read_csv(\"/content/train.csv\")\n",
        "test_data_ = pd.read_csv(\"/content/test.csv\")\n",
        "\n",
        "train_data.shape, test_data_.shape"
      ]
    },
    {
      "cell_type": "code",
      "execution_count": null,
      "metadata": {
        "colab": {
          "base_uri": "https://localhost:8080/",
          "height": 153
        },
        "id": "zmiEuOu1XBzv",
        "outputId": "34648523-f348-4723-b1e9-8ac7f6d427f8"
      },
      "outputs": [
        {
          "data": {
            "application/vnd.google.colaboratory.intrinsic+json": {
              "summary": "{\n  \"name\": \"train_data\",\n  \"rows\": 970,\n  \"fields\": [\n    {\n      \"column\": \"issue_area\",\n      \"properties\": {\n        \"dtype\": \"category\",\n        \"num_unique_values\": 6,\n        \"samples\": [\n          \"Login and Account\",\n          \"Cancellations and returns\",\n          \"Shipping\"\n        ],\n        \"semantic_type\": \"\",\n        \"description\": \"\"\n      }\n    },\n    {\n      \"column\": \"issue_category\",\n      \"properties\": {\n        \"dtype\": \"category\",\n        \"num_unique_values\": 40,\n        \"samples\": [\n          \"Warranty Terms and Changes\",\n          \"Accessing Warranty Details\",\n          \"Miscellaneous\"\n        ],\n        \"semantic_type\": \"\",\n        \"description\": \"\"\n      }\n    },\n    {\n      \"column\": \"issue_sub_category\",\n      \"properties\": {\n        \"dtype\": \"category\",\n        \"num_unique_values\": 109,\n        \"samples\": [\n          \"Tracking/Shipping Updates\",\n          \"Time taken to cancel an order\",\n          \"Delivery not attempted again\"\n        ],\n        \"semantic_type\": \"\",\n        \"description\": \"\"\n      }\n    },\n    {\n      \"column\": \"issue_category_sub_category\",\n      \"properties\": {\n        \"dtype\": \"category\",\n        \"num_unique_values\": 109,\n        \"samples\": [\n          \"Order Confirmation and Status -> Tracking/Shipping Updates\",\n          \"Order Cancellation -> Time taken to cancel an order\",\n          \"Order Delivery Issues -> Delivery not attempted again\"\n        ],\n        \"semantic_type\": \"\",\n        \"description\": \"\"\n      }\n    },\n    {\n      \"column\": \"customer_sentiment\",\n      \"properties\": {\n        \"dtype\": \"category\",\n        \"num_unique_values\": 3,\n        \"samples\": [\n          \"neutral\",\n          \"negative\",\n          \"positive\"\n        ],\n        \"semantic_type\": \"\",\n        \"description\": \"\"\n      }\n    },\n    {\n      \"column\": \"product_category\",\n      \"properties\": {\n        \"dtype\": \"category\",\n        \"num_unique_values\": 3,\n        \"samples\": [\n          \"Appliances\",\n          \"Electronics\",\n          \"Men/Women/Kids\"\n        ],\n        \"semantic_type\": \"\",\n        \"description\": \"\"\n      }\n    },\n    {\n      \"column\": \"product_sub_category\",\n      \"properties\": {\n        \"dtype\": \"category\",\n        \"num_unique_values\": 50,\n        \"samples\": [\n          \"Sandwich Maker\",\n          \"Electric Kettle\",\n          \"Headphone\"\n        ],\n        \"semantic_type\": \"\",\n        \"description\": \"\"\n      }\n    },\n    {\n      \"column\": \"issue_complexity\",\n      \"properties\": {\n        \"dtype\": \"category\",\n        \"num_unique_values\": 3,\n        \"samples\": [\n          \"medium\",\n          \"less\",\n          \"high\"\n        ],\n        \"semantic_type\": \"\",\n        \"description\": \"\"\n      }\n    },\n    {\n      \"column\": \"agent_experience_level\",\n      \"properties\": {\n        \"dtype\": \"category\",\n        \"num_unique_values\": 3,\n        \"samples\": [\n          \"junior\",\n          \"experienced\",\n          \"inexperienced\"\n        ],\n        \"semantic_type\": \"\",\n        \"description\": \"\"\n      }\n    },\n    {\n      \"column\": \"agent_experience_level_desc\",\n      \"properties\": {\n        \"dtype\": \"category\",\n        \"num_unique_values\": 3,\n        \"samples\": [\n          \"handles customer inquiries independently, possess solid troubleshooting skills, and seek guidance from more experienced team members when needed.\",\n          \"confidently handles complex customer issues, excel in de-escalation, and possess the ability to empathize with customers, providing them with effective solutions and support.\",\n          \"may struggle with ambiguous queries, rely on clarification from customers or guidance from senior team members, find it difficult to de-escalate tense situations, and may rely on predefined steps or escalate to supervisors for support\"\n        ],\n        \"semantic_type\": \"\",\n        \"description\": \"\"\n      }\n    },\n    {\n      \"column\": \"conversation\",\n      \"properties\": {\n        \"dtype\": \"string\",\n        \"num_unique_values\": 968,\n        \"samples\": [\n          \"Agent: Thank you for calling BrownBox Customer Support. My name is Sarah. How may I assist you today?\\n\\nCustomer: Hi Sarah, I was browsing your website, and I found a washing machine that I want to purchase, but it says it's out of stock. Can you tell me when it will be available again?\\n\\nAgent: I'm sorry to hear that the washing machine you want to purchase is out of stock. May I have the name of the washing machine, please?\\n\\nCustomer: Yes, it's the XYZ model.\\n\\nAgent: Thank you for the information. Let me check the availability of the washing machine for you. I'm afraid the XYZ model is temporarily unavailable, and we don't have a specific date for when it will be back in stock. However, we have a similar model, the ABC, which is available for purchase. Would you like me to send you the link to the ABC model?\\n\\nCustomer: No, I'm interested in the XYZ model, and I want to wait until it's back in stock. Can I place an order for it now, and you can ship it to me when it's available?\\n\\nAgent: I'm sorry, but we don't allow backorders for out of stock or temporarily unavailable items. However, you can sign up for email notifications, and we'll notify you when the washing machine becomes available again.\\n\\nCustomer: Okay, I'll sign up for email notifications. Can you tell me if the price of the washing machine will change when it's back in stock?\\n\\nAgent: The price of the washing machine may change when it's back in stock. However, we'll honor the price at the time you placed your order if you decide to purchase it when it's available again.\\n\\nCustomer: Okay, I understand. Thank you for your help, Sarah.\\n\\nAgent: You're welcome. Is there anything else I can assist you with?\\n\\nCustomer: No, that's all for now. Thank you again.\\n\\nAgent: You're welcome. Have a great day, and stay safe!\\n\\nCustomer: You too, goodbye.\\n\\nAgent: Goodbye.\",\n          \"Customer: Hi, I'm interested in purchasing a washing machine from BrownBox. Can you help me with the order placement process?\\n\\nAgent: Hello, thank you for reaching out to BrownBox customer support. Of course, I'd be happy to assist you with that. May I have the product name or SKU number of the washing machine you're interested in?\\n\\nCustomer: Yes, it's the XYZ model, SKU number 123456.\\n\\nAgent: Great, thank you for the information. I can see that the XYZ model is currently in stock and available for purchase. Would you like me to guide you through the order placement process?\\n\\nCustomer: Yes, please.\\n\\nAgent: Alright, first, you'll need to add the washing machine to your cart by clicking on the \\\"Add to Cart\\\" button on the product page. Then, you'll need to review your cart and click on the \\\"Checkout\\\" button to proceed to the next step.\\n\\nCustomer: Okay, I've added it to my cart. What's next?\\n\\nAgent: Now, you'll need to fill out your shipping and billing information, including your name, address, and payment method. You can choose to pay with a credit card or PayPal.\\n\\nCustomer: Alright, I've filled out all the necessary information. Is there anything else I need to do?\\n\\nAgent: Yes, just review your order summary to make sure everything is correct, and then click on the \\\"Place Order\\\" button to submit your order. You should receive an order confirmation email shortly after that.\\n\\nCustomer: Okay, I've placed the order. When can I expect to receive the washing machine?\\n\\nAgent: Great, thank you for placing your order with BrownBox. The estimated delivery date for the XYZ model is two to three business days from the date of purchase. You'll receive a shipping confirmation email with a tracking number once your order has been shipped.\\n\\nCustomer: That's perfect. Thank you for your help.\\n\\nAgent: You're welcome. Is there anything else I can assist you with today?\\n\\nCustomer: No, that's all. Thank you again.\\n\\nAgent: It was my pleasure assisting you. If you have any further questions or concerns, don't hesitate to contact us. Have a great day!\",\n          \"Agent: Thank you for calling BrownBox Customer Support. My name is John. How can I assist you today?\\n\\nCustomer: Hi John, I recently returned a ceiling fan through Cash on Delivery, and I haven't received my refund yet. It's been more than a week, and I'm getting frustrated.\\n\\nAgent: I'm sorry to hear that. Let me check the status of your refund. May I have your order number and registered email address, please?\\n\\nCustomer: Sure, my order number is 123456 and my email address is john.doe@email.com.\\n\\nAgent: Thank you for the information, John. I can see that we have received your returned ceiling fan, and our team is processing your refund. The refund should reflect in your account within the next 3-5 business days.\\n\\nCustomer: Why does it take so long? I returned the product a week ago, and I need the money urgently.\\n\\nAgent: I understand your concern, John. However, the refund timeline for Cash on Delivery returns is slightly longer than other payment methods. This is because we need to verify the returned product's condition before processing the refund to ensure that it's in its original condition.\\n\\nCustomer: Okay, I see. But I still need the money urgently. Is there anything you can do to expedite the process?\\n\\nAgent: I'm sorry, John, but we cannot expedite the refund process. However, I can assure you that our team is working on it, and you will receive your refund as soon as possible.\\n\\nCustomer: Alright, I guess I'll have to wait. Thanks for your help, John.\\n\\nAgent: You're welcome, John. Is there anything else I can assist you with today?\\n\\nCustomer: No, that's all. Thanks again.\\n\\nAgent: It was my pleasure assisting you. Have a great day!\"\n        ],\n        \"semantic_type\": \"\",\n        \"description\": \"\"\n      }\n    }\n  ]\n}",
              "type": "dataframe",
              "variable_name": "train_data"
            },
            "text/html": [
              "\n",
              "  <div id=\"df-cdfbc089-77fd-41bb-9746-c0c8d72a547e\" class=\"colab-df-container\">\n",
              "    <div>\n",
              "<style scoped>\n",
              "    .dataframe tbody tr th:only-of-type {\n",
              "        vertical-align: middle;\n",
              "    }\n",
              "\n",
              "    .dataframe tbody tr th {\n",
              "        vertical-align: top;\n",
              "    }\n",
              "\n",
              "    .dataframe thead th {\n",
              "        text-align: right;\n",
              "    }\n",
              "</style>\n",
              "<table border=\"1\" class=\"dataframe\">\n",
              "  <thead>\n",
              "    <tr style=\"text-align: right;\">\n",
              "      <th></th>\n",
              "      <th>issue_area</th>\n",
              "      <th>issue_category</th>\n",
              "      <th>issue_sub_category</th>\n",
              "      <th>issue_category_sub_category</th>\n",
              "      <th>customer_sentiment</th>\n",
              "      <th>product_category</th>\n",
              "      <th>product_sub_category</th>\n",
              "      <th>issue_complexity</th>\n",
              "      <th>agent_experience_level</th>\n",
              "      <th>agent_experience_level_desc</th>\n",
              "      <th>conversation</th>\n",
              "    </tr>\n",
              "  </thead>\n",
              "  <tbody>\n",
              "    <tr>\n",
              "      <th>0</th>\n",
              "      <td>Login and Account</td>\n",
              "      <td>Mobile Number and Email Verification</td>\n",
              "      <td>Verification requirement for mobile number or ...</td>\n",
              "      <td>Mobile Number and Email Verification -&gt; Verifi...</td>\n",
              "      <td>neutral</td>\n",
              "      <td>Appliances</td>\n",
              "      <td>Oven Toaster Grills (OTG)</td>\n",
              "      <td>medium</td>\n",
              "      <td>junior</td>\n",
              "      <td>handles customer inquiries independently, poss...</td>\n",
              "      <td>Agent: Thank you for calling BrownBox Customer...</td>\n",
              "    </tr>\n",
              "  </tbody>\n",
              "</table>\n",
              "</div>\n",
              "    <div class=\"colab-df-buttons\">\n",
              "\n",
              "  <div class=\"colab-df-container\">\n",
              "    <button class=\"colab-df-convert\" onclick=\"convertToInteractive('df-cdfbc089-77fd-41bb-9746-c0c8d72a547e')\"\n",
              "            title=\"Convert this dataframe to an interactive table.\"\n",
              "            style=\"display:none;\">\n",
              "\n",
              "  <svg xmlns=\"http://www.w3.org/2000/svg\" height=\"24px\" viewBox=\"0 -960 960 960\">\n",
              "    <path d=\"M120-120v-720h720v720H120Zm60-500h600v-160H180v160Zm220 220h160v-160H400v160Zm0 220h160v-160H400v160ZM180-400h160v-160H180v160Zm440 0h160v-160H620v160ZM180-180h160v-160H180v160Zm440 0h160v-160H620v160Z\"/>\n",
              "  </svg>\n",
              "    </button>\n",
              "\n",
              "  <style>\n",
              "    .colab-df-container {\n",
              "      display:flex;\n",
              "      gap: 12px;\n",
              "    }\n",
              "\n",
              "    .colab-df-convert {\n",
              "      background-color: #E8F0FE;\n",
              "      border: none;\n",
              "      border-radius: 50%;\n",
              "      cursor: pointer;\n",
              "      display: none;\n",
              "      fill: #1967D2;\n",
              "      height: 32px;\n",
              "      padding: 0 0 0 0;\n",
              "      width: 32px;\n",
              "    }\n",
              "\n",
              "    .colab-df-convert:hover {\n",
              "      background-color: #E2EBFA;\n",
              "      box-shadow: 0px 1px 2px rgba(60, 64, 67, 0.3), 0px 1px 3px 1px rgba(60, 64, 67, 0.15);\n",
              "      fill: #174EA6;\n",
              "    }\n",
              "\n",
              "    .colab-df-buttons div {\n",
              "      margin-bottom: 4px;\n",
              "    }\n",
              "\n",
              "    [theme=dark] .colab-df-convert {\n",
              "      background-color: #3B4455;\n",
              "      fill: #D2E3FC;\n",
              "    }\n",
              "\n",
              "    [theme=dark] .colab-df-convert:hover {\n",
              "      background-color: #434B5C;\n",
              "      box-shadow: 0px 1px 3px 1px rgba(0, 0, 0, 0.15);\n",
              "      filter: drop-shadow(0px 1px 2px rgba(0, 0, 0, 0.3));\n",
              "      fill: #FFFFFF;\n",
              "    }\n",
              "  </style>\n",
              "\n",
              "    <script>\n",
              "      const buttonEl =\n",
              "        document.querySelector('#df-cdfbc089-77fd-41bb-9746-c0c8d72a547e button.colab-df-convert');\n",
              "      buttonEl.style.display =\n",
              "        google.colab.kernel.accessAllowed ? 'block' : 'none';\n",
              "\n",
              "      async function convertToInteractive(key) {\n",
              "        const element = document.querySelector('#df-cdfbc089-77fd-41bb-9746-c0c8d72a547e');\n",
              "        const dataTable =\n",
              "          await google.colab.kernel.invokeFunction('convertToInteractive',\n",
              "                                                    [key], {});\n",
              "        if (!dataTable) return;\n",
              "\n",
              "        const docLinkHtml = 'Like what you see? Visit the ' +\n",
              "          '<a target=\"_blank\" href=https://colab.research.google.com/notebooks/data_table.ipynb>data table notebook</a>'\n",
              "          + ' to learn more about interactive tables.';\n",
              "        element.innerHTML = '';\n",
              "        dataTable['output_type'] = 'display_data';\n",
              "        await google.colab.output.renderOutput(dataTable, element);\n",
              "        const docLink = document.createElement('div');\n",
              "        docLink.innerHTML = docLinkHtml;\n",
              "        element.appendChild(docLink);\n",
              "      }\n",
              "    </script>\n",
              "  </div>\n",
              "\n",
              "\n",
              "    </div>\n",
              "  </div>\n"
            ],
            "text/plain": [
              "          issue_area                        issue_category  \\\n",
              "0  Login and Account  Mobile Number and Email Verification   \n",
              "\n",
              "                                  issue_sub_category  \\\n",
              "0  Verification requirement for mobile number or ...   \n",
              "\n",
              "                         issue_category_sub_category customer_sentiment  \\\n",
              "0  Mobile Number and Email Verification -> Verifi...            neutral   \n",
              "\n",
              "  product_category       product_sub_category issue_complexity  \\\n",
              "0       Appliances  Oven Toaster Grills (OTG)           medium   \n",
              "\n",
              "  agent_experience_level                        agent_experience_level_desc  \\\n",
              "0                 junior  handles customer inquiries independently, poss...   \n",
              "\n",
              "                                        conversation  \n",
              "0  Agent: Thank you for calling BrownBox Customer...  "
            ]
          },
          "execution_count": 4,
          "metadata": {},
          "output_type": "execute_result"
        }
      ],
      "source": [
        "train_data.head(1)"
      ]
    },
    {
      "cell_type": "code",
      "execution_count": null,
      "metadata": {
        "id": "WiESJPnWfcqo"
      },
      "outputs": [],
      "source": [
        "def generate_bar_plot(column_name1, column_name2, stacked):\n",
        "  if stacked:\n",
        "    plt.figure(figsize=(12, 6))\n",
        "    sentiment_experience_crosstab = pd.crosstab(train_data[column_name1], train_data[column_name2])\n",
        "    sentiment_experience_crosstab.plot(kind='bar', stacked=True, figsize=(12, 6))\n",
        "    plt.title(f'{column_name2} by {column_name1}')\n",
        "    plt.xlabel(column_name1)\n",
        "    plt.ylabel('Count')\n",
        "    plt.legend(title=column_name2)\n",
        "    plt.show()\n",
        "  else:\n",
        "    sns.set_style(\"whitegrid\")\n",
        "    plt.figure(figsize=(12, 6))\n",
        "    sns.countplot(data=train_data, x=column_name1, order = train_data[column_name1].value_counts().index)\n",
        "    plt.title(f'Distribution of {column_name1}')\n",
        "    plt.xlabel(column_name1)\n",
        "    plt.ylabel('Count')\n",
        "    plt.show()"
      ]
    },
    {
      "cell_type": "code",
      "execution_count": null,
      "metadata": {
        "colab": {
          "base_uri": "https://localhost:8080/"
        },
        "id": "Ky2XN_xFXM37",
        "outputId": "1f80f9e6-d6fa-4fc5-b937-944c0ec5fb5a"
      },
      "outputs": [
        {
          "data": {
            "text/plain": [
              "neutral     542\n",
              "negative    411\n",
              "positive     17\n",
              "Name: customer_sentiment, dtype: int64"
            ]
          },
          "execution_count": 8,
          "metadata": {},
          "output_type": "execute_result"
        }
      ],
      "source": [
        "train_data[\"customer_sentiment\"].value_counts()"
      ]
    },
    {
      "cell_type": "code",
      "execution_count": null,
      "metadata": {
        "colab": {
          "base_uri": "https://localhost:8080/",
          "height": 1000
        },
        "id": "UAmyaHiEcx_N",
        "outputId": "797b7a28-498e-4776-adbd-64bbab8aede0"
      },
      "outputs": [
        {
          "data": {
            "image/png": "[encoded data removed]",
            "text/plain": [
              "<Figure size 1200x600 with 1 Axes>"
            ]
          },
          "metadata": {},
          "output_type": "display_data"
        },
        {
          "data": {
            "text/plain": [
              "<Figure size 1200x600 with 0 Axes>"
            ]
          },
          "metadata": {},
          "output_type": "display_data"
        },
        {
          "data": {
            "image/png": "[encoded data removed]",
            "text/plain": [
              "<Figure size 1200x600 with 1 Axes>"
            ]
          },
          "metadata": {},
          "output_type": "display_data"
        },
        {
          "data": {
            "text/plain": [
              "<Figure size 1200x600 with 0 Axes>"
            ]
          },
          "metadata": {},
          "output_type": "display_data"
        },
        {
          "data": {
            "image/png": "[encoded data removed]",
            "text/plain": [
              "<Figure size 1200x600 with 1 Axes>"
            ]
          },
          "metadata": {},
          "output_type": "display_data"
        }
      ],
      "source": [
        "generate_bar_plot(\"customer_sentiment\",\"\", False)\n",
        "generate_bar_plot(\"agent_experience_level\",\"customer_sentiment\", True)\n",
        "generate_bar_plot(\"issue_complexity\",\"customer_sentiment\", True)"
      ]
    },
    {
      "cell_type": "markdown",
      "source": [
        "# Data Preprocessing\n",
        "\n",
        "---\n",
        "\n",
        "In this part, functions for removing punctuation, stop words, numbers and word lemmatizer functions are used. I mapped the sentiments as 0, 1, 2 which corresponds to 'negative', 'neutral', 'positive' respectively. I used all the text in the \"conservation\" column. However, I applied some transformation and preprocessing steps.\n",
        "\n",
        "\n",
        "*   I removed the punctuations such as \"!,%,# etc.\",\n",
        "*   I make all the letters as lowercase.\n",
        "*   I removed the stop words such as \"the, and, is etc.\" which does not contribute to the model much.\n",
        "*   I applied word level lematizer.\n",
        "*   I removed all the digits which does not contribute to the model.\n",
        "\n",
        "I applied all these steps or both train, validation and test sets. The first data before and after the preprocessing steps for test data can be found below.\n",
        "\n",
        "\n"
      ],
      "metadata": {
        "id": "Ioxo6Rff6TKQ"
      }
    },
    {
      "cell_type": "code",
      "source": [
        "!pip install tiktoken"
      ],
      "metadata": {
        "colab": {
          "base_uri": "https://localhost:8080/"
        },
        "id": "tz549saTX791",
        "outputId": "648bcfe9-b0e6-47d0-a24a-eb358fae2e56"
      },
      "execution_count": 3,
      "outputs": [
        {
          "output_type": "stream",
          "name": "stdout",
          "text": [
            "Requirement already satisfied: tiktoken in /usr/local/lib/python3.10/dist-packages (0.6.0)\n",
            "Requirement already satisfied: regex>=2022.1.18 in /usr/local/lib/python3.10/dist-packages (from tiktoken) (2023.12.25)\n",
            "Requirement already satisfied: requests>=2.26.0 in /usr/local/lib/python3.10/dist-packages (from tiktoken) (2.31.0)\n",
            "Requirement already satisfied: charset-normalizer<4,>=2 in /usr/local/lib/python3.10/dist-packages (from requests>=2.26.0->tiktoken) (3.3.2)\n",
            "Requirement already satisfied: idna<4,>=2.5 in /usr/local/lib/python3.10/dist-packages (from requests>=2.26.0->tiktoken) (3.6)\n",
            "Requirement already satisfied: urllib3<3,>=1.21.1 in /usr/local/lib/python3.10/dist-packages (from requests>=2.26.0->tiktoken) (2.0.7)\n",
            "Requirement already satisfied: certifi>=2017.4.17 in /usr/local/lib/python3.10/dist-packages (from requests>=2.26.0->tiktoken) (2024.2.2)\n"
          ]
        }
      ]
    },
    {
      "cell_type": "code",
      "source": [
        "import tiktoken\n",
        "import nltk\n",
        "import string\n",
        "from nltk.stem import WordNetLemmatizer\n",
        "from nltk.corpus import RegexpTokenizer, stopwords\n",
        "# Remove Punctuation\n",
        "def remove_punctuation(text):\n",
        "    no_punct = \"\".join([c for c in text if c not in string.punctuation])\n",
        "    return no_punct\n",
        "\n",
        "# Remove Stopwords\n",
        "def remove_stopwords(text):\n",
        "    words = [w for w in text if w not in stopwords.words('english')]\n",
        "    return words\n",
        "\n",
        "def word_lemmatizer(text):\n",
        "    lemmatizer = WordNetLemmatizer()\n",
        "    return [lemmatizer.lemmatize(x) for x in text]\n",
        "\n",
        "def remove_numbers(text):\n",
        "    return [x for x in text if not x.isdigit()]"
      ],
      "metadata": {
        "id": "Krm7h7QdX0D-"
      },
      "execution_count": 4,
      "outputs": []
    },
    {
      "cell_type": "code",
      "source": [
        "!pip install nltk"
      ],
      "metadata": {
        "colab": {
          "base_uri": "https://localhost:8080/"
        },
        "id": "IaZk1UeZYnnM",
        "outputId": "4c01e91c-6c1e-4f63-85bd-0b36f0b88419"
      },
      "execution_count": 5,
      "outputs": [
        {
          "output_type": "stream",
          "name": "stdout",
          "text": [
            "Requirement already satisfied: nltk in /usr/local/lib/python3.10/dist-packages (3.8.1)\n",
            "Requirement already satisfied: click in /usr/local/lib/python3.10/dist-packages (from nltk) (8.1.7)\n",
            "Requirement already satisfied: joblib in /usr/local/lib/python3.10/dist-packages (from nltk) (1.4.0)\n",
            "Requirement already satisfied: regex>=2021.8.3 in /usr/local/lib/python3.10/dist-packages (from nltk) (2023.12.25)\n",
            "Requirement already satisfied: tqdm in /usr/local/lib/python3.10/dist-packages (from nltk) (4.66.2)\n"
          ]
        }
      ]
    },
    {
      "cell_type": "code",
      "execution_count": 6,
      "metadata": {
        "colab": {
          "base_uri": "https://localhost:8080/"
        },
        "id": "dlAX81hRSSRI",
        "outputId": "fba9b9e3-9051-4cb0-f736-3bceb546dbf2"
      },
      "outputs": [
        {
          "output_type": "stream",
          "name": "stderr",
          "text": [
            "[nltk_data] Downloading package stopwords to /root/nltk_data...\n",
            "[nltk_data]   Package stopwords is already up-to-date!\n",
            "[nltk_data] Downloading package wordnet to /root/nltk_data...\n",
            "[nltk_data]   Package wordnet is already up-to-date!\n",
            "[nltk_data] Downloading package omw-1.4 to /root/nltk_data...\n",
            "[nltk_data]   Package omw-1.4 is already up-to-date!\n",
            "<ipython-input-6-8cb43378d474>:9: SettingWithCopyWarning: \n",
            "A value is trying to be set on a copy of a slice from a DataFrame.\n",
            "Try using .loc[row_indexer,col_indexer] = value instead\n",
            "\n",
            "See the caveats in the documentation: https://pandas.pydata.org/pandas-docs/stable/user_guide/indexing.html#returning-a-view-versus-a-copy\n",
            "  data_filtered['customer_sentiment'] = data_filtered['customer_sentiment'].map(sentiment_mapping)\n"
          ]
        },
        {
          "output_type": "execute_result",
          "data": {
            "text/plain": [
              "(   customer_sentiment                                       conversation\n",
              " 0                   1  agent thank calling brownbox customer support ...\n",
              " 1                   1  agent thank calling brownbox customer support ...\n",
              " 2                   1  agent thank calling brownbox customer support ...\n",
              " 3                   1  customer hi facing issue logging account getti...\n",
              " 4                   0  agent thank contacting brownbox customer suppo...,\n",
              " customer_sentiment    0\n",
              " conversation          0\n",
              " dtype: int64)"
            ]
          },
          "metadata": {},
          "execution_count": 6
        }
      ],
      "source": [
        "nltk.download('stopwords')\n",
        "nltk.download('wordnet')\n",
        "nltk.download('omw-1.4')\n",
        "# Filter the dataset to keep only 'customer_sentiment' and 'conversation'\n",
        "data_filtered = train_data[['customer_sentiment', 'conversation']]\n",
        "\n",
        "# Encode 'customer_sentiment' to numeric values\n",
        "sentiment_mapping = {'negative': 0, 'neutral': 1, 'positive': 2}\n",
        "data_filtered['customer_sentiment'] = data_filtered['customer_sentiment'].map(sentiment_mapping)\n",
        "data_filtered = data_filtered.loc[:,[\"customer_sentiment\",\"conversation\"]].copy()\n",
        "\n",
        "\n",
        "data_filtered[\"conversation\"] = data_filtered[\"conversation\"].apply(lambda x: remove_punctuation(x))\n",
        "tokenizer = RegexpTokenizer(r'\\w+')\n",
        "#df[\"conversation\"] = df[\"conversation\"].apply(lambda x: tokenizer.tokenize(x.lower()))\n",
        "data_filtered[\"conversation\"] = data_filtered[\"conversation\"].apply(lambda x: tokenizer.tokenize(x.lower()))\n",
        "data_filtered[\"conversation\"] = data_filtered[\"conversation\"].apply(lambda x: remove_stopwords(x))\n",
        "data_filtered[\"conversation\"] = data_filtered[\"conversation\"].apply(lambda x: word_lemmatizer(x))\n",
        "data_filtered[\"conversation\"] = data_filtered[\"conversation\"].apply(lambda x: remove_numbers(x))\n",
        "data_filtered[\"conversation\"] = data_filtered[\"conversation\"].apply(lambda x: \" \".join(x))\n",
        "\n",
        "# Show the modified dataframe and check for null values\n",
        "data_filtered.head(), data_filtered.isnull().sum()"
      ]
    },
    {
      "cell_type": "code",
      "execution_count": 7,
      "metadata": {
        "colab": {
          "base_uri": "https://localhost:8080/"
        },
        "id": "zj-uHfdOiG3E",
        "outputId": "17752188-abf3-4e30-a99c-96fc619e9010"
      },
      "outputs": [
        {
          "output_type": "stream",
          "name": "stderr",
          "text": [
            "<ipython-input-7-ad2be9bbc94f>:6: SettingWithCopyWarning: \n",
            "A value is trying to be set on a copy of a slice from a DataFrame.\n",
            "Try using .loc[row_indexer,col_indexer] = value instead\n",
            "\n",
            "See the caveats in the documentation: https://pandas.pydata.org/pandas-docs/stable/user_guide/indexing.html#returning-a-view-versus-a-copy\n",
            "  test_data['customer_sentiment'] = test_data['customer_sentiment'].map(sentiment_mapping)\n"
          ]
        },
        {
          "output_type": "execute_result",
          "data": {
            "text/plain": [
              "(   customer_sentiment                                       conversation\n",
              " 0                   0  agent thank calling brownbox customer support ...\n",
              " 1                   0  agent thank calling brownbox customer support ...\n",
              " 2                   0  agent thank calling brownbox customer support ...\n",
              " 3                   0  agent thank calling brownbox customer support ...\n",
              " 4                   0  agent thank calling brownbox customer support ...,\n",
              " customer_sentiment    0\n",
              " conversation          0\n",
              " dtype: int64)"
            ]
          },
          "metadata": {},
          "execution_count": 7
        }
      ],
      "source": [
        "# Filter the dataset to keep only 'customer_sentiment' and 'conversation'\n",
        "test_data = test_data_[['customer_sentiment', 'conversation']]\n",
        "\n",
        "# Encode 'customer_sentiment' to numeric values\n",
        "sentiment_mapping = {'negative': 0, 'neutral': 1, 'positive': 2}\n",
        "test_data['customer_sentiment'] = test_data['customer_sentiment'].map(sentiment_mapping)\n",
        "test_data = test_data.loc[:,[\"customer_sentiment\",\"conversation\"]].copy()\n",
        "\n",
        "\n",
        "test_data[\"conversation\"] = test_data[\"conversation\"].apply(lambda x: remove_punctuation(x))\n",
        "\n",
        "tokenizer = RegexpTokenizer(r'\\w+')\n",
        "#df[\"conversation\"] = df[\"conversation\"].apply(lambda x: tokenizer.tokenize(x.lower()))\n",
        "\n",
        "test_data[\"conversation\"] = test_data[\"conversation\"].apply(lambda x: tokenizer.tokenize(x.lower()))\n",
        "test_data[\"conversation\"] = test_data[\"conversation\"].apply(lambda x: remove_stopwords(x))\n",
        "test_data[\"conversation\"] = test_data[\"conversation\"].apply(lambda x: word_lemmatizer(x))\n",
        "test_data[\"conversation\"] = test_data[\"conversation\"].apply(lambda x: remove_numbers(x))\n",
        "test_data[\"conversation\"] = test_data[\"conversation\"].apply(lambda x: \" \".join(x))\n",
        "\n",
        "\n",
        "# Show the modified dataframe and check for null values\n",
        "test_data.head(), test_data.isnull().sum()"
      ]
    },
    {
      "cell_type": "code",
      "source": [
        "test_data_['conversation'][0], test_data['conversation'][0]"
      ],
      "metadata": {
        "colab": {
          "base_uri": "https://localhost:8080/",
          "height": 144
        },
        "id": "oZVuVD4N8UIx",
        "outputId": "3fd7ac50-bafa-431c-824e-6bf5f78ebbc8"
      },
      "execution_count": 1,
      "outputs": [
        {
          "output_type": "error",
          "ename": "NameError",
          "evalue": "name 'test_data_' is not defined",
          "traceback": [
            "\u001b[0;31m---------------------------------------------------------------------------\u001b[0m",
            "\u001b[0;31mNameError\u001b[0m                                 Traceback (most recent call last)",
            "\u001b[0;32m<ipython-input-1-5a4381b996e8>\u001b[0m in \u001b[0;36m<cell line: 1>\u001b[0;34m()\u001b[0m\n\u001b[0;32m----> 1\u001b[0;31m \u001b[0mtest_data_\u001b[0m\u001b[0;34m[\u001b[0m\u001b[0;34m'conversation'\u001b[0m\u001b[0;34m]\u001b[0m\u001b[0;34m[\u001b[0m\u001b[0;36m0\u001b[0m\u001b[0;34m]\u001b[0m\u001b[0;34m,\u001b[0m \u001b[0mtest_data\u001b[0m\u001b[0;34m[\u001b[0m\u001b[0;34m'conversation'\u001b[0m\u001b[0;34m]\u001b[0m\u001b[0;34m[\u001b[0m\u001b[0;36m0\u001b[0m\u001b[0;34m]\u001b[0m\u001b[0;34m\u001b[0m\u001b[0;34m\u001b[0m\u001b[0m\n\u001b[0m",
            "\u001b[0;31mNameError\u001b[0m: name 'test_data_' is not defined"
          ]
        }
      ]
    },
    {
      "cell_type": "code",
      "execution_count": 8,
      "metadata": {
        "colab": {
          "base_uri": "https://localhost:8080/"
        },
        "id": "RgbEwbOhT8sJ",
        "outputId": "62b527a4-5c6c-42f1-ecd2-e25fc7813b96"
      },
      "outputs": [
        {
          "output_type": "execute_result",
          "data": {
            "text/plain": [
              "((776, 2), (194, 2))"
            ]
          },
          "metadata": {},
          "execution_count": 8
        }
      ],
      "source": [
        "from sklearn.model_selection import train_test_split\n",
        "\n",
        "# Split the data into training and validation sets\n",
        "train_data, val_data = train_test_split(data_filtered, test_size=0.2, random_state=42)\n",
        "\n",
        "# Display the shapes of the training and validation datasets to confirm the split\n",
        "train_data.shape, val_data.shape"
      ]
    },
    {
      "cell_type": "markdown",
      "source": [
        "# DataLoader\n",
        "\n",
        "---\n",
        "\n",
        "Rather than taking the inputs as .bin file, I created a DataLoader for train, val and test splits. This way, there is no need to run another script to generate .bin files, datas can be sent to the model on the fly. To apply these changes, there are changes made in the train script and the model. These changes will be explained in the corresponding parts. <br>\n",
        "\n",
        "I used GPT2Tokenizer and used max_length padding. This way, each embedding will be padded to the maximum embedding length. Also, I added an EOS token after each embedding. There are 3 outputs in the embeddings. 'input_ids', 'attention_mask' and 'labels'. Eventhough attention_mask is not used in this model I included that part. I created iterators for the datas before giving it to the model."
      ],
      "metadata": {
        "id": "WVYwp0B79SMy"
      }
    },
    {
      "cell_type": "code",
      "source": [
        "from torch.utils.data import Dataset, DataLoader\n",
        "from transformers import GPT2Tokenizer\n",
        "\n",
        "class ConversationDataset(Dataset):\n",
        "    def __init__(self, conversations, sentiments, tokenizer, max_length=512):\n",
        "        self.conversations = conversations\n",
        "        self.sentiments = sentiments\n",
        "        self.tokenizer = tokenizer\n",
        "        self.max_length = max_length\n",
        "\n",
        "    def __len__(self):\n",
        "        return len(self.conversations)\n",
        "\n",
        "    def __getitem__(self, idx):\n",
        "        conversation = self.conversations[idx]\n",
        "        sentiment = self.sentiments[idx]\n",
        "\n",
        "        # Encode conversation text\n",
        "        encoding = self.tokenizer.encode_plus(\n",
        "            conversation,\n",
        "            add_special_tokens=True,\n",
        "            max_length=self.max_length,\n",
        "            return_token_type_ids=False,\n",
        "            padding='max_length',\n",
        "            truncation=True,\n",
        "            return_attention_mask=True,\n",
        "            return_tensors='pt'\n",
        "        )\n",
        "\n",
        "        return {\n",
        "            'input_ids': encoding['input_ids'].flatten(),\n",
        "            'attention_mask': encoding['attention_mask'].flatten(),\n",
        "            'labels': torch.tensor(sentiment, dtype=torch.long)\n",
        "        }\n",
        "\n",
        "# Initialize tokenizer\n",
        "tokenizer = GPT2Tokenizer.from_pretrained('gpt2')\n",
        "\n",
        "# Use the EOS token as the pad token\n",
        "tokenizer.pad_token = tokenizer.eos_token\n",
        "\n",
        "# Load dataset\n",
        "train_dataset = ConversationDataset(train_data['conversation'].tolist(), train_data['customer_sentiment'].tolist(), tokenizer)\n",
        "val_dataset = ConversationDataset(val_data['conversation'].tolist(), val_data['customer_sentiment'].tolist(), tokenizer)\n",
        "test_dataset = ConversationDataset(test_data['conversation'].tolist(), test_data['customer_sentiment'].tolist(), tokenizer)\n",
        "\n",
        "# Create dataloaders\n",
        "train_loader = DataLoader(train_dataset, batch_size=32, shuffle=True)\n",
        "val_loader = DataLoader(val_dataset, batch_size=32, shuffle=False)\n",
        "test_loader = DataLoader(test_dataset, batch_size=32, shuffle=False)\n"
      ],
      "metadata": {
        "colab": {
          "base_uri": "https://localhost:8080/"
        },
        "id": "_vx8id26XhJ-",
        "outputId": "5a7eae53-9e69-4fb2-f444-6f2dd0a150fb"
      },
      "execution_count": 9,
      "outputs": [
        {
          "output_type": "stream",
          "name": "stderr",
          "text": [
            "/usr/local/lib/python3.10/dist-packages/huggingface_hub/utils/_token.py:88: UserWarning: \n",
            "The secret `HF_TOKEN` does not exist in your Colab secrets.\n",
            "To authenticate with the Hugging Face Hub, create a token in your settings tab (https://huggingface.co/settings/tokens), set it as secret in your Google Colab and restart your session.\n",
            "You will be able to reuse this secret in all of your notebooks.\n",
            "Please note that authentication is recommended but still optional to access public models or datasets.\n",
            "  warnings.warn(\n"
          ]
        }
      ]
    },
    {
      "cell_type": "markdown",
      "source": [
        "# GPT Model From Scratch\n",
        "\n",
        "---\n",
        "\n",
        "To apply sentiment analysis, I need to change the model structure. I made two main changes in the GPT class:\n",
        "\n",
        "\n",
        "1.   Add a Linear layer at the output of the model which is responsible for classification.\n",
        "2.   Change the forward method to do sentiment analysis. I added the classification layer after the final layer. This classification layer takes mean values of all of the heads. I tried using only the last embedding layer however, using mean values increases the model performance. <br>\n",
        "\n",
        "I haven't changed values in the config file, my parameters are: <br>\n",
        "\n",
        "\n",
        "```\n",
        "    block_size: int = 1024\n",
        "    vocab_size: int = 50304 # GPT-2 vocab_size of 50257, padded up to nearest multiple of 64 for efficiency\n",
        "    n_layer: int = 12\n",
        "    n_head: int = 12\n",
        "    n_embd: int = 768\n",
        "    dropout: float = 0.0\n",
        "    bias: bool = True\n",
        "```\n",
        "\n",
        "\n",
        "\n"
      ],
      "metadata": {
        "id": "kNW80QnyBip3"
      }
    },
    {
      "cell_type": "code",
      "execution_count": 16,
      "metadata": {
        "id": "FETbVeBiV8bf"
      },
      "outputs": [],
      "source": [
        "\"\"\"\n",
        "Full definition of a GPT Language Model, all of it in this single file.\n",
        "References:\n",
        "1) the official GPT-2 TensorFlow implementation released by OpenAI:\n",
        "https://github.com/openai/gpt-2/blob/master/src/model.py\n",
        "2) huggingface/transformers PyTorch implementation:\n",
        "https://github.com/huggingface/transformers/blob/main/src/transformers/models/gpt2/modeling_gpt2.py\n",
        "\"\"\"\n",
        "\n",
        "import math\n",
        "import inspect\n",
        "from dataclasses import dataclass\n",
        "\n",
        "import torch\n",
        "import torch.nn as nn\n",
        "from torch.nn import functional as F\n",
        "\n",
        "class LayerNorm(nn.Module):\n",
        "    \"\"\" LayerNorm but with an optional bias. PyTorch doesn't support simply bias=False \"\"\"\n",
        "\n",
        "    def __init__(self, ndim, bias):\n",
        "        super().__init__()\n",
        "        self.weight = nn.Parameter(torch.ones(ndim))\n",
        "        self.bias = nn.Parameter(torch.zeros(ndim)) if bias else None\n",
        "\n",
        "    def forward(self, input):\n",
        "        return F.layer_norm(input, self.weight.shape, self.weight, self.bias, 1e-5)\n",
        "\n",
        "class CausalSelfAttention(nn.Module):\n",
        "\n",
        "    def __init__(self, config):\n",
        "        super().__init__()\n",
        "        assert config.n_embd % config.n_head == 0\n",
        "        # key, query, value projections for all heads, but in a batch\n",
        "        self.c_attn = nn.Linear(config.n_embd, 3 * config.n_embd, bias=config.bias)\n",
        "        # output projection\n",
        "        self.c_proj = nn.Linear(config.n_embd, config.n_embd, bias=config.bias)\n",
        "        # regularization\n",
        "        self.attn_dropout = nn.Dropout(config.dropout)\n",
        "        self.resid_dropout = nn.Dropout(config.dropout)\n",
        "        self.n_head = config.n_head\n",
        "        self.n_embd = config.n_embd\n",
        "        self.dropout = config.dropout\n",
        "        # flash attention make GPU go brrrrr but support is only in PyTorch >= 2.0\n",
        "        self.flash = hasattr(torch.nn.functional, 'scaled_dot_product_attention')\n",
        "        if not self.flash:\n",
        "            print(\"WARNING: using slow attention. Flash Attention requires PyTorch >= 2.0\")\n",
        "            # causal mask to ensure that attention is only applied to the left in the input sequence\n",
        "            self.register_buffer(\"bias\", torch.tril(torch.ones(config.block_size, config.block_size))\n",
        "                                        .view(1, 1, config.block_size, config.block_size))\n",
        "\n",
        "    def forward(self, x):\n",
        "        B, T, C = x.size() # batch size, sequence length, embedding dimensionality (n_embd)\n",
        "\n",
        "        # calculate query, key, values for all heads in batch and move head forward to be the batch dim\n",
        "        q, k, v  = self.c_attn(x).split(self.n_embd, dim=2)\n",
        "        k = k.view(B, T, self.n_head, C // self.n_head).transpose(1, 2) # (B, nh, T, hs)\n",
        "        q = q.view(B, T, self.n_head, C // self.n_head).transpose(1, 2) # (B, nh, T, hs)\n",
        "        v = v.view(B, T, self.n_head, C // self.n_head).transpose(1, 2) # (B, nh, T, hs)\n",
        "\n",
        "        # causal self-attention; Self-attend: (B, nh, T, hs) x (B, nh, hs, T) -> (B, nh, T, T)\n",
        "        if self.flash:\n",
        "            # efficient attention using Flash Attention CUDA kernels\n",
        "            y = torch.nn.functional.scaled_dot_product_attention(q, k, v, attn_mask=None, dropout_p=self.dropout if self.training else 0, is_causal=True)\n",
        "        else:\n",
        "            # manual implementation of attention\n",
        "            att = (q @ k.transpose(-2, -1)) * (1.0 / math.sqrt(k.size(-1)))\n",
        "            att = att.masked_fill(self.bias[:,:,:T,:T] == 0, float('-inf'))\n",
        "            att = F.softmax(att, dim=-1)\n",
        "            att = self.attn_dropout(att)\n",
        "            y = att @ v # (B, nh, T, T) x (B, nh, T, hs) -> (B, nh, T, hs)\n",
        "        y = y.transpose(1, 2).contiguous().view(B, T, C) # re-assemble all head outputs side by side\n",
        "\n",
        "        # output projection\n",
        "        y = self.resid_dropout(self.c_proj(y))\n",
        "        return y\n",
        "\n",
        "class MLP(nn.Module):\n",
        "\n",
        "    def __init__(self, config):\n",
        "        super().__init__()\n",
        "        self.c_fc    = nn.Linear(config.n_embd, 4 * config.n_embd, bias=config.bias)\n",
        "        self.gelu    = nn.GELU()\n",
        "        self.c_proj  = nn.Linear(4 * config.n_embd, config.n_embd, bias=config.bias)\n",
        "        self.dropout = nn.Dropout(config.dropout)\n",
        "\n",
        "    def forward(self, x):\n",
        "        x = self.c_fc(x)\n",
        "        x = self.gelu(x)\n",
        "        x = self.c_proj(x)\n",
        "        x = self.dropout(x)\n",
        "        return x\n",
        "\n",
        "class Block(nn.Module):\n",
        "\n",
        "    def __init__(self, config):\n",
        "        super().__init__()\n",
        "        self.ln_1 = LayerNorm(config.n_embd, bias=config.bias)\n",
        "        self.attn = CausalSelfAttention(config)\n",
        "        self.ln_2 = LayerNorm(config.n_embd, bias=config.bias)\n",
        "        self.mlp = MLP(config)\n",
        "\n",
        "    def forward(self, x):\n",
        "        x = x + self.attn(self.ln_1(x))\n",
        "        x = x + self.mlp(self.ln_2(x))\n",
        "        return x\n",
        "\n",
        "@dataclass\n",
        "class GPTConfig:\n",
        "    block_size: int = 1024\n",
        "    vocab_size: int = 50304 # GPT-2 vocab_size of 50257, padded up to nearest multiple of 64 for efficiency\n",
        "    n_layer: int = 12\n",
        "    n_head: int = 12\n",
        "    n_embd: int = 768\n",
        "    dropout: float = 0.0\n",
        "    bias: bool = True # True: bias in Linears and LayerNorms, like GPT-2. False: a bit better and faster\n",
        "\n",
        "class GPT(nn.Module):\n",
        "\n",
        "    def __init__(self, config):\n",
        "\n",
        "        super().__init__()\n",
        "        self.config = config\n",
        "        self.transformer = nn.ModuleDict({\n",
        "            'wte': nn.Embedding(config.vocab_size, config.n_embd),\n",
        "            'wpe': nn.Embedding(config.block_size, config.n_embd),\n",
        "            'drop': nn.Dropout(config.dropout),\n",
        "            'h': nn.ModuleList([Block(config) for _ in range(config.n_layer)]),\n",
        "            'ln_f': LayerNorm(config.n_embd, bias=config.bias)\n",
        "        })\n",
        "        self.lm_head = nn.Linear(config.n_embd, config.vocab_size, bias=False)\n",
        "        self.transformer.wte.weight = self.lm_head.weight\n",
        "\n",
        "        # Classification head\n",
        "        self.classifier = nn.Linear(config.n_embd, 3)  # Output layer for three sentiment classes\n",
        "\n",
        "        self.apply(self._init_weights)\n",
        "\n",
        "        # report number of parameters\n",
        "        print(\"number of parameters: %.2fM\" % (self.get_num_params()/1e6,))\n",
        "\n",
        "    def get_num_params(self, non_embedding=True):\n",
        "        \"\"\"\n",
        "        Return the number of parameters in the model.\n",
        "        For non-embedding count (default), the position embeddings get subtracted.\n",
        "        The token embeddings would too, except due to the parameter sharing these\n",
        "        params are actually used as weights in the final layer, so we include them.\n",
        "        \"\"\"\n",
        "        n_params = sum(p.numel() for p in self.parameters())\n",
        "        if non_embedding:\n",
        "            n_params -= self.transformer.wpe.weight.numel()\n",
        "        return n_params\n",
        "\n",
        "    def _init_weights(self, module):\n",
        "        if isinstance(module, nn.Linear):\n",
        "            torch.nn.init.normal_(module.weight, mean=0.0, std=0.02)\n",
        "            if module.bias is not None:\n",
        "                torch.nn.init.zeros_(module.bias)\n",
        "        elif isinstance(module, nn.Embedding):\n",
        "            torch.nn.init.normal_(module.weight, mean=0.0, std=0.02)\n",
        "\n",
        "    def forward(self, idx, targets=None):\n",
        "\n",
        "        device = idx.device\n",
        "        b, t = idx.size()\n",
        "        assert t <= self.config.block_size, f\"Cannot forward sequence of length {t}, block size is only {self.config.block_size}\"\n",
        "        pos = torch.arange(0, t, dtype=torch.long, device=device) # shape (t)\n",
        "\n",
        "        # forward the GPT model itself\n",
        "        tok_emb = self.transformer.wte(idx) # token embeddings of shape (b, t, n_embd)\n",
        "        pos_emb = self.transformer.wpe(pos) # position embeddings of shape (t, n_embd)\n",
        "        x = self.transformer.drop(tok_emb + pos_emb)\n",
        "        for block in self.transformer.h:\n",
        "            x = block(x)\n",
        "        x = self.transformer.ln_f(x)\n",
        "        # x[:, -1]\n",
        "        logits = self.classifier(x.mean(dim=1) )\n",
        "        loss = None\n",
        "        if targets is not None:\n",
        "            # if we are given some desired targets also calculate the loss\n",
        "            #logits = self.lm_head(x)\n",
        "            loss = F.cross_entropy(logits.view(-1, logits.size(-1)), targets.view(-1), ignore_index=-1)\n",
        "\n",
        "        #else:\n",
        "            # inference-time mini-optimization: only forward the lm_head on the very last position\n",
        "            #logits = self.lm_head(x[:, [-1], :]) # note: using list [-1] to preserve the time dim\n",
        "            #loss = None\n",
        "\n",
        "        return logits, loss\n",
        "        '''\n",
        "        tok_emb = self.transformer.wte(idx)\n",
        "        pos_emb = self.transformer.wpe(torch.arange(idx.size(1), device=idx.device))\n",
        "        x = self.transformer.drop(tok_emb + pos_emb)\n",
        "        for block in self.transformer.h:\n",
        "            x = block(x)\n",
        "        x = self.transformer.ln_f(x)\n",
        "\n",
        "        # Use only the last token's output for classification\n",
        "        logits = self.classifier(x[:, -1])\n",
        "\n",
        "        if targets is not None:\n",
        "            loss_fn = torch.nn.CrossEntropyLoss()\n",
        "            loss = loss_fn(logits, targets)\n",
        "            return logits, loss\n",
        "        return logits\n",
        "        '''\n",
        "\n",
        "    def crop_block_size(self, block_size):\n",
        "        # model surgery to decrease the block size if necessary\n",
        "        # e.g. we may load the GPT2 pretrained model checkpoint (block size 1024)\n",
        "        # but want to use a smaller block size for some smaller, simpler model\n",
        "        assert block_size <= self.config.block_size\n",
        "        self.config.block_size = block_size\n",
        "        self.transformer.wpe.weight = nn.Parameter(self.transformer.wpe.weight[:block_size])\n",
        "        for block in self.transformer.h:\n",
        "            if hasattr(block.attn, 'bias'):\n",
        "                block.attn.bias = block.attn.bias[:,:,:block_size,:block_size]\n",
        "\n",
        "    @classmethod\n",
        "    def from_pretrained(cls, model_type, override_args=None):\n",
        "        assert model_type in {'gpt2', 'gpt2-medium', 'gpt2-large', 'gpt2-xl'}\n",
        "        override_args = override_args or {} # default to empty dict\n",
        "        # only dropout can be overridden see more notes below\n",
        "        assert all(k == 'dropout' for k in override_args)\n",
        "        from transformers import GPT2LMHeadModel\n",
        "        print(\"loading weights from pretrained gpt: %s\" % model_type)\n",
        "\n",
        "        # n_layer, n_head and n_embd are determined from model_type\n",
        "        config_args = {\n",
        "            'gpt2':         dict(n_layer=12, n_head=12, n_embd=768),  # 124M params\n",
        "            'gpt2-medium':  dict(n_layer=24, n_head=16, n_embd=1024), # 350M params\n",
        "            'gpt2-large':   dict(n_layer=36, n_head=20, n_embd=1280), # 774M params\n",
        "            'gpt2-xl':      dict(n_layer=48, n_head=25, n_embd=1600), # 1558M params\n",
        "        }[model_type]\n",
        "        print(\"forcing vocab_size=50257, block_size=1024, bias=True\")\n",
        "        config_args['vocab_size'] = 50257 # always 50257 for GPT model checkpoints\n",
        "        config_args['block_size'] = 1024 # always 1024 for GPT model checkpoints\n",
        "        config_args['bias'] = True # always True for GPT model checkpoints\n",
        "        # we can override the dropout rate, if desired\n",
        "        if 'dropout' in override_args:\n",
        "            print(f\"overriding dropout rate to {override_args['dropout']}\")\n",
        "            config_args['dropout'] = override_args['dropout']\n",
        "        # create a from-scratch initialized minGPT model\n",
        "        config = GPTConfig(**config_args)\n",
        "        model = GPT(config)\n",
        "        sd = model.state_dict()\n",
        "        sd_keys = sd.keys()\n",
        "        sd_keys = [k for k in sd_keys if not k.endswith('.attn.bias')] # discard this mask / buffer, not a param\n",
        "\n",
        "        # init a huggingface/transformers model\n",
        "        model_hf = GPT2LMHeadModel.from_pretrained(model_type)\n",
        "        sd_hf = model_hf.state_dict()\n",
        "\n",
        "        # copy while ensuring all of the parameters are aligned and match in names and shapes\n",
        "        sd_keys_hf = sd_hf.keys()\n",
        "        sd_keys_hf = [k for k in sd_keys_hf if not k.endswith('.attn.masked_bias')] # ignore these, just a buffer\n",
        "        sd_keys_hf = [k for k in sd_keys_hf if not k.endswith('.attn.bias')] # same, just the mask (buffer)\n",
        "        transposed = ['attn.c_attn.weight', 'attn.c_proj.weight', 'mlp.c_fc.weight', 'mlp.c_proj.weight']\n",
        "        # basically the openai checkpoints use a \"Conv1D\" module, but we only want to use a vanilla Linear\n",
        "        # this means that we have to transpose these weights when we import them\n",
        "        #assert len(sd_keys_hf) == len(sd_keys), f\"mismatched keys: {len(sd_keys_hf)} != {len(sd_keys)}\"\n",
        "        for k in sd_keys_hf:\n",
        "            if any(k.endswith(w) for w in transposed):\n",
        "                # special treatment for the Conv1D weights we need to transpose\n",
        "                assert sd_hf[k].shape[::-1] == sd[k].shape\n",
        "                with torch.no_grad():\n",
        "                    sd[k].copy_(sd_hf[k].t())\n",
        "            else:\n",
        "                # vanilla copy over the other parameters\n",
        "                assert sd_hf[k].shape == sd[k].shape\n",
        "                with torch.no_grad():\n",
        "                    sd[k].copy_(sd_hf[k])\n",
        "\n",
        "        return model\n",
        "\n",
        "    def configure_optimizers(self, weight_decay, learning_rate, betas, device_type):\n",
        "        # start with all of the candidate parameters\n",
        "        param_dict = {pn: p for pn, p in self.named_parameters()}\n",
        "        # filter out those that do not require grad\n",
        "        param_dict = {pn: p for pn, p in param_dict.items() if p.requires_grad}\n",
        "        # create optim groups. Any parameters that is 2D will be weight decayed, otherwise no.\n",
        "        # i.e. all weight tensors in matmuls + embeddings decay, all biases and layernorms don't.\n",
        "        decay_params = [p for n, p in param_dict.items() if p.dim() >= 2]\n",
        "        nodecay_params = [p for n, p in param_dict.items() if p.dim() < 2]\n",
        "        optim_groups = [\n",
        "            {'params': decay_params, 'weight_decay': weight_decay},\n",
        "            {'params': nodecay_params, 'weight_decay': 0.0}\n",
        "        ]\n",
        "        num_decay_params = sum(p.numel() for p in decay_params)\n",
        "        num_nodecay_params = sum(p.numel() for p in nodecay_params)\n",
        "        print(f\"num decayed parameter tensors: {len(decay_params)}, with {num_decay_params:,} parameters\")\n",
        "        print(f\"num non-decayed parameter tensors: {len(nodecay_params)}, with {num_nodecay_params:,} parameters\")\n",
        "        # Create AdamW optimizer and use the fused version if it is available\n",
        "        fused_available = 'fused' in inspect.signature(torch.optim.AdamW).parameters\n",
        "        use_fused = fused_available and device_type == 'cuda'\n",
        "        extra_args = dict(fused=True) if use_fused else dict()\n",
        "        optimizer = torch.optim.AdamW(optim_groups, lr=learning_rate, betas=betas, **extra_args)\n",
        "        print(f\"using fused AdamW: {use_fused}\")\n",
        "\n",
        "        return optimizer\n",
        "\n",
        "    def estimate_mfu(self, fwdbwd_per_iter, dt):\n",
        "        \"\"\" estimate model flops utilization (MFU) in units of A100 bfloat16 peak FLOPS \"\"\"\n",
        "        # first estimate the number of flops we do per iteration.\n",
        "        # see PaLM paper Appendix B as ref: https://arxiv.org/abs/2204.02311\n",
        "        N = self.get_num_params()\n",
        "        cfg = self.config\n",
        "        L, H, Q, T = cfg.n_layer, cfg.n_head, cfg.n_embd//cfg.n_head, cfg.block_size\n",
        "        flops_per_token = 6*N + 12*L*H*Q*T\n",
        "        flops_per_fwdbwd = flops_per_token * T\n",
        "        flops_per_iter = flops_per_fwdbwd * fwdbwd_per_iter\n",
        "        # express our flops throughput as ratio of A100 bfloat16 peak flops\n",
        "        flops_achieved = flops_per_iter * (1.0/dt) # per second\n",
        "        flops_promised = 312e12 # A100 GPU bfloat16 peak flops is 312 TFLOPS\n",
        "        mfu = flops_achieved / flops_promised\n",
        "        return mfu\n",
        "\n",
        "    @torch.no_grad()\n",
        "    def generate(self, idx, max_new_tokens, temperature=1.0, top_k=None):\n",
        "        \"\"\"\n",
        "        Take a conditioning sequence of indices idx (LongTensor of shape (b,t)) and complete\n",
        "        the sequence max_new_tokens times, feeding the predictions back into the model each time.\n",
        "        Most likely you'll want to make sure to be in model.eval() mode of operation for this.\n",
        "        \"\"\"\n",
        "        for _ in range(max_new_tokens):\n",
        "            # if the sequence context is growing too long we must crop it at block_size\n",
        "            idx_cond = idx if idx.size(1) <= self.config.block_size else idx[:, -self.config.block_size:]\n",
        "            # forward the model to get the logits for the index in the sequence\n",
        "            logits, _ = self(idx_cond)\n",
        "            # pluck the logits at the final step and scale by desired temperature\n",
        "            logits = logits[:, -1, :] / temperature\n",
        "            # optionally crop the logits to only the top k options\n",
        "            if top_k is not None:\n",
        "                v, _ = torch.topk(logits, min(top_k, logits.size(-1)))\n",
        "                logits[logits < v[:, [-1]]] = -float('Inf')\n",
        "            # apply softmax to convert logits to (normalized) probabilities\n",
        "            probs = F.softmax(logits, dim=-1)\n",
        "            # sample from the distribution\n",
        "            idx_next = torch.multinomial(probs, num_samples=1)\n",
        "            # append sampled index to the running sequence and continue\n",
        "            idx = torch.cat((idx, idx_next), dim=1)\n",
        "\n",
        "        return idx"
      ]
    },
    {
      "cell_type": "markdown",
      "source": [
        "# Train Script\n",
        "\n",
        "---\n",
        "\n",
        "I completely changed the data loading mechanism. Before starting to train the model, I create the iterators for train, val and test splits. In \"get_batch\" method, next batch of the input is retrieved and moved to the GPU if available. The retrieval mechanism is inside try except block. If iterator comes to an end, it creates a new iterator. It is done for both train and validation splits.  Also, there is \"get_test_batch\" method which does the same thing for the test iterators. <br>\n",
        "\n",
        "I used accuracy, precision, F1 score and recall as metrics for validation and test sets. I also added confusion matrix. I am iterating for 300 iterations, in one iteration, model is trained using all the training data. It does the same thing for validation set. <br>\n",
        "\n",
        "In every 10 iteration, metrics are calculated using validation set. Also, in every 20 iteration, metrics are calculated with the test set because validation set results are overfitted and since data is imbalanced and does not represent the whole possibilities, I also wanted to observe the test set results. <br>\n",
        "\n",
        "I removed the gradient accumulation since I am using 32 batches it is unnecessary."
      ],
      "metadata": {
        "id": "TR2XdqGJD41D"
      }
    },
    {
      "cell_type": "code",
      "execution_count": 18,
      "metadata": {
        "colab": {
          "base_uri": "https://localhost:8080/"
        },
        "id": "Ssn0PgBWfWWJ",
        "outputId": "46dc0f7e-d75d-48fe-d88c-1829678bba79"
      },
      "outputs": [
        {
          "output_type": "stream",
          "name": "stdout",
          "text": [
            "tokens per iteration will be: 32,768\n",
            "Initializing a new model from scratch\n",
            "defaulting to vocab_size of GPT-2 to 50304 (50257 rounded up for efficiency)\n",
            "number of parameters: 123.59M\n",
            "num decayed parameter tensors: 51, with 124,356,864 parameters\n",
            "num non-decayed parameter tensors: 26, with 19,203 parameters\n",
            "using fused AdamW: True\n",
            "Validation Confusion Matrix \n",
            " []\n"
          ]
        },
        {
          "output_type": "stream",
          "name": "stderr",
          "text": [
            "/usr/local/lib/python3.10/dist-packages/sklearn/metrics/_classification.py:1344: UndefinedMetricWarning: Precision is ill-defined and being set to 0.0 in labels with no predicted samples. Use `zero_division` parameter to control this behavior.\n",
            "  _warn_prf(average, modifier, msg_start, len(result))\n"
          ]
        },
        {
          "output_type": "stream",
          "name": "stdout",
          "text": [
            "Validation Confusion Matrix \n",
            " [[327   0   0]\n",
            " [436   0   0]\n",
            " [ 13   0   0]]\n",
            "step 0: train loss 1.0788, val loss 1.1385,val accuracy 0.4214, val precision 0.1776, , val recall 0.4214, , val f1 0.2499\n"
          ]
        },
        {
          "output_type": "stream",
          "name": "stderr",
          "text": [
            "/usr/local/lib/python3.10/dist-packages/sklearn/metrics/_classification.py:1344: UndefinedMetricWarning: Precision is ill-defined and being set to 0.0 in labels with no predicted samples. Use `zero_division` parameter to control this behavior.\n",
            "  _warn_prf(average, modifier, msg_start, len(result))\n"
          ]
        },
        {
          "output_type": "stream",
          "name": "stdout",
          "text": [
            "Test Confusion Matrix \n",
            " [[10  0  0]\n",
            " [10  0  0]\n",
            " [10  0  0]]\n",
            "step 0: test loss 1.2700,test accuracy 0.3333, test precision 0.1111, , test recall 0.3333, , test f1 0.1667\n",
            "iter 0: loss 1.1216, time 8777.86ms, mfu -100.00%\n",
            "iter 1: loss 0.9887, time 177.05ms, mfu -100.00%\n",
            "iter 2: loss 1.9255, time 184.75ms, mfu -100.00%\n",
            "iter 3: loss 1.0961, time 185.05ms, mfu -100.00%\n",
            "iter 4: loss 1.1929, time 182.92ms, mfu -100.00%\n",
            "iter 5: loss 0.7960, time 185.60ms, mfu 48.37%\n",
            "iter 6: loss 0.5942, time 186.24ms, mfu 48.35%\n",
            "iter 7: loss 0.9260, time 187.28ms, mfu 48.31%\n",
            "iter 8: loss 0.6343, time 183.64ms, mfu 48.37%\n",
            "iter 9: loss 0.9067, time 190.00ms, mfu 48.26%\n",
            "Validation Confusion Matrix \n",
            " []\n"
          ]
        },
        {
          "output_type": "stream",
          "name": "stderr",
          "text": [
            "/usr/local/lib/python3.10/dist-packages/sklearn/metrics/_classification.py:1344: UndefinedMetricWarning: Precision is ill-defined and being set to 0.0 in labels with no predicted samples. Use `zero_division` parameter to control this behavior.\n",
            "  _warn_prf(average, modifier, msg_start, len(result))\n"
          ]
        },
        {
          "output_type": "stream",
          "name": "stdout",
          "text": [
            "Validation Confusion Matrix \n",
            " [[ 22 296   0]\n",
            " [  0 445   0]\n",
            " [  0  13   0]]\n",
            "step 10: train loss 0.9604, val loss 0.9375,val accuracy 0.6018, val precision 0.7482, , val recall 0.6018, , val f1 0.4787\n",
            "saving checkpoint to out\n",
            "iter 10: loss 0.9418, time 18464.39ms, mfu 43.48%\n",
            "iter 11: loss 0.9089, time 182.82ms, mfu 44.04%\n",
            "iter 12: loss 0.8403, time 185.10ms, mfu 44.49%\n",
            "iter 13: loss 1.0366, time 183.18ms, mfu 44.94%\n",
            "iter 14: loss 0.5541, time 182.96ms, mfu 45.35%\n",
            "iter 15: loss 0.9060, time 183.27ms, mfu 45.72%\n",
            "iter 16: loss 0.4586, time 184.61ms, mfu 46.01%\n",
            "iter 17: loss 0.5240, time 88.07ms, mfu 51.60%\n",
            "iter 18: loss 0.3085, time 185.36ms, mfu 51.28%\n",
            "iter 19: loss 0.9129, time 184.00ms, mfu 51.03%\n",
            "Validation Confusion Matrix \n",
            " []\n"
          ]
        },
        {
          "output_type": "stream",
          "name": "stderr",
          "text": [
            "/usr/local/lib/python3.10/dist-packages/sklearn/metrics/_classification.py:1344: UndefinedMetricWarning: Precision is ill-defined and being set to 0.0 in labels with no predicted samples. Use `zero_division` parameter to control this behavior.\n",
            "  _warn_prf(average, modifier, msg_start, len(result))\n"
          ]
        },
        {
          "output_type": "stream",
          "name": "stdout",
          "text": [
            "Validation Confusion Matrix \n",
            " [[316   9   0]\n",
            " [183 256   0]\n",
            " [  5   7   0]]\n",
            "step 20: train loss 0.7793, val loss 0.8196,val accuracy 0.7371, val precision 0.7950, , val recall 0.7371, , val f1 0.7267\n",
            "saving checkpoint to out\n"
          ]
        },
        {
          "output_type": "stream",
          "name": "stderr",
          "text": [
            "/usr/local/lib/python3.10/dist-packages/sklearn/metrics/_classification.py:1344: UndefinedMetricWarning: Precision is ill-defined and being set to 0.0 in labels with no predicted samples. Use `zero_division` parameter to control this behavior.\n",
            "  _warn_prf(average, modifier, msg_start, len(result))\n"
          ]
        },
        {
          "output_type": "stream",
          "name": "stdout",
          "text": [
            "Test Confusion Matrix \n",
            " [[9 1 0]\n",
            " [4 6 0]\n",
            " [4 6 0]]\n",
            "step 20: test loss 2.1353,test accuracy 0.5000, test precision 0.3303, , test recall 0.5000, , test f1 0.3961\n",
            "iter 20: loss 0.8322, time 16600.97ms, mfu 45.99%\n",
            "iter 21: loss 0.3833, time 183.56ms, mfu 46.28%\n",
            "iter 22: loss 0.1848, time 183.06ms, mfu 46.55%\n",
            "iter 23: loss 0.3131, time 183.23ms, mfu 46.80%\n",
            "iter 24: loss 0.0287, time 184.58ms, mfu 46.98%\n",
            "iter 25: loss 0.4388, time 75.92ms, mfu 54.11%\n",
            "iter 26: loss 0.4967, time 183.48ms, mfu 53.59%\n",
            "iter 27: loss 0.6928, time 188.39ms, mfu 53.00%\n",
            "iter 28: loss 0.9808, time 182.20ms, mfu 52.62%\n",
            "iter 29: loss 0.4570, time 182.28ms, mfu 52.29%\n",
            "Validation Confusion Matrix \n",
            " []\n"
          ]
        },
        {
          "output_type": "stream",
          "name": "stderr",
          "text": [
            "/usr/local/lib/python3.10/dist-packages/sklearn/metrics/_classification.py:1344: UndefinedMetricWarning: Precision is ill-defined and being set to 0.0 in labels with no predicted samples. Use `zero_division` parameter to control this behavior.\n",
            "  _warn_prf(average, modifier, msg_start, len(result))\n"
          ]
        },
        {
          "output_type": "stream",
          "name": "stdout",
          "text": [
            "Validation Confusion Matrix \n",
            " [[315  24   0]\n",
            " [ 60 363   0]\n",
            " [  0  14   0]]\n",
            "step 30: train loss 0.4030, val loss 0.4301,val accuracy 0.8737, val precision 0.8604, , val recall 0.8737, , val f1 0.8657\n",
            "saving checkpoint to out\n",
            "iter 30: loss 0.5132, time 16318.55ms, mfu 47.11%\n",
            "iter 31: loss 0.2480, time 182.88ms, mfu 47.31%\n",
            "iter 32: loss 0.6280, time 183.31ms, mfu 47.48%\n",
            "iter 33: loss 0.2400, time 184.14ms, mfu 47.61%\n",
            "iter 34: loss 0.2206, time 76.35ms, mfu 54.60%\n",
            "iter 35: loss 0.3537, time 183.06ms, mfu 54.05%\n",
            "iter 36: loss 0.6763, time 187.83ms, mfu 53.42%\n",
            "iter 37: loss 0.5889, time 188.51ms, mfu 52.84%\n",
            "iter 38: loss 0.6333, time 186.43ms, mfu 52.37%\n",
            "iter 39: loss 0.8953, time 183.87ms, mfu 52.02%\n",
            "Validation Confusion Matrix \n",
            " []\n"
          ]
        },
        {
          "output_type": "stream",
          "name": "stderr",
          "text": [
            "/usr/local/lib/python3.10/dist-packages/sklearn/metrics/_classification.py:1344: UndefinedMetricWarning: Precision is ill-defined and being set to 0.0 in labels with no predicted samples. Use `zero_division` parameter to control this behavior.\n",
            "  _warn_prf(average, modifier, msg_start, len(result))\n"
          ]
        },
        {
          "output_type": "stream",
          "name": "stdout",
          "text": [
            "Validation Confusion Matrix \n",
            " [[272  51   0]\n",
            " [ 12 431   0]\n",
            " [  0  10   0]]\n",
            "step 40: train loss 0.3559, val loss 0.3477,val accuracy 0.9059, val precision 0.8987, , val recall 0.9059, , val f1 0.8993\n",
            "saving checkpoint to out\n"
          ]
        },
        {
          "output_type": "stream",
          "name": "stderr",
          "text": [
            "/usr/local/lib/python3.10/dist-packages/sklearn/metrics/_classification.py:1344: UndefinedMetricWarning: Precision is ill-defined and being set to 0.0 in labels with no predicted samples. Use `zero_division` parameter to control this behavior.\n",
            "  _warn_prf(average, modifier, msg_start, len(result))\n"
          ]
        },
        {
          "output_type": "stream",
          "name": "stdout",
          "text": [
            "Test Confusion Matrix \n",
            " [[ 9  1  0]\n",
            " [ 1  9  0]\n",
            " [ 0 10  0]]\n",
            "step 40: test loss 1.6120,test accuracy 0.6000, test precision 0.4500, , test recall 0.6000, , test f1 0.5000\n",
            "iter 40: loss 0.3492, time 16684.28ms, mfu 46.87%\n",
            "iter 41: loss 0.2415, time 182.90ms, mfu 47.09%\n",
            "iter 42: loss 0.3112, time 81.57ms, mfu 53.39%\n",
            "iter 43: loss 0.2325, time 184.94ms, mfu 52.90%\n",
            "iter 44: loss 0.4193, time 182.11ms, mfu 52.54%\n",
            "iter 45: loss 0.3301, time 188.40ms, mfu 52.05%\n",
            "iter 46: loss 0.4193, time 190.37ms, mfu 51.56%\n",
            "iter 47: loss 0.5129, time 188.49ms, mfu 51.17%\n",
            "iter 48: loss 0.4813, time 182.98ms, mfu 50.96%\n",
            "iter 49: loss 0.1795, time 184.09ms, mfu 50.74%\n",
            "Validation Confusion Matrix \n",
            " []\n"
          ]
        },
        {
          "output_type": "stream",
          "name": "stderr",
          "text": [
            "/usr/local/lib/python3.10/dist-packages/sklearn/metrics/_classification.py:1344: UndefinedMetricWarning: Precision is ill-defined and being set to 0.0 in labels with no predicted samples. Use `zero_division` parameter to control this behavior.\n",
            "  _warn_prf(average, modifier, msg_start, len(result))\n"
          ]
        },
        {
          "output_type": "stream",
          "name": "stdout",
          "text": [
            "Validation Confusion Matrix \n",
            " [[296  30   0]\n",
            " [ 13 424   0]\n",
            " [  2  11   0]]\n",
            "step 50: train loss 0.2272, val loss 0.2293,val accuracy 0.9278, val precision 0.9133, , val recall 0.9278, , val f1 0.9199\n",
            "saving checkpoint to out\n",
            "iter 50: loss 0.2872, time 16276.42ms, mfu 45.72%\n",
            "iter 51: loss 0.5513, time 187.45ms, mfu 45.94%\n",
            "iter 52: loss 0.5613, time 182.72ms, mfu 46.26%\n",
            "iter 53: loss 0.7239, time 186.04ms, mfu 46.46%\n",
            "iter 54: loss 0.1460, time 186.33ms, mfu 46.63%\n",
            "iter 55: loss 0.3137, time 189.14ms, mfu 46.71%\n",
            "iter 56: loss 0.1786, time 189.20ms, mfu 46.79%\n",
            "iter 57: loss 0.4829, time 179.22ms, mfu 47.12%\n",
            "iter 58: loss 0.2312, time 188.62ms, mfu 47.17%\n",
            "iter 59: loss 0.5097, time 181.78ms, mfu 47.39%\n",
            "Validation Confusion Matrix \n",
            " []\n"
          ]
        },
        {
          "output_type": "stream",
          "name": "stderr",
          "text": [
            "/usr/local/lib/python3.10/dist-packages/sklearn/metrics/_classification.py:1344: UndefinedMetricWarning: Precision is ill-defined and being set to 0.0 in labels with no predicted samples. Use `zero_division` parameter to control this behavior.\n",
            "  _warn_prf(average, modifier, msg_start, len(result))\n"
          ]
        },
        {
          "output_type": "stream",
          "name": "stdout",
          "text": [
            "Validation Confusion Matrix \n",
            " [[322   8   0]\n",
            " [ 33 404   0]\n",
            " [  0   9   0]]\n",
            "step 60: train loss 0.2502, val loss 0.2298,val accuracy 0.9356, val precision 0.9261, , val recall 0.9356, , val f1 0.9301\n",
            "saving checkpoint to out\n"
          ]
        },
        {
          "output_type": "stream",
          "name": "stderr",
          "text": [
            "/usr/local/lib/python3.10/dist-packages/sklearn/metrics/_classification.py:1344: UndefinedMetricWarning: Precision is ill-defined and being set to 0.0 in labels with no predicted samples. Use `zero_division` parameter to control this behavior.\n",
            "  _warn_prf(average, modifier, msg_start, len(result))\n"
          ]
        },
        {
          "output_type": "stream",
          "name": "stdout",
          "text": [
            "Test Confusion Matrix \n",
            " [[ 9  1  0]\n",
            " [ 3  7  0]\n",
            " [ 0 10  0]]\n",
            "step 60: test loss 1.4240,test accuracy 0.5333, test precision 0.3796, , test recall 0.5333, , test f1 0.4394\n",
            "iter 60: loss 0.1721, time 16339.22ms, mfu 42.70%\n",
            "iter 61: loss 0.5161, time 186.24ms, mfu 43.25%\n",
            "iter 62: loss 0.4817, time 180.33ms, mfu 43.91%\n",
            "iter 63: loss 0.0477, time 180.76ms, mfu 44.48%\n",
            "iter 64: loss 0.4009, time 181.89ms, mfu 44.97%\n",
            "iter 65: loss 0.0133, time 188.67ms, mfu 45.23%\n",
            "iter 66: loss 0.5333, time 76.62ms, mfu 52.42%\n",
            "iter 67: loss 0.5889, time 188.86ms, mfu 51.94%\n",
            "iter 68: loss 0.3022, time 182.51ms, mfu 51.66%\n",
            "iter 69: loss 0.1168, time 187.57ms, mfu 51.28%\n",
            "Validation Confusion Matrix \n",
            " []\n"
          ]
        },
        {
          "output_type": "stream",
          "name": "stderr",
          "text": [
            "/usr/local/lib/python3.10/dist-packages/sklearn/metrics/_classification.py:1344: UndefinedMetricWarning: Precision is ill-defined and being set to 0.0 in labels with no predicted samples. Use `zero_division` parameter to control this behavior.\n",
            "  _warn_prf(average, modifier, msg_start, len(result))\n"
          ]
        },
        {
          "output_type": "stream",
          "name": "stdout",
          "text": [
            "Validation Confusion Matrix \n",
            " [[333  12   0]\n",
            " [ 17 402   0]\n",
            " [  1  11   0]]\n",
            "step 70: train loss 0.2414, val loss 0.2713,val accuracy 0.9472, val precision 0.9325, , val recall 0.9472, , val f1 0.9398\n",
            "saving checkpoint to out\n",
            "iter 70: loss 0.1927, time 16054.60ms, mfu 46.21%\n",
            "iter 71: loss 0.4429, time 182.49ms, mfu 46.51%\n",
            "iter 72: loss 0.1464, time 183.38ms, mfu 46.75%\n",
            "iter 73: loss 0.4732, time 185.28ms, mfu 46.92%\n",
            "iter 74: loss 0.0132, time 188.54ms, mfu 46.99%\n",
            "iter 75: loss 0.5249, time 83.02ms, mfu 53.11%\n",
            "iter 76: loss 0.0546, time 186.29ms, mfu 52.61%\n",
            "iter 77: loss 0.1166, time 186.48ms, mfu 52.17%\n",
            "iter 78: loss 0.0297, time 192.23ms, mfu 51.62%\n",
            "iter 79: loss 0.4806, time 187.53ms, mfu 51.25%\n",
            "Validation Confusion Matrix \n",
            " []\n"
          ]
        },
        {
          "output_type": "stream",
          "name": "stderr",
          "text": [
            "/usr/local/lib/python3.10/dist-packages/sklearn/metrics/_classification.py:1344: UndefinedMetricWarning: Precision is ill-defined and being set to 0.0 in labels with no predicted samples. Use `zero_division` parameter to control this behavior.\n",
            "  _warn_prf(average, modifier, msg_start, len(result))\n"
          ]
        },
        {
          "output_type": "stream",
          "name": "stdout",
          "text": [
            "Validation Confusion Matrix \n",
            " [[318  28   0]\n",
            " [  3 410   0]\n",
            " [  3  14   0]]\n",
            "step 80: train loss 0.2854, val loss 0.3081,val accuracy 0.9381, val precision 0.9204, , val recall 0.9381, , val f1 0.9278\n",
            "saving checkpoint to out\n"
          ]
        },
        {
          "output_type": "stream",
          "name": "stderr",
          "text": [
            "/usr/local/lib/python3.10/dist-packages/sklearn/metrics/_classification.py:1344: UndefinedMetricWarning: Precision is ill-defined and being set to 0.0 in labels with no predicted samples. Use `zero_division` parameter to control this behavior.\n",
            "  _warn_prf(average, modifier, msg_start, len(result))\n"
          ]
        },
        {
          "output_type": "stream",
          "name": "stdout",
          "text": [
            "Test Confusion Matrix \n",
            " [[ 9  1  0]\n",
            " [ 0 10  0]\n",
            " [ 0 10  0]]\n",
            "step 80: test loss 2.5083,test accuracy 0.6333, test precision 0.4921, , test recall 0.6333, , test f1 0.5308\n",
            "iter 80: loss 0.2148, time 16547.00ms, mfu 46.18%\n",
            "iter 81: loss 0.4653, time 180.69ms, mfu 46.53%\n",
            "iter 82: loss 0.0014, time 186.19ms, mfu 46.70%\n",
            "iter 83: loss 0.2724, time 79.44ms, mfu 53.33%\n",
            "iter 84: loss 0.1192, time 182.96ms, mfu 52.90%\n",
            "iter 85: loss 0.2749, time 191.73ms, mfu 52.29%\n",
            "iter 86: loss 0.3598, time 185.19ms, mfu 51.91%\n",
            "iter 87: loss 0.3099, time 187.37ms, mfu 51.51%\n",
            "iter 88: loss 0.2111, time 181.83ms, mfu 51.30%\n",
            "iter 89: loss 0.1930, time 186.94ms, mfu 50.97%\n",
            "Validation Confusion Matrix \n",
            " []\n"
          ]
        },
        {
          "output_type": "stream",
          "name": "stderr",
          "text": [
            "/usr/local/lib/python3.10/dist-packages/sklearn/metrics/_classification.py:1344: UndefinedMetricWarning: Precision is ill-defined and being set to 0.0 in labels with no predicted samples. Use `zero_division` parameter to control this behavior.\n",
            "  _warn_prf(average, modifier, msg_start, len(result))\n"
          ]
        },
        {
          "output_type": "stream",
          "name": "stdout",
          "text": [
            "Validation Confusion Matrix \n",
            " [[310  32   0]\n",
            " [  2 418   0]\n",
            " [  1  13   0]]\n",
            "step 90: train loss 0.1846, val loss 0.2028,val accuracy 0.9381, val precision 0.9251, , val recall 0.9381, , val f1 0.9296\n",
            "saving checkpoint to out\n",
            "iter 90: loss 0.2653, time 16313.53ms, mfu 45.93%\n",
            "iter 91: loss 0.0055, time 184.84ms, mfu 46.19%\n",
            "iter 92: loss 0.0775, time 79.27ms, mfu 52.90%\n",
            "iter 93: loss 0.0668, time 181.03ms, mfu 52.57%\n",
            "iter 94: loss 0.3949, time 183.04ms, mfu 52.22%\n",
            "iter 95: loss 0.1536, time 181.38ms, mfu 51.94%\n",
            "iter 96: loss 0.1489, time 186.85ms, mfu 51.55%\n",
            "iter 97: loss 0.0914, time 177.09ms, mfu 51.47%\n",
            "iter 98: loss 0.0353, time 184.05ms, mfu 51.20%\n",
            "iter 99: loss 0.1668, time 180.04ms, mfu 51.07%\n",
            "Validation Confusion Matrix \n",
            " []\n"
          ]
        },
        {
          "output_type": "stream",
          "name": "stderr",
          "text": [
            "/usr/local/lib/python3.10/dist-packages/sklearn/metrics/_classification.py:1344: UndefinedMetricWarning: Precision is ill-defined and being set to 0.0 in labels with no predicted samples. Use `zero_division` parameter to control this behavior.\n",
            "  _warn_prf(average, modifier, msg_start, len(result))\n"
          ]
        },
        {
          "output_type": "stream",
          "name": "stdout",
          "text": [
            "Validation Confusion Matrix \n",
            " [[298  13   0]\n",
            " [  9 441   0]\n",
            " [  2  13   0]]\n",
            "step 100: train loss 0.1996, val loss 0.1827,val accuracy 0.9523, val precision 0.9341, , val recall 0.9523, , val f1 0.9430\n",
            "saving checkpoint to out\n"
          ]
        },
        {
          "output_type": "stream",
          "name": "stderr",
          "text": [
            "/usr/local/lib/python3.10/dist-packages/sklearn/metrics/_classification.py:1344: UndefinedMetricWarning: Precision is ill-defined and being set to 0.0 in labels with no predicted samples. Use `zero_division` parameter to control this behavior.\n",
            "  _warn_prf(average, modifier, msg_start, len(result))\n"
          ]
        },
        {
          "output_type": "stream",
          "name": "stdout",
          "text": [
            "Test Confusion Matrix \n",
            " [[ 9  1  0]\n",
            " [ 0 10  0]\n",
            " [ 0 10  0]]\n",
            "step 100: test loss 1.4693,test accuracy 0.6333, test precision 0.4921, , test recall 0.6333, , test f1 0.5308\n",
            "iter 100: loss 0.1729, time 16288.48ms, mfu 46.01%\n",
            "iter 101: loss 0.1709, time 183.45ms, mfu 46.31%\n",
            "iter 102: loss 0.6779, time 187.11ms, mfu 46.47%\n",
            "iter 103: loss 0.2692, time 179.26ms, mfu 46.83%\n",
            "iter 104: loss 0.0884, time 182.84ms, mfu 47.06%\n",
            "iter 105: loss 0.2384, time 181.00ms, mfu 47.31%\n",
            "iter 106: loss 0.0112, time 181.30ms, mfu 47.53%\n",
            "iter 107: loss 0.2217, time 76.37ms, mfu 54.54%\n",
            "iter 108: loss 0.4192, time 183.66ms, mfu 53.97%\n",
            "iter 109: loss 0.5687, time 184.27ms, mfu 53.45%\n",
            "Validation Confusion Matrix \n",
            " []\n"
          ]
        },
        {
          "output_type": "stream",
          "name": "stderr",
          "text": [
            "/usr/local/lib/python3.10/dist-packages/sklearn/metrics/_classification.py:1344: UndefinedMetricWarning: Precision is ill-defined and being set to 0.0 in labels with no predicted samples. Use `zero_division` parameter to control this behavior.\n",
            "  _warn_prf(average, modifier, msg_start, len(result))\n"
          ]
        },
        {
          "output_type": "stream",
          "name": "stdout",
          "text": [
            "Validation Confusion Matrix \n",
            " [[288  37   0]\n",
            " [  0 440   0]\n",
            " [  1  10   0]]\n",
            "step 110: train loss 0.2977, val loss 0.2347,val accuracy 0.9381, val precision 0.9297, , val recall 0.9381, , val f1 0.9312\n",
            "saving checkpoint to out\n",
            "iter 110: loss 0.2602, time 15983.57ms, mfu 48.16%\n",
            "iter 111: loss 0.3861, time 188.03ms, mfu 48.12%\n",
            "iter 112: loss 0.2502, time 182.61ms, mfu 48.22%\n",
            "iter 113: loss 0.1633, time 182.08ms, mfu 48.33%\n",
            "iter 114: loss 0.3790, time 182.33ms, mfu 48.42%\n",
            "iter 115: loss 0.2546, time 180.26ms, mfu 48.56%\n",
            "iter 116: loss 0.7178, time 75.91ms, mfu 55.53%\n",
            "iter 117: loss 0.4106, time 185.37ms, mfu 54.82%\n",
            "iter 118: loss 0.1627, time 188.04ms, mfu 54.11%\n",
            "iter 119: loss 0.1227, time 181.70ms, mfu 53.64%\n",
            "Validation Confusion Matrix \n",
            " []\n"
          ]
        },
        {
          "output_type": "stream",
          "name": "stderr",
          "text": [
            "/usr/local/lib/python3.10/dist-packages/sklearn/metrics/_classification.py:1344: UndefinedMetricWarning: Precision is ill-defined and being set to 0.0 in labels with no predicted samples. Use `zero_division` parameter to control this behavior.\n",
            "  _warn_prf(average, modifier, msg_start, len(result))\n"
          ]
        },
        {
          "output_type": "stream",
          "name": "stdout",
          "text": [
            "Validation Confusion Matrix \n",
            " [[302  36   0]\n",
            " [  1 425   0]\n",
            " [  1  11   0]]\n",
            "step 120: train loss 0.2693, val loss 0.2134,val accuracy 0.9369, val precision 0.9270, , val recall 0.9369, , val f1 0.9294\n",
            "saving checkpoint to out\n"
          ]
        },
        {
          "output_type": "stream",
          "name": "stderr",
          "text": [
            "/usr/local/lib/python3.10/dist-packages/sklearn/metrics/_classification.py:1344: UndefinedMetricWarning: Precision is ill-defined and being set to 0.0 in labels with no predicted samples. Use `zero_division` parameter to control this behavior.\n",
            "  _warn_prf(average, modifier, msg_start, len(result))\n"
          ]
        },
        {
          "output_type": "stream",
          "name": "stdout",
          "text": [
            "Test Confusion Matrix \n",
            " [[ 8  2  0]\n",
            " [ 0 10  0]\n",
            " [ 0 10  0]]\n",
            "step 120: test loss 2.3757,test accuracy 0.6000, test precision 0.4848, , test recall 0.6000, , test f1 0.5046\n",
            "iter 120: loss 0.3057, time 16586.74ms, mfu 48.33%\n",
            "iter 121: loss 0.1395, time 185.46ms, mfu 48.34%\n",
            "iter 122: loss 0.7857, time 181.39ms, mfu 48.45%\n",
            "iter 123: loss 0.0007, time 183.81ms, mfu 48.49%\n",
            "iter 124: loss 0.0623, time 77.14ms, mfu 55.28%\n",
            "iter 125: loss 0.0410, time 183.52ms, mfu 54.65%\n",
            "iter 126: loss 0.0876, time 181.75ms, mfu 54.12%\n",
            "iter 127: loss 0.1599, time 184.87ms, mfu 53.56%\n",
            "iter 128: loss 0.2032, time 186.83ms, mfu 53.01%\n",
            "iter 129: loss 0.0450, time 184.90ms, mfu 52.57%\n",
            "Validation Confusion Matrix \n",
            " []\n"
          ]
        },
        {
          "output_type": "stream",
          "name": "stderr",
          "text": [
            "/usr/local/lib/python3.10/dist-packages/sklearn/metrics/_classification.py:1344: UndefinedMetricWarning: Precision is ill-defined and being set to 0.0 in labels with no predicted samples. Use `zero_division` parameter to control this behavior.\n",
            "  _warn_prf(average, modifier, msg_start, len(result))\n"
          ]
        },
        {
          "output_type": "stream",
          "name": "stdout",
          "text": [
            "Validation Confusion Matrix \n",
            " [[346   0   0]\n",
            " [ 43 373   0]\n",
            " [ 10   4   0]]\n",
            "step 130: train loss 0.2897, val loss 0.2558,val accuracy 0.9265, val precision 0.9170, , val recall 0.9265, , val f1 0.9185\n",
            "saving checkpoint to out\n",
            "iter 130: loss 0.7532, time 16300.31ms, mfu 47.37%\n",
            "iter 131: loss 0.2757, time 185.03ms, mfu 47.48%\n",
            "iter 132: loss 0.0060, time 180.88ms, mfu 47.70%\n",
            "iter 133: loss 0.6475, time 74.35ms, mfu 55.00%\n",
            "iter 134: loss 0.1214, time 179.88ms, mfu 54.49%\n",
            "iter 135: loss 0.2964, time 185.02ms, mfu 53.89%\n",
            "iter 136: loss 0.0589, time 185.47ms, mfu 53.35%\n",
            "iter 137: loss 0.0561, time 187.44ms, mfu 52.80%\n",
            "iter 138: loss 0.1458, time 179.23ms, mfu 52.53%\n",
            "iter 139: loss 0.0528, time 186.01ms, mfu 52.10%\n",
            "Validation Confusion Matrix \n",
            " []\n"
          ]
        },
        {
          "output_type": "stream",
          "name": "stderr",
          "text": [
            "/usr/local/lib/python3.10/dist-packages/sklearn/metrics/_classification.py:1344: UndefinedMetricWarning: Precision is ill-defined and being set to 0.0 in labels with no predicted samples. Use `zero_division` parameter to control this behavior.\n",
            "  _warn_prf(average, modifier, msg_start, len(result))\n"
          ]
        },
        {
          "output_type": "stream",
          "name": "stdout",
          "text": [
            "Validation Confusion Matrix \n",
            " [[299  34   0]\n",
            " [  0 430   0]\n",
            " [  0  13   0]]\n",
            "step 140: train loss 0.2232, val loss 0.1962,val accuracy 0.9394, val precision 0.9286, , val recall 0.9394, , val f1 0.9314\n",
            "saving checkpoint to out\n"
          ]
        },
        {
          "output_type": "stream",
          "name": "stderr",
          "text": [
            "/usr/local/lib/python3.10/dist-packages/sklearn/metrics/_classification.py:1344: UndefinedMetricWarning: Precision is ill-defined and being set to 0.0 in labels with no predicted samples. Use `zero_division` parameter to control this behavior.\n",
            "  _warn_prf(average, modifier, msg_start, len(result))\n"
          ]
        },
        {
          "output_type": "stream",
          "name": "stdout",
          "text": [
            "Test Confusion Matrix \n",
            " [[ 9  1  0]\n",
            " [ 0 10  0]\n",
            " [ 0 10  0]]\n",
            "step 140: test loss 2.2017,test accuracy 0.6333, test precision 0.4921, , test recall 0.6333, , test f1 0.5308\n",
            "iter 140: loss 0.0776, time 16297.95ms, mfu 46.95%\n",
            "iter 141: loss 0.3372, time 192.25ms, mfu 46.92%\n",
            "iter 142: loss 0.0129, time 185.07ms, mfu 47.08%\n",
            "iter 143: loss 0.0588, time 184.87ms, mfu 47.23%\n",
            "iter 144: loss 0.1631, time 181.70ms, mfu 47.45%\n",
            "iter 145: loss 0.1476, time 191.16ms, mfu 47.40%\n",
            "iter 146: loss 0.1228, time 178.42ms, mfu 47.69%\n",
            "iter 147: loss 0.0706, time 185.08ms, mfu 47.77%\n",
            "iter 148: loss 0.2818, time 183.46ms, mfu 47.89%\n",
            "iter 149: loss 0.0206, time 185.02ms, mfu 47.95%\n",
            "Validation Confusion Matrix \n",
            " []\n"
          ]
        },
        {
          "output_type": "stream",
          "name": "stderr",
          "text": [
            "/usr/local/lib/python3.10/dist-packages/sklearn/metrics/_classification.py:1344: UndefinedMetricWarning: Precision is ill-defined and being set to 0.0 in labels with no predicted samples. Use `zero_division` parameter to control this behavior.\n",
            "  _warn_prf(average, modifier, msg_start, len(result))\n"
          ]
        },
        {
          "output_type": "stream",
          "name": "stdout",
          "text": [
            "Validation Confusion Matrix \n",
            " [[314   3   0]\n",
            " [ 27 419   0]\n",
            " [  3  10   0]]\n",
            "step 150: train loss 0.2259, val loss 0.1944,val accuracy 0.9446, val precision 0.9303, , val recall 0.9446, , val f1 0.9367\n",
            "saving checkpoint to out\n",
            "iter 150: loss 0.1605, time 16137.73ms, mfu 43.21%\n",
            "iter 151: loss 0.2109, time 182.40ms, mfu 43.81%\n",
            "iter 152: loss 0.4764, time 189.74ms, mfu 44.16%\n",
            "iter 153: loss 0.3281, time 179.15ms, mfu 44.76%\n",
            "iter 154: loss 0.0559, time 182.02ms, mfu 45.21%\n",
            "iter 155: loss 0.3108, time 181.72ms, mfu 45.63%\n",
            "iter 156: loss 0.0094, time 185.32ms, mfu 45.91%\n",
            "iter 157: loss 0.0807, time 83.07ms, mfu 52.13%\n",
            "iter 158: loss 0.1151, time 181.37ms, mfu 51.87%\n",
            "iter 159: loss 0.0505, time 188.57ms, mfu 51.44%\n",
            "Validation Confusion Matrix \n",
            " []\n"
          ]
        },
        {
          "output_type": "stream",
          "name": "stderr",
          "text": [
            "/usr/local/lib/python3.10/dist-packages/sklearn/metrics/_classification.py:1344: UndefinedMetricWarning: Precision is ill-defined and being set to 0.0 in labels with no predicted samples. Use `zero_division` parameter to control this behavior.\n",
            "  _warn_prf(average, modifier, msg_start, len(result))\n"
          ]
        },
        {
          "output_type": "stream",
          "name": "stdout",
          "text": [
            "Validation Confusion Matrix \n",
            " [[326  11   0]\n",
            " [  6 420   0]\n",
            " [  0  13   0]]\n",
            "step 160: train loss 0.2484, val loss 0.1433,val accuracy 0.9613, val precision 0.9457, , val recall 0.9613, , val f1 0.9533\n",
            "saving checkpoint to out\n"
          ]
        },
        {
          "output_type": "stream",
          "name": "stderr",
          "text": [
            "/usr/local/lib/python3.10/dist-packages/sklearn/metrics/_classification.py:1344: UndefinedMetricWarning: Precision is ill-defined and being set to 0.0 in labels with no predicted samples. Use `zero_division` parameter to control this behavior.\n",
            "  _warn_prf(average, modifier, msg_start, len(result))\n"
          ]
        },
        {
          "output_type": "stream",
          "name": "stdout",
          "text": [
            "Test Confusion Matrix \n",
            " [[ 9  1  0]\n",
            " [ 1  9  0]\n",
            " [ 0 10  0]]\n",
            "step 160: test loss 1.9179,test accuracy 0.6000, test precision 0.4500, , test recall 0.6000, , test f1 0.5000\n",
            "iter 160: loss 0.3804, time 18227.60ms, mfu 46.35%\n",
            "iter 161: loss 0.3197, time 183.94ms, mfu 46.59%\n",
            "iter 162: loss 0.0263, time 181.33ms, mfu 46.88%\n",
            "iter 163: loss 0.2039, time 186.89ms, mfu 47.00%\n",
            "iter 164: loss 0.0181, time 180.59ms, mfu 47.27%\n",
            "iter 165: loss 0.0394, time 77.14ms, mfu 54.18%\n",
            "iter 166: loss 0.1453, time 180.60ms, mfu 53.73%\n",
            "iter 167: loss 0.0237, time 180.36ms, mfu 53.34%\n",
            "iter 168: loss 0.0189, time 179.25ms, mfu 53.01%\n",
            "iter 169: loss 0.0153, time 182.62ms, mfu 52.63%\n",
            "Validation Confusion Matrix \n",
            " []\n"
          ]
        },
        {
          "output_type": "stream",
          "name": "stderr",
          "text": [
            "/usr/local/lib/python3.10/dist-packages/sklearn/metrics/_classification.py:1344: UndefinedMetricWarning: Precision is ill-defined and being set to 0.0 in labels with no predicted samples. Use `zero_division` parameter to control this behavior.\n",
            "  _warn_prf(average, modifier, msg_start, len(result))\n"
          ]
        },
        {
          "output_type": "stream",
          "name": "stdout",
          "text": [
            "Validation Confusion Matrix \n",
            " [[315  13   0]\n",
            " [  4 431   0]\n",
            " [  0  13   0]]\n",
            "step 170: train loss 0.1843, val loss 0.1496,val accuracy 0.9613, val precision 0.9461, , val recall 0.9613, , val f1 0.9533\n",
            "saving checkpoint to out\n",
            "iter 170: loss 0.1761, time 16307.25ms, mfu 47.42%\n",
            "iter 171: loss 0.0032, time 184.28ms, mfu 47.55%\n",
            "iter 172: loss 0.3022, time 177.90ms, mfu 47.84%\n",
            "iter 173: loss 0.0013, time 182.71ms, mfu 47.97%\n",
            "iter 174: loss 0.1467, time 86.62ms, mfu 53.54%\n",
            "iter 175: loss 0.0264, time 186.11ms, mfu 53.01%\n",
            "iter 176: loss 0.0075, time 182.83ms, mfu 52.62%\n",
            "iter 177: loss 0.1877, time 181.82ms, mfu 52.29%\n",
            "iter 178: loss 0.1728, time 182.97ms, mfu 51.97%\n",
            "iter 179: loss 0.7358, time 181.04ms, mfu 51.73%\n",
            "Validation Confusion Matrix \n",
            " []\n"
          ]
        },
        {
          "output_type": "stream",
          "name": "stderr",
          "text": [
            "/usr/local/lib/python3.10/dist-packages/sklearn/metrics/_classification.py:1344: UndefinedMetricWarning: Precision is ill-defined and being set to 0.0 in labels with no predicted samples. Use `zero_division` parameter to control this behavior.\n",
            "  _warn_prf(average, modifier, msg_start, len(result))\n"
          ]
        },
        {
          "output_type": "stream",
          "name": "stdout",
          "text": [
            "Validation Confusion Matrix \n",
            " [[327   9   0]\n",
            " [  7 424   0]\n",
            " [  0   9   0]]\n",
            "step 180: train loss 0.1955, val loss 0.1306,val accuracy 0.9678, val precision 0.9567, , val recall 0.9678, , val f1 0.9622\n",
            "saving checkpoint to out\n"
          ]
        },
        {
          "output_type": "stream",
          "name": "stderr",
          "text": [
            "/usr/local/lib/python3.10/dist-packages/sklearn/metrics/_classification.py:1344: UndefinedMetricWarning: Precision is ill-defined and being set to 0.0 in labels with no predicted samples. Use `zero_division` parameter to control this behavior.\n",
            "  _warn_prf(average, modifier, msg_start, len(result))\n"
          ]
        },
        {
          "output_type": "stream",
          "name": "stdout",
          "text": [
            "Test Confusion Matrix \n",
            " [[ 9  1  0]\n",
            " [ 1  9  0]\n",
            " [ 0 10  0]]\n",
            "step 180: test loss 1.8027,test accuracy 0.6000, test precision 0.4500, , test recall 0.6000, , test f1 0.5000\n",
            "iter 180: loss 0.0123, time 16789.93ms, mfu 46.61%\n",
            "iter 181: loss 0.0060, time 183.56ms, mfu 46.84%\n",
            "iter 182: loss 0.1191, time 84.71ms, mfu 52.75%\n",
            "iter 183: loss 0.1195, time 182.28ms, mfu 52.40%\n",
            "iter 184: loss 0.1785, time 180.29ms, mfu 52.14%\n",
            "iter 185: loss 0.0229, time 180.45ms, mfu 51.90%\n",
            "iter 186: loss 0.0211, time 185.38ms, mfu 51.56%\n",
            "iter 187: loss 0.1856, time 181.56ms, mfu 51.35%\n",
            "iter 188: loss 0.2449, time 182.37ms, mfu 51.13%\n",
            "iter 189: loss 0.0425, time 179.67ms, mfu 51.02%\n",
            "Validation Confusion Matrix \n",
            " []\n"
          ]
        },
        {
          "output_type": "stream",
          "name": "stderr",
          "text": [
            "/usr/local/lib/python3.10/dist-packages/sklearn/metrics/_classification.py:1344: UndefinedMetricWarning: Precision is ill-defined and being set to 0.0 in labels with no predicted samples. Use `zero_division` parameter to control this behavior.\n",
            "  _warn_prf(average, modifier, msg_start, len(result))\n"
          ]
        },
        {
          "output_type": "stream",
          "name": "stdout",
          "text": [
            "Validation Confusion Matrix \n",
            " [[324  17   0]\n",
            " [ 12 412   0]\n",
            " [  3   8   0]]\n",
            "step 190: train loss 0.2649, val loss 0.2376,val accuracy 0.9485, val precision 0.9351, , val recall 0.9485, , val f1 0.9417\n",
            "saving checkpoint to out\n",
            "iter 190: loss 0.0728, time 18026.36ms, mfu 45.96%\n",
            "iter 191: loss 0.0403, time 186.32ms, mfu 46.19%\n",
            "iter 192: loss 0.2800, time 191.03ms, mfu 46.27%\n",
            "iter 193: loss 0.2127, time 185.95ms, mfu 46.47%\n",
            "iter 194: loss 0.0896, time 189.47ms, mfu 46.56%\n",
            "iter 195: loss 0.4391, time 186.04ms, mfu 46.73%\n",
            "iter 196: loss 0.1686, time 197.93ms, mfu 46.59%\n",
            "iter 197: loss 0.1163, time 184.01ms, mfu 46.81%\n",
            "iter 198: loss 0.1337, time 182.19ms, mfu 47.06%\n",
            "iter 199: loss 0.0232, time 179.31ms, mfu 47.36%\n",
            "Validation Confusion Matrix \n",
            " []\n"
          ]
        },
        {
          "output_type": "stream",
          "name": "stderr",
          "text": [
            "/usr/local/lib/python3.10/dist-packages/sklearn/metrics/_classification.py:1344: UndefinedMetricWarning: Precision is ill-defined and being set to 0.0 in labels with no predicted samples. Use `zero_division` parameter to control this behavior.\n",
            "  _warn_prf(average, modifier, msg_start, len(result))\n"
          ]
        },
        {
          "output_type": "stream",
          "name": "stdout",
          "text": [
            "Validation Confusion Matrix \n",
            " [[303  17   0]\n",
            " [  3 439   0]\n",
            " [  2  12   0]]\n",
            "step 200: train loss 0.1966, val loss 0.1661,val accuracy 0.9562, val precision 0.9400, , val recall 0.9562, , val f1 0.9475\n",
            "saving checkpoint to out\n"
          ]
        },
        {
          "output_type": "stream",
          "name": "stderr",
          "text": [
            "/usr/local/lib/python3.10/dist-packages/sklearn/metrics/_classification.py:1344: UndefinedMetricWarning: Precision is ill-defined and being set to 0.0 in labels with no predicted samples. Use `zero_division` parameter to control this behavior.\n",
            "  _warn_prf(average, modifier, msg_start, len(result))\n"
          ]
        },
        {
          "output_type": "stream",
          "name": "stdout",
          "text": [
            "Test Confusion Matrix \n",
            " [[ 8  2  0]\n",
            " [ 0 10  0]\n",
            " [ 0 10  0]]\n",
            "step 200: test loss 1.4226,test accuracy 0.6000, test precision 0.4848, , test recall 0.6000, , test f1 0.5046\n",
            "iter 200: loss 0.1228, time 16319.14ms, mfu 42.68%\n",
            "iter 201: loss 0.3119, time 180.42ms, mfu 43.39%\n",
            "iter 202: loss 0.3283, time 181.97ms, mfu 43.98%\n",
            "iter 203: loss 0.0442, time 181.26ms, mfu 44.54%\n",
            "iter 204: loss 0.2778, time 180.99ms, mfu 45.04%\n",
            "iter 205: loss 0.0172, time 182.91ms, mfu 45.45%\n",
            "iter 206: loss 0.0544, time 77.15ms, mfu 52.54%\n",
            "iter 207: loss 0.0374, time 187.06ms, mfu 52.08%\n",
            "iter 208: loss 0.0375, time 180.31ms, mfu 51.85%\n",
            "iter 209: loss 0.1374, time 189.46ms, mfu 51.41%\n",
            "Validation Confusion Matrix \n",
            " []\n"
          ]
        },
        {
          "output_type": "stream",
          "name": "stderr",
          "text": [
            "/usr/local/lib/python3.10/dist-packages/sklearn/metrics/_classification.py:1344: UndefinedMetricWarning: Precision is ill-defined and being set to 0.0 in labels with no predicted samples. Use `zero_division` parameter to control this behavior.\n",
            "  _warn_prf(average, modifier, msg_start, len(result))\n"
          ]
        },
        {
          "output_type": "stream",
          "name": "stdout",
          "text": [
            "Validation Confusion Matrix \n",
            " [[324   5   0]\n",
            " [  5 434   0]\n",
            " [  3   5   0]]\n",
            "step 210: train loss 0.1814, val loss 0.1117,val accuracy 0.9768, val precision 0.9667, , val recall 0.9768, , val f1 0.9717\n",
            "saving checkpoint to out\n",
            "iter 210: loss 0.6740, time 16054.40ms, mfu 46.32%\n",
            "iter 211: loss 0.2520, time 182.39ms, mfu 46.61%\n",
            "iter 212: loss 0.0129, time 183.58ms, mfu 46.84%\n",
            "iter 213: loss 0.2966, time 181.80ms, mfu 47.10%\n",
            "iter 214: loss 0.0087, time 187.72ms, mfu 47.17%\n",
            "iter 215: loss 0.4226, time 77.78ms, mfu 53.99%\n",
            "iter 216: loss 0.0460, time 179.73ms, mfu 53.59%\n",
            "iter 217: loss 0.2382, time 185.63ms, mfu 53.07%\n",
            "iter 218: loss 0.0213, time 185.59ms, mfu 52.60%\n",
            "iter 219: loss 0.0814, time 185.30ms, mfu 52.18%\n",
            "Validation Confusion Matrix \n",
            " []\n"
          ]
        },
        {
          "output_type": "stream",
          "name": "stderr",
          "text": [
            "/usr/local/lib/python3.10/dist-packages/sklearn/metrics/_classification.py:1344: UndefinedMetricWarning: Precision is ill-defined and being set to 0.0 in labels with no predicted samples. Use `zero_division` parameter to control this behavior.\n",
            "  _warn_prf(average, modifier, msg_start, len(result))\n"
          ]
        },
        {
          "output_type": "stream",
          "name": "stdout",
          "text": [
            "Validation Confusion Matrix \n",
            " [[312  19   0]\n",
            " [  3 429   0]\n",
            " [  0  13   0]]\n",
            "step 220: train loss 0.2351, val loss 0.1791,val accuracy 0.9549, val precision 0.9405, , val recall 0.9549, , val f1 0.9469\n",
            "saving checkpoint to out\n"
          ]
        },
        {
          "output_type": "stream",
          "name": "stderr",
          "text": [
            "/usr/local/lib/python3.10/dist-packages/sklearn/metrics/_classification.py:1344: UndefinedMetricWarning: Precision is ill-defined and being set to 0.0 in labels with no predicted samples. Use `zero_division` parameter to control this behavior.\n",
            "  _warn_prf(average, modifier, msg_start, len(result))\n"
          ]
        },
        {
          "output_type": "stream",
          "name": "stdout",
          "text": [
            "Test Confusion Matrix \n",
            " [[ 8  2  0]\n",
            " [ 0 10  0]\n",
            " [ 0 10  0]]\n",
            "step 220: test loss 1.8432,test accuracy 0.6000, test precision 0.4848, , test recall 0.6000, , test f1 0.5046\n",
            "iter 220: loss 0.0121, time 16354.41ms, mfu 47.02%\n",
            "iter 221: loss 0.2106, time 182.03ms, mfu 47.25%\n",
            "iter 222: loss 0.0053, time 184.01ms, mfu 47.40%\n",
            "iter 223: loss 0.3736, time 75.62ms, mfu 54.53%\n",
            "iter 224: loss 0.2621, time 184.72ms, mfu 53.94%\n",
            "iter 225: loss 0.0135, time 182.78ms, mfu 53.46%\n",
            "iter 226: loss 0.1646, time 184.97ms, mfu 52.97%\n",
            "iter 227: loss 0.1311, time 179.27ms, mfu 52.68%\n",
            "iter 228: loss 0.2186, time 184.00ms, mfu 52.29%\n",
            "iter 229: loss 0.3616, time 179.31ms, mfu 52.07%\n",
            "Validation Confusion Matrix \n",
            " []\n"
          ]
        },
        {
          "output_type": "stream",
          "name": "stderr",
          "text": [
            "/usr/local/lib/python3.10/dist-packages/sklearn/metrics/_classification.py:1344: UndefinedMetricWarning: Precision is ill-defined and being set to 0.0 in labels with no predicted samples. Use `zero_division` parameter to control this behavior.\n",
            "  _warn_prf(average, modifier, msg_start, len(result))\n"
          ]
        },
        {
          "output_type": "stream",
          "name": "stdout",
          "text": [
            "Validation Confusion Matrix \n",
            " [[324   8   0]\n",
            " [  6 427   0]\n",
            " [  5   6   0]]\n",
            "step 230: train loss 0.1773, val loss 0.1156,val accuracy 0.9678, val precision 0.9541, , val recall 0.9678, , val f1 0.9609\n",
            "saving checkpoint to out\n",
            "iter 230: loss 0.0703, time 16341.07ms, mfu 46.91%\n",
            "iter 231: loss 0.0143, time 184.55ms, mfu 47.09%\n",
            "iter 232: loss 0.3129, time 75.56ms, mfu 54.26%\n",
            "iter 233: loss 0.3132, time 185.16ms, mfu 53.68%\n",
            "iter 234: loss 0.1631, time 182.24ms, mfu 53.24%\n",
            "iter 235: loss 0.0461, time 188.94ms, mfu 52.67%\n",
            "iter 236: loss 0.0981, time 176.28ms, mfu 52.49%\n",
            "iter 237: loss 0.0311, time 181.49ms, mfu 52.19%\n",
            "iter 238: loss 0.1266, time 186.60ms, mfu 51.78%\n",
            "iter 239: loss 0.0741, time 189.31ms, mfu 51.35%\n",
            "Validation Confusion Matrix \n",
            " []\n"
          ]
        },
        {
          "output_type": "stream",
          "name": "stderr",
          "text": [
            "/usr/local/lib/python3.10/dist-packages/sklearn/metrics/_classification.py:1344: UndefinedMetricWarning: Precision is ill-defined and being set to 0.0 in labels with no predicted samples. Use `zero_division` parameter to control this behavior.\n",
            "  _warn_prf(average, modifier, msg_start, len(result))\n"
          ]
        },
        {
          "output_type": "stream",
          "name": "stdout",
          "text": [
            "Validation Confusion Matrix \n",
            " [[305  15   0]\n",
            " [  2 442   0]\n",
            " [  2  10   0]]\n",
            "step 240: train loss 0.1838, val loss 0.1266,val accuracy 0.9626, val precision 0.9486, , val recall 0.9626, , val f1 0.9551\n",
            "saving checkpoint to out\n"
          ]
        },
        {
          "output_type": "stream",
          "name": "stderr",
          "text": [
            "/usr/local/lib/python3.10/dist-packages/sklearn/metrics/_classification.py:1344: UndefinedMetricWarning: Precision is ill-defined and being set to 0.0 in labels with no predicted samples. Use `zero_division` parameter to control this behavior.\n",
            "  _warn_prf(average, modifier, msg_start, len(result))\n"
          ]
        },
        {
          "output_type": "stream",
          "name": "stdout",
          "text": [
            "Test Confusion Matrix \n",
            " [[ 8  2  0]\n",
            " [ 0 10  0]\n",
            " [ 0 10  0]]\n",
            "step 240: test loss 1.8011,test accuracy 0.6000, test precision 0.4848, , test recall 0.6000, , test f1 0.5046\n",
            "iter 240: loss 0.0732, time 16464.73ms, mfu 46.27%\n",
            "iter 241: loss 0.2136, time 183.39ms, mfu 46.54%\n",
            "iter 242: loss 0.4765, time 191.97ms, mfu 46.56%\n",
            "iter 243: loss 0.2960, time 185.64ms, mfu 46.74%\n",
            "iter 244: loss 0.0045, time 185.98ms, mfu 46.89%\n",
            "iter 245: loss 0.2273, time 180.78ms, mfu 47.17%\n",
            "iter 246: loss 0.0040, time 187.64ms, mfu 47.24%\n",
            "iter 247: loss 0.3230, time 88.64ms, mfu 52.64%\n",
            "iter 248: loss 0.1753, time 181.49ms, mfu 52.32%\n",
            "iter 249: loss 0.1887, time 185.24ms, mfu 51.94%\n",
            "Validation Confusion Matrix \n",
            " []\n"
          ]
        },
        {
          "output_type": "stream",
          "name": "stderr",
          "text": [
            "/usr/local/lib/python3.10/dist-packages/sklearn/metrics/_classification.py:1344: UndefinedMetricWarning: Precision is ill-defined and being set to 0.0 in labels with no predicted samples. Use `zero_division` parameter to control this behavior.\n",
            "  _warn_prf(average, modifier, msg_start, len(result))\n"
          ]
        },
        {
          "output_type": "stream",
          "name": "stdout",
          "text": [
            "Validation Confusion Matrix \n",
            " [[320   1   0]\n",
            " [  9 436   0]\n",
            " [  6   4   0]]\n",
            "step 250: train loss 0.1768, val loss 0.1073,val accuracy 0.9742, val precision 0.9621, , val recall 0.9742, , val f1 0.9680\n",
            "saving checkpoint to out\n",
            "iter 250: loss 0.0222, time 16073.49ms, mfu 46.80%\n",
            "iter 251: loss 0.3852, time 185.45ms, mfu 46.96%\n",
            "iter 252: loss 0.1811, time 178.08ms, mfu 47.31%\n",
            "iter 253: loss 0.0271, time 183.02ms, mfu 47.48%\n",
            "iter 254: loss 0.1380, time 180.18ms, mfu 47.71%\n",
            "iter 255: loss 0.0133, time 177.64ms, mfu 48.00%\n",
            "iter 256: loss 0.0465, time 79.43ms, mfu 54.50%\n",
            "iter 257: loss 0.0394, time 178.59ms, mfu 54.08%\n",
            "iter 258: loss 0.0636, time 182.44ms, mfu 53.59%\n",
            "iter 259: loss 0.1991, time 185.93ms, mfu 53.06%\n",
            "Validation Confusion Matrix \n",
            " []\n"
          ]
        },
        {
          "output_type": "stream",
          "name": "stderr",
          "text": [
            "/usr/local/lib/python3.10/dist-packages/sklearn/metrics/_classification.py:1344: UndefinedMetricWarning: Precision is ill-defined and being set to 0.0 in labels with no predicted samples. Use `zero_division` parameter to control this behavior.\n",
            "  _warn_prf(average, modifier, msg_start, len(result))\n"
          ]
        },
        {
          "output_type": "stream",
          "name": "stdout",
          "text": [
            "Validation Confusion Matrix \n",
            " [[334   4   0]\n",
            " [  4 421   0]\n",
            " [  8   5   0]]\n",
            "step 260: train loss 0.1277, val loss 0.0916,val accuracy 0.9729, val precision 0.9567, , val recall 0.9729, , val f1 0.9647\n",
            "saving checkpoint to out\n"
          ]
        },
        {
          "output_type": "stream",
          "name": "stderr",
          "text": [
            "/usr/local/lib/python3.10/dist-packages/sklearn/metrics/_classification.py:1344: UndefinedMetricWarning: Precision is ill-defined and being set to 0.0 in labels with no predicted samples. Use `zero_division` parameter to control this behavior.\n",
            "  _warn_prf(average, modifier, msg_start, len(result))\n"
          ]
        },
        {
          "output_type": "stream",
          "name": "stdout",
          "text": [
            "Test Confusion Matrix \n",
            " [[ 9  1  0]\n",
            " [ 2  8  0]\n",
            " [ 0 10  0]]\n",
            "step 260: test loss 1.5006,test accuracy 0.5667, test precision 0.4131, , test recall 0.5667, , test f1 0.4696\n",
            "iter 260: loss 0.0599, time 16528.45ms, mfu 47.81%\n",
            "iter 261: loss 0.0112, time 188.63ms, mfu 47.79%\n",
            "iter 262: loss 0.1408, time 176.53ms, mfu 48.09%\n",
            "iter 263: loss 0.0054, time 182.46ms, mfu 48.20%\n",
            "iter 264: loss 0.0708, time 76.32ms, mfu 55.15%\n",
            "iter 265: loss 0.1339, time 183.76ms, mfu 54.52%\n",
            "iter 266: loss 0.0213, time 180.45ms, mfu 54.04%\n",
            "iter 267: loss 0.1171, time 185.13ms, mfu 53.48%\n",
            "iter 268: loss 0.0640, time 181.91ms, mfu 53.07%\n",
            "iter 269: loss 0.0728, time 183.00ms, mfu 52.67%\n",
            "Validation Confusion Matrix \n",
            " []\n",
            "Validation Confusion Matrix \n",
            " [[336   3   0]\n",
            " [  8 419   0]\n",
            " [  0   4   6]]\n",
            "step 270: train loss 0.1306, val loss 0.0864,val accuracy 0.9807, val precision 0.9808, , val recall 0.9807, , val f1 0.9801\n",
            "saving checkpoint to out\n",
            "iter 270: loss 0.0090, time 16255.73ms, mfu 47.46%\n",
            "iter 271: loss 0.1036, time 179.68ms, mfu 47.71%\n",
            "iter 272: loss 0.0041, time 181.49ms, mfu 47.88%\n",
            "iter 273: loss 0.0336, time 75.69ms, mfu 54.96%\n",
            "iter 274: loss 0.2544, time 182.13ms, mfu 54.39%\n",
            "iter 275: loss 0.0083, time 180.98ms, mfu 53.91%\n",
            "iter 276: loss 0.1310, time 185.50ms, mfu 53.36%\n",
            "iter 277: loss 0.0485, time 178.63ms, mfu 53.05%\n",
            "iter 278: loss 0.0728, time 189.51ms, mfu 52.48%\n",
            "iter 279: loss 0.0085, time 177.06ms, mfu 52.30%\n",
            "Validation Confusion Matrix \n",
            " []\n",
            "Validation Confusion Matrix \n",
            " [[321  14   0]\n",
            " [  2 427   0]\n",
            " [  0  10   2]]\n",
            "step 280: train loss 0.1302, val loss 0.0926,val accuracy 0.9665, val precision 0.9679, , val recall 0.9665, , val f1 0.9621\n",
            "saving checkpoint to out\n"
          ]
        },
        {
          "output_type": "stream",
          "name": "stderr",
          "text": [
            "/usr/local/lib/python3.10/dist-packages/sklearn/metrics/_classification.py:1344: UndefinedMetricWarning: Precision is ill-defined and being set to 0.0 in labels with no predicted samples. Use `zero_division` parameter to control this behavior.\n",
            "  _warn_prf(average, modifier, msg_start, len(result))\n"
          ]
        },
        {
          "output_type": "stream",
          "name": "stdout",
          "text": [
            "Test Confusion Matrix \n",
            " [[ 8  2  0]\n",
            " [ 0 10  0]\n",
            " [ 0 10  0]]\n",
            "step 280: test loss 1.9708,test accuracy 0.6000, test precision 0.4848, , test recall 0.6000, , test f1 0.5046\n",
            "iter 280: loss 0.0889, time 16323.54ms, mfu 47.13%\n",
            "iter 281: loss 0.1967, time 182.76ms, mfu 47.33%\n",
            "iter 282: loss 0.0180, time 186.54ms, mfu 47.41%\n",
            "iter 283: loss 0.0492, time 178.73ms, mfu 47.69%\n",
            "iter 284: loss 0.1850, time 179.69ms, mfu 47.92%\n",
            "iter 285: loss 0.1128, time 184.00ms, mfu 48.00%\n",
            "iter 286: loss 0.0094, time 177.87ms, mfu 48.25%\n",
            "iter 287: loss 0.0149, time 180.56ms, mfu 48.40%\n",
            "iter 288: loss 0.0187, time 182.21ms, mfu 48.49%\n",
            "iter 289: loss 0.1226, time 180.41ms, mfu 48.61%\n",
            "Validation Confusion Matrix \n",
            " []\n",
            "Validation Confusion Matrix \n",
            " [[323   2   0]\n",
            " [  3 438   0]\n",
            " [  0   2   8]]\n",
            "step 290: train loss 0.1118, val loss 0.0476,val accuracy 0.9910, val precision 0.9910, , val recall 0.9910, , val f1 0.9908\n",
            "saving checkpoint to out\n",
            "iter 290: loss 0.0069, time 16786.75ms, mfu 43.80%\n",
            "iter 291: loss 0.0934, time 188.22ms, mfu 44.19%\n",
            "iter 292: loss 0.2948, time 184.40ms, mfu 44.64%\n",
            "iter 293: loss 0.1704, time 178.08ms, mfu 45.22%\n",
            "iter 294: loss 0.0030, time 183.05ms, mfu 45.60%\n",
            "iter 295: loss 0.0065, time 177.71ms, mfu 46.09%\n",
            "iter 296: loss 0.0029, time 180.96ms, mfu 46.45%\n",
            "iter 297: loss 0.0096, time 79.25ms, mfu 53.13%\n",
            "iter 298: loss 0.0220, time 180.94ms, mfu 52.78%\n",
            "iter 299: loss 0.2243, time 181.20ms, mfu 52.45%\n",
            "Validation Confusion Matrix \n",
            " []\n",
            "Validation Confusion Matrix \n",
            " [[321   2   0]\n",
            " [  2 440   2]\n",
            " [  0   1   8]]\n",
            "step 300: train loss 0.1009, val loss 0.0348,val accuracy 0.9910, val precision 0.9912, , val recall 0.9910, , val f1 0.9911\n",
            "saving checkpoint to out\n",
            "Test Confusion Matrix \n",
            " [[ 8  2  0]\n",
            " [ 0 10  0]\n",
            " [ 0  9  1]]\n",
            "step 300: test loss 1.1912,test accuracy 0.6333, test precision 0.8254, , test recall 0.6333, , test f1 0.5720\n",
            "iter 300: loss 0.0069, time 16625.46ms, mfu 47.26%\n"
          ]
        }
      ],
      "source": [
        "\"\"\"\n",
        "This training script can be run both on a single gpu in debug mode,\n",
        "and also in a larger training run with distributed data parallel (ddp).\n",
        "\n",
        "To run on a single GPU, example:\n",
        "$ python train.py --batch_size=32 --compile=False\n",
        "\n",
        "To run with DDP on 4 gpus on 1 node, example:\n",
        "$ torchrun --standalone --nproc_per_node=4 train.py\n",
        "\n",
        "To run with DDP on 4 gpus across 2 nodes, example:\n",
        "- Run on the first (master) node with example IP 123.456.123.456:\n",
        "$ torchrun --nproc_per_node=8 --nnodes=2 --node_rank=0 --master_addr=123.456.123.456 --master_port=1234 train.py\n",
        "- Run on the worker node:\n",
        "$ torchrun --nproc_per_node=8 --nnodes=2 --node_rank=1 --master_addr=123.456.123.456 --master_port=1234 train.py\n",
        "(If your cluster does not have Infiniband interconnect prepend NCCL_IB_DISABLE=1)\n",
        "\"\"\"\n",
        "\n",
        "import os\n",
        "import time\n",
        "import math\n",
        "import pickle\n",
        "from contextlib import nullcontext\n",
        "\n",
        "import numpy as np\n",
        "import torch\n",
        "from torch.nn.parallel import DistributedDataParallel as DDP\n",
        "from torch.distributed import init_process_group, destroy_process_group\n",
        "from sklearn.metrics import accuracy_score, precision_score, recall_score, f1_score\n",
        "from sklearn.metrics import confusion_matrix\n",
        "#from model import GPTConfig, GPT\n",
        "\n",
        "# -----------------------------------------------------------------------------\n",
        "# default config values designed to train a gpt2 (124M) on OpenWebText\n",
        "# I/O\n",
        "out_dir = 'out'\n",
        "eval_interval = 10\n",
        "log_interval = 1\n",
        "#eval_iters = 200\n",
        "eval_only = False # if True, script exits right after the first eval\n",
        "always_save_checkpoint = True # if True, always save a checkpoint after each eval\n",
        "init_from = 'scratch' # 'scratch' or 'resume' or 'gpt2*'\n",
        "test_interval = 20\n",
        "# wandb logging\n",
        "wandb_log = False # disabled by default\n",
        "wandb_project = 'owt'\n",
        "wandb_run_name = 'gpt2' # 'run' + str(time.time())\n",
        "# data\n",
        "dataset = '/content'\n",
        "gradient_accumulation_steps = 1 #5 * 8 # used to simulate larger batch sizes\n",
        "batch_size = 32 # if gradient_accumulation_steps > 1, this is the micro-batch size\n",
        "block_size = 1024\n",
        "# model\n",
        "n_layer = 12\n",
        "n_head = 12\n",
        "n_embd = 768\n",
        "dropout = 0.0 # for pretraining 0 is good, for finetuning try 0.1+\n",
        "bias = False # do we use bias inside LayerNorm and Linear layers?\n",
        "# adamw optimizer\n",
        "learning_rate = 6e-4 # max learning rate\n",
        "max_iters = 300 # total number of training iterations\n",
        "weight_decay = 1e-1\n",
        "beta1 = 0.9\n",
        "beta2 = 0.95\n",
        "grad_clip = 1.0 # clip gradients at this value, or disable if == 0.0\n",
        "# learning rate decay settings\n",
        "decay_lr = True # whether to decay the learning rate\n",
        "warmup_iters = 30 # how many steps to warm up for\n",
        "lr_decay_iters = 500 # should be ~= max_iters per Chinchilla\n",
        "min_lr = 6e-5 # minimum learning rate, should be ~= learning_rate/10 per Chinchilla\n",
        "# DDP settings\n",
        "backend = 'nccl' # 'nccl', 'gloo', etc.\n",
        "# system\n",
        "device = 'cuda' # examples: 'cpu', 'cuda', 'cuda:0', 'cuda:1' etc., or try 'mps' on macbooks\n",
        "dtype = 'bfloat16' if torch.cuda.is_available() and torch.cuda.is_bf16_supported() else 'float16' # 'float32', 'bfloat16', or 'float16', the latter will auto implement a GradScaler\n",
        "compile = False # use PyTorch 2.0 to compile the model to be faster\n",
        "# -----------------------------------------------------------------------------\n",
        "config_keys = [k for k,v in globals().items() if not k.startswith('_') and isinstance(v, (int, float, bool, str))]\n",
        "#exec(open('configurator.py').read()) # overrides from command line or config file\n",
        "config = {k: globals()[k] for k in config_keys} # will be useful for logging\n",
        "# -----------------------------------------------------------------------------\n",
        "\n",
        "iter_val = iter(val_loader)\n",
        "iter_train = iter(train_loader)\n",
        "iter_test = iter(test_loader)\n",
        "# -----------------------------------------------------------------------------\n",
        "\n",
        "# various inits, derived attributes, I/O setup\n",
        "ddp = int(os.environ.get('RANK', -1)) != -1 # is this a ddp run?\n",
        "if ddp:\n",
        "    init_process_group(backend=backend)\n",
        "    ddp_rank = int(os.environ['RANK'])\n",
        "    ddp_local_rank = int(os.environ['LOCAL_RANK'])\n",
        "    ddp_world_size = int(os.environ['WORLD_SIZE'])\n",
        "    device = f'cuda:{ddp_local_rank}'\n",
        "    torch.cuda.set_device(device)\n",
        "    master_process = ddp_rank == 0 # this process will do logging, checkpointing etc.\n",
        "    seed_offset = ddp_rank # each process gets a different seed\n",
        "    # world_size number of processes will be training simultaneously, so we can scale\n",
        "    # down the desired gradient accumulation iterations per process proportionally\n",
        "    assert gradient_accumulation_steps % ddp_world_size == 0\n",
        "    gradient_accumulation_steps //= ddp_world_size\n",
        "else:\n",
        "    # if not ddp, we are running on a single gpu, and one process\n",
        "    master_process = True\n",
        "    seed_offset = 0\n",
        "    ddp_world_size = 1\n",
        "tokens_per_iter = gradient_accumulation_steps * ddp_world_size * batch_size * block_size\n",
        "print(f\"tokens per iteration will be: {tokens_per_iter:,}\")\n",
        "\n",
        "if master_process:\n",
        "    os.makedirs(out_dir, exist_ok=True)\n",
        "torch.manual_seed(1337 + seed_offset)\n",
        "torch.backends.cuda.matmul.allow_tf32 = True # allow tf32 on matmul\n",
        "torch.backends.cudnn.allow_tf32 = True # allow tf32 on cudnn\n",
        "device_type = 'cuda' if 'cuda' in device else 'cpu' # for later use in torch.autocast\n",
        "# note: float16 data type will automatically use a GradScaler\n",
        "ptdtype = {'float32': torch.float32, 'bfloat16': torch.bfloat16, 'float16': torch.float16}[dtype]\n",
        "ctx = nullcontext() if device_type == 'cpu' else torch.amp.autocast(device_type=device_type, dtype=ptdtype)\n",
        "\n",
        "# poor man's data loader\n",
        "data_dir = os.path.join('data', dataset)\n",
        "def get_batch(iter_data):\n",
        "    try:\n",
        "        batch = next(iter_data)\n",
        "        input_ids = batch['input_ids'].to(device)\n",
        "        labels = batch['labels'].to(device)\n",
        "        return input_ids, labels, iter_data\n",
        "    except StopIteration:\n",
        "        # Reset the iterator\n",
        "        iter_data = iter(train_loader if iter_data is iter_train else val_loader)\n",
        "        batch = next(iter_data)\n",
        "        input_ids = batch['input_ids'].to(device)\n",
        "        labels = batch['labels'].to(device)\n",
        "        return input_ids, labels, iter_data\n",
        "def get_test_batch(iter_data):\n",
        "    try:\n",
        "        batch = next(iter_data)\n",
        "        input_ids = batch['input_ids'].to(device)\n",
        "        labels = batch['labels'].to(device)\n",
        "        return input_ids, labels, iter_data\n",
        "    except StopIteration:\n",
        "        # Reset the iterator\n",
        "        iter_data = iter(test_loader)\n",
        "        batch = next(iter_data)\n",
        "        input_ids = batch['input_ids'].to(device)\n",
        "        labels = batch['labels'].to(device)\n",
        "        return input_ids, labels, iter_data\n",
        "\n",
        "# init these up here, can override if init_from='resume' (i.e. from a checkpoint)\n",
        "iter_num = 0\n",
        "best_val_loss = 1e9\n",
        "\n",
        "# attempt to derive vocab_size from the dataset\n",
        "meta_path = os.path.join(data_dir, 'meta.pkl')\n",
        "meta_vocab_size = None\n",
        "if os.path.exists(meta_path):\n",
        "    with open(meta_path, 'rb') as f:\n",
        "        meta = pickle.load(f)\n",
        "    meta_vocab_size = meta['vocab_size']\n",
        "    print(f\"found vocab_size = {meta_vocab_size} (inside {meta_path})\")\n",
        "\n",
        "# model init\n",
        "model_args = dict(n_layer=n_layer, n_head=n_head, n_embd=n_embd, block_size=block_size,\n",
        "                  bias=bias, vocab_size=None, dropout=dropout) # start with model_args from command line\n",
        "if init_from == 'scratch':\n",
        "    # init a new model from scratch\n",
        "    print(\"Initializing a new model from scratch\")\n",
        "    # determine the vocab size we'll use for from-scratch training\n",
        "    if meta_vocab_size is None:\n",
        "        print(\"defaulting to vocab_size of GPT-2 to 50304 (50257 rounded up for efficiency)\")\n",
        "    model_args['vocab_size'] = meta_vocab_size if meta_vocab_size is not None else 50304\n",
        "    gptconf = GPTConfig(**model_args)\n",
        "    model = GPT(gptconf)\n",
        "elif init_from == 'resume':\n",
        "    print(f\"Resuming training from {out_dir}\")\n",
        "    # resume training from a checkpoint.\n",
        "    ckpt_path = os.path.join(out_dir, 'ckpt.pt')\n",
        "    checkpoint = torch.load(ckpt_path, map_location=device)\n",
        "    checkpoint_model_args = checkpoint['model_args']\n",
        "    # force these config attributes to be equal otherwise we can't even resume training\n",
        "    # the rest of the attributes (e.g. dropout) can stay as desired from command line\n",
        "    for k in ['n_layer', 'n_head', 'n_embd', 'block_size', 'bias', 'vocab_size']:\n",
        "        model_args[k] = checkpoint_model_args[k]\n",
        "    # create the model\n",
        "    gptconf = GPTConfig(**model_args)\n",
        "    model = GPT(gptconf)\n",
        "    state_dict = checkpoint['model']\n",
        "    # fix the keys of the state dictionary :(\n",
        "    # honestly no idea how checkpoints sometimes get this prefix, have to debug more\n",
        "    unwanted_prefix = '_orig_mod.'\n",
        "    for k,v in list(state_dict.items()):\n",
        "        if k.startswith(unwanted_prefix):\n",
        "            state_dict[k[len(unwanted_prefix):]] = state_dict.pop(k)\n",
        "    model.load_state_dict(state_dict)\n",
        "    iter_num = checkpoint['iter_num']\n",
        "    best_val_loss = checkpoint['best_val_loss']\n",
        "elif init_from.startswith('gpt2'):\n",
        "    print(f\"Initializing from OpenAI GPT-2 weights: {init_from}\")\n",
        "    # initialize from OpenAI GPT-2 weights\n",
        "    override_args = dict(dropout=dropout)\n",
        "    model = GPT.from_pretrained(init_from, override_args)\n",
        "    # read off the created config params, so we can store them into checkpoint correctly\n",
        "    for k in ['n_layer', 'n_head', 'n_embd', 'block_size', 'bias', 'vocab_size']:\n",
        "        model_args[k] = getattr(model.config, k)\n",
        "# crop down the model block size if desired, using model surgery\n",
        "if block_size < model.config.block_size:\n",
        "    model.crop_block_size(block_size)\n",
        "    model_args['block_size'] = block_size # so that the checkpoint will have the right value\n",
        "model.to(device)\n",
        "\n",
        "# initialize a GradScaler. If enabled=False scaler is a no-op\n",
        "scaler = torch.cuda.amp.GradScaler(enabled=(dtype == 'float16'))\n",
        "\n",
        "# optimizer\n",
        "optimizer = model.configure_optimizers(weight_decay, learning_rate, (beta1, beta2), device_type)\n",
        "if init_from == 'resume':\n",
        "    optimizer.load_state_dict(checkpoint['optimizer'])\n",
        "checkpoint = None # free up memory\n",
        "\n",
        "# compile the model\n",
        "if compile:\n",
        "    print(\"compiling the model... (takes a ~minute)\")\n",
        "    unoptimized_model = model\n",
        "    model = torch.compile(model) # requires PyTorch 2.0\n",
        "\n",
        "# wrap model into DDP container\n",
        "if ddp:\n",
        "    model = DDP(model, device_ids=[ddp_local_rank])\n",
        "\n",
        "# helps estimate an arbitrarily accurate loss over either split using many batches\n",
        "@torch.no_grad()\n",
        "def estimate_loss(iter_train, iter_val):\n",
        "    out = {}\n",
        "    model.eval()\n",
        "    losses_train = []\n",
        "    losses_val = []\n",
        "    predictions_val, labels_val = [], []\n",
        "    val_precision, val_recall , val_f1, val_acc = 0, 0, 0, 0\n",
        "    for split in ['train', 'val']:\n",
        "        if split == 'train':\n",
        "            for i in range(len(iter_train)):\n",
        "                X, Y, iter_train = get_batch(iter_train)\n",
        "                output = model(X, Y)\n",
        "                losses_train.append(output[1].item())\n",
        "        else:\n",
        "            for i in range(len(iter_val)):\n",
        "                X, Y, iter_val = get_batch(iter_val)\n",
        "                output = model(X, Y)\n",
        "                losses_val.append(output[1].item())\n",
        "                _, predicted_labels = torch.max(output[0], 1)\n",
        "                predictions_val.extend(predicted_labels.cpu().numpy())\n",
        "                labels_val.extend(Y.cpu().numpy())\n",
        "            val_acc = accuracy_score(labels_val, predictions_val)\n",
        "            val_precision = precision_score(labels_val, predictions_val, average='weighted')\n",
        "            val_recall = recall_score(labels_val, predictions_val, average='weighted')\n",
        "            val_f1 = f1_score(labels_val, predictions_val, average='weighted')\n",
        "        out['val_precision'] = val_precision\n",
        "        out['val_recall'] = val_recall\n",
        "        out['val_f1'] = val_f1\n",
        "        out['val_acc'] = val_acc\n",
        "        val_conf_matrix = confusion_matrix(labels_val, predictions_val)\n",
        "        print(\"Validation Confusion Matrix \\n\", val_conf_matrix)\n",
        "        out[split] = torch.tensor(losses_train if split == 'train' else losses_val).mean()\n",
        "    model.train()\n",
        "    return out, iter_train, iter_val\n",
        "\n",
        "# helps estimate an arbitrarily accurate loss over either split using many batches\n",
        "@torch.no_grad()\n",
        "def estimate_test_loss(iter_test):\n",
        "    out = {}\n",
        "    losses_test = []\n",
        "    predictions_test, labels_test = [], []\n",
        "    model.eval()\n",
        "    for i in range(len(iter_test)):\n",
        "        X, Y, iter_test = get_test_batch(iter_test)\n",
        "        output = model(X, Y)\n",
        "        losses_test.append(output[1].item())\n",
        "        _, predicted_labels = torch.max(output[0], 1)\n",
        "        predictions_test.extend(predicted_labels.cpu().numpy())\n",
        "        labels_test.extend(Y.cpu().numpy())\n",
        "    test_acc = accuracy_score(labels_test, predictions_test)\n",
        "    test_precision = precision_score(labels_test, predictions_test, average='weighted')\n",
        "    test_recall = recall_score(labels_test, predictions_test, average='weighted')\n",
        "    test_f1 = f1_score(labels_test, predictions_test, average='weighted')\n",
        "    out['test_precision'] = test_precision\n",
        "    out['test_recall'] = test_recall\n",
        "    out['test_f1'] = test_f1\n",
        "    out['test_acc'] = test_acc\n",
        "    test_conf_matrix = confusion_matrix(labels_test, predictions_test)\n",
        "    print(\"Test Confusion Matrix \\n\",test_conf_matrix)\n",
        "    out['test'] = torch.tensor(losses_test).mean()\n",
        "    model.train()\n",
        "    return out, iter_test\n",
        "\n",
        "# learning rate decay scheduler (cosine with warmup)\n",
        "def get_lr(it):\n",
        "    # 1) linear warmup for warmup_iters steps\n",
        "    if it < warmup_iters:\n",
        "        return learning_rate * it / warmup_iters\n",
        "    # 2) if it > lr_decay_iters, return min learning rate\n",
        "    if it > lr_decay_iters:\n",
        "        return min_lr\n",
        "    # 3) in between, use cosine decay down to min learning rate\n",
        "    decay_ratio = (it - warmup_iters) / (lr_decay_iters - warmup_iters)\n",
        "    assert 0 <= decay_ratio <= 1\n",
        "    coeff = 0.5 * (1.0 + math.cos(math.pi * decay_ratio)) # coeff ranges 0..1\n",
        "    return min_lr + coeff * (learning_rate - min_lr)\n",
        "\n",
        "# logging\n",
        "if wandb_log and master_process:\n",
        "    import wandb\n",
        "    wandb.init(project=wandb_project, name=wandb_run_name, config=config)\n",
        "\n",
        "# training loop\n",
        "X, Y, iter_train = get_batch(iter_train) # fetch the very first batch\n",
        "t0 = time.time()\n",
        "local_iter_num = 0 # number of iterations in the lifetime of this process\n",
        "raw_model = model.module if ddp else model # unwrap DDP container if needed\n",
        "running_mfu = -1.0\n",
        "while True:\n",
        "\n",
        "    # determine and set the learning rate for this iteration\n",
        "    lr = get_lr(iter_num) if decay_lr else learning_rate\n",
        "    for param_group in optimizer.param_groups:\n",
        "        param_group['lr'] = lr\n",
        "\n",
        "    # evaluate the loss on train/val sets and write checkpoints\n",
        "    if iter_num % eval_interval == 0 and master_process:\n",
        "        losses, iter_train, iter_val = estimate_loss(iter_val, iter_train)\n",
        "        print(f\"step {iter_num}: train loss {losses['train']:.4f}, val loss {losses['val']:.4f},val accuracy {losses['val_acc']:.4f}, val precision {losses['val_precision']:.4f}, , val recall {losses['val_recall']:.4f}, , val f1 {losses['val_f1']:.4f}\")\n",
        "        if wandb_log:\n",
        "            wandb.log({\n",
        "                \"iter\": iter_num,\n",
        "                \"train/loss\": losses['train'],\n",
        "                \"val/loss\": losses['val'],\n",
        "                \"lr\": lr,\n",
        "                \"mfu\": running_mfu*100, # convert to percentage\n",
        "            })\n",
        "        if losses['val'] < best_val_loss or always_save_checkpoint:\n",
        "            best_val_loss = losses['val']\n",
        "            if iter_num > 0:\n",
        "                checkpoint = {\n",
        "                    'model': raw_model.state_dict(),\n",
        "                    'optimizer': optimizer.state_dict(),\n",
        "                    'model_args': model_args,\n",
        "                    'iter_num': iter_num,\n",
        "                    'best_val_loss': best_val_loss,\n",
        "                    'config': config,\n",
        "                }\n",
        "                print(f\"saving checkpoint to {out_dir}\")\n",
        "                torch.save(checkpoint, os.path.join(out_dir, 'ckpt.pt'))\n",
        "    if iter_num % test_interval == 0 and master_process:\n",
        "      losses, iter_test = estimate_test_loss(iter_test)\n",
        "      print(f\"step {iter_num}: test loss {losses['test']:.4f},test accuracy {losses['test_acc']:.4f}, test precision {losses['test_precision']:.4f}, , test recall {losses['test_recall']:.4f}, , test f1 {losses['test_f1']:.4f}\")\n",
        "      if wandb_log:\n",
        "        wandb.log({\n",
        "            \"iter\": iter_num,\n",
        "            \"test/loss\": losses,\n",
        "            \"lr\": lr,\n",
        "            \"mfu\": running_mfu*100, # convert to percentage\n",
        "        })\n",
        "    if iter_num == 0 and eval_only:\n",
        "        break\n",
        "\n",
        "    # forward backward update, with optional gradient accumulation to simulate larger batch size\n",
        "    # and using the GradScaler if data type is float16\n",
        "    for micro_step in range(gradient_accumulation_steps):\n",
        "        if ddp:\n",
        "            # in DDP training we only need to sync gradients at the last micro step.\n",
        "            # the official way to do this is with model.no_sync() context manager, but\n",
        "            # I really dislike that this bloats the code and forces us to repeat code\n",
        "            # looking at the source of that context manager, it just toggles this variable\n",
        "            model.require_backward_grad_sync = (micro_step == gradient_accumulation_steps - 1)\n",
        "        with ctx:\n",
        "            logits, loss = model(X, Y)\n",
        "            loss = loss / gradient_accumulation_steps # scale the loss to account for gradient accumulation\n",
        "        # immediately async prefetch next batch while model is doing the forward pass on the GPU\n",
        "        X, Y, iter_train = get_batch(iter_train)\n",
        "        if Y is None:\n",
        "            iter_train = iter(train_loader)\n",
        "            X, Y, iter_train = get_batch( iter_train)\n",
        "        # backward pass, with gradient scaling if training in fp16\n",
        "        scaler.scale(loss).backward()\n",
        "    # clip the gradient\n",
        "    if grad_clip != 0.0:\n",
        "        scaler.unscale_(optimizer)\n",
        "        torch.nn.utils.clip_grad_norm_(model.parameters(), grad_clip)\n",
        "    # step the optimizer and scaler if training in fp16\n",
        "    scaler.step(optimizer)\n",
        "    scaler.update()\n",
        "    # flush the gradients as soon as we can, no need for this memory anymore\n",
        "    optimizer.zero_grad(set_to_none=True)\n",
        "\n",
        "    # timing and logging\n",
        "    t1 = time.time()\n",
        "    dt = t1 - t0\n",
        "    t0 = t1\n",
        "    if iter_num % log_interval == 0 and master_process:\n",
        "        # get loss as float. note: this is a CPU-GPU sync point\n",
        "        # scale up to undo the division above, approximating the true total loss (exact would have been a sum)\n",
        "        lossf = loss.item() * gradient_accumulation_steps\n",
        "        if local_iter_num >= 5: # let the training loop settle a bit\n",
        "            mfu = raw_model.estimate_mfu(batch_size * gradient_accumulation_steps, dt)\n",
        "            running_mfu = mfu if running_mfu == -1.0 else 0.9*running_mfu + 0.1*mfu\n",
        "        print(f\"iter {iter_num}: loss {lossf:.4f}, time {dt*1000:.2f}ms, mfu {running_mfu*100:.2f}%\")\n",
        "    iter_num += 1\n",
        "    local_iter_num += 1\n",
        "\n",
        "    # termination conditions\n",
        "    if iter_num > max_iters:\n",
        "        break\n",
        "\n",
        "if ddp:\n",
        "    destroy_process_group()"
      ]
    },
    {
      "cell_type": "markdown",
      "source": [
        "# Train Script for Pretrained GPT2\n",
        "\n",
        "---\n",
        "\n",
        "Changes for the train script is valid in this part. Only \"init_from = 'gpt-2'\" is added."
      ],
      "metadata": {
        "id": "RpZogzdXUhee"
      }
    },
    {
      "cell_type": "code",
      "source": [
        "\"\"\"\n",
        "This training script can be run both on a single gpu in debug mode,\n",
        "and also in a larger training run with distributed data parallel (ddp).\n",
        "\n",
        "To run on a single GPU, example:\n",
        "$ python train.py --batch_size=32 --compile=False\n",
        "\n",
        "To run with DDP on 4 gpus on 1 node, example:\n",
        "$ torchrun --standalone --nproc_per_node=4 train.py\n",
        "\n",
        "To run with DDP on 4 gpus across 2 nodes, example:\n",
        "- Run on the first (master) node with example IP 123.456.123.456:\n",
        "$ torchrun --nproc_per_node=8 --nnodes=2 --node_rank=0 --master_addr=123.456.123.456 --master_port=1234 train.py\n",
        "- Run on the worker node:\n",
        "$ torchrun --nproc_per_node=8 --nnodes=2 --node_rank=1 --master_addr=123.456.123.456 --master_port=1234 train.py\n",
        "(If your cluster does not have Infiniband interconnect prepend NCCL_IB_DISABLE=1)\n",
        "\"\"\"\n",
        "\n",
        "import os\n",
        "import time\n",
        "import math\n",
        "import pickle\n",
        "from contextlib import nullcontext\n",
        "\n",
        "import numpy as np\n",
        "import torch\n",
        "from torch.nn.parallel import DistributedDataParallel as DDP\n",
        "from torch.distributed import init_process_group, destroy_process_group\n",
        "from sklearn.metrics import accuracy_score, precision_score, recall_score, f1_score\n",
        "from sklearn.metrics import confusion_matrix\n",
        "#from model import GPTConfig, GPT\n",
        "\n",
        "# -----------------------------------------------------------------------------\n",
        "# default config values designed to train a gpt2 (124M) on OpenWebText\n",
        "# I/O\n",
        "out_dir = 'out_pretrain'\n",
        "eval_interval = 10\n",
        "log_interval = 1\n",
        "#eval_iters = 200\n",
        "eval_only = False # if True, script exits right after the first eval\n",
        "always_save_checkpoint = True # if True, always save a checkpoint after each eval\n",
        "init_from = 'gpt2' # 'scratch' or 'resume' or 'gpt2*'\n",
        "test_interval = 20\n",
        "# wandb logging\n",
        "wandb_log = False # disabled by default\n",
        "wandb_project = 'owt'\n",
        "wandb_run_name = 'gpt2' # 'run' + str(time.time())\n",
        "# data\n",
        "dataset = '/content'\n",
        "gradient_accumulation_steps = 1 #5 * 8 # used to simulate larger batch sizes\n",
        "batch_size = 32 # if gradient_accumulation_steps > 1, this is the micro-batch size\n",
        "block_size = 1024\n",
        "# model\n",
        "n_layer = 12\n",
        "n_head = 12\n",
        "n_embd = 768\n",
        "dropout = 0.0 # for pretraining 0 is good, for finetuning try 0.1+\n",
        "bias = False # do we use bias inside LayerNorm and Linear layers?\n",
        "# adamw optimizer\n",
        "learning_rate = 5e-5 # max learning rate\n",
        "max_iters = 300 # total number of training iterations\n",
        "weight_decay = 1e-1\n",
        "beta1 = 0.9\n",
        "beta2 = 0.95\n",
        "grad_clip = 1.0 # clip gradients at this value, or disable if == 0.0\n",
        "# learning rate decay settings\n",
        "decay_lr = True # whether to decay the learning rate\n",
        "warmup_iters = 30 # how many steps to warm up for\n",
        "lr_decay_iters = 500 # should be ~= max_iters per Chinchilla\n",
        "min_lr = 6e-5 # minimum learning rate, should be ~= learning_rate/10 per Chinchilla\n",
        "# DDP settings\n",
        "backend = 'nccl' # 'nccl', 'gloo', etc.\n",
        "# system\n",
        "device = 'cuda' # examples: 'cpu', 'cuda', 'cuda:0', 'cuda:1' etc., or try 'mps' on macbooks\n",
        "dtype = 'bfloat16' if torch.cuda.is_available() and torch.cuda.is_bf16_supported() else 'float16' # 'float32', 'bfloat16', or 'float16', the latter will auto implement a GradScaler\n",
        "compile = False # use PyTorch 2.0 to compile the model to be faster\n",
        "# -----------------------------------------------------------------------------\n",
        "config_keys = [k for k,v in globals().items() if not k.startswith('_') and isinstance(v, (int, float, bool, str))]\n",
        "#exec(open('configurator.py').read()) # overrides from command line or config file\n",
        "config = {k: globals()[k] for k in config_keys} # will be useful for logging\n",
        "# -----------------------------------------------------------------------------\n",
        "\n",
        "iter_val = iter(val_loader)\n",
        "iter_train = iter(train_loader)\n",
        "iter_test = iter(test_loader)\n",
        "# -----------------------------------------------------------------------------\n",
        "\n",
        "# various inits, derived attributes, I/O setup\n",
        "ddp = int(os.environ.get('RANK', -1)) != -1 # is this a ddp run?\n",
        "if ddp:\n",
        "    init_process_group(backend=backend)\n",
        "    ddp_rank = int(os.environ['RANK'])\n",
        "    ddp_local_rank = int(os.environ['LOCAL_RANK'])\n",
        "    ddp_world_size = int(os.environ['WORLD_SIZE'])\n",
        "    device = f'cuda:{ddp_local_rank}'\n",
        "    torch.cuda.set_device(device)\n",
        "    master_process = ddp_rank == 0 # this process will do logging, checkpointing etc.\n",
        "    seed_offset = ddp_rank # each process gets a different seed\n",
        "    # world_size number of processes will be training simultaneously, so we can scale\n",
        "    # down the desired gradient accumulation iterations per process proportionally\n",
        "    assert gradient_accumulation_steps % ddp_world_size == 0\n",
        "    gradient_accumulation_steps //= ddp_world_size\n",
        "else:\n",
        "    # if not ddp, we are running on a single gpu, and one process\n",
        "    master_process = True\n",
        "    seed_offset = 0\n",
        "    ddp_world_size = 1\n",
        "tokens_per_iter = gradient_accumulation_steps * ddp_world_size * batch_size * block_size\n",
        "print(f\"tokens per iteration will be: {tokens_per_iter:,}\")\n",
        "\n",
        "if master_process:\n",
        "    os.makedirs(out_dir, exist_ok=True)\n",
        "torch.manual_seed(1337 + seed_offset)\n",
        "torch.backends.cuda.matmul.allow_tf32 = True # allow tf32 on matmul\n",
        "torch.backends.cudnn.allow_tf32 = True # allow tf32 on cudnn\n",
        "device_type = 'cuda' if 'cuda' in device else 'cpu' # for later use in torch.autocast\n",
        "# note: float16 data type will automatically use a GradScaler\n",
        "ptdtype = {'float32': torch.float32, 'bfloat16': torch.bfloat16, 'float16': torch.float16}[dtype]\n",
        "ctx = nullcontext() if device_type == 'cpu' else torch.amp.autocast(device_type=device_type, dtype=ptdtype)\n",
        "\n",
        "# poor man's data loader\n",
        "data_dir = os.path.join('data', dataset)\n",
        "def get_batch(iter_data):\n",
        "    try:\n",
        "        batch = next(iter_data)\n",
        "        input_ids = batch['input_ids'].to(device)\n",
        "        labels = batch['labels'].to(device)\n",
        "        return input_ids, labels, iter_data\n",
        "    except StopIteration:\n",
        "        # Reset the iterator\n",
        "        iter_data = iter(train_loader if iter_data is iter_train else val_loader)\n",
        "        batch = next(iter_data)\n",
        "        input_ids = batch['input_ids'].to(device)\n",
        "        labels = batch['labels'].to(device)\n",
        "        return input_ids, labels, iter_data\n",
        "def get_test_batch(iter_data):\n",
        "    try:\n",
        "        batch = next(iter_data)\n",
        "        input_ids = batch['input_ids'].to(device)\n",
        "        labels = batch['labels'].to(device)\n",
        "        return input_ids, labels, iter_data\n",
        "    except StopIteration:\n",
        "        # Reset the iterator\n",
        "        iter_data = iter(test_loader)\n",
        "        batch = next(iter_data)\n",
        "        input_ids = batch['input_ids'].to(device)\n",
        "        labels = batch['labels'].to(device)\n",
        "        return input_ids, labels, iter_data\n",
        "\n",
        "# init these up here, can override if init_from='resume' (i.e. from a checkpoint)\n",
        "iter_num = 0\n",
        "best_val_loss = 1e9\n",
        "\n",
        "# attempt to derive vocab_size from the dataset\n",
        "meta_path = os.path.join(data_dir, 'meta.pkl')\n",
        "meta_vocab_size = None\n",
        "if os.path.exists(meta_path):\n",
        "    with open(meta_path, 'rb') as f:\n",
        "        meta = pickle.load(f)\n",
        "    meta_vocab_size = meta['vocab_size']\n",
        "    print(f\"found vocab_size = {meta_vocab_size} (inside {meta_path})\")\n",
        "\n",
        "# model init\n",
        "model_args = dict(n_layer=n_layer, n_head=n_head, n_embd=n_embd, block_size=block_size,\n",
        "                  bias=bias, vocab_size=None, dropout=dropout) # start with model_args from command line\n",
        "if init_from == 'scratch':\n",
        "    # init a new model from scratch\n",
        "    print(\"Initializing a new model from scratch\")\n",
        "    # determine the vocab size we'll use for from-scratch training\n",
        "    if meta_vocab_size is None:\n",
        "        print(\"defaulting to vocab_size of GPT-2 to 50304 (50257 rounded up for efficiency)\")\n",
        "    model_args['vocab_size'] = meta_vocab_size if meta_vocab_size is not None else 50304\n",
        "    gptconf = GPTConfig(**model_args)\n",
        "    model = GPT(gptconf)\n",
        "elif init_from == 'resume':\n",
        "    print(f\"Resuming training from {out_dir}\")\n",
        "    # resume training from a checkpoint.\n",
        "    ckpt_path = os.path.join(out_dir, 'ckpt.pt')\n",
        "    checkpoint = torch.load(ckpt_path, map_location=device)\n",
        "    checkpoint_model_args = checkpoint['model_args']\n",
        "    # force these config attributes to be equal otherwise we can't even resume training\n",
        "    # the rest of the attributes (e.g. dropout) can stay as desired from command line\n",
        "    for k in ['n_layer', 'n_head', 'n_embd', 'block_size', 'bias', 'vocab_size']:\n",
        "        model_args[k] = checkpoint_model_args[k]\n",
        "    # create the model\n",
        "    gptconf = GPTConfig(**model_args)\n",
        "    model = GPT(gptconf)\n",
        "    state_dict = checkpoint['model']\n",
        "    # fix the keys of the state dictionary :(\n",
        "    # honestly no idea how checkpoints sometimes get this prefix, have to debug more\n",
        "    unwanted_prefix = '_orig_mod.'\n",
        "    for k,v in list(state_dict.items()):\n",
        "        if k.startswith(unwanted_prefix):\n",
        "            state_dict[k[len(unwanted_prefix):]] = state_dict.pop(k)\n",
        "    model.load_state_dict(state_dict)\n",
        "    iter_num = checkpoint['iter_num']\n",
        "    best_val_loss = checkpoint['best_val_loss']\n",
        "elif init_from.startswith('gpt2'):\n",
        "    print(f\"Initializing from OpenAI GPT-2 weights: {init_from}\")\n",
        "    # initialize from OpenAI GPT-2 weights\n",
        "    override_args = dict(dropout=dropout)\n",
        "    model = GPT.from_pretrained(init_from, override_args)\n",
        "    # read off the created config params, so we can store them into checkpoint correctly\n",
        "    for k in ['n_layer', 'n_head', 'n_embd', 'block_size', 'bias', 'vocab_size']:\n",
        "        model_args[k] = getattr(model.config, k)\n",
        "# crop down the model block size if desired, using model surgery\n",
        "if block_size < model.config.block_size:\n",
        "    model.crop_block_size(block_size)\n",
        "    model_args['block_size'] = block_size # so that the checkpoint will have the right value\n",
        "model.to(device)\n",
        "\n",
        "# initialize a GradScaler. If enabled=False scaler is a no-op\n",
        "scaler = torch.cuda.amp.GradScaler(enabled=(dtype == 'float16'))\n",
        "\n",
        "# optimizer\n",
        "optimizer = model.configure_optimizers(weight_decay, learning_rate, (beta1, beta2), device_type)\n",
        "if init_from == 'resume':\n",
        "    optimizer.load_state_dict(checkpoint['optimizer'])\n",
        "checkpoint = None # free up memory\n",
        "\n",
        "# compile the model\n",
        "if compile:\n",
        "    print(\"compiling the model... (takes a ~minute)\")\n",
        "    unoptimized_model = model\n",
        "    model = torch.compile(model) # requires PyTorch 2.0\n",
        "\n",
        "# wrap model into DDP container\n",
        "if ddp:\n",
        "    model = DDP(model, device_ids=[ddp_local_rank])\n",
        "\n",
        "# helps estimate an arbitrarily accurate loss over either split using many batches\n",
        "@torch.no_grad()\n",
        "def estimate_loss(iter_train, iter_val):\n",
        "    out = {}\n",
        "    model.eval()\n",
        "    losses_train = []\n",
        "    losses_val = []\n",
        "    predictions_val, labels_val = [], []\n",
        "    val_precision, val_recall , val_f1, val_acc = 0, 0, 0, 0\n",
        "    for split in ['train', 'val']:\n",
        "        if split == 'train':\n",
        "            for i in range(len(iter_train)):\n",
        "                X, Y, iter_train = get_batch(iter_train)\n",
        "                output = model(X, Y)\n",
        "                losses_train.append(output[1].item())\n",
        "        else:\n",
        "            for i in range(len(iter_val)):\n",
        "                X, Y, iter_val = get_batch(iter_val)\n",
        "                output = model(X, Y)\n",
        "                losses_val.append(output[1].item())\n",
        "                _, predicted_labels = torch.max(output[0], 1)\n",
        "                predictions_val.extend(predicted_labels.cpu().numpy())\n",
        "                labels_val.extend(Y.cpu().numpy())\n",
        "            val_acc = accuracy_score(labels_val, predictions_val)\n",
        "            val_precision = precision_score(labels_val, predictions_val, average='weighted')\n",
        "            val_recall = recall_score(labels_val, predictions_val, average='weighted')\n",
        "            val_f1 = f1_score(labels_val, predictions_val, average='weighted')\n",
        "        out['val_precision'] = val_precision\n",
        "        out['val_recall'] = val_recall\n",
        "        out['val_f1'] = val_f1\n",
        "        out['val_acc'] = val_acc\n",
        "        val_conf_matrix = confusion_matrix(labels_val, predictions_val)\n",
        "        print(\"Validation Confusion Matrix \\n\", val_conf_matrix)\n",
        "        out[split] = torch.tensor(losses_train if split == 'train' else losses_val).mean()\n",
        "    model.train()\n",
        "    return out, iter_train, iter_val\n",
        "\n",
        "# helps estimate an arbitrarily accurate loss over either split using many batches\n",
        "@torch.no_grad()\n",
        "def estimate_test_loss(iter_test):\n",
        "    out = {}\n",
        "    losses_test = []\n",
        "    predictions_test, labels_test = [], []\n",
        "    model.eval()\n",
        "    for i in range(len(iter_test)):\n",
        "        X, Y, iter_test = get_test_batch(iter_test)\n",
        "        output = model(X, Y)\n",
        "        losses_test.append(output[1].item())\n",
        "        _, predicted_labels = torch.max(output[0], 1)\n",
        "        predictions_test.extend(predicted_labels.cpu().numpy())\n",
        "        labels_test.extend(Y.cpu().numpy())\n",
        "    test_acc = accuracy_score(labels_test, predictions_test)\n",
        "    test_precision = precision_score(labels_test, predictions_test, average='weighted')\n",
        "    test_recall = recall_score(labels_test, predictions_test, average='weighted')\n",
        "    test_f1 = f1_score(labels_test, predictions_test, average='weighted')\n",
        "    out['test_precision'] = test_precision\n",
        "    out['test_recall'] = test_recall\n",
        "    out['test_f1'] = test_f1\n",
        "    out['test_acc'] = test_acc\n",
        "    test_conf_matrix = confusion_matrix(labels_test, predictions_test)\n",
        "    print(\"Test Confusion Matrix \\n\",test_conf_matrix)\n",
        "    out['test'] = torch.tensor(losses_test).mean()\n",
        "    model.train()\n",
        "    return out, iter_test\n",
        "\n",
        "# learning rate decay scheduler (cosine with warmup)\n",
        "def get_lr(it):\n",
        "    # 1) linear warmup for warmup_iters steps\n",
        "    if it < warmup_iters:\n",
        "        return learning_rate * it / warmup_iters\n",
        "    # 2) if it > lr_decay_iters, return min learning rate\n",
        "    if it > lr_decay_iters:\n",
        "        return min_lr\n",
        "    # 3) in between, use cosine decay down to min learning rate\n",
        "    decay_ratio = (it - warmup_iters) / (lr_decay_iters - warmup_iters)\n",
        "    assert 0 <= decay_ratio <= 1\n",
        "    coeff = 0.5 * (1.0 + math.cos(math.pi * decay_ratio)) # coeff ranges 0..1\n",
        "    return min_lr + coeff * (learning_rate - min_lr)\n",
        "\n",
        "# logging\n",
        "if wandb_log and master_process:\n",
        "    import wandb\n",
        "    wandb.init(project=wandb_project, name=wandb_run_name, config=config)\n",
        "\n",
        "# training loop\n",
        "X, Y, iter_train = get_batch(iter_train) # fetch the very first batch\n",
        "t0 = time.time()\n",
        "local_iter_num = 0 # number of iterations in the lifetime of this process\n",
        "raw_model = model.module if ddp else model # unwrap DDP container if needed\n",
        "running_mfu = -1.0\n",
        "while True:\n",
        "\n",
        "    # determine and set the learning rate for this iteration\n",
        "    lr = get_lr(iter_num) if decay_lr else learning_rate\n",
        "    for param_group in optimizer.param_groups:\n",
        "        param_group['lr'] = lr\n",
        "\n",
        "    # evaluate the loss on train/val sets and write checkpoints\n",
        "    if iter_num % eval_interval == 0 and master_process:\n",
        "        losses, iter_train, iter_val = estimate_loss(iter_val, iter_train)\n",
        "        print(f\"step {iter_num}: train loss {losses['train']:.4f}, val loss {losses['val']:.4f},val accuracy {losses['val_acc']:.4f}, val precision {losses['val_precision']:.4f}, , val recall {losses['val_recall']:.4f}, , val f1 {losses['val_f1']:.4f}\")\n",
        "        if wandb_log:\n",
        "            wandb.log({\n",
        "                \"iter\": iter_num,\n",
        "                \"train/loss\": losses['train'],\n",
        "                \"val/loss\": losses['val'],\n",
        "                \"lr\": lr,\n",
        "                \"mfu\": running_mfu*100, # convert to percentage\n",
        "            })\n",
        "        if losses['val'] < best_val_loss or always_save_checkpoint:\n",
        "            best_val_loss = losses['val']\n",
        "            if iter_num > 0:\n",
        "                checkpoint = {\n",
        "                    'model': raw_model.state_dict(),\n",
        "                    'optimizer': optimizer.state_dict(),\n",
        "                    'model_args': model_args,\n",
        "                    'iter_num': iter_num,\n",
        "                    'best_val_loss': best_val_loss,\n",
        "                    'config': config,\n",
        "                }\n",
        "                print(f\"saving checkpoint to {out_dir}\")\n",
        "                torch.save(checkpoint, os.path.join(out_dir, 'ckpt.pt'))\n",
        "    if iter_num % test_interval == 0 and master_process:\n",
        "      losses, iter_test = estimate_test_loss(iter_test)\n",
        "      print(f\"step {iter_num}: test loss {losses['test']:.4f},test accuracy {losses['test_acc']:.4f}, test precision {losses['test_precision']:.4f}, , test recall {losses['test_recall']:.4f}, , test f1 {losses['test_f1']:.4f}\")\n",
        "      if wandb_log:\n",
        "        wandb.log({\n",
        "            \"iter\": iter_num,\n",
        "            \"test/loss\": losses,\n",
        "            \"lr\": lr,\n",
        "            \"mfu\": running_mfu*100, # convert to percentage\n",
        "        })\n",
        "    if iter_num == 0 and eval_only:\n",
        "        break\n",
        "\n",
        "    # forward backward update, with optional gradient accumulation to simulate larger batch size\n",
        "    # and using the GradScaler if data type is float16\n",
        "    for micro_step in range(gradient_accumulation_steps):\n",
        "        if ddp:\n",
        "            # in DDP training we only need to sync gradients at the last micro step.\n",
        "            # the official way to do this is with model.no_sync() context manager, but\n",
        "            # I really dislike that this bloats the code and forces us to repeat code\n",
        "            # looking at the source of that context manager, it just toggles this variable\n",
        "            model.require_backward_grad_sync = (micro_step == gradient_accumulation_steps - 1)\n",
        "        with ctx:\n",
        "            logits, loss = model(X, Y)\n",
        "            loss = loss / gradient_accumulation_steps # scale the loss to account for gradient accumulation\n",
        "        # immediately async prefetch next batch while model is doing the forward pass on the GPU\n",
        "        X, Y, iter_train = get_batch(iter_train)\n",
        "        if Y is None:\n",
        "            iter_train = iter(train_loader)\n",
        "            X, Y, iter_train = get_batch( iter_train)\n",
        "        # backward pass, with gradient scaling if training in fp16\n",
        "        scaler.scale(loss).backward()\n",
        "    # clip the gradient\n",
        "    if grad_clip != 0.0:\n",
        "        scaler.unscale_(optimizer)\n",
        "        torch.nn.utils.clip_grad_norm_(model.parameters(), grad_clip)\n",
        "    # step the optimizer and scaler if training in fp16\n",
        "    scaler.step(optimizer)\n",
        "    scaler.update()\n",
        "    # flush the gradients as soon as we can, no need for this memory anymore\n",
        "    optimizer.zero_grad(set_to_none=True)\n",
        "\n",
        "    # timing and logging\n",
        "    t1 = time.time()\n",
        "    dt = t1 - t0\n",
        "    t0 = t1\n",
        "    if iter_num % log_interval == 0 and master_process:\n",
        "        # get loss as float. note: this is a CPU-GPU sync point\n",
        "        # scale up to undo the division above, approximating the true total loss (exact would have been a sum)\n",
        "        lossf = loss.item() * gradient_accumulation_steps\n",
        "        if local_iter_num >= 5: # let the training loop settle a bit\n",
        "            mfu = raw_model.estimate_mfu(batch_size * gradient_accumulation_steps, dt)\n",
        "            running_mfu = mfu if running_mfu == -1.0 else 0.9*running_mfu + 0.1*mfu\n",
        "        print(f\"iter {iter_num}: loss {lossf:.4f}, time {dt*1000:.2f}ms, mfu {running_mfu*100:.2f}%\")\n",
        "    iter_num += 1\n",
        "    local_iter_num += 1\n",
        "\n",
        "    # termination conditions\n",
        "    if iter_num > max_iters:\n",
        "        break\n",
        "\n",
        "if ddp:\n",
        "    destroy_process_group()"
      ],
      "metadata": {
        "colab": {
          "base_uri": "https://localhost:8080/"
        },
        "id": "5aQkdDOxOald",
        "outputId": "877070ed-ee8c-474f-ac71-170f2012683f"
      },
      "execution_count": 15,
      "outputs": [
        {
          "output_type": "stream",
          "name": "stdout",
          "text": [
            "tokens per iteration will be: 32,768\n",
            "Initializing from OpenAI GPT-2 weights: gpt2\n",
            "loading weights from pretrained gpt: gpt2\n",
            "forcing vocab_size=50257, block_size=1024, bias=True\n",
            "overriding dropout rate to 0.0\n",
            "number of parameters: 123.66M\n",
            "num decayed parameter tensors: 51, with 124,320,768 parameters\n",
            "num non-decayed parameter tensors: 99, with 121,347 parameters\n",
            "using fused AdamW: True\n",
            "Validation Confusion Matrix \n",
            " []\n"
          ]
        },
        {
          "output_type": "stream",
          "name": "stderr",
          "text": [
            "/usr/local/lib/python3.10/dist-packages/sklearn/metrics/_classification.py:1344: UndefinedMetricWarning: Precision is ill-defined and being set to 0.0 in labels with no predicted samples. Use `zero_division` parameter to control this behavior.\n",
            "  _warn_prf(average, modifier, msg_start, len(result))\n"
          ]
        },
        {
          "output_type": "stream",
          "name": "stdout",
          "text": [
            "Validation Confusion Matrix \n",
            " [[  0   0 329]\n",
            " [  0   0 433]\n",
            " [  0   0  14]]\n",
            "step 0: train loss 4.1345, val loss 4.2081,val accuracy 0.0180, val precision 0.0003, , val recall 0.0180, , val f1 0.0006\n"
          ]
        },
        {
          "output_type": "stream",
          "name": "stderr",
          "text": [
            "/usr/local/lib/python3.10/dist-packages/sklearn/metrics/_classification.py:1344: UndefinedMetricWarning: Precision is ill-defined and being set to 0.0 in labels with no predicted samples. Use `zero_division` parameter to control this behavior.\n",
            "  _warn_prf(average, modifier, msg_start, len(result))\n"
          ]
        },
        {
          "output_type": "stream",
          "name": "stdout",
          "text": [
            "Test Confusion Matrix \n",
            " [[ 0  0 10]\n",
            " [ 0  0 10]\n",
            " [ 0  0 10]]\n",
            "step 0: test loss 2.7203,test accuracy 0.3333, test precision 0.1111, , test recall 0.3333, , test f1 0.1667\n",
            "iter 0: loss 4.2951, time 8713.51ms, mfu -100.00%\n",
            "iter 1: loss 4.2205, time 183.44ms, mfu -100.00%\n",
            "iter 2: loss 4.3860, time 182.89ms, mfu -100.00%\n",
            "iter 3: loss 3.9555, time 187.62ms, mfu -100.00%\n",
            "iter 4: loss 4.0326, time 183.56ms, mfu -100.00%\n",
            "iter 5: loss 3.9601, time 182.96ms, mfu 49.09%\n",
            "iter 6: loss 4.4178, time 183.43ms, mfu 49.08%\n",
            "iter 7: loss 4.2607, time 187.12ms, mfu 48.97%\n",
            "iter 8: loss 4.3156, time 189.64ms, mfu 48.81%\n",
            "iter 9: loss 3.1037, time 189.75ms, mfu 48.66%\n",
            "Validation Confusion Matrix \n",
            " []\n"
          ]
        },
        {
          "output_type": "stream",
          "name": "stderr",
          "text": [
            "/usr/local/lib/python3.10/dist-packages/sklearn/metrics/_classification.py:1344: UndefinedMetricWarning: Precision is ill-defined and being set to 0.0 in labels with no predicted samples. Use `zero_division` parameter to control this behavior.\n",
            "  _warn_prf(average, modifier, msg_start, len(result))\n"
          ]
        },
        {
          "output_type": "stream",
          "name": "stdout",
          "text": [
            "Validation Confusion Matrix \n",
            " [[  0   0 339]\n",
            " [  0   0 426]\n",
            " [  0   0  11]]\n",
            "step 10: train loss 1.9857, val loss 1.9764,val accuracy 0.0142, val precision 0.0002, , val recall 0.0142, , val f1 0.0004\n",
            "saving checkpoint to out_pretrain\n",
            "iter 10: loss 1.9259, time 21404.01ms, mfu 43.84%\n",
            "iter 11: loss 1.4577, time 191.30ms, mfu 44.15%\n",
            "iter 12: loss 1.0887, time 190.78ms, mfu 44.44%\n",
            "iter 13: loss 0.8827, time 191.24ms, mfu 44.69%\n",
            "iter 14: loss 1.4634, time 190.49ms, mfu 44.94%\n",
            "iter 15: loss 0.8946, time 193.92ms, mfu 45.08%\n",
            "iter 16: loss 0.7625, time 185.37ms, mfu 45.41%\n",
            "iter 17: loss 0.6928, time 82.55ms, mfu 51.75%\n",
            "iter 18: loss 0.6860, time 191.74ms, mfu 51.26%\n",
            "iter 19: loss 0.7876, time 190.12ms, mfu 50.86%\n",
            "Validation Confusion Matrix \n",
            " []\n"
          ]
        },
        {
          "output_type": "stream",
          "name": "stderr",
          "text": [
            "/usr/local/lib/python3.10/dist-packages/sklearn/metrics/_classification.py:1344: UndefinedMetricWarning: Precision is ill-defined and being set to 0.0 in labels with no predicted samples. Use `zero_division` parameter to control this behavior.\n",
            "  _warn_prf(average, modifier, msg_start, len(result))\n"
          ]
        },
        {
          "output_type": "stream",
          "name": "stdout",
          "text": [
            "Validation Confusion Matrix \n",
            " [[282  22   0]\n",
            " [295 164   0]\n",
            " [  6   7   0]]\n",
            "step 20: train loss 0.7296, val loss 0.7381,val accuracy 0.5747, val precision 0.6921, , val recall 0.5747, , val f1 0.5467\n",
            "saving checkpoint to out_pretrain\n"
          ]
        },
        {
          "output_type": "stream",
          "name": "stderr",
          "text": [
            "/usr/local/lib/python3.10/dist-packages/sklearn/metrics/_classification.py:1344: UndefinedMetricWarning: Precision is ill-defined and being set to 0.0 in labels with no predicted samples. Use `zero_division` parameter to control this behavior.\n",
            "  _warn_prf(average, modifier, msg_start, len(result))\n"
          ]
        },
        {
          "output_type": "stream",
          "name": "stdout",
          "text": [
            "Test Confusion Matrix \n",
            " [[10  0  0]\n",
            " [ 7  3  0]\n",
            " [ 4  6  0]]\n",
            "step 20: test loss 2.0360,test accuracy 0.4333, test precision 0.2698, , test recall 0.4333, , test f1 0.3203\n",
            "iter 20: loss 0.7594, time 16645.57ms, mfu 45.83%\n",
            "iter 21: loss 0.9577, time 193.31ms, mfu 45.89%\n",
            "iter 22: loss 0.6916, time 186.44ms, mfu 46.12%\n",
            "iter 23: loss 0.8241, time 189.92ms, mfu 46.24%\n",
            "iter 24: loss 0.5332, time 191.40ms, mfu 46.31%\n",
            "iter 25: loss 0.6007, time 84.41ms, mfu 52.32%\n",
            "iter 26: loss 0.5622, time 192.67ms, mfu 51.75%\n",
            "iter 27: loss 0.6908, time 196.24ms, mfu 51.15%\n",
            "iter 28: loss 0.8409, time 191.65ms, mfu 50.72%\n",
            "iter 29: loss 0.6094, time 188.98ms, mfu 50.40%\n",
            "Validation Confusion Matrix \n",
            " []\n"
          ]
        },
        {
          "output_type": "stream",
          "name": "stderr",
          "text": [
            "/usr/local/lib/python3.10/dist-packages/sklearn/metrics/_classification.py:1344: UndefinedMetricWarning: Precision is ill-defined and being set to 0.0 in labels with no predicted samples. Use `zero_division` parameter to control this behavior.\n",
            "  _warn_prf(average, modifier, msg_start, len(result))\n"
          ]
        },
        {
          "output_type": "stream",
          "name": "stdout",
          "text": [
            "Validation Confusion Matrix \n",
            " [[136 199   0]\n",
            " [ 26 402   0]\n",
            " [  0  13   0]]\n",
            "step 30: train loss 0.6436, val loss 0.6416,val accuracy 0.6933, val precision 0.7235, , val recall 0.6933, , val f1 0.6618\n",
            "saving checkpoint to out_pretrain\n",
            "iter 30: loss 0.7000, time 16526.46ms, mfu 45.41%\n",
            "iter 31: loss 0.6129, time 192.06ms, mfu 45.55%\n",
            "iter 32: loss 0.7229, time 187.46ms, mfu 45.79%\n",
            "iter 33: loss 0.2005, time 184.85ms, mfu 46.07%\n",
            "iter 34: loss 0.6286, time 78.08ms, mfu 52.96%\n",
            "iter 35: loss 0.4256, time 192.93ms, mfu 52.32%\n",
            "iter 36: loss 0.5074, time 194.46ms, mfu 51.71%\n",
            "iter 37: loss 0.4823, time 192.29ms, mfu 51.21%\n",
            "iter 38: loss 0.5411, time 190.98ms, mfu 50.79%\n",
            "iter 39: loss 0.6731, time 185.86ms, mfu 50.54%\n",
            "Validation Confusion Matrix \n",
            " []\n"
          ]
        },
        {
          "output_type": "stream",
          "name": "stderr",
          "text": [
            "/usr/local/lib/python3.10/dist-packages/sklearn/metrics/_classification.py:1344: UndefinedMetricWarning: Precision is ill-defined and being set to 0.0 in labels with no predicted samples. Use `zero_division` parameter to control this behavior.\n",
            "  _warn_prf(average, modifier, msg_start, len(result))\n"
          ]
        },
        {
          "output_type": "stream",
          "name": "stdout",
          "text": [
            "Validation Confusion Matrix \n",
            " [[298  24   0]\n",
            " [178 267   0]\n",
            " [  1   8   0]]\n",
            "step 40: train loss 0.5787, val loss 0.5631,val accuracy 0.7281, val precision 0.7713, , val recall 0.7281, , val f1 0.7211\n",
            "saving checkpoint to out_pretrain\n"
          ]
        },
        {
          "output_type": "stream",
          "name": "stderr",
          "text": [
            "/usr/local/lib/python3.10/dist-packages/sklearn/metrics/_classification.py:1344: UndefinedMetricWarning: Precision is ill-defined and being set to 0.0 in labels with no predicted samples. Use `zero_division` parameter to control this behavior.\n",
            "  _warn_prf(average, modifier, msg_start, len(result))\n"
          ]
        },
        {
          "output_type": "stream",
          "name": "stdout",
          "text": [
            "Test Confusion Matrix \n",
            " [[10  0  0]\n",
            " [ 3  7  0]\n",
            " [ 2  8  0]]\n",
            "step 40: test loss 1.8450,test accuracy 0.5667, test precision 0.3778, , test recall 0.5667, , test f1 0.4533\n",
            "iter 40: loss 0.4152, time 16594.54ms, mfu 45.54%\n",
            "iter 41: loss 0.0428, time 196.53ms, mfu 45.56%\n",
            "iter 42: loss 0.9991, time 82.18ms, mfu 51.93%\n",
            "iter 43: loss 0.9476, time 185.71ms, mfu 51.58%\n",
            "iter 44: loss 0.6700, time 185.99ms, mfu 51.25%\n",
            "iter 45: loss 0.6096, time 190.56ms, mfu 50.84%\n",
            "iter 46: loss 0.4101, time 190.84ms, mfu 50.46%\n",
            "iter 47: loss 0.6089, time 192.02ms, mfu 50.09%\n",
            "iter 48: loss 0.6343, time 189.14ms, mfu 49.83%\n",
            "iter 49: loss 0.4662, time 190.29ms, mfu 49.57%\n",
            "Validation Confusion Matrix \n",
            " []\n"
          ]
        },
        {
          "output_type": "stream",
          "name": "stderr",
          "text": [
            "/usr/local/lib/python3.10/dist-packages/sklearn/metrics/_classification.py:1344: UndefinedMetricWarning: Precision is ill-defined and being set to 0.0 in labels with no predicted samples. Use `zero_division` parameter to control this behavior.\n",
            "  _warn_prf(average, modifier, msg_start, len(result))\n"
          ]
        },
        {
          "output_type": "stream",
          "name": "stdout",
          "text": [
            "Validation Confusion Matrix \n",
            " [[268  72   0]\n",
            " [ 69 360   0]\n",
            " [  1   6   0]]\n",
            "step 50: train loss 0.4903, val loss 0.4652,val accuracy 0.8093, val precision 0.8018, , val recall 0.8093, , val f1 0.8055\n",
            "saving checkpoint to out_pretrain\n",
            "iter 50: loss 0.3934, time 16166.16ms, mfu 44.67%\n",
            "iter 51: loss 0.3994, time 184.34ms, mfu 45.07%\n",
            "iter 52: loss 0.4193, time 190.36ms, mfu 45.28%\n",
            "iter 53: loss 0.4057, time 187.86ms, mfu 45.54%\n",
            "iter 54: loss 0.5018, time 190.50ms, mfu 45.70%\n",
            "iter 55: loss 0.2245, time 189.91ms, mfu 45.86%\n",
            "iter 56: loss 0.4199, time 188.31ms, mfu 46.04%\n",
            "iter 57: loss 0.5565, time 191.14ms, mfu 46.14%\n",
            "iter 58: loss 0.4709, time 188.62ms, mfu 46.28%\n",
            "iter 59: loss 0.4817, time 189.40ms, mfu 46.40%\n",
            "Validation Confusion Matrix \n",
            " []\n"
          ]
        },
        {
          "output_type": "stream",
          "name": "stderr",
          "text": [
            "/usr/local/lib/python3.10/dist-packages/sklearn/metrics/_classification.py:1344: UndefinedMetricWarning: Precision is ill-defined and being set to 0.0 in labels with no predicted samples. Use `zero_division` parameter to control this behavior.\n",
            "  _warn_prf(average, modifier, msg_start, len(result))\n"
          ]
        },
        {
          "output_type": "stream",
          "name": "stdout",
          "text": [
            "Validation Confusion Matrix \n",
            " [[220 112   0]\n",
            " [ 19 413   0]\n",
            " [  0  12   0]]\n",
            "step 60: train loss 0.4341, val loss 0.4201,val accuracy 0.8157, val precision 0.8220, , val recall 0.8157, , val f1 0.8042\n",
            "saving checkpoint to out_pretrain\n"
          ]
        },
        {
          "output_type": "stream",
          "name": "stderr",
          "text": [
            "/usr/local/lib/python3.10/dist-packages/sklearn/metrics/_classification.py:1344: UndefinedMetricWarning: Precision is ill-defined and being set to 0.0 in labels with no predicted samples. Use `zero_division` parameter to control this behavior.\n",
            "  _warn_prf(average, modifier, msg_start, len(result))\n"
          ]
        },
        {
          "output_type": "stream",
          "name": "stdout",
          "text": [
            "Test Confusion Matrix \n",
            " [[ 6  4  0]\n",
            " [ 2  8  0]\n",
            " [ 0 10  0]]\n",
            "step 60: test loss 1.7738,test accuracy 0.4667, test precision 0.3712, , test recall 0.4667, , test f1 0.3889\n",
            "iter 60: loss 0.4062, time 16625.68ms, mfu 41.81%\n",
            "iter 61: loss 0.3242, time 192.60ms, mfu 42.29%\n",
            "iter 62: loss 0.6750, time 188.32ms, mfu 42.83%\n",
            "iter 63: loss 0.2918, time 193.45ms, mfu 43.19%\n",
            "iter 64: loss 0.4248, time 189.71ms, mfu 43.61%\n",
            "iter 65: loss 0.0186, time 189.17ms, mfu 44.00%\n",
            "iter 66: loss 0.3941, time 80.67ms, mfu 50.73%\n",
            "iter 67: loss 0.3388, time 187.85ms, mfu 50.44%\n",
            "iter 68: loss 0.2802, time 191.57ms, mfu 50.08%\n",
            "iter 69: loss 0.3694, time 189.59ms, mfu 49.81%\n",
            "Validation Confusion Matrix \n",
            " []\n"
          ]
        },
        {
          "output_type": "stream",
          "name": "stderr",
          "text": [
            "/usr/local/lib/python3.10/dist-packages/sklearn/metrics/_classification.py:1344: UndefinedMetricWarning: Precision is ill-defined and being set to 0.0 in labels with no predicted samples. Use `zero_division` parameter to control this behavior.\n",
            "  _warn_prf(average, modifier, msg_start, len(result))\n"
          ]
        },
        {
          "output_type": "stream",
          "name": "stdout",
          "text": [
            "Validation Confusion Matrix \n",
            " [[193 136   0]\n",
            " [  4 433   0]\n",
            " [  0  10   0]]\n",
            "step 70: train loss 0.4363, val loss 0.4290,val accuracy 0.8067, val precision 0.8365, , val recall 0.8067, , val f1 0.7911\n",
            "saving checkpoint to out_pretrain\n",
            "iter 70: loss 0.6771, time 16233.32ms, mfu 44.89%\n",
            "iter 71: loss 0.7362, time 197.43ms, mfu 44.95%\n",
            "iter 72: loss 0.2411, time 186.28ms, mfu 45.27%\n",
            "iter 73: loss 0.3095, time 187.74ms, mfu 45.53%\n",
            "iter 74: loss 0.0112, time 188.29ms, mfu 45.75%\n",
            "iter 75: loss 0.6328, time 80.04ms, mfu 52.39%\n",
            "iter 76: loss 0.4784, time 187.30ms, mfu 51.95%\n",
            "iter 77: loss 0.9828, time 191.01ms, mfu 51.46%\n",
            "iter 78: loss 0.3498, time 189.51ms, mfu 51.05%\n",
            "iter 79: loss 0.3934, time 189.82ms, mfu 50.68%\n",
            "Validation Confusion Matrix \n",
            " []\n"
          ]
        },
        {
          "output_type": "stream",
          "name": "stderr",
          "text": [
            "/usr/local/lib/python3.10/dist-packages/sklearn/metrics/_classification.py:1344: UndefinedMetricWarning: Precision is ill-defined and being set to 0.0 in labels with no predicted samples. Use `zero_division` parameter to control this behavior.\n",
            "  _warn_prf(average, modifier, msg_start, len(result))\n"
          ]
        },
        {
          "output_type": "stream",
          "name": "stdout",
          "text": [
            "Validation Confusion Matrix \n",
            " [[276  52   0]\n",
            " [ 14 423   0]\n",
            " [  0  11   0]]\n",
            "step 80: train loss 0.2990, val loss 0.2697,val accuracy 0.9008, val precision 0.8924, , val recall 0.9008, , val f1 0.8937\n",
            "saving checkpoint to out_pretrain\n"
          ]
        },
        {
          "output_type": "stream",
          "name": "stderr",
          "text": [
            "/usr/local/lib/python3.10/dist-packages/sklearn/metrics/_classification.py:1344: UndefinedMetricWarning: Precision is ill-defined and being set to 0.0 in labels with no predicted samples. Use `zero_division` parameter to control this behavior.\n",
            "  _warn_prf(average, modifier, msg_start, len(result))\n"
          ]
        },
        {
          "output_type": "stream",
          "name": "stdout",
          "text": [
            "Test Confusion Matrix \n",
            " [[ 8  2  0]\n",
            " [ 1  9  0]\n",
            " [ 0 10  0]]\n",
            "step 80: test loss 1.1707,test accuracy 0.5667, test precision 0.4392, , test recall 0.5667, , test f1 0.4743\n",
            "iter 80: loss 0.2241, time 17389.03ms, mfu 45.66%\n",
            "iter 81: loss 0.2449, time 188.81ms, mfu 45.85%\n",
            "iter 82: loss 0.0037, time 191.59ms, mfu 45.95%\n",
            "iter 83: loss 0.2489, time 83.63ms, mfu 52.10%\n",
            "iter 84: loss 0.1909, time 196.20ms, mfu 51.47%\n",
            "iter 85: loss 0.2011, time 191.07ms, mfu 51.02%\n",
            "iter 86: loss 0.4042, time 188.15ms, mfu 50.69%\n",
            "iter 87: loss 0.2975, time 189.48ms, mfu 50.36%\n",
            "iter 88: loss 0.2324, time 192.96ms, mfu 49.98%\n",
            "iter 89: loss 0.2339, time 187.45ms, mfu 49.77%\n",
            "Validation Confusion Matrix \n",
            " []\n"
          ]
        },
        {
          "output_type": "stream",
          "name": "stderr",
          "text": [
            "/usr/local/lib/python3.10/dist-packages/sklearn/metrics/_classification.py:1344: UndefinedMetricWarning: Precision is ill-defined and being set to 0.0 in labels with no predicted samples. Use `zero_division` parameter to control this behavior.\n",
            "  _warn_prf(average, modifier, msg_start, len(result))\n"
          ]
        },
        {
          "output_type": "stream",
          "name": "stdout",
          "text": [
            "Validation Confusion Matrix \n",
            " [[285  44   0]\n",
            " [ 14 421   0]\n",
            " [  0  12   0]]\n",
            "step 90: train loss 0.2668, val loss 0.2587,val accuracy 0.9098, val precision 0.8989, , val recall 0.9098, , val f1 0.9024\n",
            "saving checkpoint to out_pretrain\n",
            "iter 90: loss 0.2794, time 16470.70ms, mfu 44.85%\n",
            "iter 91: loss 0.0014, time 177.84ms, mfu 45.42%\n",
            "iter 92: loss 0.3153, time 78.34ms, mfu 52.34%\n",
            "iter 93: loss 0.3105, time 191.54ms, mfu 51.80%\n",
            "iter 94: loss 0.1601, time 192.09ms, mfu 51.29%\n",
            "iter 95: loss 0.1659, time 189.87ms, mfu 50.89%\n",
            "iter 96: loss 0.1055, time 189.29ms, mfu 50.55%\n",
            "iter 97: loss 0.2356, time 188.78ms, mfu 50.25%\n",
            "iter 98: loss 0.1349, time 186.86ms, mfu 50.03%\n",
            "iter 99: loss 0.2758, time 191.48ms, mfu 49.72%\n",
            "Validation Confusion Matrix \n",
            " []\n"
          ]
        },
        {
          "output_type": "stream",
          "name": "stderr",
          "text": [
            "/usr/local/lib/python3.10/dist-packages/sklearn/metrics/_classification.py:1344: UndefinedMetricWarning: Precision is ill-defined and being set to 0.0 in labels with no predicted samples. Use `zero_division` parameter to control this behavior.\n",
            "  _warn_prf(average, modifier, msg_start, len(result))\n"
          ]
        },
        {
          "output_type": "stream",
          "name": "stdout",
          "text": [
            "Validation Confusion Matrix \n",
            " [[341   5   0]\n",
            " [ 95 321   0]\n",
            " [  0  14   0]]\n",
            "step 100: train loss 0.4023, val loss 0.3668,val accuracy 0.8531, val precision 0.8548, , val recall 0.8531, , val f1 0.8441\n",
            "saving checkpoint to out_pretrain\n"
          ]
        },
        {
          "output_type": "stream",
          "name": "stderr",
          "text": [
            "/usr/local/lib/python3.10/dist-packages/sklearn/metrics/_classification.py:1344: UndefinedMetricWarning: Precision is ill-defined and being set to 0.0 in labels with no predicted samples. Use `zero_division` parameter to control this behavior.\n",
            "  _warn_prf(average, modifier, msg_start, len(result))\n"
          ]
        },
        {
          "output_type": "stream",
          "name": "stdout",
          "text": [
            "Test Confusion Matrix \n",
            " [[10  0  0]\n",
            " [ 3  7  0]\n",
            " [ 0 10  0]]\n",
            "step 100: test loss 1.7046,test accuracy 0.5667, test precision 0.3937, , test recall 0.5667, , test f1 0.4627\n",
            "iter 100: loss 0.1845, time 16430.27ms, mfu 44.80%\n",
            "iter 101: loss 0.9439, time 188.21ms, mfu 45.09%\n",
            "iter 102: loss 0.6005, time 187.42ms, mfu 45.38%\n",
            "iter 103: loss 0.4315, time 189.37ms, mfu 45.58%\n",
            "iter 104: loss 0.0466, time 188.89ms, mfu 45.78%\n",
            "iter 105: loss 0.3592, time 188.37ms, mfu 45.97%\n",
            "iter 106: loss 0.0018, time 187.58ms, mfu 46.16%\n",
            "iter 107: loss 0.4922, time 77.50ms, mfu 53.13%\n",
            "iter 108: loss 1.1488, time 188.18ms, mfu 52.59%\n",
            "iter 109: loss 0.5282, time 191.94ms, mfu 52.01%\n",
            "Validation Confusion Matrix \n",
            " []\n"
          ]
        },
        {
          "output_type": "stream",
          "name": "stderr",
          "text": [
            "/usr/local/lib/python3.10/dist-packages/sklearn/metrics/_classification.py:1344: UndefinedMetricWarning: Precision is ill-defined and being set to 0.0 in labels with no predicted samples. Use `zero_division` parameter to control this behavior.\n",
            "  _warn_prf(average, modifier, msg_start, len(result))\n"
          ]
        },
        {
          "output_type": "stream",
          "name": "stdout",
          "text": [
            "Validation Confusion Matrix \n",
            " [[192 143   0]\n",
            " [  1 429   0]\n",
            " [  0  11   0]]\n",
            "step 110: train loss 0.5787, val loss 0.5216,val accuracy 0.8003, val precision 0.8372, , val recall 0.8003, , val f1 0.7833\n",
            "saving checkpoint to out_pretrain\n",
            "iter 110: loss 0.6028, time 18305.98ms, mfu 46.86%\n",
            "iter 111: loss 0.3037, time 190.88ms, mfu 46.88%\n",
            "iter 112: loss 0.4219, time 192.56ms, mfu 46.86%\n",
            "iter 113: loss 0.0799, time 200.86ms, mfu 46.64%\n",
            "iter 114: loss 0.2416, time 189.61ms, mfu 46.72%\n",
            "iter 115: loss 0.0036, time 190.78ms, mfu 46.75%\n",
            "iter 116: loss 0.2199, time 80.26ms, mfu 53.27%\n",
            "iter 117: loss 0.1578, time 186.80ms, mfu 52.75%\n",
            "iter 118: loss 0.1389, time 189.78ms, mfu 52.21%\n",
            "iter 119: loss 0.2216, time 187.09ms, mfu 51.79%\n",
            "Validation Confusion Matrix \n",
            " []\n"
          ]
        },
        {
          "output_type": "stream",
          "name": "stderr",
          "text": [
            "/usr/local/lib/python3.10/dist-packages/sklearn/metrics/_classification.py:1344: UndefinedMetricWarning: Precision is ill-defined and being set to 0.0 in labels with no predicted samples. Use `zero_division` parameter to control this behavior.\n",
            "  _warn_prf(average, modifier, msg_start, len(result))\n"
          ]
        },
        {
          "output_type": "stream",
          "name": "stdout",
          "text": [
            "Validation Confusion Matrix \n",
            " [[288  45   0]\n",
            " [  1 428   0]\n",
            " [  0  14   0]]\n",
            "step 120: train loss 0.2243, val loss 0.2200,val accuracy 0.9227, val precision 0.9135, , val recall 0.9227, , val f1 0.9140\n",
            "saving checkpoint to out_pretrain\n"
          ]
        },
        {
          "output_type": "stream",
          "name": "stderr",
          "text": [
            "/usr/local/lib/python3.10/dist-packages/sklearn/metrics/_classification.py:1344: UndefinedMetricWarning: Precision is ill-defined and being set to 0.0 in labels with no predicted samples. Use `zero_division` parameter to control this behavior.\n",
            "  _warn_prf(average, modifier, msg_start, len(result))\n"
          ]
        },
        {
          "output_type": "stream",
          "name": "stdout",
          "text": [
            "Test Confusion Matrix \n",
            " [[ 8  2  0]\n",
            " [ 1  9  0]\n",
            " [ 0 10  0]]\n",
            "step 120: test loss 1.2299,test accuracy 0.5667, test precision 0.4392, , test recall 0.5667, , test f1 0.4743\n",
            "iter 120: loss 0.1228, time 16670.65ms, mfu 46.66%\n",
            "iter 121: loss 0.0292, time 187.52ms, mfu 46.79%\n",
            "iter 122: loss 0.1916, time 187.80ms, mfu 46.89%\n",
            "iter 123: loss 0.0003, time 193.06ms, mfu 46.85%\n",
            "iter 124: loss 0.0232, time 88.75ms, mfu 52.29%\n",
            "iter 125: loss 0.1581, time 190.75ms, mfu 51.77%\n",
            "iter 126: loss 0.1517, time 194.93ms, mfu 51.20%\n",
            "iter 127: loss 0.2019, time 196.40ms, mfu 50.65%\n",
            "iter 128: loss 0.0546, time 194.66ms, mfu 50.20%\n",
            "iter 129: loss 0.0863, time 191.84ms, mfu 49.86%\n",
            "Validation Confusion Matrix \n",
            " []\n"
          ]
        },
        {
          "output_type": "stream",
          "name": "stderr",
          "text": [
            "/usr/local/lib/python3.10/dist-packages/sklearn/metrics/_classification.py:1344: UndefinedMetricWarning: Precision is ill-defined and being set to 0.0 in labels with no predicted samples. Use `zero_division` parameter to control this behavior.\n",
            "  _warn_prf(average, modifier, msg_start, len(result))\n"
          ]
        },
        {
          "output_type": "stream",
          "name": "stdout",
          "text": [
            "Validation Confusion Matrix \n",
            " [[312  10   0]\n",
            " [ 16 423   0]\n",
            " [  0  15   0]]\n",
            "step 130: train loss 0.1520, val loss 0.1686,val accuracy 0.9472, val precision 0.9289, , val recall 0.9472, , val f1 0.9379\n",
            "saving checkpoint to out_pretrain\n",
            "iter 130: loss 0.1214, time 16567.53ms, mfu 44.93%\n",
            "iter 131: loss 0.2097, time 194.62ms, mfu 45.05%\n",
            "iter 132: loss 0.0011, time 188.15ms, mfu 45.32%\n",
            "iter 133: loss 0.5226, time 77.65ms, mfu 52.35%\n",
            "iter 134: loss 0.2673, time 198.26ms, mfu 51.65%\n",
            "iter 135: loss 0.2277, time 184.38ms, mfu 51.36%\n",
            "iter 136: loss 0.1481, time 192.17ms, mfu 50.89%\n",
            "iter 137: loss 0.0311, time 185.75ms, mfu 50.64%\n",
            "iter 138: loss 0.0208, time 193.28ms, mfu 50.22%\n",
            "iter 139: loss 0.1045, time 184.78ms, mfu 50.06%\n",
            "Validation Confusion Matrix \n",
            " []\n"
          ]
        },
        {
          "output_type": "stream",
          "name": "stderr",
          "text": [
            "/usr/local/lib/python3.10/dist-packages/sklearn/metrics/_classification.py:1344: UndefinedMetricWarning: Precision is ill-defined and being set to 0.0 in labels with no predicted samples. Use `zero_division` parameter to control this behavior.\n",
            "  _warn_prf(average, modifier, msg_start, len(result))\n"
          ]
        },
        {
          "output_type": "stream",
          "name": "stdout",
          "text": [
            "Validation Confusion Matrix \n",
            " [[307  23   0]\n",
            " [  2 434   0]\n",
            " [  0  10   0]]\n",
            "step 140: train loss 0.1698, val loss 0.1358,val accuracy 0.9549, val precision 0.9447, , val recall 0.9549, , val f1 0.9487\n",
            "saving checkpoint to out_pretrain\n"
          ]
        },
        {
          "output_type": "stream",
          "name": "stderr",
          "text": [
            "/usr/local/lib/python3.10/dist-packages/sklearn/metrics/_classification.py:1344: UndefinedMetricWarning: Precision is ill-defined and being set to 0.0 in labels with no predicted samples. Use `zero_division` parameter to control this behavior.\n",
            "  _warn_prf(average, modifier, msg_start, len(result))\n"
          ]
        },
        {
          "output_type": "stream",
          "name": "stdout",
          "text": [
            "Test Confusion Matrix \n",
            " [[ 9  1  0]\n",
            " [ 2  8  0]\n",
            " [ 0 10  0]]\n",
            "step 140: test loss 1.6519,test accuracy 0.5667, test precision 0.4131, , test recall 0.5667, , test f1 0.4696\n",
            "iter 140: loss 0.2115, time 16605.71ms, mfu 45.11%\n",
            "iter 141: loss 0.0402, time 193.21ms, mfu 45.25%\n",
            "iter 142: loss 0.2781, time 187.39ms, mfu 45.52%\n",
            "iter 143: loss 0.0614, time 189.04ms, mfu 45.71%\n",
            "iter 144: loss 0.0719, time 188.95ms, mfu 45.90%\n",
            "iter 145: loss 0.1038, time 186.58ms, mfu 46.12%\n",
            "iter 146: loss 0.2261, time 186.28ms, mfu 46.33%\n",
            "iter 147: loss 0.2176, time 187.93ms, mfu 46.48%\n",
            "iter 148: loss 0.1171, time 194.33ms, mfu 46.45%\n",
            "iter 149: loss 0.2987, time 187.16ms, mfu 46.60%\n",
            "Validation Confusion Matrix \n",
            " []\n"
          ]
        },
        {
          "output_type": "stream",
          "name": "stderr",
          "text": [
            "/usr/local/lib/python3.10/dist-packages/sklearn/metrics/_classification.py:1344: UndefinedMetricWarning: Precision is ill-defined and being set to 0.0 in labels with no predicted samples. Use `zero_division` parameter to control this behavior.\n",
            "  _warn_prf(average, modifier, msg_start, len(result))\n"
          ]
        },
        {
          "output_type": "stream",
          "name": "stdout",
          "text": [
            "Validation Confusion Matrix \n",
            " [[253  71   0]\n",
            " [  0 435   0]\n",
            " [  0  17   0]]\n",
            "step 150: train loss 0.3493, val loss 0.2785,val accuracy 0.8866, val precision 0.8838, , val recall 0.8866, , val f1 0.8752\n",
            "saving checkpoint to out_pretrain\n",
            "iter 150: loss 0.1727, time 16311.37ms, mfu 42.00%\n",
            "iter 151: loss 0.3718, time 188.27ms, mfu 42.57%\n",
            "iter 152: loss 0.1204, time 190.89ms, mfu 43.02%\n",
            "iter 153: loss 0.1213, time 185.90ms, mfu 43.55%\n",
            "iter 154: loss 0.0861, time 189.00ms, mfu 43.95%\n",
            "iter 155: loss 0.1081, time 188.85ms, mfu 44.31%\n",
            "iter 156: loss 0.0004, time 188.05ms, mfu 44.65%\n",
            "iter 157: loss 0.0515, time 77.84ms, mfu 51.73%\n",
            "iter 158: loss 0.1038, time 186.46ms, mfu 51.37%\n",
            "iter 159: loss 0.1439, time 197.85ms, mfu 50.77%\n",
            "Validation Confusion Matrix \n",
            " []\n",
            "Validation Confusion Matrix \n",
            " [[309  13   0]\n",
            " [  3 440   0]\n",
            " [  0   5   6]]\n",
            "step 160: train loss 0.1211, val loss 0.0912,val accuracy 0.9729, val precision 0.9736, , val recall 0.9729, , val f1 0.9721\n",
            "saving checkpoint to out_pretrain\n"
          ]
        },
        {
          "output_type": "stream",
          "name": "stderr",
          "text": [
            "/usr/local/lib/python3.10/dist-packages/sklearn/metrics/_classification.py:1344: UndefinedMetricWarning: Precision is ill-defined and being set to 0.0 in labels with no predicted samples. Use `zero_division` parameter to control this behavior.\n",
            "  _warn_prf(average, modifier, msg_start, len(result))\n"
          ]
        },
        {
          "output_type": "stream",
          "name": "stdout",
          "text": [
            "Test Confusion Matrix \n",
            " [[ 9  1  0]\n",
            " [ 1  9  0]\n",
            " [ 0 10  0]]\n",
            "step 160: test loss 0.8909,test accuracy 0.6000, test precision 0.4500, , test recall 0.6000, , test f1 0.5000\n",
            "iter 160: loss 0.0405, time 16610.92ms, mfu 45.75%\n",
            "iter 161: loss 0.0732, time 189.24ms, mfu 45.92%\n",
            "iter 162: loss 0.0105, time 188.67ms, mfu 46.09%\n",
            "iter 163: loss 0.0468, time 186.66ms, mfu 46.29%\n",
            "iter 164: loss 0.0001, time 192.75ms, mfu 46.32%\n",
            "iter 165: loss 0.0173, time 80.16ms, mfu 52.89%\n",
            "iter 166: loss 0.1189, time 187.84ms, mfu 52.39%\n",
            "iter 167: loss 0.0739, time 191.62ms, mfu 51.84%\n",
            "iter 168: loss 0.1355, time 187.66ms, mfu 51.44%\n",
            "iter 169: loss 0.0299, time 186.40ms, mfu 51.11%\n",
            "Validation Confusion Matrix \n",
            " []\n",
            "Validation Confusion Matrix \n",
            " [[320  11   0]\n",
            " [  1 429   0]\n",
            " [  0   4  11]]\n",
            "step 170: train loss 0.0931, val loss 0.0830,val accuracy 0.9794, val precision 0.9800, , val recall 0.9794, , val f1 0.9790\n",
            "saving checkpoint to out_pretrain\n",
            "iter 170: loss 0.0471, time 16401.14ms, mfu 46.06%\n",
            "iter 171: loss 0.0047, time 186.40ms, mfu 46.27%\n",
            "iter 172: loss 0.0186, time 188.88ms, mfu 46.40%\n",
            "iter 173: loss 0.0001, time 180.12ms, mfu 46.74%\n",
            "iter 174: loss 0.0109, time 77.46ms, mfu 53.66%\n",
            "iter 175: loss 0.0340, time 190.84ms, mfu 53.00%\n",
            "iter 176: loss 0.1663, time 190.06ms, mfu 52.43%\n",
            "iter 177: loss 0.0854, time 186.63ms, mfu 52.00%\n",
            "iter 178: loss 0.0057, time 188.16ms, mfu 51.57%\n",
            "iter 179: loss 0.0043, time 188.74ms, mfu 51.17%\n",
            "Validation Confusion Matrix \n",
            " []\n",
            "Validation Confusion Matrix \n",
            " [[315  12   0]\n",
            " [  2 432   0]\n",
            " [  0   5  10]]\n",
            "step 180: train loss 0.0964, val loss 0.0730,val accuracy 0.9755, val precision 0.9762, , val recall 0.9755, , val f1 0.9749\n",
            "saving checkpoint to out_pretrain\n"
          ]
        },
        {
          "output_type": "stream",
          "name": "stderr",
          "text": [
            "/usr/local/lib/python3.10/dist-packages/sklearn/metrics/_classification.py:1344: UndefinedMetricWarning: Precision is ill-defined and being set to 0.0 in labels with no predicted samples. Use `zero_division` parameter to control this behavior.\n",
            "  _warn_prf(average, modifier, msg_start, len(result))\n"
          ]
        },
        {
          "output_type": "stream",
          "name": "stdout",
          "text": [
            "Test Confusion Matrix \n",
            " [[ 9  1  0]\n",
            " [ 0 10  0]\n",
            " [ 0 10  0]]\n",
            "step 180: test loss 1.5361,test accuracy 0.6333, test precision 0.4921, , test recall 0.6333, , test f1 0.5308\n",
            "iter 180: loss 0.1373, time 16703.31ms, mfu 46.11%\n",
            "iter 181: loss 0.0000, time 188.80ms, mfu 46.26%\n",
            "iter 182: loss 0.2534, time 78.05ms, mfu 53.14%\n",
            "iter 183: loss 0.0103, time 186.51ms, mfu 52.64%\n",
            "iter 184: loss 0.0234, time 191.53ms, mfu 52.07%\n",
            "iter 185: loss 0.0978, time 187.30ms, mfu 51.65%\n",
            "iter 186: loss 0.0028, time 188.72ms, mfu 51.25%\n",
            "iter 187: loss 0.0576, time 189.41ms, mfu 50.86%\n",
            "iter 188: loss 0.0052, time 188.40ms, mfu 50.55%\n",
            "iter 189: loss 0.0037, time 185.12ms, mfu 50.34%\n",
            "Validation Confusion Matrix \n",
            " []\n",
            "Validation Confusion Matrix \n",
            " [[298  17   0]\n",
            " [  2 446   1]\n",
            " [  0   8   4]]\n",
            "step 190: train loss 0.1409, val loss 0.1279,val accuracy 0.9639, val precision 0.9635, , val recall 0.9639, , val f1 0.9617\n",
            "saving checkpoint to out_pretrain\n",
            "iter 190: loss 0.0690, time 16428.37ms, mfu 45.36%\n",
            "iter 191: loss 0.1244, time 190.07ms, mfu 45.55%\n",
            "iter 192: loss 0.1779, time 185.40ms, mfu 45.84%\n",
            "iter 193: loss 0.0124, time 187.31ms, mfu 46.05%\n",
            "iter 194: loss 0.0039, time 188.38ms, mfu 46.21%\n",
            "iter 195: loss 0.0694, time 192.13ms, mfu 46.27%\n",
            "iter 196: loss 0.2372, time 184.92ms, mfu 46.50%\n",
            "iter 197: loss 0.1741, time 186.68ms, mfu 46.66%\n",
            "iter 198: loss 0.0734, time 188.31ms, mfu 46.76%\n",
            "iter 199: loss 0.1271, time 189.66ms, mfu 46.82%\n",
            "Validation Confusion Matrix \n",
            " []\n",
            "Validation Confusion Matrix \n",
            " [[330   8   1]\n",
            " [  4 422   0]\n",
            " [  0   1  10]]\n",
            "step 200: train loss 0.0965, val loss 0.0524,val accuracy 0.9820, val precision 0.9820, , val recall 0.9820, , val f1 0.9819\n",
            "saving checkpoint to out_pretrain\n",
            "Test Confusion Matrix \n",
            " [[ 9  1  0]\n",
            " [ 0 10  0]\n",
            " [ 0  9  1]]\n",
            "step 200: test loss 1.0182,test accuracy 0.6667, test precision 0.8333, , test recall 0.6667, , test f1 0.5986\n",
            "iter 200: loss 0.0027, time 16496.32ms, mfu 42.19%\n",
            "iter 201: loss 0.1533, time 190.15ms, mfu 42.70%\n",
            "iter 202: loss 0.0301, time 185.53ms, mfu 43.27%\n",
            "iter 203: loss 0.0048, time 193.03ms, mfu 43.60%\n",
            "iter 204: loss 0.0781, time 185.41ms, mfu 44.08%\n",
            "iter 205: loss 0.0001, time 192.09ms, mfu 44.35%\n",
            "iter 206: loss 0.0150, time 77.53ms, mfu 51.50%\n",
            "iter 207: loss 0.0088, time 188.07ms, mfu 51.12%\n",
            "iter 208: loss 0.2510, time 188.02ms, mfu 50.79%\n",
            "iter 209: loss 0.0264, time 192.25ms, mfu 50.38%\n",
            "Validation Confusion Matrix \n",
            " []\n",
            "Validation Confusion Matrix \n",
            " [[335   1   0]\n",
            " [ 11 419   1]\n",
            " [  1   0   8]]\n",
            "step 210: train loss 0.0815, val loss 0.0512,val accuracy 0.9820, val precision 0.9824, , val recall 0.9820, , val f1 0.9820\n",
            "saving checkpoint to out_pretrain\n",
            "iter 210: loss 0.0229, time 16184.33ms, mfu 45.40%\n",
            "iter 211: loss 0.0062, time 187.92ms, mfu 45.64%\n",
            "iter 212: loss 0.0021, time 188.81ms, mfu 45.83%\n",
            "iter 213: loss 0.0039, time 185.97ms, mfu 46.08%\n",
            "iter 214: loss 0.0000, time 185.12ms, mfu 46.32%\n",
            "iter 215: loss 0.1359, time 77.46ms, mfu 53.28%\n",
            "iter 216: loss 0.1062, time 199.60ms, mfu 52.46%\n",
            "iter 217: loss 0.0473, time 189.54ms, mfu 51.95%\n",
            "iter 218: loss 0.0226, time 198.64ms, mfu 51.28%\n",
            "iter 219: loss 0.0208, time 183.86ms, mfu 51.03%\n",
            "Validation Confusion Matrix \n",
            " []\n",
            "Validation Confusion Matrix \n",
            " [[334   3   0]\n",
            " [  1 426   0]\n",
            " [  0   2  10]]\n",
            "step 220: train loss 0.0481, val loss 0.0294,val accuracy 0.9923, val precision 0.9923, , val recall 0.9923, , val f1 0.9922\n",
            "saving checkpoint to out_pretrain\n",
            "Test Confusion Matrix \n",
            " [[10  0  0]\n",
            " [ 0 10  0]\n",
            " [ 0  9  1]]\n",
            "step 220: test loss 1.1155,test accuracy 0.7000, test precision 0.8421, , test recall 0.7000, , test f1 0.6238\n",
            "iter 220: loss 0.0410, time 16708.22ms, mfu 45.98%\n",
            "iter 221: loss 0.0045, time 186.55ms, mfu 46.20%\n",
            "iter 222: loss 0.0000, time 183.40ms, mfu 46.48%\n",
            "iter 223: loss 0.1092, time 80.11ms, mfu 53.04%\n",
            "iter 224: loss 0.0447, time 184.40ms, mfu 52.61%\n",
            "iter 225: loss 0.0909, time 189.26ms, mfu 52.09%\n",
            "iter 226: loss 0.0061, time 198.10ms, mfu 51.42%\n",
            "iter 227: loss 0.0025, time 194.50ms, mfu 50.89%\n",
            "iter 228: loss 0.0069, time 187.30ms, mfu 50.60%\n",
            "iter 229: loss 0.0352, time 190.22ms, mfu 50.26%\n",
            "Validation Confusion Matrix \n",
            " []\n",
            "Validation Confusion Matrix \n",
            " [[311  32   0]\n",
            " [  0 421   0]\n",
            " [  0   0  12]]\n",
            "step 230: train loss 0.1825, val loss 0.1129,val accuracy 0.9588, val precision 0.9617, , val recall 0.9588, , val f1 0.9585\n",
            "saving checkpoint to out_pretrain\n",
            "iter 230: loss 0.1662, time 16637.83ms, mfu 45.29%\n",
            "iter 231: loss 0.0000, time 186.97ms, mfu 45.56%\n",
            "iter 232: loss 0.0522, time 76.85ms, mfu 52.70%\n",
            "iter 233: loss 0.0010, time 189.19ms, mfu 52.17%\n",
            "iter 234: loss 0.0152, time 192.20ms, mfu 51.63%\n",
            "iter 235: loss 0.0060, time 191.77ms, mfu 51.15%\n",
            "iter 236: loss 0.0041, time 188.50ms, mfu 50.80%\n",
            "iter 237: loss 0.1481, time 191.16ms, mfu 50.42%\n",
            "iter 238: loss 0.1514, time 189.81ms, mfu 50.11%\n",
            "iter 239: loss 0.0824, time 193.92ms, mfu 49.73%\n",
            "Validation Confusion Matrix \n",
            " []\n",
            "Validation Confusion Matrix \n",
            " [[323   1   0]\n",
            " [  5 431   0]\n",
            " [  0   0  16]]\n",
            "step 240: train loss 0.0580, val loss 0.0245,val accuracy 0.9923, val precision 0.9923, , val recall 0.9923, , val f1 0.9923\n",
            "saving checkpoint to out_pretrain\n",
            "Test Confusion Matrix \n",
            " [[10  0  0]\n",
            " [ 1  9  0]\n",
            " [ 0  6  4]]\n",
            "step 240: test loss 0.9487,test accuracy 0.7667, test precision 0.8364, , test recall 0.7667, , test f1 0.7479\n",
            "iter 240: loss 0.0175, time 16393.19ms, mfu 44.81%\n",
            "iter 241: loss 0.0932, time 195.49ms, mfu 44.92%\n",
            "iter 242: loss 0.0437, time 199.00ms, mfu 44.94%\n",
            "iter 243: loss 0.0089, time 183.15ms, mfu 45.35%\n",
            "iter 244: loss 0.0004, time 187.65ms, mfu 45.61%\n",
            "iter 245: loss 0.0022, time 183.26ms, mfu 45.95%\n",
            "iter 246: loss 0.0000, time 189.69ms, mfu 46.09%\n",
            "iter 247: loss 0.0037, time 90.04ms, mfu 51.45%\n",
            "iter 248: loss 0.0055, time 191.27ms, mfu 51.00%\n",
            "iter 249: loss 0.0023, time 188.60ms, mfu 50.66%\n",
            "Validation Confusion Matrix \n",
            " []\n",
            "Validation Confusion Matrix \n",
            " [[333   2   0]\n",
            " [  2 425   0]\n",
            " [  0   0  14]]\n",
            "step 250: train loss 0.0642, val loss 0.0259,val accuracy 0.9948, val precision 0.9948, , val recall 0.9948, , val f1 0.9948\n",
            "saving checkpoint to out_pretrain\n",
            "iter 250: loss 0.0439, time 16431.11ms, mfu 45.65%\n",
            "iter 251: loss 0.0222, time 184.43ms, mfu 45.96%\n",
            "iter 252: loss 0.0027, time 184.00ms, mfu 46.24%\n",
            "iter 253: loss 0.0003, time 186.74ms, mfu 46.43%\n",
            "iter 254: loss 0.0016, time 187.47ms, mfu 46.58%\n",
            "iter 255: loss 0.0000, time 188.40ms, mfu 46.69%\n",
            "iter 256: loss 0.0348, time 78.23ms, mfu 53.50%\n",
            "iter 257: loss 0.1415, time 185.88ms, mfu 52.98%\n",
            "iter 258: loss 0.0225, time 188.24ms, mfu 52.45%\n",
            "iter 259: loss 0.0549, time 183.99ms, mfu 52.09%\n",
            "Validation Confusion Matrix \n",
            " []\n",
            "Validation Confusion Matrix \n",
            " [[321   0   0]\n",
            " [  5 436   0]\n",
            " [  0   0  14]]\n",
            "step 260: train loss 0.0643, val loss 0.0320,val accuracy 0.9936, val precision 0.9937, , val recall 0.9936, , val f1 0.9936\n",
            "saving checkpoint to out_pretrain\n",
            "Test Confusion Matrix \n",
            " [[10  0  0]\n",
            " [ 2  8  0]\n",
            " [ 0  7  3]]\n",
            "step 260: test loss 1.3242,test accuracy 0.7000, test precision 0.7889, , test recall 0.7000, , test f1 0.6702\n",
            "iter 260: loss 0.0027, time 19210.25ms, mfu 46.93%\n",
            "iter 261: loss 0.0789, time 193.08ms, mfu 46.89%\n",
            "iter 262: loss 0.2755, time 183.51ms, mfu 47.09%\n",
            "iter 263: loss 0.0000, time 183.64ms, mfu 47.27%\n",
            "iter 264: loss 0.1722, time 77.46ms, mfu 54.14%\n",
            "iter 265: loss 0.0048, time 189.02ms, mfu 53.48%\n",
            "iter 266: loss 0.0020, time 185.82ms, mfu 52.96%\n",
            "iter 267: loss 0.0274, time 194.13ms, mfu 52.29%\n",
            "iter 268: loss 0.0153, time 185.43ms, mfu 51.91%\n",
            "iter 269: loss 0.0993, time 187.36ms, mfu 51.51%\n",
            "Validation Confusion Matrix \n",
            " []\n",
            "Validation Confusion Matrix \n",
            " [[330   3   0]\n",
            " [  0 432   0]\n",
            " [  0   0  11]]\n",
            "step 270: train loss 0.0524, val loss 0.0118,val accuracy 0.9961, val precision 0.9962, , val recall 0.9961, , val f1 0.9961\n",
            "saving checkpoint to out_pretrain\n",
            "iter 270: loss 0.1878, time 16491.93ms, mfu 46.42%\n",
            "iter 271: loss 0.0014, time 186.07ms, mfu 46.60%\n",
            "iter 272: loss 0.0000, time 189.49ms, mfu 46.68%\n",
            "iter 273: loss 0.0016, time 81.62ms, mfu 53.02%\n",
            "iter 274: loss 0.0072, time 187.35ms, mfu 52.51%\n",
            "iter 275: loss 0.0065, time 182.12ms, mfu 52.19%\n",
            "iter 276: loss 0.0180, time 185.06ms, mfu 51.82%\n",
            "iter 277: loss 0.0038, time 186.76ms, mfu 51.45%\n",
            "iter 278: loss 0.1688, time 191.27ms, mfu 51.00%\n",
            "iter 279: loss 0.0052, time 187.31ms, mfu 50.70%\n",
            "Validation Confusion Matrix \n",
            " []\n",
            "Validation Confusion Matrix \n",
            " [[339   0   0]\n",
            " [  1 424   0]\n",
            " [  0   0  12]]\n",
            "step 280: train loss 0.0267, val loss 0.0048,val accuracy 0.9987, val precision 0.9987, , val recall 0.9987, , val f1 0.9987\n",
            "saving checkpoint to out_pretrain\n",
            "Test Confusion Matrix \n",
            " [[ 9  1  0]\n",
            " [ 0 10  0]\n",
            " [ 0  7  3]]\n",
            "step 280: test loss 1.2093,test accuracy 0.7333, test precision 0.8519, , test recall 0.7333, , test f1 0.7077\n",
            "iter 280: loss 0.0022, time 16474.14ms, mfu 45.68%\n",
            "iter 281: loss 0.0275, time 190.07ms, mfu 45.84%\n",
            "iter 282: loss 0.0008, time 188.38ms, mfu 46.02%\n",
            "iter 283: loss 0.0091, time 185.10ms, mfu 46.27%\n",
            "iter 284: loss 0.0053, time 188.79ms, mfu 46.40%\n",
            "iter 285: loss 0.0616, time 185.82ms, mfu 46.60%\n",
            "iter 286: loss 0.0005, time 186.08ms, mfu 46.76%\n",
            "iter 287: loss 0.0497, time 187.42ms, mfu 46.88%\n",
            "iter 288: loss 0.0011, time 188.13ms, mfu 46.97%\n",
            "iter 289: loss 0.0519, time 193.78ms, mfu 46.90%\n",
            "Validation Confusion Matrix \n",
            " []\n",
            "Validation Confusion Matrix \n",
            " [[338   0   0]\n",
            " [  1 425   0]\n",
            " [  0   3   9]]\n",
            "step 290: train loss 0.0566, val loss 0.0154,val accuracy 0.9948, val precision 0.9949, , val recall 0.9948, , val f1 0.9946\n",
            "saving checkpoint to out_pretrain\n",
            "iter 290: loss 0.0017, time 17408.26ms, mfu 42.26%\n",
            "iter 291: loss 0.1472, time 195.45ms, mfu 42.63%\n",
            "iter 292: loss 0.0062, time 204.80ms, mfu 42.76%\n",
            "iter 293: loss 0.0134, time 189.20ms, mfu 43.23%\n",
            "iter 294: loss 0.0009, time 181.63ms, mfu 43.85%\n",
            "iter 295: loss 0.0460, time 186.76ms, mfu 44.27%\n",
            "iter 296: loss 0.0000, time 188.76ms, mfu 44.60%\n",
            "iter 297: loss 0.2000, time 91.08ms, mfu 50.01%\n",
            "iter 298: loss 0.0018, time 181.11ms, mfu 49.96%\n",
            "iter 299: loss 0.0011, time 185.84ms, mfu 49.80%\n",
            "Validation Confusion Matrix \n",
            " []\n",
            "Validation Confusion Matrix \n",
            " [[330   0   0]\n",
            " [  1 434   1]\n",
            " [  0   1   9]]\n",
            "step 300: train loss 0.0344, val loss 0.0149,val accuracy 0.9961, val precision 0.9961, , val recall 0.9961, , val f1 0.9961\n",
            "saving checkpoint to out_pretrain\n",
            "Test Confusion Matrix \n",
            " [[9 1 0]\n",
            " [0 9 1]\n",
            " [0 7 3]]\n",
            "step 300: test loss 0.7886,test accuracy 0.7000, test precision 0.7598, , test recall 0.7000, , test f1 0.6809\n",
            "iter 300: loss 0.1057, time 16668.18ms, mfu 44.87%\n"
          ]
        }
      ]
    },
    {
      "cell_type": "markdown",
      "source": [
        "# Hyperparameter Tuning with WANDB\n",
        "\n",
        "---\n",
        "\n",
        "In this part, I changed learning rate and dropout with these values and create sweep using WANDB for each run.\n",
        "\n",
        "\n",
        "```\n",
        "'learning_rate': {\n",
        "            'values': [0.0005, 0.0005, 0.00001]  # Specific learning rates\n",
        "        },\n",
        "        'dropout': {\n",
        "            'values': [0.05, 0.1, 0.2]  # Specific dropout rates\n",
        "        }\n",
        "```\n",
        "\n"
      ],
      "metadata": {
        "id": "u05o4gTpU5-d"
      }
    },
    {
      "cell_type": "code",
      "source": [
        "!pip install wandb"
      ],
      "metadata": {
        "colab": {
          "base_uri": "https://localhost:8080/"
        },
        "id": "CBOl7JCHPkDr",
        "outputId": "e7aa0e4b-b1d1-44b0-c919-9a3e5df62431"
      },
      "execution_count": 11,
      "outputs": [
        {
          "output_type": "stream",
          "name": "stdout",
          "text": [
            "Requirement already satisfied: wandb in /usr/local/lib/python3.10/dist-packages (0.16.6)\n",
            "Requirement already satisfied: Click!=8.0.0,>=7.1 in /usr/local/lib/python3.10/dist-packages (from wandb) (8.1.7)\n",
            "Requirement already satisfied: GitPython!=3.1.29,>=1.0.0 in /usr/local/lib/python3.10/dist-packages (from wandb) (3.1.43)\n",
            "Requirement already satisfied: requests<3,>=2.0.0 in /usr/local/lib/python3.10/dist-packages (from wandb) (2.31.0)\n",
            "Requirement already satisfied: psutil>=5.0.0 in /usr/local/lib/python3.10/dist-packages (from wandb) (5.9.5)\n",
            "Requirement already satisfied: sentry-sdk>=1.0.0 in /usr/local/lib/python3.10/dist-packages (from wandb) (1.45.0)\n",
            "Requirement already satisfied: docker-pycreds>=0.4.0 in /usr/local/lib/python3.10/dist-packages (from wandb) (0.4.0)\n",
            "Requirement already satisfied: PyYAML in /usr/local/lib/python3.10/dist-packages (from wandb) (6.0.1)\n",
            "Requirement already satisfied: setproctitle in /usr/local/lib/python3.10/dist-packages (from wandb) (1.3.3)\n",
            "Requirement already satisfied: setuptools in /usr/local/lib/python3.10/dist-packages (from wandb) (67.7.2)\n",
            "Requirement already satisfied: appdirs>=1.4.3 in /usr/local/lib/python3.10/dist-packages (from wandb) (1.4.4)\n",
            "Requirement already satisfied: protobuf!=4.21.0,<5,>=3.19.0 in /usr/local/lib/python3.10/dist-packages (from wandb) (3.20.3)\n",
            "Requirement already satisfied: six>=1.4.0 in /usr/local/lib/python3.10/dist-packages (from docker-pycreds>=0.4.0->wandb) (1.16.0)\n",
            "Requirement already satisfied: gitdb<5,>=4.0.1 in /usr/local/lib/python3.10/dist-packages (from GitPython!=3.1.29,>=1.0.0->wandb) (4.0.11)\n",
            "Requirement already satisfied: charset-normalizer<4,>=2 in /usr/local/lib/python3.10/dist-packages (from requests<3,>=2.0.0->wandb) (3.3.2)\n",
            "Requirement already satisfied: idna<4,>=2.5 in /usr/local/lib/python3.10/dist-packages (from requests<3,>=2.0.0->wandb) (3.6)\n",
            "Requirement already satisfied: urllib3<3,>=1.21.1 in /usr/local/lib/python3.10/dist-packages (from requests<3,>=2.0.0->wandb) (2.0.7)\n",
            "Requirement already satisfied: certifi>=2017.4.17 in /usr/local/lib/python3.10/dist-packages (from requests<3,>=2.0.0->wandb) (2024.2.2)\n",
            "Requirement already satisfied: smmap<6,>=3.0.1 in /usr/local/lib/python3.10/dist-packages (from gitdb<5,>=4.0.1->GitPython!=3.1.29,>=1.0.0->wandb) (5.0.1)\n"
          ]
        }
      ]
    },
    {
      "cell_type": "code",
      "execution_count": 12,
      "metadata": {
        "id": "h12qSKWqmKJl",
        "colab": {
          "base_uri": "https://localhost:8080/",
          "height": 1000,
          "referenced_widgets": [
            "688389d77b1a41fcb4c2641ce41789f7",
            "49a9414d218a4ba59db343db592a9c4c",
            "4cbe64ffc1ee4292a0d381ca4bd66254",
            "6a4e3332e22a43eba3e65e337b35af05",
            "efbf13a14a04466bb8163aa5216fa905",
            "b0cbc7f9aff14a86b7f9c66cbd04aa22",
            "b157ab83f3dc421e8588658dfdb56ec7",
            "bace19870df445959b5b63aad5a06e31",
            "8837ef15a9b94404bf01be106932a7fe",
            "63db089c4d954fb69426275f5a12adff",
            "f077016e45a34473a488bca27fa5697b",
            "c0821fc4d2d34a6fa466fb04c46e0aa7",
            "bf90a6ffae2d4e488a614cdd70a36e60",
            "8c10f99435534766a2fdd039e6d73087",
            "d07268d34fd54e33ae42240a43f88f3b",
            "f3d942a9bffc44a6b385456e9cc86bb4",
            "38187cf4053a47fa93bf65ed0786d492",
            "99203d1c28ef4636b4a078ee9b48ead9",
            "35b7997c4b4d436e91152784b1f56a86",
            "5de04446b1fb405998eebf5755dd4788",
            "b91f709066894190a30ee4355edc6254",
            "7c85866c07224bec99f018c0fe385644",
            "9aff8ef856b74ea8a607f7a0e3047b78",
            "16d0fb8d356940da98c90ac78c06c31e",
            "cdb97ce5269b423e943173e397451ff5",
            "9891aa21641d400aa03fc8655cfd7777",
            "f4fce592be8c45d19fffd5e6cca46c69",
            "8b9cb1f206bc4a1d843b7c30ab5160a3",
            "ed5c20d6d07a44198309ae01ab9fd920",
            "ca122d296ec445faa25de69482a47131",
            "5d76a1d2322c4c08adb98d5966890f42",
            "d4bec1d3ee6c40eaae56764dd029a56c",
            "b29e2d2a0fb24536823b3292809e8a71",
            "097419929df74013889cd29be508bdca",
            "e23aaba5f5d44608996df7711815bbb2",
            "b035945af1714a7aa71496a72732086a",
            "b660df8ce3834af1875fe2718f6cb98f",
            "b5e6098b34324a7abb0bbfd13e83d737",
            "6e097d9bcb8e4d1f830a7f30dd986d4e",
            "c4438086355647faa1cfa7c1b7cb3597",
            "197ea9f9960c4726a70694d9bd1c475b",
            "5fe6ef7a301644ffa3422916aa86e249",
            "4822c404026347d7954c920bad56358f",
            "9f7741410ebc43f6aaf9983f33239c6d",
            "16e8c43c189844c89bca0572eaeb7199",
            "461b80ee13b54479b9ea5e13d4dca5a7",
            "cae70b12fc2544d9b0026d45ab890f3e",
            "4043545b934441aabaffca8cb03dbe90"
          ]
        },
        "outputId": "b99e8bee-557d-452c-98c0-d06b71f0f27d"
      },
      "outputs": [
        {
          "output_type": "stream",
          "name": "stderr",
          "text": [
            "\u001b[34m\u001b[1mwandb\u001b[0m: Currently logged in as: \u001b[33mecyurdu\u001b[0m (\u001b[33mdi725\u001b[0m). Use \u001b[1m`wandb login --relogin`\u001b[0m to force relogin\n"
          ]
        },
        {
          "output_type": "stream",
          "name": "stdout",
          "text": [
            "Create sweep with ID: sebpco96\n",
            "Sweep URL: https://wandb.ai/di725/DI725-Assignment1/sweeps/sebpco96\n"
          ]
        },
        {
          "output_type": "stream",
          "name": "stderr",
          "text": [
            "\u001b[34m\u001b[1mwandb\u001b[0m: Agent Starting Run: h37sgumn with config:\n",
            "\u001b[34m\u001b[1mwandb\u001b[0m: \tdropout: 0.05\n",
            "\u001b[34m\u001b[1mwandb\u001b[0m: \tlearning_rate: 0.0005\n"
          ]
        },
        {
          "output_type": "display_data",
          "data": {
            "text/plain": [
              "<IPython.core.display.HTML object>"
            ],
            "text/html": [
              "Tracking run with wandb version 0.16.6"
            ]
          },
          "metadata": {}
        },
        {
          "output_type": "display_data",
          "data": {
            "text/plain": [
              "<IPython.core.display.HTML object>"
            ],
            "text/html": [
              "Run data is saved locally in <code>/content/wandb/run-20240415_104856-h37sgumn</code>"
            ]
          },
          "metadata": {}
        },
        {
          "output_type": "display_data",
          "data": {
            "text/plain": [
              "<IPython.core.display.HTML object>"
            ],
            "text/html": [
              "Syncing run <strong><a href='https://wandb.ai/di725/DI725-Assignment1/runs/h37sgumn' target=\"_blank\">lucky-sweep-1</a></strong> to <a href='https://wandb.ai/di725/DI725-Assignment1' target=\"_blank\">Weights & Biases</a> (<a href='https://wandb.me/run' target=\"_blank\">docs</a>)<br/>Sweep page: <a href='https://wandb.ai/di725/DI725-Assignment1/sweeps/sebpco96' target=\"_blank\">https://wandb.ai/di725/DI725-Assignment1/sweeps/sebpco96</a>"
            ]
          },
          "metadata": {}
        },
        {
          "output_type": "display_data",
          "data": {
            "text/plain": [
              "<IPython.core.display.HTML object>"
            ],
            "text/html": [
              " View project at <a href='https://wandb.ai/di725/DI725-Assignment1' target=\"_blank\">https://wandb.ai/di725/DI725-Assignment1</a>"
            ]
          },
          "metadata": {}
        },
        {
          "output_type": "display_data",
          "data": {
            "text/plain": [
              "<IPython.core.display.HTML object>"
            ],
            "text/html": [
              " View sweep at <a href='https://wandb.ai/di725/DI725-Assignment1/sweeps/sebpco96' target=\"_blank\">https://wandb.ai/di725/DI725-Assignment1/sweeps/sebpco96</a>"
            ]
          },
          "metadata": {}
        },
        {
          "output_type": "display_data",
          "data": {
            "text/plain": [
              "<IPython.core.display.HTML object>"
            ],
            "text/html": [
              " View run at <a href='https://wandb.ai/di725/DI725-Assignment1/runs/h37sgumn' target=\"_blank\">https://wandb.ai/di725/DI725-Assignment1/runs/h37sgumn</a>"
            ]
          },
          "metadata": {}
        },
        {
          "output_type": "stream",
          "name": "stdout",
          "text": [
            "tokens per iteration will be: 32,768\n",
            "Initializing from OpenAI GPT-2 weights: gpt2\n",
            "loading weights from pretrained gpt: gpt2\n",
            "forcing vocab_size=50257, block_size=1024, bias=True\n",
            "overriding dropout rate to 0.05\n",
            "number of parameters: 123.66M\n",
            "num decayed parameter tensors: 51, with 124,320,768 parameters\n",
            "num non-decayed parameter tensors: 99, with 121,347 parameters\n",
            "using fused AdamW: True\n",
            "Validation Confusion Matrix \n",
            " []\n"
          ]
        },
        {
          "output_type": "stream",
          "name": "stderr",
          "text": [
            "/usr/local/lib/python3.10/dist-packages/sklearn/metrics/_classification.py:1344: UndefinedMetricWarning: Precision is ill-defined and being set to 0.0 in labels with no predicted samples. Use `zero_division` parameter to control this behavior.\n",
            "  _warn_prf(average, modifier, msg_start, len(result))\n"
          ]
        },
        {
          "output_type": "stream",
          "name": "stdout",
          "text": [
            "Validation Confusion Matrix \n",
            " [[  0   0 329]\n",
            " [  0   0 433]\n",
            " [  0   0  14]]\n",
            "step 0: train loss 4.1345, val loss 4.2081,val accuracy 0.0180, val precision 0.0003, , val recall 0.0180, , val f1 0.0006\n"
          ]
        },
        {
          "output_type": "stream",
          "name": "stderr",
          "text": [
            "/usr/local/lib/python3.10/dist-packages/sklearn/metrics/_classification.py:1344: UndefinedMetricWarning: Precision is ill-defined and being set to 0.0 in labels with no predicted samples. Use `zero_division` parameter to control this behavior.\n",
            "  _warn_prf(average, modifier, msg_start, len(result))\n"
          ]
        },
        {
          "output_type": "stream",
          "name": "stdout",
          "text": [
            "Test Confusion Matrix \n",
            " [[ 0  0 10]\n",
            " [ 0  0 10]\n",
            " [ 0  0 10]]\n",
            "step 0: test loss 2.7203,test accuracy 0.3333, test precision 0.1111, , test recall 0.3333, , test f1 0.1667\n",
            "iter 0: loss 4.1633, time 9691.43ms, mfu -100.00%\n",
            "iter 1: loss 4.0870, time 78.04ms, mfu -100.00%\n",
            "iter 2: loss 4.2356, time 197.41ms, mfu -100.00%\n",
            "iter 3: loss 3.8220, time 198.56ms, mfu -100.00%\n",
            "iter 4: loss 3.8755, time 199.85ms, mfu -100.00%\n",
            "iter 5: loss 3.8101, time 196.88ms, mfu 45.62%\n",
            "iter 6: loss 4.2874, time 200.29ms, mfu 45.54%\n",
            "iter 7: loss 4.1184, time 202.51ms, mfu 45.42%\n",
            "iter 8: loss 4.1805, time 195.55ms, mfu 45.47%\n",
            "iter 9: loss 0.9016, time 207.02ms, mfu 45.27%\n",
            "Validation Confusion Matrix \n",
            " []\n"
          ]
        },
        {
          "output_type": "stream",
          "name": "stderr",
          "text": [
            "/usr/local/lib/python3.10/dist-packages/sklearn/metrics/_classification.py:1344: UndefinedMetricWarning: Precision is ill-defined and being set to 0.0 in labels with no predicted samples. Use `zero_division` parameter to control this behavior.\n",
            "  _warn_prf(average, modifier, msg_start, len(result))\n"
          ]
        },
        {
          "output_type": "stream",
          "name": "stdout",
          "text": [
            "Validation Confusion Matrix \n",
            " [[339   0   0]\n",
            " [426   0   0]\n",
            " [ 11   0   0]]\n",
            "step 10: train loss 2.1266, val loss 2.0640,val accuracy 0.4369, val precision 0.1908, , val recall 0.4369, , val f1 0.2656\n",
            "iter 10: loss 2.1450, time 13588.49ms, mfu 40.80%\n",
            "iter 11: loss 0.9725, time 202.39ms, mfu 41.16%\n",
            "iter 12: loss 0.9700, time 208.57ms, mfu 41.35%\n",
            "iter 13: loss 0.8515, time 203.09ms, mfu 41.64%\n",
            "iter 14: loss 0.8385, time 203.09ms, mfu 41.90%\n",
            "iter 15: loss 0.8461, time 202.77ms, mfu 42.14%\n",
            "iter 16: loss 0.7705, time 214.97ms, mfu 42.10%\n",
            "iter 17: loss 0.6447, time 84.63ms, mfu 48.50%\n",
            "iter 18: loss 0.6492, time 202.54ms, mfu 48.09%\n",
            "iter 19: loss 0.8333, time 209.58ms, mfu 47.57%\n",
            "Validation Confusion Matrix \n",
            " []\n"
          ]
        },
        {
          "output_type": "stream",
          "name": "stderr",
          "text": [
            "/usr/local/lib/python3.10/dist-packages/sklearn/metrics/_classification.py:1344: UndefinedMetricWarning: Precision is ill-defined and being set to 0.0 in labels with no predicted samples. Use `zero_division` parameter to control this behavior.\n",
            "  _warn_prf(average, modifier, msg_start, len(result))\n"
          ]
        },
        {
          "output_type": "stream",
          "name": "stdout",
          "text": [
            "Validation Confusion Matrix \n",
            " [[293  11   0]\n",
            " [268 191   0]\n",
            " [  6   7   0]]\n",
            "step 20: train loss 0.7299, val loss 0.7379,val accuracy 0.6237, val precision 0.7430, , val recall 0.6237, , val f1 0.6018\n"
          ]
        },
        {
          "output_type": "stream",
          "name": "stderr",
          "text": [
            "/usr/local/lib/python3.10/dist-packages/sklearn/metrics/_classification.py:1344: UndefinedMetricWarning: Precision is ill-defined and being set to 0.0 in labels with no predicted samples. Use `zero_division` parameter to control this behavior.\n",
            "  _warn_prf(average, modifier, msg_start, len(result))\n"
          ]
        },
        {
          "output_type": "stream",
          "name": "stdout",
          "text": [
            "Test Confusion Matrix \n",
            " [[10  0  0]\n",
            " [ 6  4  0]\n",
            " [ 4  6  0]]\n",
            "step 20: test loss 2.7397,test accuracy 0.4667, test precision 0.3000, , test recall 0.4667, , test f1 0.3556\n",
            "iter 20: loss 0.7284, time 13550.78ms, mfu 42.88%\n",
            "iter 21: loss 1.0035, time 203.99ms, mfu 42.99%\n",
            "iter 22: loss 0.6572, time 204.89ms, mfu 43.08%\n",
            "iter 23: loss 0.7397, time 204.76ms, mfu 43.15%\n",
            "iter 24: loss 0.3710, time 197.18ms, mfu 43.39%\n",
            "iter 25: loss 0.6697, time 84.75ms, mfu 49.65%\n",
            "iter 26: loss 0.5306, time 203.31ms, mfu 49.10%\n",
            "iter 27: loss 0.5342, time 207.67ms, mfu 48.52%\n",
            "iter 28: loss 0.7206, time 200.40ms, mfu 48.15%\n",
            "iter 29: loss 0.5493, time 202.92ms, mfu 47.76%\n",
            "Validation Confusion Matrix \n",
            " []\n"
          ]
        },
        {
          "output_type": "stream",
          "name": "stderr",
          "text": [
            "/usr/local/lib/python3.10/dist-packages/sklearn/metrics/_classification.py:1344: UndefinedMetricWarning: Precision is ill-defined and being set to 0.0 in labels with no predicted samples. Use `zero_division` parameter to control this behavior.\n",
            "  _warn_prf(average, modifier, msg_start, len(result))\n"
          ]
        },
        {
          "output_type": "stream",
          "name": "stdout",
          "text": [
            "Validation Confusion Matrix \n",
            " [[181 154   0]\n",
            " [ 15 413   0]\n",
            " [  0  13   0]]\n",
            "step 30: train loss 0.5362, val loss 0.5446,val accuracy 0.7655, val precision 0.7914, , val recall 0.7655, , val f1 0.7463\n",
            "iter 30: loss 0.6477, time 13581.62ms, mfu 43.05%\n",
            "iter 31: loss 0.6660, time 203.37ms, mfu 43.16%\n",
            "iter 32: loss 0.5295, time 203.77ms, mfu 43.25%\n",
            "iter 33: loss 0.1697, time 197.68ms, mfu 43.47%\n",
            "iter 34: loss 0.6710, time 87.03ms, mfu 49.44%\n",
            "iter 35: loss 0.4089, time 198.84ms, mfu 49.02%\n",
            "iter 36: loss 0.4152, time 204.28ms, mfu 48.51%\n",
            "iter 37: loss 0.6322, time 202.92ms, mfu 48.09%\n",
            "iter 38: loss 0.3005, time 204.66ms, mfu 47.67%\n",
            "iter 39: loss 0.8272, time 201.85ms, mfu 47.35%\n",
            "Validation Confusion Matrix \n",
            " []\n"
          ]
        },
        {
          "output_type": "stream",
          "name": "stderr",
          "text": [
            "/usr/local/lib/python3.10/dist-packages/sklearn/metrics/_classification.py:1344: UndefinedMetricWarning: Precision is ill-defined and being set to 0.0 in labels with no predicted samples. Use `zero_division` parameter to control this behavior.\n",
            "  _warn_prf(average, modifier, msg_start, len(result))\n"
          ]
        },
        {
          "output_type": "stream",
          "name": "stdout",
          "text": [
            "Validation Confusion Matrix \n",
            " [[319   3   0]\n",
            " [253 192   0]\n",
            " [  3   6   0]]\n",
            "step 40: train loss 1.0403, val loss 1.0266,val accuracy 0.6585, val precision 0.7780, , val recall 0.6585, , val f1 0.6360\n"
          ]
        },
        {
          "output_type": "stream",
          "name": "stderr",
          "text": [
            "/usr/local/lib/python3.10/dist-packages/sklearn/metrics/_classification.py:1344: UndefinedMetricWarning: Precision is ill-defined and being set to 0.0 in labels with no predicted samples. Use `zero_division` parameter to control this behavior.\n",
            "  _warn_prf(average, modifier, msg_start, len(result))\n"
          ]
        },
        {
          "output_type": "stream",
          "name": "stdout",
          "text": [
            "Test Confusion Matrix \n",
            " [[10  0  0]\n",
            " [ 6  4  0]\n",
            " [ 1  9  0]]\n",
            "step 40: test loss 2.1115,test accuracy 0.4667, test precision 0.2986, , test recall 0.4667, , test f1 0.3629\n",
            "iter 40: loss 0.8611, time 13978.60ms, mfu 42.68%\n",
            "iter 41: loss 0.0402, time 198.30ms, mfu 42.94%\n",
            "iter 42: loss 0.6347, time 90.17ms, mfu 48.61%\n",
            "iter 43: loss 0.4397, time 199.45ms, mfu 48.25%\n",
            "iter 44: loss 0.4383, time 212.25ms, mfu 47.66%\n",
            "iter 45: loss 0.6865, time 204.84ms, mfu 47.28%\n",
            "iter 46: loss 0.3747, time 204.48ms, mfu 46.94%\n",
            "iter 47: loss 0.4203, time 225.05ms, mfu 46.24%\n",
            "iter 48: loss 0.3756, time 197.69ms, mfu 46.16%\n",
            "iter 49: loss 0.2197, time 204.97ms, mfu 45.92%\n",
            "Validation Confusion Matrix \n",
            " []\n"
          ]
        },
        {
          "output_type": "stream",
          "name": "stderr",
          "text": [
            "/usr/local/lib/python3.10/dist-packages/sklearn/metrics/_classification.py:1344: UndefinedMetricWarning: Precision is ill-defined and being set to 0.0 in labels with no predicted samples. Use `zero_division` parameter to control this behavior.\n",
            "  _warn_prf(average, modifier, msg_start, len(result))\n"
          ]
        },
        {
          "output_type": "stream",
          "name": "stdout",
          "text": [
            "Validation Confusion Matrix \n",
            " [[178 162   0]\n",
            " [  2 427   0]\n",
            " [  0   7   0]]\n",
            "step 50: train loss 0.4379, val loss 0.4424,val accuracy 0.7796, val precision 0.8294, , val recall 0.7796, , val f1 0.7606\n",
            "iter 50: loss 0.4553, time 13529.54ms, mfu 41.40%\n",
            "iter 51: loss 0.4312, time 200.75ms, mfu 41.73%\n",
            "iter 52: loss 0.2893, time 203.26ms, mfu 41.98%\n",
            "iter 53: loss 0.2719, time 203.64ms, mfu 42.19%\n",
            "iter 54: loss 0.3044, time 202.79ms, mfu 42.40%\n",
            "iter 55: loss 0.1268, time 204.25ms, mfu 42.56%\n",
            "iter 56: loss 0.1115, time 204.33ms, mfu 42.70%\n",
            "iter 57: loss 0.2357, time 202.23ms, mfu 42.87%\n",
            "iter 58: loss 0.5546, time 203.14ms, mfu 43.00%\n",
            "iter 59: loss 0.3795, time 201.91ms, mfu 43.15%\n",
            "Validation Confusion Matrix \n",
            " []\n"
          ]
        },
        {
          "output_type": "stream",
          "name": "stderr",
          "text": [
            "/usr/local/lib/python3.10/dist-packages/sklearn/metrics/_classification.py:1344: UndefinedMetricWarning: Precision is ill-defined and being set to 0.0 in labels with no predicted samples. Use `zero_division` parameter to control this behavior.\n",
            "  _warn_prf(average, modifier, msg_start, len(result))\n"
          ]
        },
        {
          "output_type": "stream",
          "name": "stdout",
          "text": [
            "Validation Confusion Matrix \n",
            " [[307  25   0]\n",
            " [ 28 404   0]\n",
            " [  0  12   0]]\n",
            "step 60: train loss 0.3197, val loss 0.2941,val accuracy 0.9162, val precision 0.9021, , val recall 0.9162, , val f1 0.9091\n"
          ]
        },
        {
          "output_type": "stream",
          "name": "stderr",
          "text": [
            "/usr/local/lib/python3.10/dist-packages/sklearn/metrics/_classification.py:1344: UndefinedMetricWarning: Precision is ill-defined and being set to 0.0 in labels with no predicted samples. Use `zero_division` parameter to control this behavior.\n",
            "  _warn_prf(average, modifier, msg_start, len(result))\n"
          ]
        },
        {
          "output_type": "stream",
          "name": "stdout",
          "text": [
            "Test Confusion Matrix \n",
            " [[ 9  1  0]\n",
            " [ 1  9  0]\n",
            " [ 0 10  0]]\n",
            "step 60: test loss 1.5557,test accuracy 0.6000, test precision 0.4500, , test recall 0.6000, , test f1 0.5000\n",
            "iter 60: loss 0.3327, time 13557.17ms, mfu 38.90%\n",
            "iter 61: loss 0.8224, time 200.05ms, mfu 39.50%\n",
            "iter 62: loss 0.4359, time 202.25ms, mfu 39.99%\n",
            "iter 63: loss 0.0948, time 201.95ms, mfu 40.44%\n",
            "iter 64: loss 0.3905, time 207.04ms, mfu 40.73%\n",
            "iter 65: loss 0.0292, time 192.74ms, mfu 41.32%\n",
            "iter 66: loss 0.2891, time 84.41ms, mfu 47.83%\n",
            "iter 67: loss 0.2168, time 201.55ms, mfu 47.50%\n",
            "iter 68: loss 0.2323, time 203.65ms, mfu 47.16%\n",
            "iter 69: loss 0.2551, time 203.07ms, mfu 46.87%\n",
            "Validation Confusion Matrix \n",
            " []\n"
          ]
        },
        {
          "output_type": "stream",
          "name": "stderr",
          "text": [
            "/usr/local/lib/python3.10/dist-packages/sklearn/metrics/_classification.py:1344: UndefinedMetricWarning: Precision is ill-defined and being set to 0.0 in labels with no predicted samples. Use `zero_division` parameter to control this behavior.\n",
            "  _warn_prf(average, modifier, msg_start, len(result))\n"
          ]
        },
        {
          "output_type": "stream",
          "name": "stdout",
          "text": [
            "Validation Confusion Matrix \n",
            " [[294  35   0]\n",
            " [ 10 427   0]\n",
            " [  0  10   0]]\n",
            "step 70: train loss 0.2389, val loss 0.2347,val accuracy 0.9291, val precision 0.9195, , val recall 0.9291, , val f1 0.9229\n",
            "iter 70: loss 0.3809, time 13330.23ms, mfu 42.25%\n",
            "iter 71: loss 0.3257, time 202.30ms, mfu 42.46%\n",
            "iter 72: loss 0.1224, time 202.07ms, mfu 42.66%\n",
            "iter 73: loss 0.2983, time 206.34ms, mfu 42.75%\n",
            "iter 74: loss 0.0324, time 195.01ms, mfu 43.08%\n",
            "iter 75: loss 0.5532, time 85.21ms, mfu 49.31%\n",
            "iter 76: loss 0.2745, time 201.96ms, mfu 48.83%\n",
            "iter 77: loss 0.5562, time 202.62ms, mfu 48.38%\n",
            "iter 78: loss 0.2056, time 202.00ms, mfu 47.99%\n",
            "iter 79: loss 0.4218, time 201.57ms, mfu 47.64%\n",
            "Validation Confusion Matrix \n",
            " []\n"
          ]
        },
        {
          "output_type": "stream",
          "name": "stderr",
          "text": [
            "/usr/local/lib/python3.10/dist-packages/sklearn/metrics/_classification.py:1344: UndefinedMetricWarning: Precision is ill-defined and being set to 0.0 in labels with no predicted samples. Use `zero_division` parameter to control this behavior.\n",
            "  _warn_prf(average, modifier, msg_start, len(result))\n"
          ]
        },
        {
          "output_type": "stream",
          "name": "stdout",
          "text": [
            "Validation Confusion Matrix \n",
            " [[305  23   0]\n",
            " [ 13 424   0]\n",
            " [  0  11   0]]\n",
            "step 80: train loss 0.2238, val loss 0.1962,val accuracy 0.9394, val precision 0.9267, , val recall 0.9394, , val f1 0.9327\n"
          ]
        },
        {
          "output_type": "stream",
          "name": "stderr",
          "text": [
            "/usr/local/lib/python3.10/dist-packages/sklearn/metrics/_classification.py:1344: UndefinedMetricWarning: Precision is ill-defined and being set to 0.0 in labels with no predicted samples. Use `zero_division` parameter to control this behavior.\n",
            "  _warn_prf(average, modifier, msg_start, len(result))\n"
          ]
        },
        {
          "output_type": "stream",
          "name": "stdout",
          "text": [
            "Test Confusion Matrix \n",
            " [[ 8  2  0]\n",
            " [ 0 10  0]\n",
            " [ 0 10  0]]\n",
            "step 80: test loss 1.4801,test accuracy 0.6000, test precision 0.4848, , test recall 0.6000, , test f1 0.5046\n",
            "iter 80: loss 0.1396, time 13812.27ms, mfu 42.94%\n",
            "iter 81: loss 0.3070, time 201.94ms, mfu 43.10%\n",
            "iter 82: loss 0.0163, time 196.71ms, mfu 43.35%\n",
            "iter 83: loss 0.2351, time 84.24ms, mfu 49.68%\n",
            "iter 84: loss 0.1080, time 202.30ms, mfu 49.15%\n",
            "iter 85: loss 0.2038, time 202.28ms, mfu 48.68%\n",
            "iter 86: loss 0.2626, time 202.42ms, mfu 48.25%\n",
            "iter 87: loss 0.1570, time 202.93ms, mfu 47.85%\n",
            "iter 88: loss 0.2911, time 206.17ms, mfu 47.42%\n",
            "iter 89: loss 0.2072, time 205.23ms, mfu 47.05%\n",
            "Validation Confusion Matrix \n",
            " []\n"
          ]
        },
        {
          "output_type": "stream",
          "name": "stderr",
          "text": [
            "/usr/local/lib/python3.10/dist-packages/sklearn/metrics/_classification.py:1344: UndefinedMetricWarning: Precision is ill-defined and being set to 0.0 in labels with no predicted samples. Use `zero_division` parameter to control this behavior.\n",
            "  _warn_prf(average, modifier, msg_start, len(result))\n"
          ]
        },
        {
          "output_type": "stream",
          "name": "stdout",
          "text": [
            "Validation Confusion Matrix \n",
            " [[322   7   0]\n",
            " [ 63 372   0]\n",
            " [  0  12   0]]\n",
            "step 90: train loss 0.3758, val loss 0.4352,val accuracy 0.8943, val precision 0.8879, , val recall 0.8943, , val f1 0.8873\n",
            "iter 90: loss 0.2506, time 13567.07ms, mfu 42.41%\n",
            "iter 91: loss 0.0056, time 191.46ms, mfu 42.86%\n",
            "iter 92: loss 0.2680, time 83.88ms, mfu 49.29%\n",
            "iter 93: loss 0.1284, time 203.93ms, mfu 48.76%\n",
            "iter 94: loss 0.3241, time 202.35ms, mfu 48.32%\n",
            "iter 95: loss 0.1715, time 206.28ms, mfu 47.85%\n",
            "iter 96: loss 0.0989, time 201.29ms, mfu 47.52%\n",
            "iter 97: loss 0.1440, time 202.23ms, mfu 47.21%\n",
            "iter 98: loss 0.3594, time 205.92ms, mfu 46.85%\n",
            "iter 99: loss 0.5255, time 204.37ms, mfu 46.56%\n",
            "Validation Confusion Matrix \n",
            " []\n"
          ]
        },
        {
          "output_type": "stream",
          "name": "stderr",
          "text": [
            "/usr/local/lib/python3.10/dist-packages/sklearn/metrics/_classification.py:1344: UndefinedMetricWarning: Precision is ill-defined and being set to 0.0 in labels with no predicted samples. Use `zero_division` parameter to control this behavior.\n",
            "  _warn_prf(average, modifier, msg_start, len(result))\n"
          ]
        },
        {
          "output_type": "stream",
          "name": "stdout",
          "text": [
            "Validation Confusion Matrix \n",
            " [[340   6   0]\n",
            " [ 92 324   0]\n",
            " [  2  12   0]]\n",
            "step 100: train loss 0.3996, val loss 0.3620,val accuracy 0.8557, val precision 0.8572, , val recall 0.8557, , val f1 0.8470\n"
          ]
        },
        {
          "output_type": "stream",
          "name": "stderr",
          "text": [
            "/usr/local/lib/python3.10/dist-packages/sklearn/metrics/_classification.py:1344: UndefinedMetricWarning: Precision is ill-defined and being set to 0.0 in labels with no predicted samples. Use `zero_division` parameter to control this behavior.\n",
            "  _warn_prf(average, modifier, msg_start, len(result))\n"
          ]
        },
        {
          "output_type": "stream",
          "name": "stdout",
          "text": [
            "Test Confusion Matrix \n",
            " [[10  0  0]\n",
            " [ 4  6  0]\n",
            " [ 1  9  0]]\n",
            "step 100: test loss 1.5018,test accuracy 0.5333, test precision 0.3556, , test recall 0.5333, , test f1 0.4267\n",
            "iter 100: loss 0.1400, time 13584.91ms, mfu 41.97%\n",
            "iter 101: loss 0.2805, time 203.88ms, mfu 42.18%\n",
            "iter 102: loss 0.4448, time 204.93ms, mfu 42.34%\n",
            "iter 103: loss 0.4042, time 202.34ms, mfu 42.55%\n",
            "iter 104: loss 0.1846, time 205.54ms, mfu 42.66%\n",
            "iter 105: loss 0.4061, time 204.63ms, mfu 42.79%\n",
            "iter 106: loss 0.0084, time 192.18ms, mfu 43.18%\n",
            "iter 107: loss 0.2635, time 85.50ms, mfu 49.37%\n",
            "iter 108: loss 0.1710, time 201.55ms, mfu 48.89%\n",
            "iter 109: loss 0.1742, time 203.20ms, mfu 48.42%\n",
            "Validation Confusion Matrix \n",
            " []\n"
          ]
        },
        {
          "output_type": "stream",
          "name": "stderr",
          "text": [
            "/usr/local/lib/python3.10/dist-packages/sklearn/metrics/_classification.py:1344: UndefinedMetricWarning: Precision is ill-defined and being set to 0.0 in labels with no predicted samples. Use `zero_division` parameter to control this behavior.\n",
            "  _warn_prf(average, modifier, msg_start, len(result))\n"
          ]
        },
        {
          "output_type": "stream",
          "name": "stdout",
          "text": [
            "Validation Confusion Matrix \n",
            " [[328   7   0]\n",
            " [ 16 414   0]\n",
            " [  0  11   0]]\n",
            "step 110: train loss 0.1938, val loss 0.1554,val accuracy 0.9562, val precision 0.9427, , val recall 0.9562, , val f1 0.9493\n",
            "iter 110: loss 0.1273, time 13435.52ms, mfu 43.64%\n",
            "iter 111: loss 0.1925, time 204.89ms, mfu 43.66%\n",
            "iter 112: loss 0.3858, time 201.67ms, mfu 43.75%\n",
            "iter 113: loss 0.0437, time 205.94ms, mfu 43.74%\n",
            "iter 114: loss 0.4387, time 207.67ms, mfu 43.69%\n",
            "iter 115: loss 0.0007, time 194.91ms, mfu 43.93%\n",
            "iter 116: loss 0.1821, time 83.52ms, mfu 50.29%\n",
            "iter 117: loss 0.1933, time 201.28ms, mfu 49.72%\n",
            "iter 118: loss 0.0733, time 202.30ms, mfu 49.19%\n",
            "iter 119: loss 0.2350, time 203.59ms, mfu 48.68%\n",
            "Validation Confusion Matrix \n",
            " []\n"
          ]
        },
        {
          "output_type": "stream",
          "name": "stderr",
          "text": [
            "/usr/local/lib/python3.10/dist-packages/sklearn/metrics/_classification.py:1344: UndefinedMetricWarning: Precision is ill-defined and being set to 0.0 in labels with no predicted samples. Use `zero_division` parameter to control this behavior.\n",
            "  _warn_prf(average, modifier, msg_start, len(result))\n"
          ]
        },
        {
          "output_type": "stream",
          "name": "stdout",
          "text": [
            "Validation Confusion Matrix \n",
            " [[320  13   0]\n",
            " [ 15 414   0]\n",
            " [  0  14   0]]\n",
            "step 120: train loss 0.1799, val loss 0.1838,val accuracy 0.9459, val precision 0.9289, , val recall 0.9459, , val f1 0.9373\n"
          ]
        },
        {
          "output_type": "stream",
          "name": "stderr",
          "text": [
            "/usr/local/lib/python3.10/dist-packages/sklearn/metrics/_classification.py:1344: UndefinedMetricWarning: Precision is ill-defined and being set to 0.0 in labels with no predicted samples. Use `zero_division` parameter to control this behavior.\n",
            "  _warn_prf(average, modifier, msg_start, len(result))\n"
          ]
        },
        {
          "output_type": "stream",
          "name": "stdout",
          "text": [
            "Test Confusion Matrix \n",
            " [[ 9  1  0]\n",
            " [ 1  9  0]\n",
            " [ 0 10  0]]\n",
            "step 120: test loss 1.0866,test accuracy 0.6000, test precision 0.4500, , test recall 0.6000, , test f1 0.5000\n",
            "iter 120: loss 0.0581, time 13860.63ms, mfu 43.88%\n",
            "iter 121: loss 0.0304, time 202.27ms, mfu 43.93%\n",
            "iter 122: loss 0.2601, time 206.88ms, mfu 43.88%\n",
            "iter 123: loss 0.0008, time 194.09ms, mfu 44.12%\n",
            "iter 124: loss 0.0877, time 89.14ms, mfu 49.78%\n",
            "iter 125: loss 0.3497, time 197.30ms, mfu 49.36%\n",
            "iter 126: loss 0.0456, time 204.16ms, mfu 48.82%\n",
            "iter 127: loss 0.1684, time 204.26ms, mfu 48.34%\n",
            "iter 128: loss 0.0074, time 204.84ms, mfu 47.89%\n",
            "iter 129: loss 0.0117, time 206.73ms, mfu 47.44%\n",
            "Validation Confusion Matrix \n",
            " []\n"
          ]
        },
        {
          "output_type": "stream",
          "name": "stderr",
          "text": [
            "/usr/local/lib/python3.10/dist-packages/sklearn/metrics/_classification.py:1344: UndefinedMetricWarning: Precision is ill-defined and being set to 0.0 in labels with no predicted samples. Use `zero_division` parameter to control this behavior.\n",
            "  _warn_prf(average, modifier, msg_start, len(result))\n"
          ]
        },
        {
          "output_type": "stream",
          "name": "stdout",
          "text": [
            "Validation Confusion Matrix \n",
            " [[310  12   0]\n",
            " [ 23 416   0]\n",
            " [  0  15   0]]\n",
            "step 130: train loss 0.2126, val loss 0.2526,val accuracy 0.9356, val precision 0.9175, , val recall 0.9356, , val f1 0.9264\n",
            "iter 130: loss 0.0982, time 13559.11ms, mfu 42.76%\n",
            "iter 131: loss 0.4225, time 201.62ms, mfu 42.94%\n",
            "iter 132: loss 0.0003, time 193.60ms, mfu 43.29%\n",
            "iter 133: loss 0.4614, time 87.63ms, mfu 49.21%\n",
            "iter 134: loss 0.1605, time 198.37ms, mfu 48.82%\n",
            "iter 135: loss 0.1741, time 201.98ms, mfu 48.38%\n",
            "iter 136: loss 0.2607, time 201.84ms, mfu 47.99%\n",
            "iter 137: loss 0.0377, time 204.33ms, mfu 47.59%\n",
            "iter 138: loss 0.0420, time 200.37ms, mfu 47.31%\n",
            "iter 139: loss 0.0711, time 202.32ms, mfu 47.02%\n",
            "Validation Confusion Matrix \n",
            " []\n"
          ]
        },
        {
          "output_type": "stream",
          "name": "stderr",
          "text": [
            "/usr/local/lib/python3.10/dist-packages/sklearn/metrics/_classification.py:1344: UndefinedMetricWarning: Precision is ill-defined and being set to 0.0 in labels with no predicted samples. Use `zero_division` parameter to control this behavior.\n",
            "  _warn_prf(average, modifier, msg_start, len(result))\n"
          ]
        },
        {
          "output_type": "stream",
          "name": "stdout",
          "text": [
            "Validation Confusion Matrix \n",
            " [[322   8   0]\n",
            " [ 17 419   0]\n",
            " [  0  10   0]]\n",
            "step 140: train loss 0.1376, val loss 0.1219,val accuracy 0.9549, val precision 0.9426, , val recall 0.9549, , val f1 0.9487\n"
          ]
        },
        {
          "output_type": "stream",
          "name": "stderr",
          "text": [
            "/usr/local/lib/python3.10/dist-packages/sklearn/metrics/_classification.py:1344: UndefinedMetricWarning: Precision is ill-defined and being set to 0.0 in labels with no predicted samples. Use `zero_division` parameter to control this behavior.\n",
            "  _warn_prf(average, modifier, msg_start, len(result))\n"
          ]
        },
        {
          "output_type": "stream",
          "name": "stdout",
          "text": [
            "Test Confusion Matrix \n",
            " [[ 9  1  0]\n",
            " [ 1  9  0]\n",
            " [ 0 10  0]]\n",
            "step 140: test loss 1.3490,test accuracy 0.6000, test precision 0.4500, , test recall 0.6000, , test f1 0.5000\n",
            "iter 140: loss 0.1455, time 13770.66ms, mfu 42.38%\n",
            "iter 141: loss 0.0608, time 202.18ms, mfu 42.59%\n",
            "iter 142: loss 0.3570, time 207.79ms, mfu 42.65%\n",
            "iter 143: loss 0.0861, time 199.68ms, mfu 42.88%\n",
            "iter 144: loss 0.0287, time 209.86ms, mfu 42.88%\n",
            "iter 145: loss 0.1927, time 200.95ms, mfu 43.06%\n",
            "iter 146: loss 0.4089, time 205.23ms, mfu 43.13%\n",
            "iter 147: loss 0.1265, time 198.82ms, mfu 43.33%\n",
            "iter 148: loss 0.0445, time 203.36ms, mfu 43.42%\n",
            "iter 149: loss 0.1652, time 203.22ms, mfu 43.49%\n",
            "Validation Confusion Matrix \n",
            " []\n"
          ]
        },
        {
          "output_type": "stream",
          "name": "stderr",
          "text": [
            "/usr/local/lib/python3.10/dist-packages/sklearn/metrics/_classification.py:1344: UndefinedMetricWarning: Precision is ill-defined and being set to 0.0 in labels with no predicted samples. Use `zero_division` parameter to control this behavior.\n",
            "  _warn_prf(average, modifier, msg_start, len(result))\n"
          ]
        },
        {
          "output_type": "stream",
          "name": "stdout",
          "text": [
            "Validation Confusion Matrix \n",
            " [[308  16   0]\n",
            " [  4 431   0]\n",
            " [  0  17   0]]\n",
            "step 150: train loss 0.1869, val loss 0.1382,val accuracy 0.9523, val precision 0.9329, , val recall 0.9523, , val f1 0.9419\n",
            "iter 150: loss 0.1078, time 13370.78ms, mfu 39.21%\n",
            "iter 151: loss 0.1827, time 208.41ms, mfu 39.60%\n",
            "iter 152: loss 0.3190, time 200.18ms, mfu 40.13%\n",
            "iter 153: loss 0.2432, time 205.22ms, mfu 40.49%\n",
            "iter 154: loss 0.0327, time 202.80ms, mfu 40.87%\n",
            "iter 155: loss 0.2001, time 202.34ms, mfu 41.22%\n",
            "iter 156: loss 0.0051, time 205.45ms, mfu 41.47%\n",
            "iter 157: loss 0.2691, time 83.63ms, mfu 48.06%\n",
            "iter 158: loss 0.1003, time 205.57ms, mfu 47.63%\n",
            "iter 159: loss 0.1283, time 204.09ms, mfu 47.26%\n",
            "Validation Confusion Matrix \n",
            " []\n"
          ]
        },
        {
          "output_type": "stream",
          "name": "stderr",
          "text": [
            "/usr/local/lib/python3.10/dist-packages/sklearn/metrics/_classification.py:1344: UndefinedMetricWarning: Precision is ill-defined and being set to 0.0 in labels with no predicted samples. Use `zero_division` parameter to control this behavior.\n",
            "  _warn_prf(average, modifier, msg_start, len(result))\n"
          ]
        },
        {
          "output_type": "stream",
          "name": "stdout",
          "text": [
            "Validation Confusion Matrix \n",
            " [[312  10   0]\n",
            " [ 15 428   0]\n",
            " [  0  11   0]]\n",
            "step 160: train loss 0.1340, val loss 0.1247,val accuracy 0.9536, val precision 0.9401, , val recall 0.9536, , val f1 0.9468\n"
          ]
        },
        {
          "output_type": "stream",
          "name": "stderr",
          "text": [
            "/usr/local/lib/python3.10/dist-packages/sklearn/metrics/_classification.py:1344: UndefinedMetricWarning: Precision is ill-defined and being set to 0.0 in labels with no predicted samples. Use `zero_division` parameter to control this behavior.\n",
            "  _warn_prf(average, modifier, msg_start, len(result))\n"
          ]
        },
        {
          "output_type": "stream",
          "name": "stdout",
          "text": [
            "Test Confusion Matrix \n",
            " [[ 9  1  0]\n",
            " [ 1  9  0]\n",
            " [ 0 10  0]]\n",
            "step 160: test loss 1.1540,test accuracy 0.6000, test precision 0.4500, , test recall 0.6000, , test f1 0.5000\n",
            "iter 160: loss 0.0417, time 13580.45ms, mfu 42.60%\n",
            "iter 161: loss 0.1754, time 204.68ms, mfu 42.73%\n",
            "iter 162: loss 0.0199, time 203.74ms, mfu 42.87%\n",
            "iter 163: loss 0.1359, time 207.22ms, mfu 42.91%\n",
            "iter 164: loss 0.0023, time 190.61ms, mfu 43.34%\n",
            "iter 165: loss 0.0228, time 84.48ms, mfu 49.63%\n",
            "iter 166: loss 0.0855, time 204.33ms, mfu 49.07%\n",
            "iter 167: loss 0.4188, time 199.13ms, mfu 48.67%\n",
            "iter 168: loss 0.1362, time 202.10ms, mfu 48.25%\n",
            "iter 169: loss 0.0163, time 201.66ms, mfu 47.88%\n",
            "Validation Confusion Matrix \n",
            " []\n"
          ]
        },
        {
          "output_type": "stream",
          "name": "stderr",
          "text": [
            "/usr/local/lib/python3.10/dist-packages/sklearn/metrics/_classification.py:1344: UndefinedMetricWarning: Precision is ill-defined and being set to 0.0 in labels with no predicted samples. Use `zero_division` parameter to control this behavior.\n",
            "  _warn_prf(average, modifier, msg_start, len(result))\n"
          ]
        },
        {
          "output_type": "stream",
          "name": "stdout",
          "text": [
            "Validation Confusion Matrix \n",
            " [[327   4   0]\n",
            " [ 57 373   0]\n",
            " [  0  15   0]]\n",
            "step 170: train loss 0.3440, val loss 0.3640,val accuracy 0.9021, val precision 0.8905, , val recall 0.9021, , val f1 0.8930\n",
            "iter 170: loss 0.2410, time 13619.37ms, mfu 43.15%\n",
            "iter 171: loss 0.0283, time 202.51ms, mfu 43.27%\n",
            "iter 172: loss 0.0505, time 208.29ms, mfu 43.26%\n",
            "iter 173: loss 0.0021, time 192.43ms, mfu 43.60%\n",
            "iter 174: loss 0.1099, time 85.62ms, mfu 49.73%\n",
            "iter 175: loss 0.0654, time 202.50ms, mfu 49.19%\n",
            "iter 176: loss 0.0572, time 202.30ms, mfu 48.71%\n",
            "iter 177: loss 0.1272, time 202.66ms, mfu 48.27%\n",
            "iter 178: loss 0.0035, time 203.65ms, mfu 47.86%\n",
            "iter 179: loss 0.0015, time 202.01ms, mfu 47.52%\n",
            "Validation Confusion Matrix \n",
            " []\n",
            "Validation Confusion Matrix \n",
            " [[325   2   0]\n",
            " [ 26 408   0]\n",
            " [  0   5  10]]\n",
            "step 180: train loss 0.1118, val loss 0.1224,val accuracy 0.9575, val precision 0.9594, , val recall 0.9575, , val f1 0.9570\n"
          ]
        },
        {
          "output_type": "stream",
          "name": "stderr",
          "text": [
            "/usr/local/lib/python3.10/dist-packages/sklearn/metrics/_classification.py:1344: UndefinedMetricWarning: Precision is ill-defined and being set to 0.0 in labels with no predicted samples. Use `zero_division` parameter to control this behavior.\n",
            "  _warn_prf(average, modifier, msg_start, len(result))\n"
          ]
        },
        {
          "output_type": "stream",
          "name": "stdout",
          "text": [
            "Test Confusion Matrix \n",
            " [[ 9  1  0]\n",
            " [ 3  7  0]\n",
            " [ 0 10  0]]\n",
            "step 180: test loss 2.3278,test accuracy 0.5333, test precision 0.3796, , test recall 0.5333, , test f1 0.4394\n",
            "iter 180: loss 0.1218, time 13878.44ms, mfu 42.83%\n",
            "iter 181: loss 0.0000, time 196.60ms, mfu 43.12%\n",
            "iter 182: loss 0.2959, time 85.47ms, mfu 49.31%\n",
            "iter 183: loss 0.0377, time 202.82ms, mfu 48.81%\n",
            "iter 184: loss 0.0693, time 200.70ms, mfu 48.40%\n",
            "iter 185: loss 0.0103, time 202.82ms, mfu 47.99%\n",
            "iter 186: loss 0.0063, time 201.94ms, mfu 47.64%\n",
            "iter 187: loss 0.0154, time 203.79ms, mfu 47.28%\n",
            "iter 188: loss 0.0077, time 199.11ms, mfu 47.07%\n",
            "iter 189: loss 0.0172, time 202.17ms, mfu 46.80%\n",
            "Validation Confusion Matrix \n",
            " []\n",
            "Validation Confusion Matrix \n",
            " [[311   3   1]\n",
            " [  4 442   3]\n",
            " [  0   3   9]]\n",
            "step 190: train loss 0.0703, val loss 0.0747,val accuracy 0.9820, val precision 0.9823, , val recall 0.9820, , val f1 0.9821\n",
            "iter 190: loss 0.0111, time 13358.82ms, mfu 42.19%\n",
            "iter 191: loss 0.4440, time 204.69ms, mfu 42.36%\n",
            "iter 192: loss 0.0081, time 202.68ms, mfu 42.55%\n",
            "iter 193: loss 0.0045, time 204.87ms, mfu 42.68%\n",
            "iter 194: loss 0.0065, time 203.09ms, mfu 42.84%\n",
            "iter 195: loss 0.0016, time 201.83ms, mfu 43.00%\n",
            "iter 196: loss 0.1901, time 201.27ms, mfu 43.17%\n",
            "iter 197: loss 0.0177, time 200.88ms, mfu 43.32%\n",
            "iter 198: loss 0.0272, time 202.53ms, mfu 43.42%\n",
            "iter 199: loss 0.0510, time 202.41ms, mfu 43.52%\n",
            "Validation Confusion Matrix \n",
            " []\n",
            "Validation Confusion Matrix \n",
            " [[337   2   0]\n",
            " [  2 418   6]\n",
            " [  0   1  10]]\n",
            "step 200: train loss 0.1008, val loss 0.0390,val accuracy 0.9858, val precision 0.9882, , val recall 0.9858, , val f1 0.9866\n",
            "Test Confusion Matrix \n",
            " [[9 1 0]\n",
            " [0 8 2]\n",
            " [0 8 2]]\n",
            "step 200: test loss 1.0929,test accuracy 0.6333, test precision 0.6569, , test recall 0.6333, , test f1 0.6086\n",
            "iter 200: loss 0.0307, time 13606.11ms, mfu 39.23%\n",
            "iter 201: loss 0.1212, time 201.82ms, mfu 39.76%\n",
            "iter 202: loss 0.1375, time 204.81ms, mfu 40.17%\n",
            "iter 203: loss 0.0001, time 197.56ms, mfu 40.70%\n",
            "iter 204: loss 0.0558, time 202.79ms, mfu 41.06%\n",
            "iter 205: loss 0.0000, time 193.33ms, mfu 41.60%\n",
            "iter 206: loss 0.0009, time 88.48ms, mfu 47.59%\n",
            "iter 207: loss 0.0120, time 201.34ms, mfu 47.29%\n",
            "iter 208: loss 0.0093, time 200.85ms, mfu 47.03%\n",
            "iter 209: loss 0.0035, time 200.28ms, mfu 46.81%\n",
            "Validation Confusion Matrix \n",
            " []\n",
            "Validation Confusion Matrix \n",
            " [[334   2   0]\n",
            " [  8 420   3]\n",
            " [  0   2   7]]\n",
            "step 210: train loss 0.0890, val loss 0.0422,val accuracy 0.9807, val precision 0.9812, , val recall 0.9807, , val f1 0.9808\n",
            "iter 210: loss 0.0120, time 13348.15ms, mfu 42.20%\n",
            "iter 211: loss 0.0189, time 202.42ms, mfu 42.42%\n",
            "iter 212: loss 0.0021, time 206.62ms, mfu 42.52%\n",
            "iter 213: loss 0.0083, time 198.46ms, mfu 42.80%\n",
            "iter 214: loss 0.0000, time 190.22ms, mfu 43.24%\n",
            "iter 215: loss 0.1327, time 85.38ms, mfu 49.43%\n",
            "iter 216: loss 0.1320, time 200.63ms, mfu 48.97%\n",
            "iter 217: loss 0.0046, time 200.91ms, mfu 48.54%\n",
            "iter 218: loss 0.0161, time 201.18ms, mfu 48.15%\n",
            "iter 219: loss 0.0056, time 200.09ms, mfu 47.83%\n",
            "Validation Confusion Matrix \n",
            " []\n",
            "Validation Confusion Matrix \n",
            " [[332   5   0]\n",
            " [  3 424   0]\n",
            " [  0   2  10]]\n",
            "step 220: train loss 0.0808, val loss 0.0422,val accuracy 0.9871, val precision 0.9872, , val recall 0.9871, , val f1 0.9870\n",
            "Test Confusion Matrix \n",
            " [[9 1 0]\n",
            " [2 8 0]\n",
            " [0 9 1]]\n",
            "step 220: test loss 2.9973,test accuracy 0.6000, test precision 0.7542, , test recall 0.6000, , test f1 0.5368\n",
            "iter 220: loss 0.2067, time 13841.05ms, mfu 43.11%\n",
            "iter 221: loss 0.0055, time 199.04ms, mfu 43.31%\n",
            "iter 222: loss 0.0000, time 201.70ms, mfu 43.43%\n",
            "iter 223: loss 0.0028, time 85.41ms, mfu 49.60%\n",
            "iter 224: loss 0.0140, time 203.78ms, mfu 49.05%\n",
            "iter 225: loss 0.1971, time 202.75ms, mfu 48.58%\n",
            "iter 226: loss 0.4125, time 197.53ms, mfu 48.27%\n",
            "iter 227: loss 0.4080, time 203.87ms, mfu 47.84%\n",
            "iter 228: loss 0.1051, time 200.46ms, mfu 47.54%\n",
            "iter 229: loss 0.0042, time 201.56ms, mfu 47.24%\n",
            "Validation Confusion Matrix \n",
            " []\n",
            "Validation Confusion Matrix \n",
            " [[340   3   0]\n",
            " [  1 418   2]\n",
            " [  1   4   7]]\n",
            "step 230: train loss 0.0722, val loss 0.0431,val accuracy 0.9858, val precision 0.9850, , val recall 0.9858, , val f1 0.9852\n",
            "iter 230: loss 0.0023, time 13660.10ms, mfu 42.58%\n",
            "iter 231: loss 0.0000, time 197.07ms, mfu 42.88%\n",
            "iter 232: loss 0.0439, time 85.18ms, mfu 49.14%\n",
            "iter 233: loss 0.0023, time 205.80ms, mfu 48.59%\n",
            "iter 234: loss 0.3426, time 198.89ms, mfu 48.25%\n",
            "iter 235: loss 0.1615, time 204.91ms, mfu 47.80%\n",
            "iter 236: loss 0.0737, time 198.79ms, mfu 47.54%\n",
            "iter 237: loss 0.0019, time 202.52ms, mfu 47.22%\n",
            "iter 238: loss 0.0792, time 201.49ms, mfu 46.96%\n",
            "iter 239: loss 0.0456, time 200.71ms, mfu 46.74%\n",
            "Validation Confusion Matrix \n",
            " []\n",
            "Validation Confusion Matrix \n",
            " [[323   1   0]\n",
            " [ 30 406   0]\n",
            " [  0  11   5]]\n",
            "step 240: train loss 0.1510, val loss 0.1283,val accuracy 0.9459, val precision 0.9484, , val recall 0.9459, , val f1 0.9424\n"
          ]
        },
        {
          "output_type": "stream",
          "name": "stderr",
          "text": [
            "/usr/local/lib/python3.10/dist-packages/sklearn/metrics/_classification.py:1344: UndefinedMetricWarning: Precision is ill-defined and being set to 0.0 in labels with no predicted samples. Use `zero_division` parameter to control this behavior.\n",
            "  _warn_prf(average, modifier, msg_start, len(result))\n"
          ]
        },
        {
          "output_type": "stream",
          "name": "stdout",
          "text": [
            "Test Confusion Matrix \n",
            " [[ 9  1  0]\n",
            " [ 2  8  0]\n",
            " [ 0 10  0]]\n",
            "step 240: test loss 2.9575,test accuracy 0.5667, test precision 0.4131, , test recall 0.5667, , test f1 0.4696\n",
            "iter 240: loss 0.2214, time 13632.87ms, mfu 42.13%\n",
            "iter 241: loss 0.1157, time 203.41ms, mfu 42.33%\n",
            "iter 242: loss 0.0505, time 203.33ms, mfu 42.52%\n",
            "iter 243: loss 0.1503, time 201.62ms, mfu 42.72%\n",
            "iter 244: loss 0.0042, time 200.97ms, mfu 42.92%\n",
            "iter 245: loss 0.0570, time 210.11ms, mfu 42.90%\n",
            "iter 246: loss 0.0000, time 225.31ms, mfu 42.60%\n",
            "iter 247: loss 0.0204, time 83.29ms, mfu 49.12%\n",
            "iter 248: loss 0.0399, time 200.46ms, mfu 48.69%\n",
            "iter 249: loss 0.0465, time 202.98ms, mfu 48.24%\n",
            "Validation Confusion Matrix \n",
            " []\n",
            "Validation Confusion Matrix \n",
            " [[334   1   0]\n",
            " [  4 420   3]\n",
            " [  0   0  14]]\n",
            "step 250: train loss 0.0843, val loss 0.0487,val accuracy 0.9897, val precision 0.9904, , val recall 0.9897, , val f1 0.9899\n",
            "iter 250: loss 0.0901, time 13387.71ms, mfu 43.49%\n",
            "iter 251: loss 0.0191, time 203.89ms, mfu 43.54%\n",
            "iter 252: loss 0.0053, time 200.93ms, mfu 43.66%\n",
            "iter 253: loss 0.0041, time 201.73ms, mfu 43.75%\n",
            "iter 254: loss 0.0218, time 201.40ms, mfu 43.83%\n",
            "iter 255: loss 0.0000, time 195.11ms, mfu 44.05%\n",
            "iter 256: loss 0.0067, time 84.77ms, mfu 50.24%\n",
            "iter 257: loss 0.0147, time 200.48ms, mfu 49.70%\n",
            "iter 258: loss 0.0012, time 201.65ms, mfu 49.18%\n",
            "iter 259: loss 0.1146, time 202.31ms, mfu 48.70%\n",
            "Validation Confusion Matrix \n",
            " []\n",
            "Validation Confusion Matrix \n",
            " [[321   0   0]\n",
            " [  5 436   0]\n",
            " [  1   0  13]]\n",
            "step 260: train loss 0.0496, val loss 0.0479,val accuracy 0.9923, val precision 0.9924, , val recall 0.9923, , val f1 0.9923\n",
            "Test Confusion Matrix \n",
            " [[9 1 0]\n",
            " [1 8 1]\n",
            " [0 8 2]]\n",
            "step 260: test loss 2.1665,test accuracy 0.6333, test precision 0.6791, , test recall 0.6333, , test f1 0.6001\n",
            "iter 260: loss 0.0048, time 13893.88ms, mfu 43.90%\n",
            "iter 261: loss 0.0728, time 204.58ms, mfu 43.90%\n",
            "iter 262: loss 0.0296, time 203.76ms, mfu 43.92%\n",
            "iter 263: loss 0.0001, time 197.93ms, mfu 44.06%\n",
            "iter 264: loss 0.0255, time 83.70ms, mfu 50.39%\n",
            "iter 265: loss 0.0011, time 201.88ms, mfu 49.80%\n",
            "iter 266: loss 0.1379, time 207.24ms, mfu 49.15%\n",
            "iter 267: loss 0.0014, time 203.58ms, mfu 48.65%\n",
            "iter 268: loss 0.0017, time 200.37ms, mfu 48.27%\n",
            "iter 269: loss 0.0003, time 201.01ms, mfu 47.91%\n",
            "Validation Confusion Matrix \n",
            " []\n",
            "Validation Confusion Matrix \n",
            " [[333   0   0]\n",
            " [  1 431   0]\n",
            " [  0   5   6]]\n",
            "step 270: train loss 0.0803, val loss 0.0379,val accuracy 0.9923, val precision 0.9923, , val recall 0.9923, , val f1 0.9913\n",
            "iter 270: loss 0.0218, time 13576.04ms, mfu 43.18%\n",
            "iter 271: loss 0.0151, time 201.67ms, mfu 43.32%\n",
            "iter 272: loss 0.0000, time 201.71ms, mfu 43.44%\n",
            "iter 273: loss 0.0151, time 84.16ms, mfu 49.77%\n",
            "iter 274: loss 0.0006, time 199.02ms, mfu 49.30%\n",
            "iter 275: loss 0.0015, time 203.79ms, mfu 48.78%\n",
            "iter 276: loss 0.0005, time 201.81ms, mfu 48.35%\n",
            "iter 277: loss 0.2060, time 200.43ms, mfu 48.00%\n",
            "iter 278: loss 0.0071, time 199.99ms, mfu 47.69%\n",
            "iter 279: loss 0.0397, time 200.24ms, mfu 47.41%\n",
            "Validation Confusion Matrix \n",
            " []\n",
            "Validation Confusion Matrix \n",
            " [[339   0   0]\n",
            " [ 19 405   1]\n",
            " [  0   0  12]]\n",
            "step 280: train loss 0.2090, val loss 0.2050,val accuracy 0.9742, val precision 0.9756, , val recall 0.9742, , val f1 0.9743\n",
            "Test Confusion Matrix \n",
            " [[9 1 0]\n",
            " [1 8 1]\n",
            " [0 9 1]]\n",
            "step 280: test loss 2.2892,test accuracy 0.6000, test precision 0.6148, , test recall 0.6000, , test f1 0.5460\n",
            "iter 280: loss 0.0020, time 13608.60ms, mfu 42.73%\n",
            "iter 281: loss 0.0007, time 201.26ms, mfu 42.92%\n",
            "iter 282: loss 0.0012, time 205.13ms, mfu 43.01%\n",
            "iter 283: loss 0.0031, time 200.17ms, mfu 43.19%\n",
            "iter 284: loss 0.0040, time 200.95ms, mfu 43.34%\n",
            "iter 285: loss 0.0008, time 202.41ms, mfu 43.45%\n",
            "iter 286: loss 0.0003, time 202.69ms, mfu 43.53%\n",
            "iter 287: loss 0.1577, time 199.31ms, mfu 43.69%\n",
            "iter 288: loss 0.0004, time 200.27ms, mfu 43.80%\n",
            "iter 289: loss 0.3648, time 207.38ms, mfu 43.75%\n",
            "Validation Confusion Matrix \n",
            " []\n",
            "Validation Confusion Matrix \n",
            " [[333   5   0]\n",
            " [  2 424   0]\n",
            " [  0   1  11]]\n",
            "step 290: train loss 0.1432, val loss 0.1020,val accuracy 0.9897, val precision 0.9897, , val recall 0.9897, , val f1 0.9897\n",
            "iter 290: loss 0.0314, time 13297.22ms, mfu 39.45%\n",
            "iter 291: loss 0.0305, time 200.26ms, mfu 39.99%\n",
            "iter 292: loss 0.0070, time 201.94ms, mfu 40.44%\n",
            "iter 293: loss 0.0307, time 203.65ms, mfu 40.80%\n",
            "iter 294: loss 0.0006, time 206.84ms, mfu 41.06%\n",
            "iter 295: loss 0.0014, time 200.52ms, mfu 41.44%\n",
            "iter 296: loss 0.0000, time 190.90ms, mfu 42.00%\n",
            "iter 297: loss 0.0054, time 92.71ms, mfu 47.49%\n",
            "iter 298: loss 0.0008, time 194.01ms, mfu 47.37%\n",
            "iter 299: loss 0.0165, time 199.75ms, mfu 47.13%\n",
            "Validation Confusion Matrix \n",
            " []\n",
            "Validation Confusion Matrix \n",
            " [[329   1   0]\n",
            " [  2 433   1]\n",
            " [  0   0  10]]\n",
            "step 300: train loss 0.0740, val loss 0.0151,val accuracy 0.9948, val precision 0.9950, , val recall 0.9948, , val f1 0.9949\n",
            "Test Confusion Matrix \n",
            " [[9 1 0]\n",
            " [0 9 1]\n",
            " [0 7 3]]\n",
            "step 300: test loss 1.7261,test accuracy 0.7000, test precision 0.7598, , test recall 0.7000, , test f1 0.6809\n",
            "iter 300: loss 0.0077, time 13572.74ms, mfu 42.48%\n"
          ]
        },
        {
          "output_type": "display_data",
          "data": {
            "text/plain": [
              "VBox(children=(Label(value='0.002 MB of 0.002 MB uploaded\\r'), FloatProgress(value=1.0, max=1.0)))"
            ],
            "application/vnd.jupyter.widget-view+json": {
              "version_major": 2,
              "version_minor": 0,
              "model_id": "688389d77b1a41fcb4c2641ce41789f7"
            }
          },
          "metadata": {}
        },
        {
          "output_type": "display_data",
          "data": {
            "text/plain": [
              "<IPython.core.display.HTML object>"
            ],
            "text/html": [
              "<style>\n",
              "    table.wandb td:nth-child(1) { padding: 0 10px; text-align: left ; width: auto;} td:nth-child(2) {text-align: left ; width: 100%}\n",
              "    .wandb-row { display: flex; flex-direction: row; flex-wrap: wrap; justify-content: flex-start; width: 100% }\n",
              "    .wandb-col { display: flex; flex-direction: column; flex-basis: 100%; flex: 1; padding: 10px; }\n",
              "    </style>\n",
              "<div class=\"wandb-row\"><div class=\"wandb-col\"><h3>Run history:</h3><br/><table class=\"wandb\"><tr><td>iter</td><td>▁▁▁▁▁▂▂▂▂▂▃▃▃▃▃▄▄▄▄▄▅▅▅▅▅▅▆▆▆▆▆▇▇▇▇▇████</td></tr><tr><td>lr</td><td>▁▁▁▁▁▁▁▁▁▁▁▁▁▁▁▁▁▁▁▁▁▁▁▁▁▁▁▁▁▁▁▁▁▁▁▁▁▁▁▁</td></tr><tr><td>mfu</td><td>▁▁██████████████████████████████████████</td></tr><tr><td>test/acc</td><td>▁▄▄▆▆▅▆▆▆▅▇▆▅▇▆█</td></tr><tr><td>test/f1</td><td>▁▄▄▆▆▅▆▆▆▅▇▆▅▇▆█</td></tr><tr><td>test/precision</td><td>▁▃▃▅▅▄▅▅▅▄▇█▄▇▆█</td></tr><tr><td>test/recall</td><td>▁▄▄▆▆▅▆▆▆▅▇▆▅▇▆█</td></tr><tr><td>train/loss</td><td>█▅▂▂▃▂▁▁▁▂▂▁▁▁▁▁▁▂▁▁▁▁▁▁▁▁▁▁▁▁▁</td></tr><tr><td>val/acc</td><td>▁▄▅▆▆▆▇██▇▇██████▇█████████████</td></tr><tr><td>val/f1</td><td>▁▃▅▆▅▆▇▇█▇▇██████▇█████████████</td></tr><tr><td>val/loss</td><td>█▄▂▂▃▂▁▁▁▂▂▁▁▁▁▁▁▂▁▁▁▁▁▁▁▁▁▁▁▁▁</td></tr><tr><td>val/precision</td><td>▁▂▆▇▆▇▇▇█▇▇██▇███▇█████████████</td></tr><tr><td>val/recall</td><td>▁▄▅▆▆▆▇██▇▇██████▇█████████████</td></tr></table><br/></div><div class=\"wandb-col\"><h3>Run summary:</h3><br/><table class=\"wandb\"><tr><td>iter</td><td>300</td></tr><tr><td>lr</td><td>0.0005</td></tr><tr><td>mfu</td><td>47.12628</td></tr><tr><td>test/acc</td><td>0.7</td></tr><tr><td>test/f1</td><td>0.68087</td></tr><tr><td>test/precision</td><td>0.7598</td></tr><tr><td>test/recall</td><td>0.7</td></tr><tr><td>train/loss</td><td>0.07405</td></tr><tr><td>val/acc</td><td>0.99485</td></tr><tr><td>val/f1</td><td>0.99487</td></tr><tr><td>val/loss</td><td>0.0151</td></tr><tr><td>val/precision</td><td>0.99496</td></tr><tr><td>val/recall</td><td>0.99485</td></tr></table><br/></div></div>"
            ]
          },
          "metadata": {}
        },
        {
          "output_type": "display_data",
          "data": {
            "text/plain": [
              "<IPython.core.display.HTML object>"
            ],
            "text/html": [
              " View run <strong style=\"color:#cdcd00\">lucky-sweep-1</strong> at: <a href='https://wandb.ai/di725/DI725-Assignment1/runs/h37sgumn' target=\"_blank\">https://wandb.ai/di725/DI725-Assignment1/runs/h37sgumn</a><br/> View project at: <a href='https://wandb.ai/di725/DI725-Assignment1' target=\"_blank\">https://wandb.ai/di725/DI725-Assignment1</a><br/>Synced 5 W&B file(s), 0 media file(s), 0 artifact file(s) and 0 other file(s)"
            ]
          },
          "metadata": {}
        },
        {
          "output_type": "display_data",
          "data": {
            "text/plain": [
              "<IPython.core.display.HTML object>"
            ],
            "text/html": [
              "Find logs at: <code>./wandb/run-20240415_104856-h37sgumn/logs</code>"
            ]
          },
          "metadata": {}
        },
        {
          "output_type": "stream",
          "name": "stderr",
          "text": [
            "\u001b[34m\u001b[1mwandb\u001b[0m: Agent Starting Run: m1rfb5b4 with config:\n",
            "\u001b[34m\u001b[1mwandb\u001b[0m: \tdropout: 0.05\n",
            "\u001b[34m\u001b[1mwandb\u001b[0m: \tlearning_rate: 1e-05\n"
          ]
        },
        {
          "output_type": "display_data",
          "data": {
            "text/plain": [
              "<IPython.core.display.HTML object>"
            ],
            "text/html": [
              "Tracking run with wandb version 0.16.6"
            ]
          },
          "metadata": {}
        },
        {
          "output_type": "display_data",
          "data": {
            "text/plain": [
              "<IPython.core.display.HTML object>"
            ],
            "text/html": [
              "Run data is saved locally in <code>/content/wandb/run-20240415_105709-m1rfb5b4</code>"
            ]
          },
          "metadata": {}
        },
        {
          "output_type": "display_data",
          "data": {
            "text/plain": [
              "<IPython.core.display.HTML object>"
            ],
            "text/html": [
              "Syncing run <strong><a href='https://wandb.ai/di725/DI725-Assignment1/runs/m1rfb5b4' target=\"_blank\">classic-sweep-2</a></strong> to <a href='https://wandb.ai/di725/DI725-Assignment1' target=\"_blank\">Weights & Biases</a> (<a href='https://wandb.me/run' target=\"_blank\">docs</a>)<br/>Sweep page: <a href='https://wandb.ai/di725/DI725-Assignment1/sweeps/sebpco96' target=\"_blank\">https://wandb.ai/di725/DI725-Assignment1/sweeps/sebpco96</a>"
            ]
          },
          "metadata": {}
        },
        {
          "output_type": "display_data",
          "data": {
            "text/plain": [
              "<IPython.core.display.HTML object>"
            ],
            "text/html": [
              " View project at <a href='https://wandb.ai/di725/DI725-Assignment1' target=\"_blank\">https://wandb.ai/di725/DI725-Assignment1</a>"
            ]
          },
          "metadata": {}
        },
        {
          "output_type": "display_data",
          "data": {
            "text/plain": [
              "<IPython.core.display.HTML object>"
            ],
            "text/html": [
              " View sweep at <a href='https://wandb.ai/di725/DI725-Assignment1/sweeps/sebpco96' target=\"_blank\">https://wandb.ai/di725/DI725-Assignment1/sweeps/sebpco96</a>"
            ]
          },
          "metadata": {}
        },
        {
          "output_type": "display_data",
          "data": {
            "text/plain": [
              "<IPython.core.display.HTML object>"
            ],
            "text/html": [
              " View run at <a href='https://wandb.ai/di725/DI725-Assignment1/runs/m1rfb5b4' target=\"_blank\">https://wandb.ai/di725/DI725-Assignment1/runs/m1rfb5b4</a>"
            ]
          },
          "metadata": {}
        },
        {
          "output_type": "stream",
          "name": "stdout",
          "text": [
            "tokens per iteration will be: 32,768\n",
            "Initializing from OpenAI GPT-2 weights: gpt2\n",
            "loading weights from pretrained gpt: gpt2\n",
            "forcing vocab_size=50257, block_size=1024, bias=True\n",
            "overriding dropout rate to 0.05\n",
            "number of parameters: 123.66M\n",
            "num decayed parameter tensors: 51, with 124,320,768 parameters\n",
            "num non-decayed parameter tensors: 99, with 121,347 parameters\n",
            "using fused AdamW: True\n",
            "Validation Confusion Matrix \n",
            " []\n"
          ]
        },
        {
          "output_type": "stream",
          "name": "stderr",
          "text": [
            "/usr/local/lib/python3.10/dist-packages/sklearn/metrics/_classification.py:1344: UndefinedMetricWarning: Precision is ill-defined and being set to 0.0 in labels with no predicted samples. Use `zero_division` parameter to control this behavior.\n",
            "  _warn_prf(average, modifier, msg_start, len(result))\n"
          ]
        },
        {
          "output_type": "stream",
          "name": "stdout",
          "text": [
            "Validation Confusion Matrix \n",
            " [[  0   0 329]\n",
            " [  0   0 433]\n",
            " [  0   0  14]]\n",
            "step 0: train loss 4.1345, val loss 4.2081,val accuracy 0.0180, val precision 0.0003, , val recall 0.0180, , val f1 0.0006\n"
          ]
        },
        {
          "output_type": "stream",
          "name": "stderr",
          "text": [
            "/usr/local/lib/python3.10/dist-packages/sklearn/metrics/_classification.py:1344: UndefinedMetricWarning: Precision is ill-defined and being set to 0.0 in labels with no predicted samples. Use `zero_division` parameter to control this behavior.\n",
            "  _warn_prf(average, modifier, msg_start, len(result))\n"
          ]
        },
        {
          "output_type": "stream",
          "name": "stdout",
          "text": [
            "Test Confusion Matrix \n",
            " [[ 0  0 10]\n",
            " [ 0  0 10]\n",
            " [ 0  0 10]]\n",
            "step 0: test loss 2.7203,test accuracy 0.3333, test precision 0.1111, , test recall 0.3333, , test f1 0.1667\n",
            "iter 0: loss 4.1633, time 8740.39ms, mfu -100.00%\n",
            "iter 1: loss 4.0870, time 195.80ms, mfu -100.00%\n",
            "iter 2: loss 4.2356, time 199.78ms, mfu -100.00%\n",
            "iter 3: loss 3.8220, time 201.86ms, mfu -100.00%\n",
            "iter 4: loss 3.8755, time 200.29ms, mfu -100.00%\n",
            "iter 5: loss 3.8101, time 200.04ms, mfu 44.90%\n",
            "iter 6: loss 4.2874, time 200.57ms, mfu 44.89%\n",
            "iter 7: loss 4.1184, time 200.32ms, mfu 44.88%\n",
            "iter 8: loss 4.1805, time 201.55ms, mfu 44.85%\n",
            "iter 9: loss 3.0712, time 206.53ms, mfu 44.71%\n",
            "Validation Confusion Matrix \n",
            " []\n"
          ]
        },
        {
          "output_type": "stream",
          "name": "stderr",
          "text": [
            "/usr/local/lib/python3.10/dist-packages/sklearn/metrics/_classification.py:1344: UndefinedMetricWarning: Precision is ill-defined and being set to 0.0 in labels with no predicted samples. Use `zero_division` parameter to control this behavior.\n",
            "  _warn_prf(average, modifier, msg_start, len(result))\n"
          ]
        },
        {
          "output_type": "stream",
          "name": "stdout",
          "text": [
            "Validation Confusion Matrix \n",
            " [[  0   0 339]\n",
            " [  0   0 426]\n",
            " [  0   0  11]]\n",
            "step 10: train loss 2.2462, val loss 2.2349,val accuracy 0.0142, val precision 0.0002, , val recall 0.0142, , val f1 0.0004\n",
            "iter 10: loss 2.0622, time 13625.64ms, mfu 40.31%\n",
            "iter 11: loss 1.7665, time 204.41ms, mfu 40.67%\n",
            "iter 12: loss 1.4931, time 205.25ms, mfu 40.98%\n",
            "iter 13: loss 1.1594, time 203.35ms, mfu 41.30%\n",
            "iter 14: loss 0.9967, time 204.14ms, mfu 41.57%\n",
            "iter 15: loss 0.8503, time 207.00ms, mfu 41.75%\n",
            "iter 16: loss 0.8757, time 204.35ms, mfu 41.97%\n",
            "iter 17: loss 0.7600, time 87.51ms, mfu 48.04%\n",
            "iter 18: loss 0.7922, time 200.90ms, mfu 47.70%\n",
            "iter 19: loss 0.8653, time 205.28ms, mfu 47.31%\n",
            "Validation Confusion Matrix \n",
            " []\n"
          ]
        },
        {
          "output_type": "stream",
          "name": "stderr",
          "text": [
            "/usr/local/lib/python3.10/dist-packages/sklearn/metrics/_classification.py:1344: UndefinedMetricWarning: Precision is ill-defined and being set to 0.0 in labels with no predicted samples. Use `zero_division` parameter to control this behavior.\n",
            "  _warn_prf(average, modifier, msg_start, len(result))\n"
          ]
        },
        {
          "output_type": "stream",
          "name": "stdout",
          "text": [
            "Validation Confusion Matrix \n",
            " [[103 201   0]\n",
            " [ 36 423   0]\n",
            " [  0  13   0]]\n",
            "step 20: train loss 0.7159, val loss 0.6901,val accuracy 0.6778, val precision 0.6831, , val recall 0.6778, , val f1 0.6387\n"
          ]
        },
        {
          "output_type": "stream",
          "name": "stderr",
          "text": [
            "/usr/local/lib/python3.10/dist-packages/sklearn/metrics/_classification.py:1344: UndefinedMetricWarning: Precision is ill-defined and being set to 0.0 in labels with no predicted samples. Use `zero_division` parameter to control this behavior.\n",
            "  _warn_prf(average, modifier, msg_start, len(result))\n"
          ]
        },
        {
          "output_type": "stream",
          "name": "stdout",
          "text": [
            "Test Confusion Matrix \n",
            " [[ 6  4  0]\n",
            " [ 2  8  0]\n",
            " [ 0 10  0]]\n",
            "step 20: test loss 1.6049,test accuracy 0.4667, test precision 0.3712, , test recall 0.4667, , test f1 0.3889\n",
            "iter 20: loss 0.7107, time 13589.93ms, mfu 42.64%\n",
            "iter 21: loss 0.8837, time 206.06ms, mfu 42.74%\n",
            "iter 22: loss 0.7116, time 203.01ms, mfu 42.89%\n",
            "iter 23: loss 0.7976, time 206.77ms, mfu 42.94%\n",
            "iter 24: loss 0.7297, time 202.99ms, mfu 43.07%\n",
            "iter 25: loss 0.6328, time 87.88ms, mfu 48.99%\n",
            "iter 26: loss 0.6092, time 200.51ms, mfu 48.57%\n",
            "iter 27: loss 0.7226, time 205.12ms, mfu 48.09%\n",
            "iter 28: loss 0.8459, time 204.84ms, mfu 47.67%\n",
            "iter 29: loss 0.6258, time 206.29ms, mfu 47.25%\n",
            "Validation Confusion Matrix \n",
            " []\n"
          ]
        },
        {
          "output_type": "stream",
          "name": "stderr",
          "text": [
            "/usr/local/lib/python3.10/dist-packages/sklearn/metrics/_classification.py:1344: UndefinedMetricWarning: Precision is ill-defined and being set to 0.0 in labels with no predicted samples. Use `zero_division` parameter to control this behavior.\n",
            "  _warn_prf(average, modifier, msg_start, len(result))\n"
          ]
        },
        {
          "output_type": "stream",
          "name": "stdout",
          "text": [
            "Validation Confusion Matrix \n",
            " [[ 69 266   0]\n",
            " [ 15 413   0]\n",
            " [  0  13   0]]\n",
            "step 30: train loss 0.7024, val loss 0.6939,val accuracy 0.6211, val precision 0.6838, , val recall 0.6211, , val f1 0.5489\n",
            "iter 30: loss 0.7695, time 13643.27ms, mfu 42.59%\n",
            "iter 31: loss 0.6548, time 204.46ms, mfu 42.73%\n",
            "iter 32: loss 0.8300, time 205.72ms, mfu 42.82%\n",
            "iter 33: loss 0.6165, time 200.09ms, mfu 43.03%\n",
            "iter 34: loss 0.7831, time 83.75ms, mfu 49.45%\n",
            "iter 35: loss 0.5942, time 203.94ms, mfu 48.91%\n",
            "iter 36: loss 0.6148, time 204.77ms, mfu 48.40%\n",
            "iter 37: loss 0.7372, time 210.17ms, mfu 47.84%\n",
            "iter 38: loss 0.5501, time 199.41ms, mfu 47.56%\n",
            "iter 39: loss 0.7219, time 204.72ms, mfu 47.19%\n",
            "Validation Confusion Matrix \n",
            " []\n"
          ]
        },
        {
          "output_type": "stream",
          "name": "stderr",
          "text": [
            "/usr/local/lib/python3.10/dist-packages/sklearn/metrics/_classification.py:1344: UndefinedMetricWarning: Precision is ill-defined and being set to 0.0 in labels with no predicted samples. Use `zero_division` parameter to control this behavior.\n",
            "  _warn_prf(average, modifier, msg_start, len(result))\n"
          ]
        },
        {
          "output_type": "stream",
          "name": "stdout",
          "text": [
            "Validation Confusion Matrix \n",
            " [[281  41   0]\n",
            " [257 188   0]\n",
            " [  4   5   0]]\n",
            "step 40: train loss 0.7246, val loss 0.7082,val accuracy 0.6044, val precision 0.6759, , val recall 0.6044, , val f1 0.5875\n"
          ]
        },
        {
          "output_type": "stream",
          "name": "stderr",
          "text": [
            "/usr/local/lib/python3.10/dist-packages/sklearn/metrics/_classification.py:1344: UndefinedMetricWarning: Precision is ill-defined and being set to 0.0 in labels with no predicted samples. Use `zero_division` parameter to control this behavior.\n",
            "  _warn_prf(average, modifier, msg_start, len(result))\n"
          ]
        },
        {
          "output_type": "stream",
          "name": "stdout",
          "text": [
            "Test Confusion Matrix \n",
            " [[10  0  0]\n",
            " [ 7  3  0]\n",
            " [ 3  7  0]]\n",
            "step 40: test loss 1.5360,test accuracy 0.4333, test precision 0.2667, , test recall 0.4333, , test f1 0.3222\n",
            "iter 40: loss 0.6006, time 13846.23ms, mfu 42.53%\n",
            "iter 41: loss 0.6084, time 199.54ms, mfu 42.78%\n",
            "iter 42: loss 0.8079, time 86.36ms, mfu 48.90%\n",
            "iter 43: loss 0.6571, time 203.75ms, mfu 48.42%\n",
            "iter 44: loss 0.5341, time 204.92ms, mfu 47.96%\n",
            "iter 45: loss 0.7862, time 205.97ms, mfu 47.53%\n",
            "iter 46: loss 0.6594, time 204.26ms, mfu 47.17%\n",
            "iter 47: loss 0.7258, time 205.42ms, mfu 46.83%\n",
            "iter 48: loss 0.5346, time 204.76ms, mfu 46.53%\n",
            "iter 49: loss 0.5628, time 205.16ms, mfu 46.26%\n",
            "Validation Confusion Matrix \n",
            " []\n"
          ]
        },
        {
          "output_type": "stream",
          "name": "stderr",
          "text": [
            "/usr/local/lib/python3.10/dist-packages/sklearn/metrics/_classification.py:1344: UndefinedMetricWarning: Precision is ill-defined and being set to 0.0 in labels with no predicted samples. Use `zero_division` parameter to control this behavior.\n",
            "  _warn_prf(average, modifier, msg_start, len(result))\n"
          ]
        },
        {
          "output_type": "stream",
          "name": "stdout",
          "text": [
            "Validation Confusion Matrix \n",
            " [[154 186   0]\n",
            " [ 51 378   0]\n",
            " [  0   7   0]]\n",
            "step 50: train loss 0.6549, val loss 0.6334,val accuracy 0.6856, val precision 0.6951, , val recall 0.6856, , val f1 0.6656\n",
            "iter 50: loss 0.6156, time 13352.87ms, mfu 41.70%\n",
            "iter 51: loss 0.6307, time 207.64ms, mfu 41.85%\n",
            "iter 52: loss 0.5531, time 203.97ms, mfu 42.07%\n",
            "iter 53: loss 0.6291, time 201.95ms, mfu 42.31%\n",
            "iter 54: loss 0.6871, time 207.15ms, mfu 42.42%\n",
            "iter 55: loss 0.4633, time 205.87ms, mfu 42.54%\n",
            "iter 56: loss 0.4881, time 203.59ms, mfu 42.70%\n",
            "iter 57: loss 0.6785, time 206.97ms, mfu 42.77%\n",
            "iter 58: loss 0.5846, time 204.78ms, mfu 42.87%\n",
            "iter 59: loss 0.7244, time 205.18ms, mfu 42.96%\n",
            "Validation Confusion Matrix \n",
            " []\n"
          ]
        },
        {
          "output_type": "stream",
          "name": "stderr",
          "text": [
            "/usr/local/lib/python3.10/dist-packages/sklearn/metrics/_classification.py:1344: UndefinedMetricWarning: Precision is ill-defined and being set to 0.0 in labels with no predicted samples. Use `zero_division` parameter to control this behavior.\n",
            "  _warn_prf(average, modifier, msg_start, len(result))\n"
          ]
        },
        {
          "output_type": "stream",
          "name": "stdout",
          "text": [
            "Validation Confusion Matrix \n",
            " [[326   6   0]\n",
            " [275 157   0]\n",
            " [  7   5   0]]\n",
            "step 60: train loss 0.7904, val loss 0.7430,val accuracy 0.6224, val precision 0.7496, , val recall 0.6224, , val f1 0.5881\n"
          ]
        },
        {
          "output_type": "stream",
          "name": "stderr",
          "text": [
            "/usr/local/lib/python3.10/dist-packages/sklearn/metrics/_classification.py:1344: UndefinedMetricWarning: Precision is ill-defined and being set to 0.0 in labels with no predicted samples. Use `zero_division` parameter to control this behavior.\n",
            "  _warn_prf(average, modifier, msg_start, len(result))\n"
          ]
        },
        {
          "output_type": "stream",
          "name": "stdout",
          "text": [
            "Test Confusion Matrix \n",
            " [[10  0  0]\n",
            " [ 8  2  0]\n",
            " [ 5  5  0]]\n",
            "step 60: test loss 1.8918,test accuracy 0.4000, test precision 0.2402, , test recall 0.4000, , test f1 0.2805\n",
            "iter 60: loss 0.5348, time 13630.01ms, mfu 38.73%\n",
            "iter 61: loss 0.6332, time 205.13ms, mfu 39.24%\n",
            "iter 62: loss 0.9062, time 205.42ms, mfu 39.69%\n",
            "iter 63: loss 0.6564, time 204.54ms, mfu 40.11%\n",
            "iter 64: loss 0.6054, time 206.09ms, mfu 40.46%\n",
            "iter 65: loss 0.3320, time 200.29ms, mfu 40.90%\n",
            "iter 66: loss 0.6344, time 85.37ms, mfu 47.33%\n",
            "iter 67: loss 0.5673, time 205.54ms, mfu 46.96%\n",
            "iter 68: loss 0.5952, time 204.69ms, mfu 46.66%\n",
            "iter 69: loss 0.6442, time 207.60ms, mfu 46.32%\n",
            "Validation Confusion Matrix \n",
            " []\n"
          ]
        },
        {
          "output_type": "stream",
          "name": "stderr",
          "text": [
            "/usr/local/lib/python3.10/dist-packages/sklearn/metrics/_classification.py:1344: UndefinedMetricWarning: Precision is ill-defined and being set to 0.0 in labels with no predicted samples. Use `zero_division` parameter to control this behavior.\n",
            "  _warn_prf(average, modifier, msg_start, len(result))\n"
          ]
        },
        {
          "output_type": "stream",
          "name": "stdout",
          "text": [
            "Validation Confusion Matrix \n",
            " [[313  16   0]\n",
            " [232 205   0]\n",
            " [  7   3   0]]\n",
            "step 70: train loss 0.6972, val loss 0.6536,val accuracy 0.6675, val precision 0.7558, , val recall 0.6675, , val f1 0.6506\n",
            "iter 70: loss 0.4805, time 13398.03ms, mfu 41.75%\n",
            "iter 71: loss 0.8922, time 204.42ms, mfu 41.97%\n",
            "iter 72: loss 0.5037, time 206.75ms, mfu 42.12%\n",
            "iter 73: loss 0.6168, time 208.38ms, mfu 42.22%\n",
            "iter 74: loss 0.1690, time 197.86ms, mfu 42.53%\n",
            "iter 75: loss 0.5269, time 87.81ms, mfu 48.51%\n",
            "iter 76: loss 0.5952, time 204.08ms, mfu 48.06%\n",
            "iter 77: loss 0.7694, time 204.23ms, mfu 47.65%\n",
            "iter 78: loss 0.7373, time 205.41ms, mfu 47.26%\n",
            "iter 79: loss 0.5975, time 205.67ms, mfu 46.90%\n",
            "Validation Confusion Matrix \n",
            " []\n"
          ]
        },
        {
          "output_type": "stream",
          "name": "stderr",
          "text": [
            "/usr/local/lib/python3.10/dist-packages/sklearn/metrics/_classification.py:1344: UndefinedMetricWarning: Precision is ill-defined and being set to 0.0 in labels with no predicted samples. Use `zero_division` parameter to control this behavior.\n",
            "  _warn_prf(average, modifier, msg_start, len(result))\n"
          ]
        },
        {
          "output_type": "stream",
          "name": "stdout",
          "text": [
            "Validation Confusion Matrix \n",
            " [[322   6   0]\n",
            " [299 138   0]\n",
            " [  8   3   0]]\n",
            "step 80: train loss 0.8120, val loss 0.7582,val accuracy 0.5928, val precision 0.7450, , val recall 0.5928, , val f1 0.5506\n"
          ]
        },
        {
          "output_type": "stream",
          "name": "stderr",
          "text": [
            "/usr/local/lib/python3.10/dist-packages/sklearn/metrics/_classification.py:1344: UndefinedMetricWarning: Precision is ill-defined and being set to 0.0 in labels with no predicted samples. Use `zero_division` parameter to control this behavior.\n",
            "  _warn_prf(average, modifier, msg_start, len(result))\n"
          ]
        },
        {
          "output_type": "stream",
          "name": "stdout",
          "text": [
            "Test Confusion Matrix \n",
            " [[10  0  0]\n",
            " [ 8  2  0]\n",
            " [ 7  3  0]]\n",
            "step 80: test loss 1.4103,test accuracy 0.4000, test precision 0.2667, , test recall 0.4000, , test f1 0.2794\n",
            "iter 80: loss 0.4106, time 13981.78ms, mfu 42.27%\n",
            "iter 81: loss 0.5235, time 205.90ms, mfu 42.41%\n",
            "iter 82: loss 0.1106, time 207.10ms, mfu 42.50%\n",
            "iter 83: loss 0.3917, time 85.38ms, mfu 48.77%\n",
            "iter 84: loss 0.4143, time 205.29ms, mfu 48.27%\n",
            "iter 85: loss 0.5483, time 207.49ms, mfu 47.77%\n",
            "iter 86: loss 0.5176, time 205.85ms, mfu 47.36%\n",
            "iter 87: loss 0.5448, time 209.02ms, mfu 46.92%\n",
            "iter 88: loss 0.5426, time 205.50ms, mfu 46.60%\n",
            "iter 89: loss 0.6383, time 205.25ms, mfu 46.31%\n",
            "Validation Confusion Matrix \n",
            " []\n"
          ]
        },
        {
          "output_type": "stream",
          "name": "stderr",
          "text": [
            "/usr/local/lib/python3.10/dist-packages/sklearn/metrics/_classification.py:1344: UndefinedMetricWarning: Precision is ill-defined and being set to 0.0 in labels with no predicted samples. Use `zero_division` parameter to control this behavior.\n",
            "  _warn_prf(average, modifier, msg_start, len(result))\n"
          ]
        },
        {
          "output_type": "stream",
          "name": "stdout",
          "text": [
            "Validation Confusion Matrix \n",
            " [[322   7   0]\n",
            " [265 170   0]\n",
            " [  7   5   0]]\n",
            "step 90: train loss 0.7934, val loss 0.7651,val accuracy 0.6340, val precision 0.7534, , val recall 0.6340, , val f1 0.6047\n",
            "iter 90: loss 0.6264, time 13657.52ms, mfu 41.75%\n",
            "iter 91: loss 0.0531, time 199.10ms, mfu 42.09%\n",
            "iter 92: loss 0.4892, time 85.47ms, mfu 48.39%\n",
            "iter 93: loss 0.3187, time 209.22ms, mfu 47.84%\n",
            "iter 94: loss 0.3137, time 199.72ms, mfu 47.55%\n",
            "iter 95: loss 0.4784, time 207.91ms, mfu 47.12%\n",
            "iter 96: loss 0.5728, time 202.55ms, mfu 46.84%\n",
            "iter 97: loss 0.5868, time 206.29ms, mfu 46.51%\n",
            "iter 98: loss 0.5940, time 205.06ms, mfu 46.24%\n",
            "iter 99: loss 0.5612, time 205.27ms, mfu 45.99%\n",
            "Validation Confusion Matrix \n",
            " []\n"
          ]
        },
        {
          "output_type": "stream",
          "name": "stderr",
          "text": [
            "/usr/local/lib/python3.10/dist-packages/sklearn/metrics/_classification.py:1344: UndefinedMetricWarning: Precision is ill-defined and being set to 0.0 in labels with no predicted samples. Use `zero_division` parameter to control this behavior.\n",
            "  _warn_prf(average, modifier, msg_start, len(result))\n"
          ]
        },
        {
          "output_type": "stream",
          "name": "stdout",
          "text": [
            "Validation Confusion Matrix \n",
            " [[345   1   0]\n",
            " [326  90   0]\n",
            " [ 12   2   0]]\n",
            "step 100: train loss 1.1202, val loss 1.0746,val accuracy 0.5606, val precision 0.7440, , val recall 0.5606, , val f1 0.4886\n"
          ]
        },
        {
          "output_type": "stream",
          "name": "stderr",
          "text": [
            "/usr/local/lib/python3.10/dist-packages/sklearn/metrics/_classification.py:1344: UndefinedMetricWarning: Precision is ill-defined and being set to 0.0 in labels with no predicted samples. Use `zero_division` parameter to control this behavior.\n",
            "  _warn_prf(average, modifier, msg_start, len(result))\n"
          ]
        },
        {
          "output_type": "stream",
          "name": "stdout",
          "text": [
            "Test Confusion Matrix \n",
            " [[10  0  0]\n",
            " [ 9  1  0]\n",
            " [ 8  2  0]]\n",
            "step 100: test loss 1.9984,test accuracy 0.3667, test precision 0.2346, , test recall 0.3667, , test f1 0.2315\n",
            "iter 100: loss 0.2945, time 13710.73ms, mfu 41.46%\n",
            "iter 101: loss 0.9858, time 206.39ms, mfu 41.66%\n",
            "iter 102: loss 0.8047, time 204.59ms, mfu 41.89%\n",
            "iter 103: loss 0.8240, time 206.75ms, mfu 42.04%\n",
            "iter 104: loss 0.4175, time 205.11ms, mfu 42.22%\n",
            "iter 105: loss 0.4785, time 205.84ms, mfu 42.36%\n",
            "iter 106: loss 0.0620, time 196.08ms, mfu 42.70%\n",
            "iter 107: loss 0.4676, time 86.06ms, mfu 48.87%\n",
            "iter 108: loss 0.7306, time 205.13ms, mfu 48.36%\n",
            "iter 109: loss 0.3985, time 206.37ms, mfu 47.88%\n",
            "Validation Confusion Matrix \n",
            " []\n"
          ]
        },
        {
          "output_type": "stream",
          "name": "stderr",
          "text": [
            "/usr/local/lib/python3.10/dist-packages/sklearn/metrics/_classification.py:1344: UndefinedMetricWarning: Precision is ill-defined and being set to 0.0 in labels with no predicted samples. Use `zero_division` parameter to control this behavior.\n",
            "  _warn_prf(average, modifier, msg_start, len(result))\n"
          ]
        },
        {
          "output_type": "stream",
          "name": "stdout",
          "text": [
            "Validation Confusion Matrix \n",
            " [[334   1   0]\n",
            " [290 140   0]\n",
            " [  6   5   0]]\n",
            "step 110: train loss 0.8556, val loss 0.8200,val accuracy 0.6108, val precision 0.7602, , val recall 0.6108, , val f1 0.5682\n",
            "iter 110: loss 0.3560, time 13430.44ms, mfu 43.16%\n",
            "iter 111: loss 0.6251, time 208.93ms, mfu 43.14%\n",
            "iter 112: loss 0.8370, time 203.46ms, mfu 43.24%\n",
            "iter 113: loss 0.4062, time 206.86ms, mfu 43.26%\n",
            "iter 114: loss 0.3483, time 204.32ms, mfu 43.33%\n",
            "iter 115: loss 0.0358, time 195.63ms, mfu 43.59%\n",
            "iter 116: loss 0.4156, time 85.18ms, mfu 49.77%\n",
            "iter 117: loss 0.3357, time 204.17ms, mfu 49.19%\n",
            "iter 118: loss 0.4554, time 206.95ms, mfu 48.61%\n",
            "iter 119: loss 0.2892, time 203.35ms, mfu 48.17%\n",
            "Validation Confusion Matrix \n",
            " []\n"
          ]
        },
        {
          "output_type": "stream",
          "name": "stderr",
          "text": [
            "/usr/local/lib/python3.10/dist-packages/sklearn/metrics/_classification.py:1344: UndefinedMetricWarning: Precision is ill-defined and being set to 0.0 in labels with no predicted samples. Use `zero_division` parameter to control this behavior.\n",
            "  _warn_prf(average, modifier, msg_start, len(result))\n"
          ]
        },
        {
          "output_type": "stream",
          "name": "stdout",
          "text": [
            "Validation Confusion Matrix \n",
            " [[329   4   0]\n",
            " [204 225   0]\n",
            " [  8   6   0]]\n",
            "step 120: train loss 0.7011, val loss 0.6541,val accuracy 0.7139, val precision 0.7903, , val recall 0.7139, , val f1 0.6977\n"
          ]
        },
        {
          "output_type": "stream",
          "name": "stderr",
          "text": [
            "/usr/local/lib/python3.10/dist-packages/sklearn/metrics/_classification.py:1344: UndefinedMetricWarning: Precision is ill-defined and being set to 0.0 in labels with no predicted samples. Use `zero_division` parameter to control this behavior.\n",
            "  _warn_prf(average, modifier, msg_start, len(result))\n"
          ]
        },
        {
          "output_type": "stream",
          "name": "stdout",
          "text": [
            "Test Confusion Matrix \n",
            " [[10  0  0]\n",
            " [ 5  5  0]\n",
            " [ 1  9  0]]\n",
            "step 120: test loss 1.2273,test accuracy 0.5000, test precision 0.3274, , test recall 0.5000, , test f1 0.3953\n",
            "iter 120: loss 0.1890, time 13933.73ms, mfu 43.42%\n",
            "iter 121: loss 0.3910, time 205.17ms, mfu 43.45%\n",
            "iter 122: loss 0.3401, time 205.92ms, mfu 43.47%\n",
            "iter 123: loss 0.0275, time 194.81ms, mfu 43.73%\n",
            "iter 124: loss 0.2194, time 85.02ms, mfu 49.92%\n",
            "iter 125: loss 0.4525, time 205.08ms, mfu 49.31%\n",
            "iter 126: loss 0.3939, time 205.05ms, mfu 48.76%\n",
            "iter 127: loss 0.3437, time 204.93ms, mfu 48.27%\n",
            "iter 128: loss 0.2079, time 204.86ms, mfu 47.82%\n",
            "iter 129: loss 0.3444, time 205.36ms, mfu 47.42%\n",
            "Validation Confusion Matrix \n",
            " []\n"
          ]
        },
        {
          "output_type": "stream",
          "name": "stderr",
          "text": [
            "/usr/local/lib/python3.10/dist-packages/sklearn/metrics/_classification.py:1344: UndefinedMetricWarning: Precision is ill-defined and being set to 0.0 in labels with no predicted samples. Use `zero_division` parameter to control this behavior.\n",
            "  _warn_prf(average, modifier, msg_start, len(result))\n"
          ]
        },
        {
          "output_type": "stream",
          "name": "stdout",
          "text": [
            "Validation Confusion Matrix \n",
            " [[322   0   0]\n",
            " [306 133   0]\n",
            " [  9   6   0]]\n",
            "step 130: train loss 0.9959, val loss 0.9852,val accuracy 0.5863, val precision 0.7511, , val recall 0.5863, , val f1 0.5390\n",
            "iter 130: loss 0.3382, time 13627.97ms, mfu 42.74%\n",
            "iter 131: loss 0.3977, time 205.34ms, mfu 42.84%\n",
            "iter 132: loss 0.0304, time 196.19ms, mfu 43.13%\n",
            "iter 133: loss 0.6332, time 86.52ms, mfu 49.20%\n",
            "iter 134: loss 0.4814, time 204.02ms, mfu 48.68%\n",
            "iter 135: loss 0.3902, time 203.55ms, mfu 48.23%\n",
            "iter 136: loss 0.3966, time 204.96ms, mfu 47.79%\n",
            "iter 137: loss 0.1391, time 205.48ms, mfu 47.38%\n",
            "iter 138: loss 0.2565, time 205.87ms, mfu 47.00%\n",
            "iter 139: loss 0.5331, time 205.13ms, mfu 46.68%\n",
            "Validation Confusion Matrix \n",
            " []\n"
          ]
        },
        {
          "output_type": "stream",
          "name": "stderr",
          "text": [
            "/usr/local/lib/python3.10/dist-packages/sklearn/metrics/_classification.py:1344: UndefinedMetricWarning: Precision is ill-defined and being set to 0.0 in labels with no predicted samples. Use `zero_division` parameter to control this behavior.\n",
            "  _warn_prf(average, modifier, msg_start, len(result))\n"
          ]
        },
        {
          "output_type": "stream",
          "name": "stdout",
          "text": [
            "Validation Confusion Matrix \n",
            " [[329   1   0]\n",
            " [367  69   0]\n",
            " [ 10   0   0]]\n",
            "step 140: train loss 1.0554, val loss 1.1169,val accuracy 0.5129, val precision 0.7520, , val recall 0.5129, , val f1 0.4233\n"
          ]
        },
        {
          "output_type": "stream",
          "name": "stderr",
          "text": [
            "/usr/local/lib/python3.10/dist-packages/sklearn/metrics/_classification.py:1344: UndefinedMetricWarning: Precision is ill-defined and being set to 0.0 in labels with no predicted samples. Use `zero_division` parameter to control this behavior.\n",
            "  _warn_prf(average, modifier, msg_start, len(result))\n"
          ]
        },
        {
          "output_type": "stream",
          "name": "stdout",
          "text": [
            "Test Confusion Matrix \n",
            " [[10  0  0]\n",
            " [ 9  1  0]\n",
            " [ 5  5  0]]\n",
            "step 140: test loss 2.2181,test accuracy 0.3667, test precision 0.1944, , test recall 0.3667, , test f1 0.2377\n",
            "iter 140: loss 0.2944, time 13659.00ms, mfu 42.08%\n",
            "iter 141: loss 0.2814, time 203.95ms, mfu 42.28%\n",
            "iter 142: loss 0.4646, time 204.71ms, mfu 42.44%\n",
            "iter 143: loss 0.3122, time 205.58ms, mfu 42.56%\n",
            "iter 144: loss 0.2600, time 203.08ms, mfu 42.73%\n",
            "iter 145: loss 0.4826, time 205.40ms, mfu 42.83%\n",
            "iter 146: loss 0.6779, time 205.57ms, mfu 42.91%\n",
            "iter 147: loss 0.3153, time 206.08ms, mfu 42.98%\n",
            "iter 148: loss 0.3687, time 205.29ms, mfu 43.06%\n",
            "iter 149: loss 0.6596, time 204.89ms, mfu 43.14%\n",
            "Validation Confusion Matrix \n",
            " []\n"
          ]
        },
        {
          "output_type": "stream",
          "name": "stderr",
          "text": [
            "/usr/local/lib/python3.10/dist-packages/sklearn/metrics/_classification.py:1344: UndefinedMetricWarning: Precision is ill-defined and being set to 0.0 in labels with no predicted samples. Use `zero_division` parameter to control this behavior.\n",
            "  _warn_prf(average, modifier, msg_start, len(result))\n"
          ]
        },
        {
          "output_type": "stream",
          "name": "stdout",
          "text": [
            "Validation Confusion Matrix \n",
            " [[324   0   0]\n",
            " [289 146   0]\n",
            " [ 11   6   0]]\n",
            "step 150: train loss 0.8142, val loss 0.8653,val accuracy 0.6057, val precision 0.7552, , val recall 0.6057, , val f1 0.5642\n",
            "iter 150: loss 0.3199, time 13409.67ms, mfu 38.89%\n",
            "iter 151: loss 0.6287, time 208.69ms, mfu 39.30%\n",
            "iter 152: loss 0.3691, time 204.65ms, mfu 39.76%\n",
            "iter 153: loss 0.6506, time 204.43ms, mfu 40.18%\n",
            "iter 154: loss 0.3276, time 205.51ms, mfu 40.53%\n",
            "iter 155: loss 0.4392, time 205.73ms, mfu 40.84%\n",
            "iter 156: loss 0.0225, time 203.23ms, mfu 41.18%\n",
            "iter 157: loss 0.2975, time 85.50ms, mfu 47.57%\n",
            "iter 158: loss 0.3317, time 203.84ms, mfu 47.22%\n",
            "iter 159: loss 0.3298, time 204.26ms, mfu 46.89%\n",
            "Validation Confusion Matrix \n",
            " []\n"
          ]
        },
        {
          "output_type": "stream",
          "name": "stderr",
          "text": [
            "/usr/local/lib/python3.10/dist-packages/sklearn/metrics/_classification.py:1344: UndefinedMetricWarning: Precision is ill-defined and being set to 0.0 in labels with no predicted samples. Use `zero_division` parameter to control this behavior.\n",
            "  _warn_prf(average, modifier, msg_start, len(result))\n"
          ]
        },
        {
          "output_type": "stream",
          "name": "stdout",
          "text": [
            "Validation Confusion Matrix \n",
            " [[316   6   0]\n",
            " [147 296   0]\n",
            " [  2   9   0]]\n",
            "step 160: train loss 0.4885, val loss 0.5158,val accuracy 0.7887, val precision 0.8253, , val recall 0.7887, , val f1 0.7814\n"
          ]
        },
        {
          "output_type": "stream",
          "name": "stderr",
          "text": [
            "/usr/local/lib/python3.10/dist-packages/sklearn/metrics/_classification.py:1344: UndefinedMetricWarning: Precision is ill-defined and being set to 0.0 in labels with no predicted samples. Use `zero_division` parameter to control this behavior.\n",
            "  _warn_prf(average, modifier, msg_start, len(result))\n"
          ]
        },
        {
          "output_type": "stream",
          "name": "stdout",
          "text": [
            "Test Confusion Matrix \n",
            " [[10  0  0]\n",
            " [ 3  7  0]\n",
            " [ 1  9  0]]\n",
            "step 160: test loss 1.4284,test accuracy 0.5667, test precision 0.3839, , test recall 0.5667, , test f1 0.4573\n",
            "iter 160: loss 0.1846, time 13676.68ms, mfu 42.27%\n",
            "iter 161: loss 0.5372, time 204.95ms, mfu 42.42%\n",
            "iter 162: loss 0.2182, time 206.72ms, mfu 42.53%\n",
            "iter 163: loss 0.3550, time 204.23ms, mfu 42.67%\n",
            "iter 164: loss 0.0127, time 196.40ms, mfu 42.98%\n",
            "iter 165: loss 0.2394, time 85.05ms, mfu 49.24%\n",
            "iter 166: loss 0.3410, time 205.16ms, mfu 48.69%\n",
            "iter 167: loss 0.4138, time 203.75ms, mfu 48.23%\n",
            "iter 168: loss 0.3039, time 205.76ms, mfu 47.77%\n",
            "iter 169: loss 0.2437, time 206.82ms, mfu 47.34%\n",
            "Validation Confusion Matrix \n",
            " []\n"
          ]
        },
        {
          "output_type": "stream",
          "name": "stderr",
          "text": [
            "/usr/local/lib/python3.10/dist-packages/sklearn/metrics/_classification.py:1344: UndefinedMetricWarning: Precision is ill-defined and being set to 0.0 in labels with no predicted samples. Use `zero_division` parameter to control this behavior.\n",
            "  _warn_prf(average, modifier, msg_start, len(result))\n"
          ]
        },
        {
          "output_type": "stream",
          "name": "stdout",
          "text": [
            "Validation Confusion Matrix \n",
            " [[328   3   0]\n",
            " [229 201   0]\n",
            " [  6   9   0]]\n",
            "step 170: train loss 0.7305, val loss 0.7576,val accuracy 0.6817, val precision 0.7714, , val recall 0.6817, , val f1 0.6594\n",
            "iter 170: loss 0.4665, time 13638.45ms, mfu 42.67%\n",
            "iter 171: loss 0.2836, time 205.14ms, mfu 42.78%\n",
            "iter 172: loss 0.2799, time 205.45ms, mfu 42.88%\n",
            "iter 173: loss 0.0084, time 199.72ms, mfu 43.09%\n",
            "iter 174: loss 0.4068, time 85.54ms, mfu 49.28%\n",
            "iter 175: loss 0.5642, time 205.00ms, mfu 48.73%\n",
            "iter 176: loss 0.4326, time 206.47ms, mfu 48.21%\n",
            "iter 177: loss 0.2679, time 207.72ms, mfu 47.71%\n",
            "iter 178: loss 0.1898, time 203.57ms, mfu 47.35%\n",
            "iter 179: loss 0.1091, time 206.56ms, mfu 46.96%\n",
            "Validation Confusion Matrix \n",
            " []\n"
          ]
        },
        {
          "output_type": "stream",
          "name": "stderr",
          "text": [
            "/usr/local/lib/python3.10/dist-packages/sklearn/metrics/_classification.py:1344: UndefinedMetricWarning: Precision is ill-defined and being set to 0.0 in labels with no predicted samples. Use `zero_division` parameter to control this behavior.\n",
            "  _warn_prf(average, modifier, msg_start, len(result))\n"
          ]
        },
        {
          "output_type": "stream",
          "name": "stdout",
          "text": [
            "Validation Confusion Matrix \n",
            " [[327   0   0]\n",
            " [346  88   0]\n",
            " [ 10   5   0]]\n",
            "step 180: train loss 1.1524, val loss 1.2205,val accuracy 0.5348, val precision 0.7310, , val recall 0.5348, , val f1 0.4596\n"
          ]
        },
        {
          "output_type": "stream",
          "name": "stderr",
          "text": [
            "/usr/local/lib/python3.10/dist-packages/sklearn/metrics/_classification.py:1344: UndefinedMetricWarning: Precision is ill-defined and being set to 0.0 in labels with no predicted samples. Use `zero_division` parameter to control this behavior.\n",
            "  _warn_prf(average, modifier, msg_start, len(result))\n"
          ]
        },
        {
          "output_type": "stream",
          "name": "stdout",
          "text": [
            "Test Confusion Matrix \n",
            " [[10  0  0]\n",
            " [ 9  1  0]\n",
            " [ 3  7  0]]\n",
            "step 180: test loss 2.0280,test accuracy 0.3667, test precision 0.1932, , test recall 0.3667, , test f1 0.2454\n",
            "iter 180: loss 0.9358, time 13965.78ms, mfu 42.33%\n",
            "iter 181: loss 0.0784, time 195.36ms, mfu 42.70%\n",
            "iter 182: loss 0.7535, time 85.03ms, mfu 48.99%\n",
            "iter 183: loss 0.2792, time 203.84ms, mfu 48.50%\n",
            "iter 184: loss 0.3344, time 204.65ms, mfu 48.04%\n",
            "iter 185: loss 0.1748, time 205.22ms, mfu 47.61%\n",
            "iter 186: loss 0.1025, time 205.81ms, mfu 47.21%\n",
            "iter 187: loss 0.1928, time 204.09ms, mfu 46.89%\n",
            "iter 188: loss 0.2557, time 204.13ms, mfu 46.60%\n",
            "iter 189: loss 0.2215, time 209.60ms, mfu 46.23%\n",
            "Validation Confusion Matrix \n",
            " []\n"
          ]
        },
        {
          "output_type": "stream",
          "name": "stderr",
          "text": [
            "/usr/local/lib/python3.10/dist-packages/sklearn/metrics/_classification.py:1344: UndefinedMetricWarning: Precision is ill-defined and being set to 0.0 in labels with no predicted samples. Use `zero_division` parameter to control this behavior.\n",
            "  _warn_prf(average, modifier, msg_start, len(result))\n"
          ]
        },
        {
          "output_type": "stream",
          "name": "stdout",
          "text": [
            "Validation Confusion Matrix \n",
            " [[310   5   0]\n",
            " [120 329   0]\n",
            " [  2  10   0]]\n",
            "step 190: train loss 0.4114, val loss 0.4519,val accuracy 0.8235, val precision 0.8447, , val recall 0.8235, , val f1 0.8170\n",
            "iter 190: loss 0.2714, time 13375.21ms, mfu 41.67%\n",
            "iter 191: loss 0.4608, time 205.13ms, mfu 41.88%\n",
            "iter 192: loss 0.2344, time 208.52ms, mfu 42.00%\n",
            "iter 193: loss 0.2613, time 203.36ms, mfu 42.22%\n",
            "iter 194: loss 0.3290, time 210.37ms, mfu 42.27%\n",
            "iter 195: loss 0.1428, time 202.38ms, mfu 42.48%\n",
            "iter 196: loss 0.4485, time 203.43ms, mfu 42.64%\n",
            "iter 197: loss 0.5054, time 206.29ms, mfu 42.73%\n",
            "iter 198: loss 0.6696, time 208.06ms, mfu 42.78%\n",
            "iter 199: loss 0.5376, time 204.95ms, mfu 42.88%\n",
            "Validation Confusion Matrix \n",
            " []\n"
          ]
        },
        {
          "output_type": "stream",
          "name": "stderr",
          "text": [
            "/usr/local/lib/python3.10/dist-packages/sklearn/metrics/_classification.py:1344: UndefinedMetricWarning: Precision is ill-defined and being set to 0.0 in labels with no predicted samples. Use `zero_division` parameter to control this behavior.\n",
            "  _warn_prf(average, modifier, msg_start, len(result))\n"
          ]
        },
        {
          "output_type": "stream",
          "name": "stdout",
          "text": [
            "Validation Confusion Matrix \n",
            " [[318  21   0]\n",
            " [109 317   0]\n",
            " [  2   9   0]]\n",
            "step 200: train loss 0.4405, val loss 0.4148,val accuracy 0.8183, val precision 0.8253, , val recall 0.8183, , val f1 0.8120\n"
          ]
        },
        {
          "output_type": "stream",
          "name": "stderr",
          "text": [
            "/usr/local/lib/python3.10/dist-packages/sklearn/metrics/_classification.py:1344: UndefinedMetricWarning: Precision is ill-defined and being set to 0.0 in labels with no predicted samples. Use `zero_division` parameter to control this behavior.\n",
            "  _warn_prf(average, modifier, msg_start, len(result))\n"
          ]
        },
        {
          "output_type": "stream",
          "name": "stdout",
          "text": [
            "Test Confusion Matrix \n",
            " [[9 1 0]\n",
            " [4 6 0]\n",
            " [2 8 0]]\n",
            "step 200: test loss 1.7373,test accuracy 0.5000, test precision 0.3333, , test recall 0.5000, , test f1 0.4000\n",
            "iter 200: loss 0.2485, time 13693.50ms, mfu 38.66%\n",
            "iter 201: loss 0.3441, time 205.64ms, mfu 39.16%\n",
            "iter 202: loss 0.6106, time 204.52ms, mfu 39.64%\n",
            "iter 203: loss 0.3160, time 207.34ms, mfu 40.00%\n",
            "iter 204: loss 0.4122, time 205.19ms, mfu 40.38%\n",
            "iter 205: loss 0.0121, time 205.82ms, mfu 40.71%\n",
            "iter 206: loss 0.2129, time 88.08ms, mfu 46.83%\n",
            "iter 207: loss 0.4544, time 201.41ms, mfu 46.61%\n",
            "iter 208: loss 0.3198, time 206.11ms, mfu 46.31%\n",
            "iter 209: loss 0.1899, time 203.84ms, mfu 46.08%\n",
            "Validation Confusion Matrix \n",
            " []\n"
          ]
        },
        {
          "output_type": "stream",
          "name": "stderr",
          "text": [
            "/usr/local/lib/python3.10/dist-packages/sklearn/metrics/_classification.py:1344: UndefinedMetricWarning: Precision is ill-defined and being set to 0.0 in labels with no predicted samples. Use `zero_division` parameter to control this behavior.\n",
            "  _warn_prf(average, modifier, msg_start, len(result))\n"
          ]
        },
        {
          "output_type": "stream",
          "name": "stdout",
          "text": [
            "Validation Confusion Matrix \n",
            " [[329   7   0]\n",
            " [ 83 348   0]\n",
            " [  1   8   0]]\n",
            "step 210: train loss 0.3677, val loss 0.3229,val accuracy 0.8724, val precision 0.8774, , val recall 0.8724, , val f1 0.8672\n",
            "iter 210: loss 0.2455, time 13379.52ms, mfu 41.54%\n",
            "iter 211: loss 0.5630, time 204.48ms, mfu 41.78%\n",
            "iter 212: loss 0.1805, time 204.46ms, mfu 41.99%\n",
            "iter 213: loss 0.2894, time 206.16ms, mfu 42.15%\n",
            "iter 214: loss 0.0113, time 197.88ms, mfu 42.47%\n",
            "iter 215: loss 0.2802, time 85.66ms, mfu 48.71%\n",
            "iter 216: loss 0.2174, time 205.86ms, mfu 48.20%\n",
            "iter 217: loss 0.2205, time 203.15ms, mfu 47.80%\n",
            "iter 218: loss 0.1441, time 206.81ms, mfu 47.37%\n",
            "iter 219: loss 0.2346, time 204.91ms, mfu 47.01%\n",
            "Validation Confusion Matrix \n",
            " []\n"
          ]
        },
        {
          "output_type": "stream",
          "name": "stderr",
          "text": [
            "/usr/local/lib/python3.10/dist-packages/sklearn/metrics/_classification.py:1344: UndefinedMetricWarning: Precision is ill-defined and being set to 0.0 in labels with no predicted samples. Use `zero_division` parameter to control this behavior.\n",
            "  _warn_prf(average, modifier, msg_start, len(result))\n"
          ]
        },
        {
          "output_type": "stream",
          "name": "stdout",
          "text": [
            "Validation Confusion Matrix \n",
            " [[335   2   0]\n",
            " [138 289   0]\n",
            " [  1  11   0]]\n",
            "step 220: train loss 0.4526, val loss 0.4362,val accuracy 0.8041, val precision 0.8335, , val recall 0.8041, , val f1 0.7951\n"
          ]
        },
        {
          "output_type": "stream",
          "name": "stderr",
          "text": [
            "/usr/local/lib/python3.10/dist-packages/sklearn/metrics/_classification.py:1344: UndefinedMetricWarning: Precision is ill-defined and being set to 0.0 in labels with no predicted samples. Use `zero_division` parameter to control this behavior.\n",
            "  _warn_prf(average, modifier, msg_start, len(result))\n"
          ]
        },
        {
          "output_type": "stream",
          "name": "stdout",
          "text": [
            "Test Confusion Matrix \n",
            " [[9 1 0]\n",
            " [3 7 0]\n",
            " [1 9 0]]\n",
            "step 220: test loss 1.2246,test accuracy 0.5333, test precision 0.3680, , test recall 0.5333, , test f1 0.4337\n",
            "iter 220: loss 0.2478, time 13895.52ms, mfu 42.38%\n",
            "iter 221: loss 0.2287, time 204.23ms, mfu 42.54%\n",
            "iter 222: loss 0.0060, time 207.46ms, mfu 42.61%\n",
            "iter 223: loss 0.4940, time 84.73ms, mfu 48.95%\n",
            "iter 224: loss 0.4633, time 208.14ms, mfu 48.37%\n",
            "iter 225: loss 0.3239, time 205.37ms, mfu 47.91%\n",
            "iter 226: loss 0.3457, time 204.56ms, mfu 47.51%\n",
            "iter 227: loss 0.1221, time 203.93ms, mfu 47.16%\n",
            "iter 228: loss 0.3216, time 206.40ms, mfu 46.80%\n",
            "iter 229: loss 0.2454, time 206.48ms, mfu 46.47%\n",
            "Validation Confusion Matrix \n",
            " []\n"
          ]
        },
        {
          "output_type": "stream",
          "name": "stderr",
          "text": [
            "/usr/local/lib/python3.10/dist-packages/sklearn/metrics/_classification.py:1344: UndefinedMetricWarning: Precision is ill-defined and being set to 0.0 in labels with no predicted samples. Use `zero_division` parameter to control this behavior.\n",
            "  _warn_prf(average, modifier, msg_start, len(result))\n"
          ]
        },
        {
          "output_type": "stream",
          "name": "stdout",
          "text": [
            "Validation Confusion Matrix \n",
            " [[340   3   0]\n",
            " [112 309   0]\n",
            " [  5   7   0]]\n",
            "step 230: train loss 0.4028, val loss 0.3685,val accuracy 0.8363, val precision 0.8544, , val recall 0.8363, , val f1 0.8288\n",
            "iter 230: loss 0.0915, time 13643.98ms, mfu 41.89%\n",
            "iter 231: loss 0.0042, time 200.40ms, mfu 42.18%\n",
            "iter 232: loss 0.2756, time 84.78ms, mfu 48.55%\n",
            "iter 233: loss 0.0657, time 203.50ms, mfu 48.11%\n",
            "iter 234: loss 0.3037, time 208.33ms, mfu 47.61%\n",
            "iter 235: loss 0.1951, time 201.82ms, mfu 47.30%\n",
            "iter 236: loss 0.1792, time 204.01ms, mfu 46.97%\n",
            "iter 237: loss 0.2692, time 207.37ms, mfu 46.61%\n",
            "iter 238: loss 0.2623, time 203.67ms, mfu 46.36%\n",
            "iter 239: loss 0.1296, time 204.20ms, mfu 46.12%\n",
            "Validation Confusion Matrix \n",
            " []\n"
          ]
        },
        {
          "output_type": "stream",
          "name": "stderr",
          "text": [
            "/usr/local/lib/python3.10/dist-packages/sklearn/metrics/_classification.py:1344: UndefinedMetricWarning: Precision is ill-defined and being set to 0.0 in labels with no predicted samples. Use `zero_division` parameter to control this behavior.\n",
            "  _warn_prf(average, modifier, msg_start, len(result))\n"
          ]
        },
        {
          "output_type": "stream",
          "name": "stdout",
          "text": [
            "Validation Confusion Matrix \n",
            " [[320   4   0]\n",
            " [ 68 368   0]\n",
            " [  2  14   0]]\n",
            "step 240: train loss 0.3538, val loss 0.3678,val accuracy 0.8866, val precision 0.8782, , val recall 0.8866, , val f1 0.8773\n"
          ]
        },
        {
          "output_type": "stream",
          "name": "stderr",
          "text": [
            "/usr/local/lib/python3.10/dist-packages/sklearn/metrics/_classification.py:1344: UndefinedMetricWarning: Precision is ill-defined and being set to 0.0 in labels with no predicted samples. Use `zero_division` parameter to control this behavior.\n",
            "  _warn_prf(average, modifier, msg_start, len(result))\n"
          ]
        },
        {
          "output_type": "stream",
          "name": "stdout",
          "text": [
            "Test Confusion Matrix \n",
            " [[10  0  0]\n",
            " [ 3  7  0]\n",
            " [ 1  9  0]]\n",
            "step 240: test loss 2.1101,test accuracy 0.5667, test precision 0.3839, , test recall 0.5667, , test f1 0.4573\n",
            "iter 240: loss 0.1387, time 13710.34ms, mfu 41.57%\n",
            "iter 241: loss 0.3716, time 204.35ms, mfu 41.81%\n",
            "iter 242: loss 0.2896, time 205.18ms, mfu 42.01%\n",
            "iter 243: loss 0.5192, time 204.52ms, mfu 42.20%\n",
            "iter 244: loss 0.0912, time 204.17ms, mfu 42.38%\n",
            "iter 245: loss 0.4396, time 204.30ms, mfu 42.54%\n",
            "iter 246: loss 0.0029, time 199.47ms, mfu 42.79%\n",
            "iter 247: loss 0.4839, time 85.16ms, mfu 49.05%\n",
            "iter 248: loss 0.2470, time 204.44ms, mfu 48.54%\n",
            "iter 249: loss 0.1738, time 204.29ms, mfu 48.08%\n",
            "Validation Confusion Matrix \n",
            " []\n"
          ]
        },
        {
          "output_type": "stream",
          "name": "stderr",
          "text": [
            "/usr/local/lib/python3.10/dist-packages/sklearn/metrics/_classification.py:1344: UndefinedMetricWarning: Precision is ill-defined and being set to 0.0 in labels with no predicted samples. Use `zero_division` parameter to control this behavior.\n",
            "  _warn_prf(average, modifier, msg_start, len(result))\n"
          ]
        },
        {
          "output_type": "stream",
          "name": "stdout",
          "text": [
            "Validation Confusion Matrix \n",
            " [[332   3   0]\n",
            " [ 44 383   0]\n",
            " [  1  13   0]]\n",
            "step 250: train loss 0.2813, val loss 0.2821,val accuracy 0.9214, val precision 0.9084, , val recall 0.9214, , val f1 0.9129\n",
            "iter 250: loss 0.1171, time 13402.18ms, mfu 43.34%\n",
            "iter 251: loss 0.2125, time 207.80ms, mfu 43.33%\n",
            "iter 252: loss 0.5606, time 201.65ms, mfu 43.45%\n",
            "iter 253: loss 0.0847, time 205.37ms, mfu 43.48%\n",
            "iter 254: loss 0.2985, time 206.50ms, mfu 43.48%\n",
            "iter 255: loss 0.0624, time 202.77ms, mfu 43.56%\n",
            "iter 256: loss 0.3498, time 85.78ms, mfu 49.68%\n",
            "iter 257: loss 0.1183, time 209.24ms, mfu 49.00%\n",
            "iter 258: loss 0.0864, time 201.70ms, mfu 48.55%\n",
            "iter 259: loss 0.2125, time 204.76ms, mfu 48.09%\n",
            "Validation Confusion Matrix \n",
            " []\n"
          ]
        },
        {
          "output_type": "stream",
          "name": "stderr",
          "text": [
            "/usr/local/lib/python3.10/dist-packages/sklearn/metrics/_classification.py:1344: UndefinedMetricWarning: Precision is ill-defined and being set to 0.0 in labels with no predicted samples. Use `zero_division` parameter to control this behavior.\n",
            "  _warn_prf(average, modifier, msg_start, len(result))\n"
          ]
        },
        {
          "output_type": "stream",
          "name": "stdout",
          "text": [
            "Validation Confusion Matrix \n",
            " [[316   5   0]\n",
            " [ 96 345   0]\n",
            " [  1  13   0]]\n",
            "step 260: train loss 0.3702, val loss 0.3757,val accuracy 0.8518, val precision 0.8566, , val recall 0.8518, , val f1 0.8439\n"
          ]
        },
        {
          "output_type": "stream",
          "name": "stderr",
          "text": [
            "/usr/local/lib/python3.10/dist-packages/sklearn/metrics/_classification.py:1344: UndefinedMetricWarning: Precision is ill-defined and being set to 0.0 in labels with no predicted samples. Use `zero_division` parameter to control this behavior.\n",
            "  _warn_prf(average, modifier, msg_start, len(result))\n"
          ]
        },
        {
          "output_type": "stream",
          "name": "stdout",
          "text": [
            "Test Confusion Matrix \n",
            " [[10  0  0]\n",
            " [ 3  7  0]\n",
            " [ 1  9  0]]\n",
            "step 260: test loss 1.3779,test accuracy 0.5667, test precision 0.3839, , test recall 0.5667, , test f1 0.4573\n",
            "iter 260: loss 0.1564, time 13926.36ms, mfu 43.34%\n",
            "iter 261: loss 0.0917, time 204.93ms, mfu 43.39%\n",
            "iter 262: loss 0.3046, time 209.83ms, mfu 43.33%\n",
            "iter 263: loss 0.0049, time 199.32ms, mfu 43.50%\n",
            "iter 264: loss 0.4160, time 85.64ms, mfu 49.64%\n",
            "iter 265: loss 0.1965, time 204.04ms, mfu 49.08%\n",
            "iter 266: loss 0.2462, time 207.86ms, mfu 48.49%\n",
            "iter 267: loss 0.2423, time 203.04ms, mfu 48.07%\n",
            "iter 268: loss 0.3617, time 206.69ms, mfu 47.61%\n",
            "iter 269: loss 0.2421, time 208.04ms, mfu 47.16%\n",
            "Validation Confusion Matrix \n",
            " []\n"
          ]
        },
        {
          "output_type": "stream",
          "name": "stderr",
          "text": [
            "/usr/local/lib/python3.10/dist-packages/sklearn/metrics/_classification.py:1344: UndefinedMetricWarning: Precision is ill-defined and being set to 0.0 in labels with no predicted samples. Use `zero_division` parameter to control this behavior.\n",
            "  _warn_prf(average, modifier, msg_start, len(result))\n"
          ]
        },
        {
          "output_type": "stream",
          "name": "stdout",
          "text": [
            "Validation Confusion Matrix \n",
            " [[333   0   0]\n",
            " [184 248   0]\n",
            " [  2   9   0]]\n",
            "step 270: train loss 0.7216, val loss 0.6844,val accuracy 0.7487, val precision 0.8125, , val recall 0.7487, , val f1 0.7362\n",
            "iter 270: loss 0.5881, time 13675.41ms, mfu 42.51%\n",
            "iter 271: loss 0.2107, time 209.04ms, mfu 42.56%\n",
            "iter 272: loss 0.0026, time 195.80ms, mfu 42.89%\n",
            "iter 273: loss 0.1525, time 85.81ms, mfu 49.07%\n",
            "iter 274: loss 0.3148, time 206.21ms, mfu 48.52%\n",
            "iter 275: loss 0.2051, time 205.25ms, mfu 48.04%\n",
            "iter 276: loss 0.3012, time 205.18ms, mfu 47.61%\n",
            "iter 277: loss 0.3051, time 202.61ms, mfu 47.28%\n",
            "iter 278: loss 0.3251, time 205.40ms, mfu 46.93%\n",
            "iter 279: loss 0.2887, time 202.86ms, mfu 46.66%\n",
            "Validation Confusion Matrix \n",
            " []\n"
          ]
        },
        {
          "output_type": "stream",
          "name": "stderr",
          "text": [
            "/usr/local/lib/python3.10/dist-packages/sklearn/metrics/_classification.py:1344: UndefinedMetricWarning: Precision is ill-defined and being set to 0.0 in labels with no predicted samples. Use `zero_division` parameter to control this behavior.\n",
            "  _warn_prf(average, modifier, msg_start, len(result))\n"
          ]
        },
        {
          "output_type": "stream",
          "name": "stdout",
          "text": [
            "Validation Confusion Matrix \n",
            " [[336   3   0]\n",
            " [ 89 336   0]\n",
            " [  2  10   0]]\n",
            "step 280: train loss 0.3415, val loss 0.3534,val accuracy 0.8660, val precision 0.8710, , val recall 0.8660, , val f1 0.8588\n"
          ]
        },
        {
          "output_type": "stream",
          "name": "stderr",
          "text": [
            "/usr/local/lib/python3.10/dist-packages/sklearn/metrics/_classification.py:1344: UndefinedMetricWarning: Precision is ill-defined and being set to 0.0 in labels with no predicted samples. Use `zero_division` parameter to control this behavior.\n",
            "  _warn_prf(average, modifier, msg_start, len(result))\n"
          ]
        },
        {
          "output_type": "stream",
          "name": "stdout",
          "text": [
            "Test Confusion Matrix \n",
            " [[10  0  0]\n",
            " [ 3  7  0]\n",
            " [ 1  9  0]]\n",
            "step 280: test loss 1.3794,test accuracy 0.5667, test precision 0.3839, , test recall 0.5667, , test f1 0.4573\n",
            "iter 280: loss 0.1140, time 13664.51ms, mfu 42.06%\n",
            "iter 281: loss 0.3010, time 205.44ms, mfu 42.23%\n",
            "iter 282: loss 0.2133, time 205.63ms, mfu 42.37%\n",
            "iter 283: loss 0.0532, time 205.67ms, mfu 42.50%\n",
            "iter 284: loss 0.1899, time 205.61ms, mfu 42.62%\n",
            "iter 285: loss 0.4254, time 204.68ms, mfu 42.75%\n",
            "iter 286: loss 0.1861, time 205.98ms, mfu 42.83%\n",
            "iter 287: loss 0.3596, time 211.03ms, mfu 42.81%\n",
            "iter 288: loss 0.1097, time 200.44ms, mfu 43.01%\n",
            "iter 289: loss 0.4723, time 203.91ms, mfu 43.11%\n",
            "Validation Confusion Matrix \n",
            " []\n"
          ]
        },
        {
          "output_type": "stream",
          "name": "stderr",
          "text": [
            "/usr/local/lib/python3.10/dist-packages/sklearn/metrics/_classification.py:1344: UndefinedMetricWarning: Precision is ill-defined and being set to 0.0 in labels with no predicted samples. Use `zero_division` parameter to control this behavior.\n",
            "  _warn_prf(average, modifier, msg_start, len(result))\n"
          ]
        },
        {
          "output_type": "stream",
          "name": "stdout",
          "text": [
            "Validation Confusion Matrix \n",
            " [[338   0   0]\n",
            " [166 260   0]\n",
            " [  2  10   0]]\n",
            "step 290: train loss 0.5182, val loss 0.5108,val accuracy 0.7706, val precision 0.8196, , val recall 0.7706, , val f1 0.7590\n",
            "iter 290: loss 0.1806, time 13388.49ms, mfu 38.87%\n",
            "iter 291: loss 0.4760, time 199.55ms, mfu 39.48%\n",
            "iter 292: loss 0.1459, time 205.99ms, mfu 39.89%\n",
            "iter 293: loss 0.3048, time 206.85ms, mfu 40.25%\n",
            "iter 294: loss 0.0635, time 209.63ms, mfu 40.51%\n",
            "iter 295: loss 0.2556, time 201.79ms, mfu 40.91%\n",
            "iter 296: loss 0.0017, time 200.12ms, mfu 41.30%\n",
            "iter 297: loss 0.2024, time 87.89ms, mfu 47.39%\n",
            "iter 298: loss 0.4808, time 201.09ms, mfu 47.12%\n",
            "iter 299: loss 0.4023, time 203.45ms, mfu 46.82%\n",
            "Validation Confusion Matrix \n",
            " []\n"
          ]
        },
        {
          "output_type": "stream",
          "name": "stderr",
          "text": [
            "/usr/local/lib/python3.10/dist-packages/sklearn/metrics/_classification.py:1344: UndefinedMetricWarning: Precision is ill-defined and being set to 0.0 in labels with no predicted samples. Use `zero_division` parameter to control this behavior.\n",
            "  _warn_prf(average, modifier, msg_start, len(result))\n"
          ]
        },
        {
          "output_type": "stream",
          "name": "stdout",
          "text": [
            "Validation Confusion Matrix \n",
            " [[330   0   0]\n",
            " [105 331   0]\n",
            " [  1   9   0]]\n",
            "step 300: train loss 0.3831, val loss 0.3501,val accuracy 0.8518, val precision 0.8689, , val recall 0.8518, , val f1 0.8457\n"
          ]
        },
        {
          "output_type": "stream",
          "name": "stderr",
          "text": [
            "/usr/local/lib/python3.10/dist-packages/sklearn/metrics/_classification.py:1344: UndefinedMetricWarning: Precision is ill-defined and being set to 0.0 in labels with no predicted samples. Use `zero_division` parameter to control this behavior.\n",
            "  _warn_prf(average, modifier, msg_start, len(result))\n"
          ]
        },
        {
          "output_type": "stream",
          "name": "stdout",
          "text": [
            "Test Confusion Matrix \n",
            " [[10  0  0]\n",
            " [ 3  7  0]\n",
            " [ 1  9  0]]\n",
            "step 300: test loss 1.5698,test accuracy 0.5667, test precision 0.3839, , test recall 0.5667, , test f1 0.4573\n",
            "iter 300: loss 0.0870, time 13688.71ms, mfu 42.21%\n"
          ]
        },
        {
          "output_type": "display_data",
          "data": {
            "text/plain": [
              "VBox(children=(Label(value='0.002 MB of 0.002 MB uploaded\\r'), FloatProgress(value=1.0, max=1.0)))"
            ],
            "application/vnd.jupyter.widget-view+json": {
              "version_major": 2,
              "version_minor": 0,
              "model_id": "8837ef15a9b94404bf01be106932a7fe"
            }
          },
          "metadata": {}
        },
        {
          "output_type": "display_data",
          "data": {
            "text/plain": [
              "<IPython.core.display.HTML object>"
            ],
            "text/html": [
              "<style>\n",
              "    table.wandb td:nth-child(1) { padding: 0 10px; text-align: left ; width: auto;} td:nth-child(2) {text-align: left ; width: 100%}\n",
              "    .wandb-row { display: flex; flex-direction: row; flex-wrap: wrap; justify-content: flex-start; width: 100% }\n",
              "    .wandb-col { display: flex; flex-direction: column; flex-basis: 100%; flex: 1; padding: 10px; }\n",
              "    </style>\n",
              "<div class=\"wandb-row\"><div class=\"wandb-col\"><h3>Run history:</h3><br/><table class=\"wandb\"><tr><td>iter</td><td>▁▁▁▁▁▂▂▂▂▂▃▃▃▃▃▄▄▄▄▄▅▅▅▅▅▅▆▆▆▆▆▇▇▇▇▇████</td></tr><tr><td>lr</td><td>▁▁▁▁▁▁▁▁▁▁▁▁▁▁▁▁▁▁▁▁▁▁▁▁▁▁▁▁▁▁▁▁▁▁▁▁▁▁▁▁</td></tr><tr><td>mfu</td><td>▁▁██████████████████████████████████████</td></tr><tr><td>test/acc</td><td>▁▅▄▃▃▂▆▂█▂▆▇████</td></tr><tr><td>test/f1</td><td>▁▆▅▄▄▃▇▃█▃▇▇████</td></tr><tr><td>test/precision</td><td>▁█▅▄▅▄▇▃█▃▇█████</td></tr><tr><td>test/recall</td><td>▁▅▄▃▃▂▆▂█▂▆▇████</td></tr><tr><td>train/loss</td><td>█▅▂▂▂▂▂▂▂▂▃▂▂▂▂▂▁▂▃▁▁▁▁▁▁▁▁▂▁▁▁</td></tr><tr><td>val/acc</td><td>▁▁▆▆▆▆▆▆▅▆▅▆▆▅▅▆▇▆▅▇▇█▇▇██▇▇█▇▇</td></tr><tr><td>val/f1</td><td>▁▁▆▅▆▆▆▆▅▆▅▅▆▅▄▅▇▆▅▇▇█▇▇██▇▇█▇▇</td></tr><tr><td>val/loss</td><td>█▄▂▂▂▂▂▂▂▂▂▂▂▂▂▂▁▂▃▁▁▁▁▁▁▁▁▂▁▁▁</td></tr><tr><td>val/precision</td><td>▁▁▆▆▆▆▇▇▇▇▇▇▇▇▇▇▇▇▇█▇█▇████▇█▇█</td></tr><tr><td>val/recall</td><td>▁▁▆▆▆▆▆▆▅▆▅▆▆▅▅▆▇▆▅▇▇█▇▇██▇▇█▇▇</td></tr></table><br/></div><div class=\"wandb-col\"><h3>Run summary:</h3><br/><table class=\"wandb\"><tr><td>iter</td><td>300</td></tr><tr><td>lr</td><td>1e-05</td></tr><tr><td>mfu</td><td>46.82206</td></tr><tr><td>test/acc</td><td>0.56667</td></tr><tr><td>test/f1</td><td>0.45726</td></tr><tr><td>test/precision</td><td>0.38393</td></tr><tr><td>test/recall</td><td>0.56667</td></tr><tr><td>train/loss</td><td>0.38311</td></tr><tr><td>val/acc</td><td>0.8518</td></tr><tr><td>val/f1</td><td>0.84573</td></tr><tr><td>val/loss</td><td>0.35007</td></tr><tr><td>val/precision</td><td>0.86885</td></tr><tr><td>val/recall</td><td>0.8518</td></tr></table><br/></div></div>"
            ]
          },
          "metadata": {}
        },
        {
          "output_type": "display_data",
          "data": {
            "text/plain": [
              "<IPython.core.display.HTML object>"
            ],
            "text/html": [
              " View run <strong style=\"color:#cdcd00\">classic-sweep-2</strong> at: <a href='https://wandb.ai/di725/DI725-Assignment1/runs/m1rfb5b4' target=\"_blank\">https://wandb.ai/di725/DI725-Assignment1/runs/m1rfb5b4</a><br/> View project at: <a href='https://wandb.ai/di725/DI725-Assignment1' target=\"_blank\">https://wandb.ai/di725/DI725-Assignment1</a><br/>Synced 5 W&B file(s), 0 media file(s), 0 artifact file(s) and 0 other file(s)"
            ]
          },
          "metadata": {}
        },
        {
          "output_type": "display_data",
          "data": {
            "text/plain": [
              "<IPython.core.display.HTML object>"
            ],
            "text/html": [
              "Find logs at: <code>./wandb/run-20240415_105709-m1rfb5b4/logs</code>"
            ]
          },
          "metadata": {}
        },
        {
          "output_type": "stream",
          "name": "stderr",
          "text": [
            "\u001b[34m\u001b[1mwandb\u001b[0m: Agent Starting Run: 89yu4k75 with config:\n",
            "\u001b[34m\u001b[1mwandb\u001b[0m: \tdropout: 0.1\n",
            "\u001b[34m\u001b[1mwandb\u001b[0m: \tlearning_rate: 0.0005\n"
          ]
        },
        {
          "output_type": "display_data",
          "data": {
            "text/plain": [
              "<IPython.core.display.HTML object>"
            ],
            "text/html": [
              "Tracking run with wandb version 0.16.6"
            ]
          },
          "metadata": {}
        },
        {
          "output_type": "display_data",
          "data": {
            "text/plain": [
              "<IPython.core.display.HTML object>"
            ],
            "text/html": [
              "Run data is saved locally in <code>/content/wandb/run-20240415_110522-89yu4k75</code>"
            ]
          },
          "metadata": {}
        },
        {
          "output_type": "display_data",
          "data": {
            "text/plain": [
              "<IPython.core.display.HTML object>"
            ],
            "text/html": [
              "Syncing run <strong><a href='https://wandb.ai/di725/DI725-Assignment1/runs/89yu4k75' target=\"_blank\">noble-sweep-3</a></strong> to <a href='https://wandb.ai/di725/DI725-Assignment1' target=\"_blank\">Weights & Biases</a> (<a href='https://wandb.me/run' target=\"_blank\">docs</a>)<br/>Sweep page: <a href='https://wandb.ai/di725/DI725-Assignment1/sweeps/sebpco96' target=\"_blank\">https://wandb.ai/di725/DI725-Assignment1/sweeps/sebpco96</a>"
            ]
          },
          "metadata": {}
        },
        {
          "output_type": "display_data",
          "data": {
            "text/plain": [
              "<IPython.core.display.HTML object>"
            ],
            "text/html": [
              " View project at <a href='https://wandb.ai/di725/DI725-Assignment1' target=\"_blank\">https://wandb.ai/di725/DI725-Assignment1</a>"
            ]
          },
          "metadata": {}
        },
        {
          "output_type": "display_data",
          "data": {
            "text/plain": [
              "<IPython.core.display.HTML object>"
            ],
            "text/html": [
              " View sweep at <a href='https://wandb.ai/di725/DI725-Assignment1/sweeps/sebpco96' target=\"_blank\">https://wandb.ai/di725/DI725-Assignment1/sweeps/sebpco96</a>"
            ]
          },
          "metadata": {}
        },
        {
          "output_type": "display_data",
          "data": {
            "text/plain": [
              "<IPython.core.display.HTML object>"
            ],
            "text/html": [
              " View run at <a href='https://wandb.ai/di725/DI725-Assignment1/runs/89yu4k75' target=\"_blank\">https://wandb.ai/di725/DI725-Assignment1/runs/89yu4k75</a>"
            ]
          },
          "metadata": {}
        },
        {
          "output_type": "stream",
          "name": "stdout",
          "text": [
            "tokens per iteration will be: 32,768\n",
            "Initializing from OpenAI GPT-2 weights: gpt2\n",
            "loading weights from pretrained gpt: gpt2\n",
            "forcing vocab_size=50257, block_size=1024, bias=True\n",
            "overriding dropout rate to 0.1\n",
            "number of parameters: 123.66M\n",
            "num decayed parameter tensors: 51, with 124,320,768 parameters\n",
            "num non-decayed parameter tensors: 99, with 121,347 parameters\n",
            "using fused AdamW: True\n",
            "Validation Confusion Matrix \n",
            " []\n"
          ]
        },
        {
          "output_type": "stream",
          "name": "stderr",
          "text": [
            "/usr/local/lib/python3.10/dist-packages/sklearn/metrics/_classification.py:1344: UndefinedMetricWarning: Precision is ill-defined and being set to 0.0 in labels with no predicted samples. Use `zero_division` parameter to control this behavior.\n",
            "  _warn_prf(average, modifier, msg_start, len(result))\n"
          ]
        },
        {
          "output_type": "stream",
          "name": "stdout",
          "text": [
            "Validation Confusion Matrix \n",
            " [[  0   0 329]\n",
            " [  0   0 433]\n",
            " [  0   0  14]]\n",
            "step 0: train loss 4.1345, val loss 4.2081,val accuracy 0.0180, val precision 0.0003, , val recall 0.0180, , val f1 0.0006\n"
          ]
        },
        {
          "output_type": "stream",
          "name": "stderr",
          "text": [
            "/usr/local/lib/python3.10/dist-packages/sklearn/metrics/_classification.py:1344: UndefinedMetricWarning: Precision is ill-defined and being set to 0.0 in labels with no predicted samples. Use `zero_division` parameter to control this behavior.\n",
            "  _warn_prf(average, modifier, msg_start, len(result))\n"
          ]
        },
        {
          "output_type": "stream",
          "name": "stdout",
          "text": [
            "Test Confusion Matrix \n",
            " [[ 0  0 10]\n",
            " [ 0  0 10]\n",
            " [ 0  0 10]]\n",
            "step 0: test loss 2.7203,test accuracy 0.3333, test precision 0.1111, , test recall 0.3333, , test f1 0.1667\n",
            "iter 0: loss 3.8939, time 8753.57ms, mfu -100.00%\n",
            "iter 1: loss 3.7958, time 193.40ms, mfu -100.00%\n",
            "iter 2: loss 3.9293, time 200.44ms, mfu -100.00%\n",
            "iter 3: loss 3.5570, time 200.39ms, mfu -100.00%\n",
            "iter 4: loss 3.5941, time 197.07ms, mfu -100.00%\n",
            "iter 5: loss 3.5376, time 203.87ms, mfu 44.05%\n",
            "iter 6: loss 4.0090, time 196.76ms, mfu 44.21%\n",
            "iter 7: loss 3.8207, time 199.64ms, mfu 44.29%\n",
            "iter 8: loss 3.8995, time 196.99ms, mfu 44.42%\n",
            "iter 9: loss 0.9902, time 205.22ms, mfu 44.36%\n",
            "Validation Confusion Matrix \n",
            " []\n"
          ]
        },
        {
          "output_type": "stream",
          "name": "stderr",
          "text": [
            "/usr/local/lib/python3.10/dist-packages/sklearn/metrics/_classification.py:1344: UndefinedMetricWarning: Precision is ill-defined and being set to 0.0 in labels with no predicted samples. Use `zero_division` parameter to control this behavior.\n",
            "  _warn_prf(average, modifier, msg_start, len(result))\n"
          ]
        },
        {
          "output_type": "stream",
          "name": "stdout",
          "text": [
            "Validation Confusion Matrix \n",
            " [[339   0   0]\n",
            " [426   0   0]\n",
            " [ 11   0   0]]\n",
            "step 10: train loss 2.0123, val loss 1.9536,val accuracy 0.4369, val precision 0.1908, , val recall 0.4369, , val f1 0.2656\n",
            "iter 10: loss 1.9830, time 13602.77ms, mfu 39.99%\n",
            "iter 11: loss 0.9993, time 204.45ms, mfu 40.38%\n",
            "iter 12: loss 1.1638, time 205.13ms, mfu 40.72%\n",
            "iter 13: loss 0.8549, time 206.57ms, mfu 41.00%\n",
            "iter 14: loss 0.8829, time 204.63ms, mfu 41.29%\n",
            "iter 15: loss 0.9381, time 207.38ms, mfu 41.49%\n",
            "iter 16: loss 0.8403, time 200.19ms, mfu 41.83%\n",
            "iter 17: loss 0.7273, time 87.50ms, mfu 47.91%\n",
            "iter 18: loss 0.6752, time 205.06ms, mfu 47.50%\n",
            "iter 19: loss 0.8370, time 202.44ms, mfu 47.18%\n",
            "Validation Confusion Matrix \n",
            " []\n"
          ]
        },
        {
          "output_type": "stream",
          "name": "stderr",
          "text": [
            "/usr/local/lib/python3.10/dist-packages/sklearn/metrics/_classification.py:1344: UndefinedMetricWarning: Precision is ill-defined and being set to 0.0 in labels with no predicted samples. Use `zero_division` parameter to control this behavior.\n",
            "  _warn_prf(average, modifier, msg_start, len(result))\n"
          ]
        },
        {
          "output_type": "stream",
          "name": "stdout",
          "text": [
            "Validation Confusion Matrix \n",
            " [[304   0   0]\n",
            " [375  84   0]\n",
            " [ 13   0   0]]\n",
            "step 20: train loss 0.7858, val loss 0.8134,val accuracy 0.5000, val precision 0.7636, , val recall 0.5000, , val f1 0.4221\n"
          ]
        },
        {
          "output_type": "stream",
          "name": "stderr",
          "text": [
            "/usr/local/lib/python3.10/dist-packages/sklearn/metrics/_classification.py:1344: UndefinedMetricWarning: Precision is ill-defined and being set to 0.0 in labels with no predicted samples. Use `zero_division` parameter to control this behavior.\n",
            "  _warn_prf(average, modifier, msg_start, len(result))\n"
          ]
        },
        {
          "output_type": "stream",
          "name": "stdout",
          "text": [
            "Test Confusion Matrix \n",
            " [[10  0  0]\n",
            " [10  0  0]\n",
            " [10  0  0]]\n",
            "step 20: test loss 2.4357,test accuracy 0.3333, test precision 0.1111, , test recall 0.3333, , test f1 0.1667\n",
            "iter 20: loss 0.7876, time 13589.67ms, mfu 42.53%\n",
            "iter 21: loss 1.1663, time 205.27ms, mfu 42.65%\n",
            "iter 22: loss 0.6604, time 204.93ms, mfu 42.77%\n",
            "iter 23: loss 0.8615, time 205.68ms, mfu 42.86%\n",
            "iter 24: loss 0.5769, time 202.66ms, mfu 43.01%\n",
            "iter 25: loss 0.5993, time 87.61ms, mfu 48.96%\n",
            "iter 26: loss 0.5595, time 202.47ms, mfu 48.50%\n",
            "iter 27: loss 0.6567, time 200.86ms, mfu 48.12%\n",
            "iter 28: loss 0.7534, time 209.71ms, mfu 47.59%\n",
            "iter 29: loss 0.5878, time 200.39ms, mfu 47.31%\n",
            "Validation Confusion Matrix \n",
            " []\n"
          ]
        },
        {
          "output_type": "stream",
          "name": "stderr",
          "text": [
            "/usr/local/lib/python3.10/dist-packages/sklearn/metrics/_classification.py:1344: UndefinedMetricWarning: Precision is ill-defined and being set to 0.0 in labels with no predicted samples. Use `zero_division` parameter to control this behavior.\n",
            "  _warn_prf(average, modifier, msg_start, len(result))\n"
          ]
        },
        {
          "output_type": "stream",
          "name": "stdout",
          "text": [
            "Validation Confusion Matrix \n",
            " [[120 215   0]\n",
            " [  4 424   0]\n",
            " [  0  13   0]]\n",
            "step 30: train loss 0.6285, val loss 0.6307,val accuracy 0.7010, val precision 0.7764, , val recall 0.7010, , val f1 0.6588\n",
            "iter 30: loss 0.7710, time 13564.60ms, mfu 42.65%\n",
            "iter 31: loss 0.4178, time 208.04ms, mfu 42.70%\n",
            "iter 32: loss 0.4897, time 202.51ms, mfu 42.87%\n",
            "iter 33: loss 0.0546, time 200.85ms, mfu 43.05%\n",
            "iter 34: loss 0.4910, time 84.63ms, mfu 49.36%\n",
            "iter 35: loss 0.4719, time 204.75ms, mfu 48.81%\n",
            "iter 36: loss 0.3576, time 205.71ms, mfu 48.30%\n",
            "iter 37: loss 0.5209, time 204.68ms, mfu 47.85%\n",
            "iter 38: loss 0.3941, time 204.08ms, mfu 47.47%\n",
            "iter 39: loss 1.2960, time 203.66ms, mfu 47.13%\n",
            "Validation Confusion Matrix \n",
            " []\n"
          ]
        },
        {
          "output_type": "stream",
          "name": "stderr",
          "text": [
            "/usr/local/lib/python3.10/dist-packages/sklearn/metrics/_classification.py:1344: UndefinedMetricWarning: Precision is ill-defined and being set to 0.0 in labels with no predicted samples. Use `zero_division` parameter to control this behavior.\n",
            "  _warn_prf(average, modifier, msg_start, len(result))\n"
          ]
        },
        {
          "output_type": "stream",
          "name": "stdout",
          "text": [
            "Validation Confusion Matrix \n",
            " [[317   5   0]\n",
            " [269 176   0]\n",
            " [  6   3   0]]\n",
            "step 40: train loss 0.9245, val loss 0.9577,val accuracy 0.6353, val precision 0.7707, , val recall 0.6353, , val f1 0.6087\n"
          ]
        },
        {
          "output_type": "stream",
          "name": "stderr",
          "text": [
            "/usr/local/lib/python3.10/dist-packages/sklearn/metrics/_classification.py:1344: UndefinedMetricWarning: Precision is ill-defined and being set to 0.0 in labels with no predicted samples. Use `zero_division` parameter to control this behavior.\n",
            "  _warn_prf(average, modifier, msg_start, len(result))\n"
          ]
        },
        {
          "output_type": "stream",
          "name": "stdout",
          "text": [
            "Test Confusion Matrix \n",
            " [[9 1 0]\n",
            " [7 3 0]\n",
            " [3 7 0]]\n",
            "step 40: test loss 1.9332,test accuracy 0.4000, test precision 0.2488, , test recall 0.4000, , test f1 0.3021\n",
            "iter 40: loss 0.8068, time 13900.19ms, mfu 42.48%\n",
            "iter 41: loss 0.0312, time 195.01ms, mfu 42.84%\n",
            "iter 42: loss 0.5305, time 85.75ms, mfu 49.03%\n",
            "iter 43: loss 0.6127, time 205.80ms, mfu 48.49%\n",
            "iter 44: loss 0.3687, time 207.66ms, mfu 47.97%\n",
            "iter 45: loss 0.5050, time 198.60ms, mfu 47.69%\n",
            "iter 46: loss 0.3745, time 204.94ms, mfu 47.31%\n",
            "iter 47: loss 0.4462, time 204.91ms, mfu 46.96%\n",
            "iter 48: loss 0.3310, time 205.41ms, mfu 46.64%\n",
            "iter 49: loss 0.3463, time 201.51ms, mfu 46.43%\n",
            "Validation Confusion Matrix \n",
            " []\n"
          ]
        },
        {
          "output_type": "stream",
          "name": "stderr",
          "text": [
            "/usr/local/lib/python3.10/dist-packages/sklearn/metrics/_classification.py:1344: UndefinedMetricWarning: Precision is ill-defined and being set to 0.0 in labels with no predicted samples. Use `zero_division` parameter to control this behavior.\n",
            "  _warn_prf(average, modifier, msg_start, len(result))\n"
          ]
        },
        {
          "output_type": "stream",
          "name": "stdout",
          "text": [
            "Validation Confusion Matrix \n",
            " [[ 90 250   0]\n",
            " [  0 429   0]\n",
            " [  0   7   0]]\n",
            "step 50: train loss 0.7366, val loss 0.7976,val accuracy 0.6688, val precision 0.7839, , val recall 0.6688, , val f1 0.6088\n",
            "iter 50: loss 0.7381, time 13362.52ms, mfu 41.85%\n",
            "iter 51: loss 0.4200, time 204.72ms, mfu 42.06%\n",
            "iter 52: loss 0.2382, time 203.23ms, mfu 42.27%\n",
            "iter 53: loss 0.3769, time 205.10ms, mfu 42.42%\n",
            "iter 54: loss 0.3109, time 204.37ms, mfu 42.57%\n",
            "iter 55: loss 0.2019, time 203.65ms, mfu 42.73%\n",
            "iter 56: loss 0.0978, time 203.67ms, mfu 42.86%\n",
            "iter 57: loss 0.2675, time 203.32ms, mfu 43.00%\n",
            "iter 58: loss 0.4172, time 209.42ms, mfu 42.98%\n",
            "iter 59: loss 0.4469, time 198.39ms, mfu 43.21%\n",
            "Validation Confusion Matrix \n",
            " []\n"
          ]
        },
        {
          "output_type": "stream",
          "name": "stderr",
          "text": [
            "/usr/local/lib/python3.10/dist-packages/sklearn/metrics/_classification.py:1344: UndefinedMetricWarning: Precision is ill-defined and being set to 0.0 in labels with no predicted samples. Use `zero_division` parameter to control this behavior.\n",
            "  _warn_prf(average, modifier, msg_start, len(result))\n"
          ]
        },
        {
          "output_type": "stream",
          "name": "stdout",
          "text": [
            "Validation Confusion Matrix \n",
            " [[249  83   0]\n",
            " [  3 429   0]\n",
            " [  0  12   0]]\n",
            "step 60: train loss 0.4645, val loss 0.4398,val accuracy 0.8737, val precision 0.8785, , val recall 0.8737, , val f1 0.8645\n"
          ]
        },
        {
          "output_type": "stream",
          "name": "stderr",
          "text": [
            "/usr/local/lib/python3.10/dist-packages/sklearn/metrics/_classification.py:1344: UndefinedMetricWarning: Precision is ill-defined and being set to 0.0 in labels with no predicted samples. Use `zero_division` parameter to control this behavior.\n",
            "  _warn_prf(average, modifier, msg_start, len(result))\n"
          ]
        },
        {
          "output_type": "stream",
          "name": "stdout",
          "text": [
            "Test Confusion Matrix \n",
            " [[ 7  3  0]\n",
            " [ 0 10  0]\n",
            " [ 0 10  0]]\n",
            "step 60: test loss 2.2359,test accuracy 0.5667, test precision 0.4783, , test recall 0.5667, , test f1 0.4765\n",
            "iter 60: loss 0.4694, time 13617.12ms, mfu 38.96%\n",
            "iter 61: loss 0.4291, time 199.53ms, mfu 39.56%\n",
            "iter 62: loss 0.6077, time 206.24ms, mfu 39.96%\n",
            "iter 63: loss 0.0405, time 202.96ms, mfu 40.39%\n",
            "iter 64: loss 0.6148, time 203.66ms, mfu 40.76%\n",
            "iter 65: loss 0.0077, time 194.98ms, mfu 41.29%\n",
            "iter 66: loss 0.7377, time 84.87ms, mfu 47.75%\n",
            "iter 67: loss 0.1962, time 201.51ms, mfu 47.43%\n",
            "iter 68: loss 0.3032, time 200.53ms, mfu 47.16%\n",
            "iter 69: loss 0.3081, time 205.30ms, mfu 46.82%\n",
            "Validation Confusion Matrix \n",
            " []\n"
          ]
        },
        {
          "output_type": "stream",
          "name": "stderr",
          "text": [
            "/usr/local/lib/python3.10/dist-packages/sklearn/metrics/_classification.py:1344: UndefinedMetricWarning: Precision is ill-defined and being set to 0.0 in labels with no predicted samples. Use `zero_division` parameter to control this behavior.\n",
            "  _warn_prf(average, modifier, msg_start, len(result))\n"
          ]
        },
        {
          "output_type": "stream",
          "name": "stdout",
          "text": [
            "Validation Confusion Matrix \n",
            " [[208 121   0]\n",
            " [  1 436   0]\n",
            " [  0  10   0]]\n",
            "step 70: train loss 0.4651, val loss 0.4674,val accuracy 0.8299, val precision 0.8550, , val recall 0.8299, , val f1 0.8169\n",
            "iter 70: loss 0.7653, time 13356.84ms, mfu 42.21%\n",
            "iter 71: loss 0.5964, time 203.26ms, mfu 42.41%\n",
            "iter 72: loss 0.1590, time 202.79ms, mfu 42.59%\n",
            "iter 73: loss 0.4154, time 203.14ms, mfu 42.76%\n",
            "iter 74: loss 0.0541, time 199.64ms, mfu 42.98%\n",
            "iter 75: loss 0.8087, time 86.48ms, mfu 49.07%\n",
            "iter 76: loss 0.5556, time 201.81ms, mfu 48.61%\n",
            "iter 77: loss 1.2462, time 204.27ms, mfu 48.15%\n",
            "iter 78: loss 0.5088, time 204.38ms, mfu 47.73%\n",
            "iter 79: loss 0.3208, time 202.05ms, mfu 47.40%\n",
            "Validation Confusion Matrix \n",
            " []\n"
          ]
        },
        {
          "output_type": "stream",
          "name": "stderr",
          "text": [
            "/usr/local/lib/python3.10/dist-packages/sklearn/metrics/_classification.py:1344: UndefinedMetricWarning: Precision is ill-defined and being set to 0.0 in labels with no predicted samples. Use `zero_division` parameter to control this behavior.\n",
            "  _warn_prf(average, modifier, msg_start, len(result))\n"
          ]
        },
        {
          "output_type": "stream",
          "name": "stdout",
          "text": [
            "Validation Confusion Matrix \n",
            " [[305  23   0]\n",
            " [ 24 413   0]\n",
            " [  0  11   0]]\n",
            "step 80: train loss 0.2733, val loss 0.2491,val accuracy 0.9253, val precision 0.9122, , val recall 0.9253, , val f1 0.9186\n"
          ]
        },
        {
          "output_type": "stream",
          "name": "stderr",
          "text": [
            "/usr/local/lib/python3.10/dist-packages/sklearn/metrics/_classification.py:1344: UndefinedMetricWarning: Precision is ill-defined and being set to 0.0 in labels with no predicted samples. Use `zero_division` parameter to control this behavior.\n",
            "  _warn_prf(average, modifier, msg_start, len(result))\n"
          ]
        },
        {
          "output_type": "stream",
          "name": "stdout",
          "text": [
            "Test Confusion Matrix \n",
            " [[ 9  1  0]\n",
            " [ 1  9  0]\n",
            " [ 0 10  0]]\n",
            "step 80: test loss 1.2496,test accuracy 0.6000, test precision 0.4500, , test recall 0.6000, , test f1 0.5000\n",
            "iter 80: loss 0.1990, time 13928.56ms, mfu 42.72%\n",
            "iter 81: loss 0.3669, time 201.86ms, mfu 42.90%\n",
            "iter 82: loss 0.0090, time 197.94ms, mfu 43.15%\n",
            "iter 83: loss 0.2991, time 90.93ms, mfu 48.71%\n",
            "iter 84: loss 0.1246, time 204.34ms, mfu 48.24%\n",
            "iter 85: loss 0.1633, time 203.56ms, mfu 47.82%\n",
            "iter 86: loss 0.4251, time 201.17ms, mfu 47.51%\n",
            "iter 87: loss 0.3757, time 204.47ms, mfu 47.15%\n",
            "iter 88: loss 0.6694, time 202.65ms, mfu 46.87%\n",
            "iter 89: loss 0.3396, time 204.08ms, mfu 46.58%\n",
            "Validation Confusion Matrix \n",
            " []\n"
          ]
        },
        {
          "output_type": "stream",
          "name": "stderr",
          "text": [
            "/usr/local/lib/python3.10/dist-packages/sklearn/metrics/_classification.py:1344: UndefinedMetricWarning: Precision is ill-defined and being set to 0.0 in labels with no predicted samples. Use `zero_division` parameter to control this behavior.\n",
            "  _warn_prf(average, modifier, msg_start, len(result))\n"
          ]
        },
        {
          "output_type": "stream",
          "name": "stdout",
          "text": [
            "Validation Confusion Matrix \n",
            " [[315  14   0]\n",
            " [ 62 373   0]\n",
            " [  0  12   0]]\n",
            "step 90: train loss 0.2938, val loss 0.3233,val accuracy 0.8866, val precision 0.8783, , val recall 0.8866, , val f1 0.8797\n",
            "iter 90: loss 0.2680, time 13669.89ms, mfu 41.99%\n",
            "iter 91: loss 0.0454, time 193.53ms, mfu 42.43%\n",
            "iter 92: loss 0.3294, time 88.24ms, mfu 48.37%\n",
            "iter 93: loss 0.2820, time 207.09ms, mfu 47.87%\n",
            "iter 94: loss 0.2360, time 200.80ms, mfu 47.55%\n",
            "iter 95: loss 0.1892, time 207.02ms, mfu 47.14%\n",
            "iter 96: loss 0.1076, time 203.14ms, mfu 46.84%\n",
            "iter 97: loss 0.1484, time 206.77ms, mfu 46.50%\n",
            "iter 98: loss 0.1482, time 202.85ms, mfu 46.28%\n",
            "iter 99: loss 0.3928, time 210.34ms, mfu 45.92%\n",
            "Validation Confusion Matrix \n",
            " []\n"
          ]
        },
        {
          "output_type": "stream",
          "name": "stderr",
          "text": [
            "/usr/local/lib/python3.10/dist-packages/sklearn/metrics/_classification.py:1344: UndefinedMetricWarning: Precision is ill-defined and being set to 0.0 in labels with no predicted samples. Use `zero_division` parameter to control this behavior.\n",
            "  _warn_prf(average, modifier, msg_start, len(result))\n"
          ]
        },
        {
          "output_type": "stream",
          "name": "stdout",
          "text": [
            "Validation Confusion Matrix \n",
            " [[335  11   0]\n",
            " [ 38 378   0]\n",
            " [  3  11   0]]\n",
            "step 100: train loss 0.3068, val loss 0.2990,val accuracy 0.9188, val precision 0.9039, , val recall 0.9188, , val f1 0.9104\n"
          ]
        },
        {
          "output_type": "stream",
          "name": "stderr",
          "text": [
            "/usr/local/lib/python3.10/dist-packages/sklearn/metrics/_classification.py:1344: UndefinedMetricWarning: Precision is ill-defined and being set to 0.0 in labels with no predicted samples. Use `zero_division` parameter to control this behavior.\n",
            "  _warn_prf(average, modifier, msg_start, len(result))\n"
          ]
        },
        {
          "output_type": "stream",
          "name": "stdout",
          "text": [
            "Test Confusion Matrix \n",
            " [[10  0  0]\n",
            " [ 3  7  0]\n",
            " [ 1  9  0]]\n",
            "step 100: test loss 2.2931,test accuracy 0.5667, test precision 0.3839, , test recall 0.5667, , test f1 0.4573\n",
            "iter 100: loss 0.1539, time 13639.13ms, mfu 41.40%\n",
            "iter 101: loss 0.1816, time 202.33ms, mfu 41.70%\n",
            "iter 102: loss 0.2585, time 205.27ms, mfu 41.90%\n",
            "iter 103: loss 0.6832, time 200.87ms, mfu 42.18%\n",
            "iter 104: loss 0.0622, time 205.96ms, mfu 42.33%\n",
            "iter 105: loss 0.4156, time 200.44ms, mfu 42.57%\n",
            "iter 106: loss 0.0126, time 195.12ms, mfu 42.92%\n",
            "iter 107: loss 0.3855, time 85.94ms, mfu 49.08%\n",
            "iter 108: loss 0.1702, time 203.98ms, mfu 48.57%\n",
            "iter 109: loss 0.1886, time 203.22ms, mfu 48.14%\n",
            "Validation Confusion Matrix \n",
            " []\n"
          ]
        },
        {
          "output_type": "stream",
          "name": "stderr",
          "text": [
            "/usr/local/lib/python3.10/dist-packages/sklearn/metrics/_classification.py:1344: UndefinedMetricWarning: Precision is ill-defined and being set to 0.0 in labels with no predicted samples. Use `zero_division` parameter to control this behavior.\n",
            "  _warn_prf(average, modifier, msg_start, len(result))\n"
          ]
        },
        {
          "output_type": "stream",
          "name": "stdout",
          "text": [
            "Validation Confusion Matrix \n",
            " [[315  20   0]\n",
            " [  5 425   0]\n",
            " [  0  11   0]]\n",
            "step 110: train loss 0.2143, val loss 0.1642,val accuracy 0.9536, val precision 0.9414, , val recall 0.9536, , val f1 0.9468\n",
            "iter 110: loss 0.1428, time 13391.61ms, mfu 43.39%\n",
            "iter 111: loss 0.1190, time 202.75ms, mfu 43.48%\n",
            "iter 112: loss 0.3233, time 202.05ms, mfu 43.58%\n",
            "iter 113: loss 0.0669, time 204.87ms, mfu 43.60%\n",
            "iter 114: loss 0.2740, time 206.60ms, mfu 43.59%\n",
            "iter 115: loss 0.0021, time 191.63ms, mfu 43.92%\n",
            "iter 116: loss 0.1536, time 83.90ms, mfu 50.23%\n",
            "iter 117: loss 0.1935, time 202.05ms, mfu 49.65%\n",
            "iter 118: loss 0.0854, time 208.49ms, mfu 49.00%\n",
            "iter 119: loss 0.6184, time 205.03ms, mfu 48.48%\n",
            "Validation Confusion Matrix \n",
            " []\n"
          ]
        },
        {
          "output_type": "stream",
          "name": "stderr",
          "text": [
            "/usr/local/lib/python3.10/dist-packages/sklearn/metrics/_classification.py:1344: UndefinedMetricWarning: Precision is ill-defined and being set to 0.0 in labels with no predicted samples. Use `zero_division` parameter to control this behavior.\n",
            "  _warn_prf(average, modifier, msg_start, len(result))\n"
          ]
        },
        {
          "output_type": "stream",
          "name": "stdout",
          "text": [
            "Validation Confusion Matrix \n",
            " [[324   9   0]\n",
            " [ 32 397   0]\n",
            " [  0  14   0]]\n",
            "step 120: train loss 0.2977, val loss 0.3196,val accuracy 0.9291, val precision 0.9131, , val recall 0.9291, , val f1 0.9206\n"
          ]
        },
        {
          "output_type": "stream",
          "name": "stderr",
          "text": [
            "/usr/local/lib/python3.10/dist-packages/sklearn/metrics/_classification.py:1344: UndefinedMetricWarning: Precision is ill-defined and being set to 0.0 in labels with no predicted samples. Use `zero_division` parameter to control this behavior.\n",
            "  _warn_prf(average, modifier, msg_start, len(result))\n"
          ]
        },
        {
          "output_type": "stream",
          "name": "stdout",
          "text": [
            "Test Confusion Matrix \n",
            " [[10  0  0]\n",
            " [ 2  8  0]\n",
            " [ 0 10  0]]\n",
            "step 120: test loss 1.6145,test accuracy 0.6000, test precision 0.4259, , test recall 0.6000, , test f1 0.4935\n",
            "iter 120: loss 0.0947, time 13870.73ms, mfu 43.69%\n",
            "iter 121: loss 0.0171, time 204.11ms, mfu 43.73%\n",
            "iter 122: loss 0.2567, time 204.56ms, mfu 43.74%\n",
            "iter 123: loss 0.0007, time 199.44ms, mfu 43.87%\n",
            "iter 124: loss 0.0304, time 84.36ms, mfu 50.13%\n",
            "iter 125: loss 0.0843, time 203.73ms, mfu 49.53%\n",
            "iter 126: loss 0.0925, time 203.51ms, mfu 48.99%\n",
            "iter 127: loss 0.8038, time 212.43ms, mfu 48.32%\n",
            "iter 128: loss 0.0089, time 200.36ms, mfu 47.97%\n",
            "iter 129: loss 0.1061, time 201.42ms, mfu 47.63%\n",
            "Validation Confusion Matrix \n",
            " []\n"
          ]
        },
        {
          "output_type": "stream",
          "name": "stderr",
          "text": [
            "/usr/local/lib/python3.10/dist-packages/sklearn/metrics/_classification.py:1344: UndefinedMetricWarning: Precision is ill-defined and being set to 0.0 in labels with no predicted samples. Use `zero_division` parameter to control this behavior.\n",
            "  _warn_prf(average, modifier, msg_start, len(result))\n"
          ]
        },
        {
          "output_type": "stream",
          "name": "stdout",
          "text": [
            "Validation Confusion Matrix \n",
            " [[298  24   0]\n",
            " [ 19 420   0]\n",
            " [  0  15   0]]\n",
            "step 130: train loss 0.4415, val loss 0.5055,val accuracy 0.9253, val precision 0.9077, , val recall 0.9253, , val f1 0.9162\n",
            "iter 130: loss 0.7334, time 13573.64ms, mfu 42.93%\n",
            "iter 131: loss 0.4001, time 200.33ms, mfu 43.12%\n",
            "iter 132: loss 0.0000, time 197.31ms, mfu 43.36%\n",
            "iter 133: loss 1.0069, time 88.20ms, mfu 49.21%\n",
            "iter 134: loss 0.5187, time 198.14ms, mfu 48.82%\n",
            "iter 135: loss 0.4041, time 202.46ms, mfu 48.38%\n",
            "iter 136: loss 0.4359, time 204.21ms, mfu 47.94%\n",
            "iter 137: loss 0.0214, time 201.81ms, mfu 47.59%\n",
            "iter 138: loss 0.0837, time 202.22ms, mfu 47.28%\n",
            "iter 139: loss 0.4839, time 206.05ms, mfu 46.91%\n",
            "Validation Confusion Matrix \n",
            " []\n"
          ]
        },
        {
          "output_type": "stream",
          "name": "stderr",
          "text": [
            "/usr/local/lib/python3.10/dist-packages/sklearn/metrics/_classification.py:1344: UndefinedMetricWarning: Precision is ill-defined and being set to 0.0 in labels with no predicted samples. Use `zero_division` parameter to control this behavior.\n",
            "  _warn_prf(average, modifier, msg_start, len(result))\n"
          ]
        },
        {
          "output_type": "stream",
          "name": "stdout",
          "text": [
            "Validation Confusion Matrix \n",
            " [[318  12   0]\n",
            " [ 26 410   0]\n",
            " [  1   9   0]]\n",
            "step 140: train loss 0.2757, val loss 0.3134,val accuracy 0.9381, val precision 0.9265, , val recall 0.9381, , val f1 0.9321\n"
          ]
        },
        {
          "output_type": "stream",
          "name": "stderr",
          "text": [
            "/usr/local/lib/python3.10/dist-packages/sklearn/metrics/_classification.py:1344: UndefinedMetricWarning: Precision is ill-defined and being set to 0.0 in labels with no predicted samples. Use `zero_division` parameter to control this behavior.\n",
            "  _warn_prf(average, modifier, msg_start, len(result))\n"
          ]
        },
        {
          "output_type": "stream",
          "name": "stdout",
          "text": [
            "Test Confusion Matrix \n",
            " [[ 9  1  0]\n",
            " [ 2  8  0]\n",
            " [ 0 10  0]]\n",
            "step 140: test loss 1.6472,test accuracy 0.5667, test precision 0.4131, , test recall 0.5667, , test f1 0.4696\n",
            "iter 140: loss 0.0907, time 13619.64ms, mfu 42.28%\n",
            "iter 141: loss 0.3911, time 206.40ms, mfu 42.41%\n",
            "iter 142: loss 0.4683, time 203.53ms, mfu 42.58%\n",
            "iter 143: loss 0.1475, time 197.40ms, mfu 42.87%\n",
            "iter 144: loss 0.0485, time 202.91ms, mfu 43.01%\n",
            "iter 145: loss 0.2204, time 205.04ms, mfu 43.09%\n",
            "iter 146: loss 0.4174, time 204.99ms, mfu 43.16%\n",
            "iter 147: loss 0.1390, time 205.52ms, mfu 43.22%\n",
            "iter 148: loss 0.3217, time 203.93ms, mfu 43.30%\n",
            "iter 149: loss 0.3958, time 200.29ms, mfu 43.45%\n",
            "Validation Confusion Matrix \n",
            " []\n"
          ]
        },
        {
          "output_type": "stream",
          "name": "stderr",
          "text": [
            "/usr/local/lib/python3.10/dist-packages/sklearn/metrics/_classification.py:1344: UndefinedMetricWarning: Precision is ill-defined and being set to 0.0 in labels with no predicted samples. Use `zero_division` parameter to control this behavior.\n",
            "  _warn_prf(average, modifier, msg_start, len(result))\n"
          ]
        },
        {
          "output_type": "stream",
          "name": "stdout",
          "text": [
            "Validation Confusion Matrix \n",
            " [[321   3   0]\n",
            " [ 19 416   0]\n",
            " [  1  16   0]]\n",
            "step 150: train loss 0.2114, val loss 0.1923,val accuracy 0.9497, val precision 0.9291, , val recall 0.9497, , val f1 0.9392\n",
            "iter 150: loss 0.1152, time 13366.22ms, mfu 39.17%\n",
            "iter 151: loss 0.1423, time 203.43ms, mfu 39.67%\n",
            "iter 152: loss 0.0742, time 204.81ms, mfu 40.09%\n",
            "iter 153: loss 0.4175, time 202.79ms, mfu 40.51%\n",
            "iter 154: loss 0.0165, time 207.19ms, mfu 40.79%\n",
            "iter 155: loss 0.3171, time 205.59ms, mfu 41.08%\n",
            "iter 156: loss 0.0083, time 196.41ms, mfu 41.55%\n",
            "iter 157: loss 0.0116, time 85.20ms, mfu 47.94%\n",
            "iter 158: loss 0.0198, time 204.22ms, mfu 47.54%\n",
            "iter 159: loss 0.1821, time 198.55ms, mfu 47.31%\n",
            "Validation Confusion Matrix \n",
            " []\n"
          ]
        },
        {
          "output_type": "stream",
          "name": "stderr",
          "text": [
            "/usr/local/lib/python3.10/dist-packages/sklearn/metrics/_classification.py:1344: UndefinedMetricWarning: Precision is ill-defined and being set to 0.0 in labels with no predicted samples. Use `zero_division` parameter to control this behavior.\n",
            "  _warn_prf(average, modifier, msg_start, len(result))\n"
          ]
        },
        {
          "output_type": "stream",
          "name": "stdout",
          "text": [
            "Validation Confusion Matrix \n",
            " [[312  10   0]\n",
            " [ 19 424   0]\n",
            " [  1  10   0]]\n",
            "step 160: train loss 0.2078, val loss 0.2449,val accuracy 0.9485, val precision 0.9351, , val recall 0.9485, , val f1 0.9417\n"
          ]
        },
        {
          "output_type": "stream",
          "name": "stderr",
          "text": [
            "/usr/local/lib/python3.10/dist-packages/sklearn/metrics/_classification.py:1344: UndefinedMetricWarning: Precision is ill-defined and being set to 0.0 in labels with no predicted samples. Use `zero_division` parameter to control this behavior.\n",
            "  _warn_prf(average, modifier, msg_start, len(result))\n"
          ]
        },
        {
          "output_type": "stream",
          "name": "stdout",
          "text": [
            "Test Confusion Matrix \n",
            " [[10  0  0]\n",
            " [ 3  7  0]\n",
            " [ 0 10  0]]\n",
            "step 160: test loss 2.1108,test accuracy 0.5667, test precision 0.3937, , test recall 0.5667, , test f1 0.4627\n",
            "iter 160: loss 0.0439, time 13611.87ms, mfu 42.64%\n",
            "iter 161: loss 0.2659, time 207.72ms, mfu 42.70%\n",
            "iter 162: loss 0.0082, time 204.90ms, mfu 42.82%\n",
            "iter 163: loss 0.1961, time 199.77ms, mfu 43.03%\n",
            "iter 164: loss 0.0092, time 194.78ms, mfu 43.34%\n",
            "iter 165: loss 0.0382, time 87.82ms, mfu 49.23%\n",
            "iter 166: loss 0.2701, time 200.58ms, mfu 48.79%\n",
            "iter 167: loss 0.3364, time 203.63ms, mfu 48.32%\n",
            "iter 168: loss 0.3163, time 207.06ms, mfu 47.82%\n",
            "iter 169: loss 0.0708, time 197.69ms, mfu 47.59%\n",
            "Validation Confusion Matrix \n",
            " []\n"
          ]
        },
        {
          "output_type": "stream",
          "name": "stderr",
          "text": [
            "/usr/local/lib/python3.10/dist-packages/sklearn/metrics/_classification.py:1344: UndefinedMetricWarning: Precision is ill-defined and being set to 0.0 in labels with no predicted samples. Use `zero_division` parameter to control this behavior.\n",
            "  _warn_prf(average, modifier, msg_start, len(result))\n"
          ]
        },
        {
          "output_type": "stream",
          "name": "stdout",
          "text": [
            "Validation Confusion Matrix \n",
            " [[328   3   0]\n",
            " [ 48 382   0]\n",
            " [  3  12   0]]\n",
            "step 170: train loss 0.4202, val loss 0.4425,val accuracy 0.9149, val precision 0.9023, , val recall 0.9149, , val f1 0.9060\n",
            "iter 170: loss 0.1614, time 13622.11ms, mfu 42.89%\n",
            "iter 171: loss 0.0323, time 203.75ms, mfu 43.01%\n",
            "iter 172: loss 0.1877, time 202.13ms, mfu 43.15%\n",
            "iter 173: loss 0.0069, time 201.52ms, mfu 43.30%\n",
            "iter 174: loss 0.4015, time 87.16ms, mfu 49.27%\n",
            "iter 175: loss 0.2047, time 202.38ms, mfu 48.78%\n",
            "iter 176: loss 0.0682, time 203.12ms, mfu 48.33%\n",
            "iter 177: loss 0.2502, time 203.60ms, mfu 47.90%\n",
            "iter 178: loss 0.0737, time 200.33ms, mfu 47.60%\n",
            "iter 179: loss 0.0322, time 205.01ms, mfu 47.22%\n",
            "Validation Confusion Matrix \n",
            " []\n"
          ]
        },
        {
          "output_type": "stream",
          "name": "stderr",
          "text": [
            "/usr/local/lib/python3.10/dist-packages/sklearn/metrics/_classification.py:1344: UndefinedMetricWarning: Precision is ill-defined and being set to 0.0 in labels with no predicted samples. Use `zero_division` parameter to control this behavior.\n",
            "  _warn_prf(average, modifier, msg_start, len(result))\n"
          ]
        },
        {
          "output_type": "stream",
          "name": "stdout",
          "text": [
            "Validation Confusion Matrix \n",
            " [[326   1   0]\n",
            " [ 76 358   0]\n",
            " [  7   8   0]]\n",
            "step 180: train loss 0.4419, val loss 0.5256,val accuracy 0.8814, val precision 0.8814, , val recall 0.8814, , val f1 0.8732\n"
          ]
        },
        {
          "output_type": "stream",
          "name": "stderr",
          "text": [
            "/usr/local/lib/python3.10/dist-packages/sklearn/metrics/_classification.py:1344: UndefinedMetricWarning: Precision is ill-defined and being set to 0.0 in labels with no predicted samples. Use `zero_division` parameter to control this behavior.\n",
            "  _warn_prf(average, modifier, msg_start, len(result))\n"
          ]
        },
        {
          "output_type": "stream",
          "name": "stdout",
          "text": [
            "Test Confusion Matrix \n",
            " [[10  0  0]\n",
            " [ 4  6  0]\n",
            " [ 3  7  0]]\n",
            "step 180: test loss 2.2226,test accuracy 0.5333, test precision 0.3499, , test recall 0.5333, , test f1 0.4208\n",
            "iter 180: loss 0.3347, time 13880.76ms, mfu 42.56%\n",
            "iter 181: loss 0.0072, time 190.16ms, mfu 43.03%\n",
            "iter 182: loss 0.8734, time 88.96ms, mfu 48.82%\n",
            "iter 183: loss 0.6352, time 197.47ms, mfu 48.49%\n",
            "iter 184: loss 0.5363, time 203.77ms, mfu 48.05%\n",
            "iter 185: loss 0.3615, time 201.73ms, mfu 47.69%\n",
            "iter 186: loss 0.0387, time 202.86ms, mfu 47.35%\n",
            "iter 187: loss 0.0257, time 204.36ms, mfu 47.01%\n",
            "iter 188: loss 0.2504, time 202.66ms, mfu 46.74%\n",
            "iter 189: loss 0.2376, time 206.07ms, mfu 46.43%\n",
            "Validation Confusion Matrix \n",
            " []\n"
          ]
        },
        {
          "output_type": "stream",
          "name": "stderr",
          "text": [
            "/usr/local/lib/python3.10/dist-packages/sklearn/metrics/_classification.py:1344: UndefinedMetricWarning: Precision is ill-defined and being set to 0.0 in labels with no predicted samples. Use `zero_division` parameter to control this behavior.\n",
            "  _warn_prf(average, modifier, msg_start, len(result))\n"
          ]
        },
        {
          "output_type": "stream",
          "name": "stdout",
          "text": [
            "Validation Confusion Matrix \n",
            " [[222  93   0]\n",
            " [  2 447   0]\n",
            " [  0  12   0]]\n",
            "step 190: train loss 0.4437, val loss 0.5142,val accuracy 0.8621, val precision 0.8709, , val recall 0.8621, , val f1 0.8511\n",
            "iter 190: loss 0.8295, time 13371.40ms, mfu 41.85%\n",
            "iter 191: loss 0.7117, time 201.25ms, mfu 42.13%\n",
            "iter 192: loss 0.6903, time 201.96ms, mfu 42.36%\n",
            "iter 193: loss 0.2823, time 201.65ms, mfu 42.58%\n",
            "iter 194: loss 0.0448, time 205.79ms, mfu 42.69%\n",
            "iter 195: loss 0.1091, time 202.49ms, mfu 42.85%\n",
            "iter 196: loss 0.2214, time 203.99ms, mfu 42.97%\n",
            "iter 197: loss 0.1298, time 200.66ms, mfu 43.15%\n",
            "iter 198: loss 0.1273, time 204.58ms, mfu 43.23%\n",
            "iter 199: loss 0.2469, time 202.30ms, mfu 43.34%\n",
            "Validation Confusion Matrix \n",
            " []\n"
          ]
        },
        {
          "output_type": "stream",
          "name": "stderr",
          "text": [
            "/usr/local/lib/python3.10/dist-packages/sklearn/metrics/_classification.py:1344: UndefinedMetricWarning: Precision is ill-defined and being set to 0.0 in labels with no predicted samples. Use `zero_division` parameter to control this behavior.\n",
            "  _warn_prf(average, modifier, msg_start, len(result))\n"
          ]
        },
        {
          "output_type": "stream",
          "name": "stdout",
          "text": [
            "Validation Confusion Matrix \n",
            " [[336   3   0]\n",
            " [ 46 380   0]\n",
            " [  2   9   0]]\n",
            "step 200: train loss 0.4236, val loss 0.3140,val accuracy 0.9227, val precision 0.9144, , val recall 0.9227, , val f1 0.9161\n"
          ]
        },
        {
          "output_type": "stream",
          "name": "stderr",
          "text": [
            "/usr/local/lib/python3.10/dist-packages/sklearn/metrics/_classification.py:1344: UndefinedMetricWarning: Precision is ill-defined and being set to 0.0 in labels with no predicted samples. Use `zero_division` parameter to control this behavior.\n",
            "  _warn_prf(average, modifier, msg_start, len(result))\n"
          ]
        },
        {
          "output_type": "stream",
          "name": "stdout",
          "text": [
            "Test Confusion Matrix \n",
            " [[10  0  0]\n",
            " [ 4  6  0]\n",
            " [ 1  9  0]]\n",
            "step 200: test loss 1.9193,test accuracy 0.5333, test precision 0.3556, , test recall 0.5333, , test f1 0.4267\n",
            "iter 200: loss 0.5919, time 13604.54ms, mfu 39.07%\n",
            "iter 201: loss 0.8149, time 202.42ms, mfu 39.60%\n",
            "iter 202: loss 0.3807, time 203.98ms, mfu 40.05%\n",
            "iter 203: loss 0.0257, time 201.41ms, mfu 40.50%\n",
            "iter 204: loss 0.1764, time 203.77ms, mfu 40.86%\n",
            "iter 205: loss 0.0049, time 200.81ms, mfu 41.25%\n",
            "iter 206: loss 0.1522, time 84.20ms, mfu 47.79%\n",
            "iter 207: loss 0.3313, time 201.74ms, mfu 47.46%\n",
            "iter 208: loss 0.2200, time 205.61ms, mfu 47.08%\n",
            "iter 209: loss 0.1180, time 208.22ms, mfu 46.69%\n",
            "Validation Confusion Matrix \n",
            " []\n"
          ]
        },
        {
          "output_type": "stream",
          "name": "stderr",
          "text": [
            "/usr/local/lib/python3.10/dist-packages/sklearn/metrics/_classification.py:1344: UndefinedMetricWarning: Precision is ill-defined and being set to 0.0 in labels with no predicted samples. Use `zero_division` parameter to control this behavior.\n",
            "  _warn_prf(average, modifier, msg_start, len(result))\n"
          ]
        },
        {
          "output_type": "stream",
          "name": "stdout",
          "text": [
            "Validation Confusion Matrix \n",
            " [[323  13   0]\n",
            " [  8 423   0]\n",
            " [  1   8   0]]\n",
            "step 210: train loss 0.2141, val loss 0.1746,val accuracy 0.9613, val precision 0.9504, , val recall 0.9613, , val f1 0.9557\n",
            "iter 210: loss 0.2031, time 13336.11ms, mfu 42.09%\n",
            "iter 211: loss 0.2547, time 202.57ms, mfu 42.31%\n",
            "iter 212: loss 0.0400, time 202.35ms, mfu 42.52%\n",
            "iter 213: loss 0.3110, time 202.05ms, mfu 42.71%\n",
            "iter 214: loss 0.0061, time 196.92ms, mfu 43.00%\n",
            "iter 215: loss 0.4837, time 84.92ms, mfu 49.28%\n",
            "iter 216: loss 0.1304, time 202.04ms, mfu 48.80%\n",
            "iter 217: loss 0.0502, time 203.90ms, mfu 48.32%\n",
            "iter 218: loss 0.1657, time 202.91ms, mfu 47.92%\n",
            "iter 219: loss 0.1461, time 203.25ms, mfu 47.54%\n",
            "Validation Confusion Matrix \n",
            " []\n"
          ]
        },
        {
          "output_type": "stream",
          "name": "stderr",
          "text": [
            "/usr/local/lib/python3.10/dist-packages/sklearn/metrics/_classification.py:1344: UndefinedMetricWarning: Precision is ill-defined and being set to 0.0 in labels with no predicted samples. Use `zero_division` parameter to control this behavior.\n",
            "  _warn_prf(average, modifier, msg_start, len(result))\n"
          ]
        },
        {
          "output_type": "stream",
          "name": "stdout",
          "text": [
            "Validation Confusion Matrix \n",
            " [[325  12   0]\n",
            " [  5 422   0]\n",
            " [  2  10   0]]\n",
            "step 220: train loss 0.1489, val loss 0.1338,val accuracy 0.9626, val precision 0.9481, , val recall 0.9626, , val f1 0.9551\n"
          ]
        },
        {
          "output_type": "stream",
          "name": "stderr",
          "text": [
            "/usr/local/lib/python3.10/dist-packages/sklearn/metrics/_classification.py:1344: UndefinedMetricWarning: Precision is ill-defined and being set to 0.0 in labels with no predicted samples. Use `zero_division` parameter to control this behavior.\n",
            "  _warn_prf(average, modifier, msg_start, len(result))\n"
          ]
        },
        {
          "output_type": "stream",
          "name": "stdout",
          "text": [
            "Test Confusion Matrix \n",
            " [[ 9  1  0]\n",
            " [ 0 10  0]\n",
            " [ 0 10  0]]\n",
            "step 220: test loss 1.6532,test accuracy 0.6333, test precision 0.4921, , test recall 0.6333, , test f1 0.5308\n",
            "iter 220: loss 0.2728, time 13849.71ms, mfu 42.85%\n",
            "iter 221: loss 0.1969, time 203.63ms, mfu 42.98%\n",
            "iter 222: loss 0.0046, time 201.81ms, mfu 43.13%\n",
            "iter 223: loss 0.2919, time 87.32ms, mfu 49.10%\n",
            "iter 224: loss 0.1946, time 198.18ms, mfu 48.73%\n",
            "iter 225: loss 0.2210, time 206.25ms, mfu 48.21%\n",
            "iter 226: loss 0.0721, time 202.34ms, mfu 47.83%\n",
            "iter 227: loss 0.1978, time 203.23ms, mfu 47.46%\n",
            "iter 228: loss 0.1890, time 201.93ms, mfu 47.16%\n",
            "iter 229: loss 0.1609, time 204.55ms, mfu 46.84%\n",
            "Validation Confusion Matrix \n",
            " []\n"
          ]
        },
        {
          "output_type": "stream",
          "name": "stderr",
          "text": [
            "/usr/local/lib/python3.10/dist-packages/sklearn/metrics/_classification.py:1344: UndefinedMetricWarning: Precision is ill-defined and being set to 0.0 in labels with no predicted samples. Use `zero_division` parameter to control this behavior.\n",
            "  _warn_prf(average, modifier, msg_start, len(result))\n"
          ]
        },
        {
          "output_type": "stream",
          "name": "stdout",
          "text": [
            "Validation Confusion Matrix \n",
            " [[339   4   0]\n",
            " [ 11 410   0]\n",
            " [  3   9   0]]\n",
            "step 230: train loss 0.1378, val loss 0.1226,val accuracy 0.9652, val precision 0.9503, , val recall 0.9652, , val f1 0.9577\n",
            "iter 230: loss 0.0349, time 13650.97ms, mfu 42.22%\n",
            "iter 231: loss 0.0053, time 198.89ms, mfu 42.51%\n",
            "iter 232: loss 0.1522, time 86.78ms, mfu 48.61%\n",
            "iter 233: loss 0.1043, time 202.45ms, mfu 48.19%\n",
            "iter 234: loss 0.3317, time 202.95ms, mfu 47.80%\n",
            "iter 235: loss 0.1303, time 206.35ms, mfu 47.37%\n",
            "iter 236: loss 0.0677, time 202.92ms, mfu 47.06%\n",
            "iter 237: loss 0.1957, time 207.86ms, mfu 46.67%\n",
            "iter 238: loss 0.1353, time 205.47ms, mfu 46.38%\n",
            "iter 239: loss 0.0085, time 199.60ms, mfu 46.24%\n",
            "Validation Confusion Matrix \n",
            " []\n"
          ]
        },
        {
          "output_type": "stream",
          "name": "stderr",
          "text": [
            "/usr/local/lib/python3.10/dist-packages/sklearn/metrics/_classification.py:1344: UndefinedMetricWarning: Precision is ill-defined and being set to 0.0 in labels with no predicted samples. Use `zero_division` parameter to control this behavior.\n",
            "  _warn_prf(average, modifier, msg_start, len(result))\n"
          ]
        },
        {
          "output_type": "stream",
          "name": "stdout",
          "text": [
            "Validation Confusion Matrix \n",
            " [[323   1   0]\n",
            " [ 17 419   0]\n",
            " [  5  11   0]]\n",
            "step 240: train loss 0.2285, val loss 0.2312,val accuracy 0.9562, val precision 0.9371, , val recall 0.9562, , val f1 0.9462\n"
          ]
        },
        {
          "output_type": "stream",
          "name": "stderr",
          "text": [
            "/usr/local/lib/python3.10/dist-packages/sklearn/metrics/_classification.py:1344: UndefinedMetricWarning: Precision is ill-defined and being set to 0.0 in labels with no predicted samples. Use `zero_division` parameter to control this behavior.\n",
            "  _warn_prf(average, modifier, msg_start, len(result))\n"
          ]
        },
        {
          "output_type": "stream",
          "name": "stdout",
          "text": [
            "Test Confusion Matrix \n",
            " [[10  0  0]\n",
            " [ 3  7  0]\n",
            " [ 1  9  0]]\n",
            "step 240: test loss 1.8984,test accuracy 0.5667, test precision 0.3839, , test recall 0.5667, , test f1 0.4573\n",
            "iter 240: loss 0.0286, time 13623.00ms, mfu 41.68%\n",
            "iter 241: loss 0.6026, time 203.79ms, mfu 41.92%\n",
            "iter 242: loss 0.5704, time 202.15ms, mfu 42.17%\n",
            "iter 243: loss 0.2467, time 202.56ms, mfu 42.39%\n",
            "iter 244: loss 0.1737, time 202.16ms, mfu 42.59%\n",
            "iter 245: loss 0.5482, time 202.92ms, mfu 42.76%\n",
            "iter 246: loss 0.0016, time 195.69ms, mfu 43.07%\n",
            "iter 247: loss 0.5827, time 87.74ms, mfu 49.00%\n",
            "iter 248: loss 0.0316, time 200.62ms, mfu 48.58%\n",
            "iter 249: loss 0.0317, time 205.13ms, mfu 48.10%\n",
            "Validation Confusion Matrix \n",
            " []\n"
          ]
        },
        {
          "output_type": "stream",
          "name": "stderr",
          "text": [
            "/usr/local/lib/python3.10/dist-packages/sklearn/metrics/_classification.py:1344: UndefinedMetricWarning: Precision is ill-defined and being set to 0.0 in labels with no predicted samples. Use `zero_division` parameter to control this behavior.\n",
            "  _warn_prf(average, modifier, msg_start, len(result))\n"
          ]
        },
        {
          "output_type": "stream",
          "name": "stdout",
          "text": [
            "Validation Confusion Matrix \n",
            " [[324  11   0]\n",
            " [  6 421   0]\n",
            " [  2  12   0]]\n",
            "step 250: train loss 0.1697, val loss 0.1834,val accuracy 0.9601, val precision 0.9431, , val recall 0.9601, , val f1 0.9513\n",
            "iter 250: loss 0.0144, time 13330.30ms, mfu 43.36%\n",
            "iter 251: loss 0.0948, time 205.01ms, mfu 43.40%\n",
            "iter 252: loss 0.2477, time 201.50ms, mfu 43.52%\n",
            "iter 253: loss 0.0038, time 206.32ms, mfu 43.52%\n",
            "iter 254: loss 0.2057, time 199.56ms, mfu 43.67%\n",
            "iter 255: loss 0.0012, time 195.17ms, mfu 43.90%\n",
            "iter 256: loss 0.5180, time 88.99ms, mfu 49.61%\n",
            "iter 257: loss 0.0393, time 196.57ms, mfu 49.21%\n",
            "iter 258: loss 0.0071, time 206.52ms, mfu 48.64%\n",
            "iter 259: loss 0.0767, time 202.73ms, mfu 48.21%\n",
            "Validation Confusion Matrix \n",
            " []\n"
          ]
        },
        {
          "output_type": "stream",
          "name": "stderr",
          "text": [
            "/usr/local/lib/python3.10/dist-packages/sklearn/metrics/_classification.py:1344: UndefinedMetricWarning: Precision is ill-defined and being set to 0.0 in labels with no predicted samples. Use `zero_division` parameter to control this behavior.\n",
            "  _warn_prf(average, modifier, msg_start, len(result))\n"
          ]
        },
        {
          "output_type": "stream",
          "name": "stdout",
          "text": [
            "Validation Confusion Matrix \n",
            " [[312   9   0]\n",
            " [  7 434   0]\n",
            " [  4  10   0]]\n",
            "step 260: train loss 0.1339, val loss 0.1553,val accuracy 0.9613, val precision 0.9440, , val recall 0.9613, , val f1 0.9526\n"
          ]
        },
        {
          "output_type": "stream",
          "name": "stderr",
          "text": [
            "/usr/local/lib/python3.10/dist-packages/sklearn/metrics/_classification.py:1344: UndefinedMetricWarning: Precision is ill-defined and being set to 0.0 in labels with no predicted samples. Use `zero_division` parameter to control this behavior.\n",
            "  _warn_prf(average, modifier, msg_start, len(result))\n"
          ]
        },
        {
          "output_type": "stream",
          "name": "stdout",
          "text": [
            "Test Confusion Matrix \n",
            " [[ 9  1  0]\n",
            " [ 0 10  0]\n",
            " [ 0 10  0]]\n",
            "step 260: test loss 1.4995,test accuracy 0.6333, test precision 0.4921, , test recall 0.6333, , test f1 0.5308\n",
            "iter 260: loss 0.0545, time 13884.06ms, mfu 43.45%\n",
            "iter 261: loss 0.0152, time 205.05ms, mfu 43.49%\n",
            "iter 262: loss 0.2343, time 202.61ms, mfu 43.57%\n",
            "iter 263: loss 0.0020, time 197.12ms, mfu 43.77%\n",
            "iter 264: loss 0.1513, time 90.41ms, mfu 49.33%\n",
            "iter 265: loss 0.0181, time 203.92ms, mfu 48.80%\n",
            "iter 266: loss 0.1514, time 200.46ms, mfu 48.40%\n",
            "iter 267: loss 0.0720, time 215.17ms, mfu 47.73%\n",
            "iter 268: loss 0.0623, time 204.99ms, mfu 47.34%\n",
            "iter 269: loss 0.0607, time 197.23ms, mfu 47.16%\n",
            "Validation Confusion Matrix \n",
            " []\n",
            "Validation Confusion Matrix \n",
            " [[333   0   0]\n",
            " [ 16 414   2]\n",
            " [  2   9   0]]\n",
            "step 270: train loss 0.1794, val loss 0.1701,val accuracy 0.9626, val precision 0.9520, , val recall 0.9626, , val f1 0.9570\n",
            "iter 270: loss 0.3428, time 13628.88ms, mfu 42.51%\n",
            "iter 271: loss 0.1053, time 204.71ms, mfu 42.65%\n",
            "iter 272: loss 0.0003, time 197.13ms, mfu 42.94%\n",
            "iter 273: loss 0.3457, time 85.81ms, mfu 49.11%\n",
            "iter 274: loss 0.1809, time 203.26ms, mfu 48.62%\n",
            "iter 275: loss 0.0722, time 203.21ms, mfu 48.18%\n",
            "iter 276: loss 0.2140, time 203.66ms, mfu 47.77%\n",
            "iter 277: loss 0.0737, time 203.30ms, mfu 47.41%\n",
            "iter 278: loss 0.4433, time 204.59ms, mfu 47.06%\n",
            "iter 279: loss 0.3135, time 205.72ms, mfu 46.72%\n",
            "Validation Confusion Matrix \n",
            " []\n",
            "Validation Confusion Matrix \n",
            " [[337   1   1]\n",
            " [  8 417   0]\n",
            " [  2  10   0]]\n",
            "step 280: train loss 0.1392, val loss 0.1503,val accuracy 0.9716, val precision 0.9579, , val recall 0.9716, , val f1 0.9647\n"
          ]
        },
        {
          "output_type": "stream",
          "name": "stderr",
          "text": [
            "/usr/local/lib/python3.10/dist-packages/sklearn/metrics/_classification.py:1344: UndefinedMetricWarning: Precision is ill-defined and being set to 0.0 in labels with no predicted samples. Use `zero_division` parameter to control this behavior.\n",
            "  _warn_prf(average, modifier, msg_start, len(result))\n"
          ]
        },
        {
          "output_type": "stream",
          "name": "stdout",
          "text": [
            "Test Confusion Matrix \n",
            " [[ 9  1  0]\n",
            " [ 2  8  0]\n",
            " [ 0 10  0]]\n",
            "step 280: test loss 2.5713,test accuracy 0.5667, test precision 0.4131, , test recall 0.5667, , test f1 0.4696\n",
            "iter 280: loss 0.0159, time 13656.69ms, mfu 42.11%\n",
            "iter 281: loss 0.0549, time 203.84ms, mfu 42.31%\n",
            "iter 282: loss 0.2702, time 203.35ms, mfu 42.49%\n",
            "iter 283: loss 0.1543, time 205.07ms, mfu 42.62%\n",
            "iter 284: loss 0.1945, time 200.29ms, mfu 42.85%\n",
            "iter 285: loss 0.2070, time 201.08ms, mfu 43.03%\n",
            "iter 286: loss 0.0026, time 208.07ms, mfu 43.04%\n",
            "iter 287: loss 0.2362, time 198.25ms, mfu 43.27%\n",
            "iter 288: loss 0.0173, time 203.13ms, mfu 43.36%\n",
            "iter 289: loss 0.3348, time 202.78ms, mfu 43.46%\n",
            "Validation Confusion Matrix \n",
            " []\n"
          ]
        },
        {
          "output_type": "stream",
          "name": "stderr",
          "text": [
            "/usr/local/lib/python3.10/dist-packages/sklearn/metrics/_classification.py:1344: UndefinedMetricWarning: Precision is ill-defined and being set to 0.0 in labels with no predicted samples. Use `zero_division` parameter to control this behavior.\n",
            "  _warn_prf(average, modifier, msg_start, len(result))\n"
          ]
        },
        {
          "output_type": "stream",
          "name": "stdout",
          "text": [
            "Validation Confusion Matrix \n",
            " [[338   0   0]\n",
            " [  4 422   0]\n",
            " [  2  10   0]]\n",
            "step 290: train loss 0.1467, val loss 0.1058,val accuracy 0.9794, val precision 0.9642, , val recall 0.9794, , val f1 0.9717\n",
            "iter 290: loss 0.1126, time 13321.52ms, mfu 39.18%\n",
            "iter 291: loss 0.0173, time 200.15ms, mfu 39.75%\n",
            "iter 292: loss 0.2309, time 206.99ms, mfu 40.11%\n",
            "iter 293: loss 0.3124, time 202.03ms, mfu 40.55%\n",
            "iter 294: loss 0.0507, time 206.24ms, mfu 40.85%\n",
            "iter 295: loss 0.1728, time 199.10ms, mfu 41.27%\n",
            "iter 296: loss 0.0020, time 198.81ms, mfu 41.66%\n",
            "iter 297: loss 0.1822, time 86.74ms, mfu 47.85%\n",
            "iter 298: loss 0.1540, time 203.06ms, mfu 47.49%\n",
            "iter 299: loss 0.2731, time 202.29ms, mfu 47.18%\n",
            "Validation Confusion Matrix \n",
            " []\n",
            "Validation Confusion Matrix \n",
            " [[329   0   1]\n",
            " [  3 433   0]\n",
            " [  2   8   0]]\n",
            "step 300: train loss 0.1123, val loss 0.0808,val accuracy 0.9820, val precision 0.9706, , val recall 0.9820, , val f1 0.9762\n"
          ]
        },
        {
          "output_type": "stream",
          "name": "stderr",
          "text": [
            "/usr/local/lib/python3.10/dist-packages/sklearn/metrics/_classification.py:1344: UndefinedMetricWarning: Precision is ill-defined and being set to 0.0 in labels with no predicted samples. Use `zero_division` parameter to control this behavior.\n",
            "  _warn_prf(average, modifier, msg_start, len(result))\n"
          ]
        },
        {
          "output_type": "stream",
          "name": "stdout",
          "text": [
            "Test Confusion Matrix \n",
            " [[9 1 0]\n",
            " [1 9 0]\n",
            " [1 9 0]]\n",
            "step 300: test loss 1.1130,test accuracy 0.6000, test precision 0.4306, , test recall 0.6000, , test f1 0.4926\n",
            "iter 300: loss 0.0542, time 13596.50ms, mfu 42.53%\n"
          ]
        },
        {
          "output_type": "display_data",
          "data": {
            "text/plain": [
              "VBox(children=(Label(value='0.002 MB of 0.002 MB uploaded\\r'), FloatProgress(value=1.0, max=1.0)))"
            ],
            "application/vnd.jupyter.widget-view+json": {
              "version_major": 2,
              "version_minor": 0,
              "model_id": "38187cf4053a47fa93bf65ed0786d492"
            }
          },
          "metadata": {}
        },
        {
          "output_type": "display_data",
          "data": {
            "text/plain": [
              "<IPython.core.display.HTML object>"
            ],
            "text/html": [
              "<style>\n",
              "    table.wandb td:nth-child(1) { padding: 0 10px; text-align: left ; width: auto;} td:nth-child(2) {text-align: left ; width: 100%}\n",
              "    .wandb-row { display: flex; flex-direction: row; flex-wrap: wrap; justify-content: flex-start; width: 100% }\n",
              "    .wandb-col { display: flex; flex-direction: column; flex-basis: 100%; flex: 1; padding: 10px; }\n",
              "    </style>\n",
              "<div class=\"wandb-row\"><div class=\"wandb-col\"><h3>Run history:</h3><br/><table class=\"wandb\"><tr><td>iter</td><td>▁▁▁▁▁▂▂▂▂▂▃▃▃▃▃▄▄▄▄▄▅▅▅▅▅▅▆▆▆▆▆▇▇▇▇▇████</td></tr><tr><td>lr</td><td>▁▁▁▁▁▁▁▁▁▁▁▁▁▁▁▁▁▁▁▁▁▁▁▁▁▁▁▁▁▁▁▁▁▁▁▁▁▁▁▁</td></tr><tr><td>mfu</td><td>▁▁██████████████████████████████████████</td></tr><tr><td>test/acc</td><td>▁▁▃▆▇▆▇▆▆▆▆█▆█▆▇</td></tr><tr><td>test/f1</td><td>▁▁▄▇▇▇▇▇▇▆▆█▇█▇▇</td></tr><tr><td>test/precision</td><td>▁▁▄█▇▆▇▇▆▅▅█▆█▇▇</td></tr><tr><td>test/recall</td><td>▁▁▃▆▇▆▇▆▆▆▆█▆█▆▇</td></tr><tr><td>train/loss</td><td>█▄▂▂▂▂▂▂▁▁▁▁▁▂▁▁▁▂▂▂▂▁▁▁▁▁▁▁▁▁▁</td></tr><tr><td>val/acc</td><td>▁▄▅▆▅▆▇▇█▇████████▇▇███████████</td></tr><tr><td>val/f1</td><td>▁▃▄▆▅▅▇▇█▇███████▇▇▇███████████</td></tr><tr><td>val/loss</td><td>█▄▂▂▂▂▂▂▁▁▁▁▁▂▁▁▁▂▂▂▁▁▁▁▁▁▁▁▁▁▁</td></tr><tr><td>val/precision</td><td>▁▂▇▇▇▇▇▇█▇████████▇▇███████████</td></tr><tr><td>val/recall</td><td>▁▄▅▆▅▆▇▇█▇████████▇▇███████████</td></tr></table><br/></div><div class=\"wandb-col\"><h3>Run summary:</h3><br/><table class=\"wandb\"><tr><td>iter</td><td>300</td></tr><tr><td>lr</td><td>0.0005</td></tr><tr><td>mfu</td><td>47.18068</td></tr><tr><td>test/acc</td><td>0.6</td></tr><tr><td>test/f1</td><td>0.49261</td></tr><tr><td>test/precision</td><td>0.43062</td></tr><tr><td>test/recall</td><td>0.6</td></tr><tr><td>train/loss</td><td>0.11232</td></tr><tr><td>val/acc</td><td>0.98196</td></tr><tr><td>val/f1</td><td>0.97622</td></tr><tr><td>val/loss</td><td>0.08085</td></tr><tr><td>val/precision</td><td>0.97055</td></tr><tr><td>val/recall</td><td>0.98196</td></tr></table><br/></div></div>"
            ]
          },
          "metadata": {}
        },
        {
          "output_type": "display_data",
          "data": {
            "text/plain": [
              "<IPython.core.display.HTML object>"
            ],
            "text/html": [
              " View run <strong style=\"color:#cdcd00\">noble-sweep-3</strong> at: <a href='https://wandb.ai/di725/DI725-Assignment1/runs/89yu4k75' target=\"_blank\">https://wandb.ai/di725/DI725-Assignment1/runs/89yu4k75</a><br/> View project at: <a href='https://wandb.ai/di725/DI725-Assignment1' target=\"_blank\">https://wandb.ai/di725/DI725-Assignment1</a><br/>Synced 5 W&B file(s), 0 media file(s), 0 artifact file(s) and 0 other file(s)"
            ]
          },
          "metadata": {}
        },
        {
          "output_type": "display_data",
          "data": {
            "text/plain": [
              "<IPython.core.display.HTML object>"
            ],
            "text/html": [
              "Find logs at: <code>./wandb/run-20240415_110522-89yu4k75/logs</code>"
            ]
          },
          "metadata": {}
        },
        {
          "output_type": "stream",
          "name": "stderr",
          "text": [
            "\u001b[34m\u001b[1mwandb\u001b[0m: Sweep Agent: Waiting for job.\n",
            "\u001b[34m\u001b[1mwandb\u001b[0m: Job received.\n",
            "\u001b[34m\u001b[1mwandb\u001b[0m: Agent Starting Run: h61ediv7 with config:\n",
            "\u001b[34m\u001b[1mwandb\u001b[0m: \tdropout: 0.1\n",
            "\u001b[34m\u001b[1mwandb\u001b[0m: \tlearning_rate: 1e-05\n"
          ]
        },
        {
          "output_type": "display_data",
          "data": {
            "text/plain": [
              "<IPython.core.display.HTML object>"
            ],
            "text/html": [
              "Tracking run with wandb version 0.16.6"
            ]
          },
          "metadata": {}
        },
        {
          "output_type": "display_data",
          "data": {
            "text/plain": [
              "<IPython.core.display.HTML object>"
            ],
            "text/html": [
              "Run data is saved locally in <code>/content/wandb/run-20240415_111339-h61ediv7</code>"
            ]
          },
          "metadata": {}
        },
        {
          "output_type": "display_data",
          "data": {
            "text/plain": [
              "<IPython.core.display.HTML object>"
            ],
            "text/html": [
              "Syncing run <strong><a href='https://wandb.ai/di725/DI725-Assignment1/runs/h61ediv7' target=\"_blank\">astral-sweep-4</a></strong> to <a href='https://wandb.ai/di725/DI725-Assignment1' target=\"_blank\">Weights & Biases</a> (<a href='https://wandb.me/run' target=\"_blank\">docs</a>)<br/>Sweep page: <a href='https://wandb.ai/di725/DI725-Assignment1/sweeps/sebpco96' target=\"_blank\">https://wandb.ai/di725/DI725-Assignment1/sweeps/sebpco96</a>"
            ]
          },
          "metadata": {}
        },
        {
          "output_type": "display_data",
          "data": {
            "text/plain": [
              "<IPython.core.display.HTML object>"
            ],
            "text/html": [
              " View project at <a href='https://wandb.ai/di725/DI725-Assignment1' target=\"_blank\">https://wandb.ai/di725/DI725-Assignment1</a>"
            ]
          },
          "metadata": {}
        },
        {
          "output_type": "display_data",
          "data": {
            "text/plain": [
              "<IPython.core.display.HTML object>"
            ],
            "text/html": [
              " View sweep at <a href='https://wandb.ai/di725/DI725-Assignment1/sweeps/sebpco96' target=\"_blank\">https://wandb.ai/di725/DI725-Assignment1/sweeps/sebpco96</a>"
            ]
          },
          "metadata": {}
        },
        {
          "output_type": "display_data",
          "data": {
            "text/plain": [
              "<IPython.core.display.HTML object>"
            ],
            "text/html": [
              " View run at <a href='https://wandb.ai/di725/DI725-Assignment1/runs/h61ediv7' target=\"_blank\">https://wandb.ai/di725/DI725-Assignment1/runs/h61ediv7</a>"
            ]
          },
          "metadata": {}
        },
        {
          "output_type": "stream",
          "name": "stdout",
          "text": [
            "tokens per iteration will be: 32,768\n",
            "Initializing from OpenAI GPT-2 weights: gpt2\n",
            "loading weights from pretrained gpt: gpt2\n",
            "forcing vocab_size=50257, block_size=1024, bias=True\n",
            "overriding dropout rate to 0.1\n",
            "number of parameters: 123.66M\n",
            "num decayed parameter tensors: 51, with 124,320,768 parameters\n",
            "num non-decayed parameter tensors: 99, with 121,347 parameters\n",
            "using fused AdamW: True\n",
            "Validation Confusion Matrix \n",
            " []\n"
          ]
        },
        {
          "output_type": "stream",
          "name": "stderr",
          "text": [
            "/usr/local/lib/python3.10/dist-packages/sklearn/metrics/_classification.py:1344: UndefinedMetricWarning: Precision is ill-defined and being set to 0.0 in labels with no predicted samples. Use `zero_division` parameter to control this behavior.\n",
            "  _warn_prf(average, modifier, msg_start, len(result))\n"
          ]
        },
        {
          "output_type": "stream",
          "name": "stdout",
          "text": [
            "Validation Confusion Matrix \n",
            " [[  0   0 329]\n",
            " [  0   0 433]\n",
            " [  0   0  14]]\n",
            "step 0: train loss 4.1345, val loss 4.2081,val accuracy 0.0180, val precision 0.0003, , val recall 0.0180, , val f1 0.0006\n"
          ]
        },
        {
          "output_type": "stream",
          "name": "stderr",
          "text": [
            "/usr/local/lib/python3.10/dist-packages/sklearn/metrics/_classification.py:1344: UndefinedMetricWarning: Precision is ill-defined and being set to 0.0 in labels with no predicted samples. Use `zero_division` parameter to control this behavior.\n",
            "  _warn_prf(average, modifier, msg_start, len(result))\n"
          ]
        },
        {
          "output_type": "stream",
          "name": "stdout",
          "text": [
            "Test Confusion Matrix \n",
            " [[ 0  0 10]\n",
            " [ 0  0 10]\n",
            " [ 0  0 10]]\n",
            "step 0: test loss 2.7203,test accuracy 0.3333, test precision 0.1111, , test recall 0.3333, , test f1 0.1667\n",
            "iter 0: loss 3.8939, time 8733.32ms, mfu -100.00%\n",
            "iter 1: loss 3.7958, time 197.08ms, mfu -100.00%\n",
            "iter 2: loss 3.9293, time 202.70ms, mfu -100.00%\n",
            "iter 3: loss 3.5570, time 200.85ms, mfu -100.00%\n",
            "iter 4: loss 3.5941, time 207.94ms, mfu -100.00%\n",
            "iter 5: loss 3.5376, time 197.32ms, mfu 45.52%\n",
            "iter 6: loss 4.0090, time 199.57ms, mfu 45.47%\n",
            "iter 7: loss 3.8207, time 200.04ms, mfu 45.41%\n",
            "iter 8: loss 3.8995, time 200.49ms, mfu 45.35%\n",
            "iter 9: loss 2.7156, time 204.15ms, mfu 45.21%\n",
            "Validation Confusion Matrix \n",
            " []\n"
          ]
        },
        {
          "output_type": "stream",
          "name": "stderr",
          "text": [
            "/usr/local/lib/python3.10/dist-packages/sklearn/metrics/_classification.py:1344: UndefinedMetricWarning: Precision is ill-defined and being set to 0.0 in labels with no predicted samples. Use `zero_division` parameter to control this behavior.\n",
            "  _warn_prf(average, modifier, msg_start, len(result))\n"
          ]
        },
        {
          "output_type": "stream",
          "name": "stdout",
          "text": [
            "Validation Confusion Matrix \n",
            " [[  0   0 339]\n",
            " [  0   0 426]\n",
            " [  0   0  11]]\n",
            "step 10: train loss 2.0623, val loss 2.0505,val accuracy 0.0142, val precision 0.0002, , val recall 0.0142, , val f1 0.0004\n",
            "iter 10: loss 1.8803, time 13653.60ms, mfu 40.76%\n",
            "iter 11: loss 1.6687, time 207.88ms, mfu 41.00%\n",
            "iter 12: loss 1.3355, time 206.60ms, mfu 41.25%\n",
            "iter 13: loss 1.0728, time 207.09ms, mfu 41.46%\n",
            "iter 14: loss 0.8965, time 210.84ms, mfu 41.58%\n",
            "iter 15: loss 0.8405, time 200.66ms, mfu 41.89%\n",
            "iter 16: loss 0.8989, time 207.41ms, mfu 42.03%\n",
            "iter 17: loss 0.7477, time 88.38ms, mfu 47.99%\n",
            "iter 18: loss 0.7726, time 202.88ms, mfu 47.62%\n",
            "iter 19: loss 0.8584, time 205.30ms, mfu 47.23%\n",
            "Validation Confusion Matrix \n",
            " []\n"
          ]
        },
        {
          "output_type": "stream",
          "name": "stderr",
          "text": [
            "/usr/local/lib/python3.10/dist-packages/sklearn/metrics/_classification.py:1344: UndefinedMetricWarning: Precision is ill-defined and being set to 0.0 in labels with no predicted samples. Use `zero_division` parameter to control this behavior.\n",
            "  _warn_prf(average, modifier, msg_start, len(result))\n"
          ]
        },
        {
          "output_type": "stream",
          "name": "stdout",
          "text": [
            "Validation Confusion Matrix \n",
            " [[ 89 215   0]\n",
            " [ 23 436   0]\n",
            " [  0  13   0]]\n",
            "step 20: train loss 0.7099, val loss 0.6830,val accuracy 0.6765, val precision 0.6997, , val recall 0.6765, , val f1 0.6269\n"
          ]
        },
        {
          "output_type": "stream",
          "name": "stderr",
          "text": [
            "/usr/local/lib/python3.10/dist-packages/sklearn/metrics/_classification.py:1344: UndefinedMetricWarning: Precision is ill-defined and being set to 0.0 in labels with no predicted samples. Use `zero_division` parameter to control this behavior.\n",
            "  _warn_prf(average, modifier, msg_start, len(result))\n"
          ]
        },
        {
          "output_type": "stream",
          "name": "stdout",
          "text": [
            "Test Confusion Matrix \n",
            " [[ 5  5  0]\n",
            " [ 2  8  0]\n",
            " [ 0 10  0]]\n",
            "step 20: test loss 1.7489,test accuracy 0.4333, test precision 0.3540, , test recall 0.4333, , test f1 0.3577\n",
            "iter 20: loss 0.7200, time 13646.46ms, mfu 42.58%\n",
            "iter 21: loss 0.8776, time 206.69ms, mfu 42.66%\n",
            "iter 22: loss 0.6929, time 203.40ms, mfu 42.81%\n",
            "iter 23: loss 0.8095, time 205.43ms, mfu 42.90%\n",
            "iter 24: loss 0.7576, time 206.53ms, mfu 42.96%\n",
            "iter 25: loss 0.6246, time 85.64ms, mfu 49.15%\n",
            "iter 26: loss 0.6159, time 207.33ms, mfu 48.57%\n",
            "iter 27: loss 0.7225, time 204.96ms, mfu 48.10%\n",
            "iter 28: loss 0.8466, time 205.15ms, mfu 47.66%\n",
            "iter 29: loss 0.6333, time 201.91ms, mfu 47.35%\n",
            "Validation Confusion Matrix \n",
            " []\n"
          ]
        },
        {
          "output_type": "stream",
          "name": "stderr",
          "text": [
            "/usr/local/lib/python3.10/dist-packages/sklearn/metrics/_classification.py:1344: UndefinedMetricWarning: Precision is ill-defined and being set to 0.0 in labels with no predicted samples. Use `zero_division` parameter to control this behavior.\n",
            "  _warn_prf(average, modifier, msg_start, len(result))\n"
          ]
        },
        {
          "output_type": "stream",
          "name": "stdout",
          "text": [
            "Validation Confusion Matrix \n",
            " [[ 60 275   0]\n",
            " [ 16 412   0]\n",
            " [  0  13   0]]\n",
            "step 30: train loss 0.7212, val loss 0.7108,val accuracy 0.6082, val precision 0.6654, , val recall 0.6082, , val f1 0.5289\n",
            "iter 30: loss 0.7645, time 13678.60ms, mfu 42.68%\n",
            "iter 31: loss 0.6693, time 206.77ms, mfu 42.75%\n",
            "iter 32: loss 0.7719, time 205.67ms, mfu 42.84%\n",
            "iter 33: loss 0.6562, time 198.30ms, mfu 43.09%\n",
            "iter 34: loss 0.8017, time 84.58ms, mfu 49.40%\n",
            "iter 35: loss 0.6648, time 208.75ms, mfu 48.76%\n",
            "iter 36: loss 0.6333, time 202.51ms, mfu 48.32%\n",
            "iter 37: loss 0.7630, time 204.08ms, mfu 47.89%\n",
            "iter 38: loss 0.5565, time 205.50ms, mfu 47.47%\n",
            "iter 39: loss 0.7604, time 207.27ms, mfu 47.06%\n",
            "Validation Confusion Matrix \n",
            " []\n"
          ]
        },
        {
          "output_type": "stream",
          "name": "stderr",
          "text": [
            "/usr/local/lib/python3.10/dist-packages/sklearn/metrics/_classification.py:1344: UndefinedMetricWarning: Precision is ill-defined and being set to 0.0 in labels with no predicted samples. Use `zero_division` parameter to control this behavior.\n",
            "  _warn_prf(average, modifier, msg_start, len(result))\n"
          ]
        },
        {
          "output_type": "stream",
          "name": "stdout",
          "text": [
            "Validation Confusion Matrix \n",
            " [[307  15   0]\n",
            " [297 148   0]\n",
            " [  4   5   0]]\n",
            "step 40: train loss 0.7374, val loss 0.7180,val accuracy 0.5863, val precision 0.7147, , val recall 0.5863, , val f1 0.5509\n"
          ]
        },
        {
          "output_type": "stream",
          "name": "stderr",
          "text": [
            "/usr/local/lib/python3.10/dist-packages/sklearn/metrics/_classification.py:1344: UndefinedMetricWarning: Precision is ill-defined and being set to 0.0 in labels with no predicted samples. Use `zero_division` parameter to control this behavior.\n",
            "  _warn_prf(average, modifier, msg_start, len(result))\n"
          ]
        },
        {
          "output_type": "stream",
          "name": "stdout",
          "text": [
            "Test Confusion Matrix \n",
            " [[10  0  0]\n",
            " [ 7  3  0]\n",
            " [ 5  5  0]]\n",
            "step 40: test loss 2.0764,test accuracy 0.4333, test precision 0.2765, , test recall 0.4333, , test f1 0.3194\n",
            "iter 40: loss 0.6126, time 13894.41ms, mfu 42.42%\n",
            "iter 41: loss 0.7673, time 206.15ms, mfu 42.53%\n",
            "iter 42: loss 0.9249, time 84.96ms, mfu 48.85%\n",
            "iter 43: loss 0.8901, time 204.70ms, mfu 48.35%\n",
            "iter 44: loss 0.6772, time 204.43ms, mfu 47.91%\n",
            "iter 45: loss 0.8782, time 208.84ms, mfu 47.42%\n",
            "iter 46: loss 0.5845, time 204.72ms, mfu 47.07%\n",
            "iter 47: loss 0.7336, time 203.64ms, mfu 46.77%\n",
            "iter 48: loss 0.5756, time 204.54ms, mfu 46.48%\n",
            "iter 49: loss 0.5612, time 206.14ms, mfu 46.19%\n",
            "Validation Confusion Matrix \n",
            " []\n"
          ]
        },
        {
          "output_type": "stream",
          "name": "stderr",
          "text": [
            "/usr/local/lib/python3.10/dist-packages/sklearn/metrics/_classification.py:1344: UndefinedMetricWarning: Precision is ill-defined and being set to 0.0 in labels with no predicted samples. Use `zero_division` parameter to control this behavior.\n",
            "  _warn_prf(average, modifier, msg_start, len(result))\n"
          ]
        },
        {
          "output_type": "stream",
          "name": "stdout",
          "text": [
            "Validation Confusion Matrix \n",
            " [[161 179   0]\n",
            " [ 67 362   0]\n",
            " [  0   7   0]]\n",
            "step 50: train loss 0.6721, val loss 0.6263,val accuracy 0.6740, val precision 0.6746, , val recall 0.6740, , val f1 0.6581\n",
            "iter 50: loss 0.5879, time 13428.19ms, mfu 41.64%\n",
            "iter 51: loss 0.6484, time 207.86ms, mfu 41.80%\n",
            "iter 52: loss 0.5775, time 199.60ms, mfu 42.12%\n",
            "iter 53: loss 0.6472, time 212.60ms, mfu 42.13%\n",
            "iter 54: loss 0.7892, time 201.10ms, mfu 42.38%\n",
            "iter 55: loss 0.5809, time 206.27ms, mfu 42.50%\n",
            "iter 56: loss 0.6762, time 204.38ms, mfu 42.64%\n",
            "iter 57: loss 0.5760, time 203.43ms, mfu 42.79%\n",
            "iter 58: loss 0.7007, time 210.83ms, mfu 42.78%\n",
            "iter 59: loss 0.8132, time 203.82ms, mfu 42.90%\n",
            "Validation Confusion Matrix \n",
            " []\n"
          ]
        },
        {
          "output_type": "stream",
          "name": "stderr",
          "text": [
            "/usr/local/lib/python3.10/dist-packages/sklearn/metrics/_classification.py:1344: UndefinedMetricWarning: Precision is ill-defined and being set to 0.0 in labels with no predicted samples. Use `zero_division` parameter to control this behavior.\n",
            "  _warn_prf(average, modifier, msg_start, len(result))\n"
          ]
        },
        {
          "output_type": "stream",
          "name": "stdout",
          "text": [
            "Validation Confusion Matrix \n",
            " [[162 170   0]\n",
            " [ 53 379   0]\n",
            " [  0  12   0]]\n",
            "step 60: train loss 0.6709, val loss 0.6318,val accuracy 0.6972, val precision 0.6985, , val recall 0.6972, , val f1 0.6784\n"
          ]
        },
        {
          "output_type": "stream",
          "name": "stderr",
          "text": [
            "/usr/local/lib/python3.10/dist-packages/sklearn/metrics/_classification.py:1344: UndefinedMetricWarning: Precision is ill-defined and being set to 0.0 in labels with no predicted samples. Use `zero_division` parameter to control this behavior.\n",
            "  _warn_prf(average, modifier, msg_start, len(result))\n"
          ]
        },
        {
          "output_type": "stream",
          "name": "stdout",
          "text": [
            "Test Confusion Matrix \n",
            " [[ 6  4  0]\n",
            " [ 2  8  0]\n",
            " [ 0 10  0]]\n",
            "step 60: test loss 1.9027,test accuracy 0.4667, test precision 0.3712, , test recall 0.4667, , test f1 0.3889\n",
            "iter 60: loss 0.6553, time 13655.30ms, mfu 38.68%\n",
            "iter 61: loss 0.6898, time 205.55ms, mfu 39.18%\n",
            "iter 62: loss 0.8852, time 204.42ms, mfu 39.66%\n",
            "iter 63: loss 0.6398, time 208.96ms, mfu 39.99%\n",
            "iter 64: loss 0.7279, time 203.12ms, mfu 40.41%\n",
            "iter 65: loss 0.5680, time 201.52ms, mfu 40.83%\n",
            "iter 66: loss 0.6874, time 85.22ms, mfu 47.28%\n",
            "iter 67: loss 0.6215, time 208.51ms, mfu 46.86%\n",
            "iter 68: loss 0.6933, time 202.77ms, mfu 46.61%\n",
            "iter 69: loss 0.7281, time 204.03ms, mfu 46.35%\n",
            "Validation Confusion Matrix \n",
            " []\n"
          ]
        },
        {
          "output_type": "stream",
          "name": "stderr",
          "text": [
            "/usr/local/lib/python3.10/dist-packages/sklearn/metrics/_classification.py:1344: UndefinedMetricWarning: Precision is ill-defined and being set to 0.0 in labels with no predicted samples. Use `zero_division` parameter to control this behavior.\n",
            "  _warn_prf(average, modifier, msg_start, len(result))\n"
          ]
        },
        {
          "output_type": "stream",
          "name": "stdout",
          "text": [
            "Validation Confusion Matrix \n",
            " [[222 107   0]\n",
            " [ 95 342   0]\n",
            " [  1   9   0]]\n",
            "step 70: train loss 0.6456, val loss 0.6186,val accuracy 0.7268, val precision 0.7165, , val recall 0.7268, , val f1 0.7213\n",
            "iter 70: loss 0.5860, time 13380.61ms, mfu 41.78%\n",
            "iter 71: loss 0.8519, time 204.41ms, mfu 42.00%\n",
            "iter 72: loss 0.6236, time 203.93ms, mfu 42.20%\n",
            "iter 73: loss 0.6905, time 207.79ms, mfu 42.30%\n",
            "iter 74: loss 0.5468, time 196.29ms, mfu 42.65%\n",
            "iter 75: loss 0.5576, time 88.94ms, mfu 48.48%\n",
            "iter 76: loss 0.7669, time 201.22ms, mfu 48.10%\n",
            "iter 77: loss 0.6487, time 203.85ms, mfu 47.69%\n",
            "iter 78: loss 0.6120, time 206.17ms, mfu 47.28%\n",
            "iter 79: loss 0.6500, time 204.77ms, mfu 46.94%\n",
            "Validation Confusion Matrix \n",
            " []\n"
          ]
        },
        {
          "output_type": "stream",
          "name": "stderr",
          "text": [
            "/usr/local/lib/python3.10/dist-packages/sklearn/metrics/_classification.py:1344: UndefinedMetricWarning: Precision is ill-defined and being set to 0.0 in labels with no predicted samples. Use `zero_division` parameter to control this behavior.\n",
            "  _warn_prf(average, modifier, msg_start, len(result))\n"
          ]
        },
        {
          "output_type": "stream",
          "name": "stdout",
          "text": [
            "Validation Confusion Matrix \n",
            " [[180 148   0]\n",
            " [ 57 380   0]\n",
            " [  0  11   0]]\n",
            "step 80: train loss 0.6147, val loss 0.5837,val accuracy 0.7216, val precision 0.7180, , val recall 0.7216, , val f1 0.7078\n"
          ]
        },
        {
          "output_type": "stream",
          "name": "stderr",
          "text": [
            "/usr/local/lib/python3.10/dist-packages/sklearn/metrics/_classification.py:1344: UndefinedMetricWarning: Precision is ill-defined and being set to 0.0 in labels with no predicted samples. Use `zero_division` parameter to control this behavior.\n",
            "  _warn_prf(average, modifier, msg_start, len(result))\n"
          ]
        },
        {
          "output_type": "stream",
          "name": "stdout",
          "text": [
            "Test Confusion Matrix \n",
            " [[ 7  3  0]\n",
            " [ 2  8  0]\n",
            " [ 0 10  0]]\n",
            "step 80: test loss 1.7658,test accuracy 0.5000, test precision 0.3862, , test recall 0.5000, , test f1 0.4177\n",
            "iter 80: loss 0.6720, time 13904.92ms, mfu 42.31%\n",
            "iter 81: loss 0.6273, time 204.08ms, mfu 42.48%\n",
            "iter 82: loss 0.4647, time 200.94ms, mfu 42.70%\n",
            "iter 83: loss 0.5628, time 88.99ms, mfu 48.52%\n",
            "iter 84: loss 0.5096, time 200.68ms, mfu 48.15%\n",
            "iter 85: loss 0.6806, time 209.19ms, mfu 47.63%\n",
            "iter 86: loss 0.7054, time 200.24ms, mfu 47.35%\n",
            "iter 87: loss 0.6390, time 207.91ms, mfu 46.93%\n",
            "iter 88: loss 0.6988, time 204.76ms, mfu 46.63%\n",
            "iter 89: loss 0.7160, time 205.65ms, mfu 46.33%\n",
            "Validation Confusion Matrix \n",
            " []\n"
          ]
        },
        {
          "output_type": "stream",
          "name": "stderr",
          "text": [
            "/usr/local/lib/python3.10/dist-packages/sklearn/metrics/_classification.py:1344: UndefinedMetricWarning: Precision is ill-defined and being set to 0.0 in labels with no predicted samples. Use `zero_division` parameter to control this behavior.\n",
            "  _warn_prf(average, modifier, msg_start, len(result))\n"
          ]
        },
        {
          "output_type": "stream",
          "name": "stdout",
          "text": [
            "Validation Confusion Matrix \n",
            " [[313  16   0]\n",
            " [216 219   0]\n",
            " [  2  10   0]]\n",
            "step 90: train loss 0.6663, val loss 0.6479,val accuracy 0.6856, val precision 0.7510, , val recall 0.6856, , val f1 0.6697\n",
            "iter 90: loss 0.6876, time 13627.65ms, mfu 41.76%\n",
            "iter 91: loss 0.3244, time 193.87ms, mfu 42.22%\n",
            "iter 92: loss 0.5701, time 84.44ms, mfu 48.64%\n",
            "iter 93: loss 0.5735, time 204.29ms, mfu 48.17%\n",
            "iter 94: loss 0.5328, time 209.52ms, mfu 47.64%\n",
            "iter 95: loss 0.5226, time 201.05ms, mfu 47.34%\n",
            "iter 96: loss 0.5536, time 206.81ms, mfu 46.95%\n",
            "iter 97: loss 0.5475, time 211.16ms, mfu 46.51%\n",
            "iter 98: loss 0.5384, time 199.92ms, mfu 46.35%\n",
            "iter 99: loss 0.5967, time 206.24ms, mfu 46.07%\n",
            "Validation Confusion Matrix \n",
            " []\n"
          ]
        },
        {
          "output_type": "stream",
          "name": "stderr",
          "text": [
            "/usr/local/lib/python3.10/dist-packages/sklearn/metrics/_classification.py:1344: UndefinedMetricWarning: Precision is ill-defined and being set to 0.0 in labels with no predicted samples. Use `zero_division` parameter to control this behavior.\n",
            "  _warn_prf(average, modifier, msg_start, len(result))\n"
          ]
        },
        {
          "output_type": "stream",
          "name": "stdout",
          "text": [
            "Validation Confusion Matrix \n",
            " [[330  16   0]\n",
            " [165 251   0]\n",
            " [  4  10   0]]\n",
            "step 100: train loss 0.5923, val loss 0.5808,val accuracy 0.7487, val precision 0.7806, , val recall 0.7487, , val f1 0.7366\n"
          ]
        },
        {
          "output_type": "stream",
          "name": "stderr",
          "text": [
            "/usr/local/lib/python3.10/dist-packages/sklearn/metrics/_classification.py:1344: UndefinedMetricWarning: Precision is ill-defined and being set to 0.0 in labels with no predicted samples. Use `zero_division` parameter to control this behavior.\n",
            "  _warn_prf(average, modifier, msg_start, len(result))\n"
          ]
        },
        {
          "output_type": "stream",
          "name": "stdout",
          "text": [
            "Test Confusion Matrix \n",
            " [[10  0  0]\n",
            " [ 3  7  0]\n",
            " [ 2  8  0]]\n",
            "step 100: test loss 1.8105,test accuracy 0.5667, test precision 0.3778, , test recall 0.5667, , test f1 0.4533\n",
            "iter 100: loss 0.3801, time 13671.52ms, mfu 41.53%\n",
            "iter 101: loss 0.6482, time 204.69ms, mfu 41.76%\n",
            "iter 102: loss 0.5811, time 205.95ms, mfu 41.95%\n",
            "iter 103: loss 0.8907, time 205.61ms, mfu 42.12%\n",
            "iter 104: loss 0.6021, time 208.94ms, mfu 42.21%\n",
            "iter 105: loss 0.6643, time 205.31ms, mfu 42.36%\n",
            "iter 106: loss 0.1338, time 197.97ms, mfu 42.66%\n",
            "iter 107: loss 0.5156, time 85.74ms, mfu 48.87%\n",
            "iter 108: loss 0.5306, time 208.43ms, mfu 48.29%\n",
            "iter 109: loss 0.5083, time 202.08ms, mfu 47.91%\n",
            "Validation Confusion Matrix \n",
            " []\n"
          ]
        },
        {
          "output_type": "stream",
          "name": "stderr",
          "text": [
            "/usr/local/lib/python3.10/dist-packages/sklearn/metrics/_classification.py:1344: UndefinedMetricWarning: Precision is ill-defined and being set to 0.0 in labels with no predicted samples. Use `zero_division` parameter to control this behavior.\n",
            "  _warn_prf(average, modifier, msg_start, len(result))\n"
          ]
        },
        {
          "output_type": "stream",
          "name": "stdout",
          "text": [
            "Validation Confusion Matrix \n",
            " [[288  47   0]\n",
            " [ 77 353   0]\n",
            " [  1  10   0]]\n",
            "step 110: train loss 0.5317, val loss 0.4929,val accuracy 0.8260, val precision 0.8168, , val recall 0.8260, , val f1 0.8204\n",
            "iter 110: loss 0.3917, time 13399.81ms, mfu 43.19%\n",
            "iter 111: loss 0.4522, time 206.36ms, mfu 43.22%\n",
            "iter 112: loss 0.8376, time 206.06ms, mfu 43.26%\n",
            "iter 113: loss 0.4830, time 204.04ms, mfu 43.33%\n",
            "iter 114: loss 0.5688, time 209.10ms, mfu 43.29%\n",
            "iter 115: loss 0.0893, time 192.66ms, mfu 43.63%\n",
            "iter 116: loss 0.4738, time 86.26ms, mfu 49.68%\n",
            "iter 117: loss 0.4686, time 205.47ms, mfu 49.08%\n",
            "iter 118: loss 0.4533, time 205.30ms, mfu 48.55%\n",
            "iter 119: loss 0.3532, time 207.33ms, mfu 48.02%\n",
            "Validation Confusion Matrix \n",
            " []\n"
          ]
        },
        {
          "output_type": "stream",
          "name": "stderr",
          "text": [
            "/usr/local/lib/python3.10/dist-packages/sklearn/metrics/_classification.py:1344: UndefinedMetricWarning: Precision is ill-defined and being set to 0.0 in labels with no predicted samples. Use `zero_division` parameter to control this behavior.\n",
            "  _warn_prf(average, modifier, msg_start, len(result))\n"
          ]
        },
        {
          "output_type": "stream",
          "name": "stdout",
          "text": [
            "Validation Confusion Matrix \n",
            " [[299  34   0]\n",
            " [ 99 330   0]\n",
            " [  1  13   0]]\n",
            "step 120: train loss 0.5441, val loss 0.5175,val accuracy 0.8106, val precision 0.8055, , val recall 0.8106, , val f1 0.8033\n"
          ]
        },
        {
          "output_type": "stream",
          "name": "stderr",
          "text": [
            "/usr/local/lib/python3.10/dist-packages/sklearn/metrics/_classification.py:1344: UndefinedMetricWarning: Precision is ill-defined and being set to 0.0 in labels with no predicted samples. Use `zero_division` parameter to control this behavior.\n",
            "  _warn_prf(average, modifier, msg_start, len(result))\n"
          ]
        },
        {
          "output_type": "stream",
          "name": "stdout",
          "text": [
            "Test Confusion Matrix \n",
            " [[ 9  1  0]\n",
            " [ 3  7  0]\n",
            " [ 0 10  0]]\n",
            "step 120: test loss 1.2525,test accuracy 0.5333, test precision 0.3796, , test recall 0.5333, , test f1 0.4394\n",
            "iter 120: loss 0.2719, time 13919.20ms, mfu 43.29%\n",
            "iter 121: loss 0.4299, time 205.03ms, mfu 43.34%\n",
            "iter 122: loss 0.5050, time 205.73ms, mfu 43.37%\n",
            "iter 123: loss 0.0574, time 198.18ms, mfu 43.57%\n",
            "iter 124: loss 0.2986, time 90.08ms, mfu 49.18%\n",
            "iter 125: loss 0.3773, time 203.88ms, mfu 48.67%\n",
            "iter 126: loss 0.4569, time 201.91ms, mfu 48.25%\n",
            "iter 127: loss 0.4471, time 207.44ms, mfu 47.75%\n",
            "iter 128: loss 0.3030, time 205.63ms, mfu 47.35%\n",
            "iter 129: loss 0.3247, time 211.03ms, mfu 46.87%\n",
            "Validation Confusion Matrix \n",
            " []\n"
          ]
        },
        {
          "output_type": "stream",
          "name": "stderr",
          "text": [
            "/usr/local/lib/python3.10/dist-packages/sklearn/metrics/_classification.py:1344: UndefinedMetricWarning: Precision is ill-defined and being set to 0.0 in labels with no predicted samples. Use `zero_division` parameter to control this behavior.\n",
            "  _warn_prf(average, modifier, msg_start, len(result))\n"
          ]
        },
        {
          "output_type": "stream",
          "name": "stdout",
          "text": [
            "Validation Confusion Matrix \n",
            " [[307  15   0]\n",
            " [145 294   0]\n",
            " [  2  13   0]]\n",
            "step 130: train loss 0.5352, val loss 0.5391,val accuracy 0.7745, val precision 0.7971, , val recall 0.7745, , val f1 0.7654\n",
            "iter 130: loss 0.4007, time 13641.35ms, mfu 42.25%\n",
            "iter 131: loss 0.5278, time 206.10ms, mfu 42.38%\n",
            "iter 132: loss 0.0518, time 197.10ms, mfu 42.70%\n",
            "iter 133: loss 0.6598, time 90.62ms, mfu 48.34%\n",
            "iter 134: loss 0.4269, time 199.38ms, mfu 48.01%\n",
            "iter 135: loss 0.3099, time 206.63ms, mfu 47.56%\n",
            "iter 136: loss 0.3666, time 204.26ms, mfu 47.20%\n",
            "iter 137: loss 0.2241, time 208.32ms, mfu 46.79%\n",
            "iter 138: loss 0.2243, time 206.16ms, mfu 46.47%\n",
            "iter 139: loss 0.2978, time 202.89ms, mfu 46.25%\n",
            "Validation Confusion Matrix \n",
            " []\n"
          ]
        },
        {
          "output_type": "stream",
          "name": "stderr",
          "text": [
            "/usr/local/lib/python3.10/dist-packages/sklearn/metrics/_classification.py:1344: UndefinedMetricWarning: Precision is ill-defined and being set to 0.0 in labels with no predicted samples. Use `zero_division` parameter to control this behavior.\n",
            "  _warn_prf(average, modifier, msg_start, len(result))\n"
          ]
        },
        {
          "output_type": "stream",
          "name": "stdout",
          "text": [
            "Validation Confusion Matrix \n",
            " [[313  17   0]\n",
            " [140 296   0]\n",
            " [  2   8   0]]\n",
            "step 140: train loss 0.4720, val loss 0.4987,val accuracy 0.7848, val precision 0.8106, , val recall 0.7848, , val f1 0.7785\n"
          ]
        },
        {
          "output_type": "stream",
          "name": "stderr",
          "text": [
            "/usr/local/lib/python3.10/dist-packages/sklearn/metrics/_classification.py:1344: UndefinedMetricWarning: Precision is ill-defined and being set to 0.0 in labels with no predicted samples. Use `zero_division` parameter to control this behavior.\n",
            "  _warn_prf(average, modifier, msg_start, len(result))\n"
          ]
        },
        {
          "output_type": "stream",
          "name": "stdout",
          "text": [
            "Test Confusion Matrix \n",
            " [[ 9  1  0]\n",
            " [ 2  8  0]\n",
            " [ 0 10  0]]\n",
            "step 140: test loss 1.6557,test accuracy 0.5667, test precision 0.4131, , test recall 0.5667, , test f1 0.4696\n",
            "iter 140: loss 0.4257, time 13686.68ms, mfu 41.69%\n",
            "iter 141: loss 0.2600, time 206.93ms, mfu 41.86%\n",
            "iter 142: loss 0.6295, time 207.49ms, mfu 42.00%\n",
            "iter 143: loss 0.2916, time 204.71ms, mfu 42.19%\n",
            "iter 144: loss 0.3977, time 206.25ms, mfu 42.33%\n",
            "iter 145: loss 0.4884, time 205.51ms, mfu 42.46%\n",
            "iter 146: loss 0.6034, time 206.06ms, mfu 42.58%\n",
            "iter 147: loss 0.3724, time 207.32ms, mfu 42.65%\n",
            "iter 148: loss 0.2960, time 204.24ms, mfu 42.78%\n",
            "iter 149: loss 0.4400, time 210.07ms, mfu 42.78%\n",
            "Validation Confusion Matrix \n",
            " []\n"
          ]
        },
        {
          "output_type": "stream",
          "name": "stderr",
          "text": [
            "/usr/local/lib/python3.10/dist-packages/sklearn/metrics/_classification.py:1344: UndefinedMetricWarning: Precision is ill-defined and being set to 0.0 in labels with no predicted samples. Use `zero_division` parameter to control this behavior.\n",
            "  _warn_prf(average, modifier, msg_start, len(result))\n"
          ]
        },
        {
          "output_type": "stream",
          "name": "stdout",
          "text": [
            "Validation Confusion Matrix \n",
            " [[308  16   0]\n",
            " [114 321   0]\n",
            " [  2  15   0]]\n",
            "step 150: train loss 0.4673, val loss 0.4875,val accuracy 0.8106, val precision 0.8145, , val recall 0.8106, , val f1 0.8011\n",
            "iter 150: loss 0.2582, time 13391.69ms, mfu 38.57%\n",
            "iter 151: loss 0.5326, time 205.77ms, mfu 39.08%\n",
            "iter 152: loss 0.3028, time 207.94ms, mfu 39.49%\n",
            "iter 153: loss 0.6696, time 204.06ms, mfu 39.94%\n",
            "iter 154: loss 0.2214, time 204.84ms, mfu 40.33%\n",
            "iter 155: loss 0.4760, time 207.72ms, mfu 40.62%\n",
            "iter 156: loss 0.0308, time 206.20ms, mfu 40.92%\n",
            "iter 157: loss 0.3312, time 85.18ms, mfu 47.37%\n",
            "iter 158: loss 0.2941, time 205.44ms, mfu 47.00%\n",
            "iter 159: loss 0.3343, time 209.40ms, mfu 46.59%\n",
            "Validation Confusion Matrix \n",
            " []\n"
          ]
        },
        {
          "output_type": "stream",
          "name": "stderr",
          "text": [
            "/usr/local/lib/python3.10/dist-packages/sklearn/metrics/_classification.py:1344: UndefinedMetricWarning: Precision is ill-defined and being set to 0.0 in labels with no predicted samples. Use `zero_division` parameter to control this behavior.\n",
            "  _warn_prf(average, modifier, msg_start, len(result))\n"
          ]
        },
        {
          "output_type": "stream",
          "name": "stdout",
          "text": [
            "Validation Confusion Matrix \n",
            " [[310  12   0]\n",
            " [156 287   0]\n",
            " [  2   9   0]]\n",
            "step 160: train loss 0.5212, val loss 0.5391,val accuracy 0.7693, val precision 0.8068, , val recall 0.7693, , val f1 0.7620\n"
          ]
        },
        {
          "output_type": "stream",
          "name": "stderr",
          "text": [
            "/usr/local/lib/python3.10/dist-packages/sklearn/metrics/_classification.py:1344: UndefinedMetricWarning: Precision is ill-defined and being set to 0.0 in labels with no predicted samples. Use `zero_division` parameter to control this behavior.\n",
            "  _warn_prf(average, modifier, msg_start, len(result))\n"
          ]
        },
        {
          "output_type": "stream",
          "name": "stdout",
          "text": [
            "Test Confusion Matrix \n",
            " [[ 9  1  0]\n",
            " [ 3  7  0]\n",
            " [ 0 10  0]]\n",
            "step 160: test loss 1.3928,test accuracy 0.5333, test precision 0.3796, , test recall 0.5333, , test f1 0.4394\n",
            "iter 160: loss 0.1619, time 13708.82ms, mfu 42.00%\n",
            "iter 161: loss 0.6735, time 203.15ms, mfu 42.22%\n",
            "iter 162: loss 0.2812, time 210.61ms, mfu 42.26%\n",
            "iter 163: loss 0.3923, time 202.37ms, mfu 42.47%\n",
            "iter 164: loss 0.0209, time 193.29ms, mfu 42.87%\n",
            "iter 165: loss 0.1994, time 88.76ms, mfu 48.70%\n",
            "iter 166: loss 0.3091, time 203.29ms, mfu 48.25%\n",
            "iter 167: loss 0.4452, time 207.20ms, mfu 47.76%\n",
            "iter 168: loss 0.4160, time 203.66ms, mfu 47.40%\n",
            "iter 169: loss 0.3115, time 207.46ms, mfu 46.99%\n",
            "Validation Confusion Matrix \n",
            " []\n"
          ]
        },
        {
          "output_type": "stream",
          "name": "stderr",
          "text": [
            "/usr/local/lib/python3.10/dist-packages/sklearn/metrics/_classification.py:1344: UndefinedMetricWarning: Precision is ill-defined and being set to 0.0 in labels with no predicted samples. Use `zero_division` parameter to control this behavior.\n",
            "  _warn_prf(average, modifier, msg_start, len(result))\n"
          ]
        },
        {
          "output_type": "stream",
          "name": "stdout",
          "text": [
            "Validation Confusion Matrix \n",
            " [[324   7   0]\n",
            " [156 274   0]\n",
            " [  2  13   0]]\n",
            "step 170: train loss 0.5986, val loss 0.6194,val accuracy 0.7706, val precision 0.8032, , val recall 0.7706, , val f1 0.7594\n",
            "iter 170: loss 0.3480, time 13619.86ms, mfu 42.35%\n",
            "iter 171: loss 0.3114, time 204.83ms, mfu 42.50%\n",
            "iter 172: loss 0.4160, time 207.89ms, mfu 42.57%\n",
            "iter 173: loss 0.0218, time 197.57ms, mfu 42.86%\n",
            "iter 174: loss 0.3178, time 84.22ms, mfu 49.24%\n",
            "iter 175: loss 0.3405, time 203.00ms, mfu 48.74%\n",
            "iter 176: loss 0.3137, time 206.43ms, mfu 48.22%\n",
            "iter 177: loss 0.3056, time 204.54ms, mfu 47.79%\n",
            "iter 178: loss 0.2878, time 209.46ms, mfu 47.30%\n",
            "iter 179: loss 0.1478, time 200.47ms, mfu 47.05%\n",
            "Validation Confusion Matrix \n",
            " []\n"
          ]
        },
        {
          "output_type": "stream",
          "name": "stderr",
          "text": [
            "/usr/local/lib/python3.10/dist-packages/sklearn/metrics/_classification.py:1344: UndefinedMetricWarning: Precision is ill-defined and being set to 0.0 in labels with no predicted samples. Use `zero_division` parameter to control this behavior.\n",
            "  _warn_prf(average, modifier, msg_start, len(result))\n"
          ]
        },
        {
          "output_type": "stream",
          "name": "stdout",
          "text": [
            "Validation Confusion Matrix \n",
            " [[326   1   0]\n",
            " [229 205   0]\n",
            " [  4  11   0]]\n",
            "step 180: train loss 0.8733, val loss 0.9083,val accuracy 0.6843, val precision 0.7741, , val recall 0.6843, , val f1 0.6623\n"
          ]
        },
        {
          "output_type": "stream",
          "name": "stderr",
          "text": [
            "/usr/local/lib/python3.10/dist-packages/sklearn/metrics/_classification.py:1344: UndefinedMetricWarning: Precision is ill-defined and being set to 0.0 in labels with no predicted samples. Use `zero_division` parameter to control this behavior.\n",
            "  _warn_prf(average, modifier, msg_start, len(result))\n"
          ]
        },
        {
          "output_type": "stream",
          "name": "stdout",
          "text": [
            "Test Confusion Matrix \n",
            " [[10  0  0]\n",
            " [ 4  6  0]\n",
            " [ 2  8  0]]\n",
            "step 180: test loss 1.4205,test accuracy 0.5333, test precision 0.3512, , test recall 0.5333, , test f1 0.4231\n",
            "iter 180: loss 0.7447, time 13939.92ms, mfu 42.41%\n",
            "iter 181: loss 0.0171, time 199.85ms, mfu 42.66%\n",
            "iter 182: loss 0.6790, time 86.18ms, mfu 48.82%\n",
            "iter 183: loss 0.2459, time 202.31ms, mfu 48.37%\n",
            "iter 184: loss 0.3206, time 203.86ms, mfu 47.94%\n",
            "iter 185: loss 0.2194, time 204.82ms, mfu 47.53%\n",
            "iter 186: loss 0.1215, time 206.36ms, mfu 47.13%\n",
            "iter 187: loss 0.1313, time 206.51ms, mfu 46.77%\n",
            "iter 188: loss 0.2755, time 203.26ms, mfu 46.51%\n",
            "iter 189: loss 0.2125, time 204.02ms, mfu 46.26%\n",
            "Validation Confusion Matrix \n",
            " []\n"
          ]
        },
        {
          "output_type": "stream",
          "name": "stderr",
          "text": [
            "/usr/local/lib/python3.10/dist-packages/sklearn/metrics/_classification.py:1344: UndefinedMetricWarning: Precision is ill-defined and being set to 0.0 in labels with no predicted samples. Use `zero_division` parameter to control this behavior.\n",
            "  _warn_prf(average, modifier, msg_start, len(result))\n"
          ]
        },
        {
          "output_type": "stream",
          "name": "stdout",
          "text": [
            "Validation Confusion Matrix \n",
            " [[306   9   0]\n",
            " [136 313   0]\n",
            " [  2  10   0]]\n",
            "step 190: train loss 0.4857, val loss 0.5382,val accuracy 0.7977, val precision 0.8253, , val recall 0.7977, , val f1 0.7911\n",
            "iter 190: loss 0.2521, time 13437.53ms, mfu 41.70%\n",
            "iter 191: loss 0.5047, time 208.30ms, mfu 41.84%\n",
            "iter 192: loss 0.3054, time 201.24ms, mfu 42.12%\n",
            "iter 193: loss 0.2075, time 206.63ms, mfu 42.26%\n",
            "iter 194: loss 0.3376, time 204.41ms, mfu 42.42%\n",
            "iter 195: loss 0.2094, time 205.92ms, mfu 42.54%\n",
            "iter 196: loss 0.3238, time 204.81ms, mfu 42.67%\n",
            "iter 197: loss 0.3798, time 205.49ms, mfu 42.78%\n",
            "iter 198: loss 0.3371, time 204.57ms, mfu 42.89%\n",
            "iter 199: loss 0.3143, time 210.50ms, mfu 42.87%\n",
            "Validation Confusion Matrix \n",
            " []\n"
          ]
        },
        {
          "output_type": "stream",
          "name": "stderr",
          "text": [
            "/usr/local/lib/python3.10/dist-packages/sklearn/metrics/_classification.py:1344: UndefinedMetricWarning: Precision is ill-defined and being set to 0.0 in labels with no predicted samples. Use `zero_division` parameter to control this behavior.\n",
            "  _warn_prf(average, modifier, msg_start, len(result))\n"
          ]
        },
        {
          "output_type": "stream",
          "name": "stdout",
          "text": [
            "Validation Confusion Matrix \n",
            " [[335   4   0]\n",
            " [202 224   0]\n",
            " [  4   7   0]]\n",
            "step 200: train loss 0.7870, val loss 0.7742,val accuracy 0.7204, val precision 0.7938, , val recall 0.7204, , val f1 0.7047\n"
          ]
        },
        {
          "output_type": "stream",
          "name": "stderr",
          "text": [
            "/usr/local/lib/python3.10/dist-packages/sklearn/metrics/_classification.py:1344: UndefinedMetricWarning: Precision is ill-defined and being set to 0.0 in labels with no predicted samples. Use `zero_division` parameter to control this behavior.\n",
            "  _warn_prf(average, modifier, msg_start, len(result))\n"
          ]
        },
        {
          "output_type": "stream",
          "name": "stdout",
          "text": [
            "Test Confusion Matrix \n",
            " [[10  0  0]\n",
            " [ 3  7  0]\n",
            " [ 3  7  0]]\n",
            "step 200: test loss 1.2069,test accuracy 0.5667, test precision 0.3750, , test recall 0.5667, , test f1 0.4509\n",
            "iter 200: loss 0.2259, time 13667.70ms, mfu 38.65%\n",
            "iter 201: loss 0.5552, time 203.78ms, mfu 39.19%\n",
            "iter 202: loss 0.4617, time 206.07ms, mfu 39.63%\n",
            "iter 203: loss 0.2295, time 209.26ms, mfu 39.96%\n",
            "iter 204: loss 0.4159, time 203.22ms, mfu 40.38%\n",
            "iter 205: loss 0.0141, time 205.37ms, mfu 40.72%\n",
            "iter 206: loss 0.3259, time 88.83ms, mfu 46.76%\n",
            "iter 207: loss 0.6676, time 204.98ms, mfu 46.46%\n",
            "iter 208: loss 0.3376, time 204.01ms, mfu 46.22%\n",
            "iter 209: loss 0.2409, time 207.91ms, mfu 45.92%\n",
            "Validation Confusion Matrix \n",
            " []\n"
          ]
        },
        {
          "output_type": "stream",
          "name": "stderr",
          "text": [
            "/usr/local/lib/python3.10/dist-packages/sklearn/metrics/_classification.py:1344: UndefinedMetricWarning: Precision is ill-defined and being set to 0.0 in labels with no predicted samples. Use `zero_division` parameter to control this behavior.\n",
            "  _warn_prf(average, modifier, msg_start, len(result))\n"
          ]
        },
        {
          "output_type": "stream",
          "name": "stdout",
          "text": [
            "Validation Confusion Matrix \n",
            " [[330   6   0]\n",
            " [112 319   0]\n",
            " [  2   7   0]]\n",
            "step 210: train loss 0.5116, val loss 0.4493,val accuracy 0.8363, val precision 0.8555, , val recall 0.8363, , val f1 0.8308\n",
            "iter 210: loss 0.2546, time 13408.01ms, mfu 41.39%\n",
            "iter 211: loss 0.4529, time 207.89ms, mfu 41.57%\n",
            "iter 212: loss 0.2799, time 201.99ms, mfu 41.86%\n",
            "iter 213: loss 0.3314, time 204.49ms, mfu 42.07%\n",
            "iter 214: loss 0.0291, time 193.59ms, mfu 42.50%\n",
            "iter 215: loss 0.2559, time 84.93ms, mfu 48.83%\n",
            "iter 216: loss 0.2839, time 205.11ms, mfu 48.32%\n",
            "iter 217: loss 0.1874, time 203.32ms, mfu 47.91%\n",
            "iter 218: loss 0.2920, time 206.40ms, mfu 47.47%\n",
            "iter 219: loss 0.3945, time 209.46ms, mfu 47.01%\n",
            "Validation Confusion Matrix \n",
            " []\n"
          ]
        },
        {
          "output_type": "stream",
          "name": "stderr",
          "text": [
            "/usr/local/lib/python3.10/dist-packages/sklearn/metrics/_classification.py:1344: UndefinedMetricWarning: Precision is ill-defined and being set to 0.0 in labels with no predicted samples. Use `zero_division` parameter to control this behavior.\n",
            "  _warn_prf(average, modifier, msg_start, len(result))\n"
          ]
        },
        {
          "output_type": "stream",
          "name": "stdout",
          "text": [
            "Validation Confusion Matrix \n",
            " [[330   7   0]\n",
            " [105 322   0]\n",
            " [  0  12   0]]\n",
            "step 220: train loss 0.4916, val loss 0.4553,val accuracy 0.8402, val precision 0.8491, , val recall 0.8402, , val f1 0.8327\n"
          ]
        },
        {
          "output_type": "stream",
          "name": "stderr",
          "text": [
            "/usr/local/lib/python3.10/dist-packages/sklearn/metrics/_classification.py:1344: UndefinedMetricWarning: Precision is ill-defined and being set to 0.0 in labels with no predicted samples. Use `zero_division` parameter to control this behavior.\n",
            "  _warn_prf(average, modifier, msg_start, len(result))\n"
          ]
        },
        {
          "output_type": "stream",
          "name": "stdout",
          "text": [
            "Test Confusion Matrix \n",
            " [[ 9  1  0]\n",
            " [ 3  7  0]\n",
            " [ 0 10  0]]\n",
            "step 220: test loss 1.0972,test accuracy 0.5333, test precision 0.3796, , test recall 0.5333, , test f1 0.4394\n",
            "iter 220: loss 0.3512, time 13924.35ms, mfu 42.37%\n",
            "iter 221: loss 0.2766, time 205.54ms, mfu 42.51%\n",
            "iter 222: loss 0.0084, time 201.43ms, mfu 42.71%\n",
            "iter 223: loss 0.4519, time 85.03ms, mfu 49.00%\n",
            "iter 224: loss 0.5891, time 204.68ms, mfu 48.49%\n",
            "iter 225: loss 0.2998, time 204.44ms, mfu 48.04%\n",
            "iter 226: loss 0.4983, time 205.20ms, mfu 47.61%\n",
            "iter 227: loss 0.2785, time 205.47ms, mfu 47.22%\n",
            "iter 228: loss 0.2689, time 205.32ms, mfu 46.87%\n",
            "iter 229: loss 0.3464, time 204.55ms, mfu 46.58%\n",
            "Validation Confusion Matrix \n",
            " []\n"
          ]
        },
        {
          "output_type": "stream",
          "name": "stderr",
          "text": [
            "/usr/local/lib/python3.10/dist-packages/sklearn/metrics/_classification.py:1344: UndefinedMetricWarning: Precision is ill-defined and being set to 0.0 in labels with no predicted samples. Use `zero_division` parameter to control this behavior.\n",
            "  _warn_prf(average, modifier, msg_start, len(result))\n"
          ]
        },
        {
          "output_type": "stream",
          "name": "stdout",
          "text": [
            "Validation Confusion Matrix \n",
            " [[332  11   0]\n",
            " [ 81 340   0]\n",
            " [  0  12   0]]\n",
            "step 230: train loss 0.4000, val loss 0.3596,val accuracy 0.8660, val precision 0.8635, , val recall 0.8660, , val f1 0.8588\n",
            "iter 230: loss 0.1029, time 13687.75ms, mfu 41.98%\n",
            "iter 231: loss 0.0082, time 197.12ms, mfu 42.34%\n",
            "iter 232: loss 0.1926, time 85.06ms, mfu 48.67%\n",
            "iter 233: loss 0.1277, time 204.46ms, mfu 48.19%\n",
            "iter 234: loss 0.2789, time 204.28ms, mfu 47.77%\n",
            "iter 235: loss 0.2288, time 208.00ms, mfu 47.31%\n",
            "iter 236: loss 0.2657, time 204.23ms, mfu 46.98%\n",
            "iter 237: loss 0.4111, time 205.91ms, mfu 46.64%\n",
            "iter 238: loss 0.2859, time 209.16ms, mfu 46.27%\n",
            "iter 239: loss 0.1470, time 204.06ms, mfu 46.05%\n",
            "Validation Confusion Matrix \n",
            " []\n"
          ]
        },
        {
          "output_type": "stream",
          "name": "stderr",
          "text": [
            "/usr/local/lib/python3.10/dist-packages/sklearn/metrics/_classification.py:1344: UndefinedMetricWarning: Precision is ill-defined and being set to 0.0 in labels with no predicted samples. Use `zero_division` parameter to control this behavior.\n",
            "  _warn_prf(average, modifier, msg_start, len(result))\n"
          ]
        },
        {
          "output_type": "stream",
          "name": "stdout",
          "text": [
            "Validation Confusion Matrix \n",
            " [[315   9   0]\n",
            " [ 86 350   0]\n",
            " [  2  14   0]]\n",
            "step 240: train loss 0.3951, val loss 0.3783,val accuracy 0.8570, val precision 0.8536, , val recall 0.8570, , val f1 0.8480\n"
          ]
        },
        {
          "output_type": "stream",
          "name": "stderr",
          "text": [
            "/usr/local/lib/python3.10/dist-packages/sklearn/metrics/_classification.py:1344: UndefinedMetricWarning: Precision is ill-defined and being set to 0.0 in labels with no predicted samples. Use `zero_division` parameter to control this behavior.\n",
            "  _warn_prf(average, modifier, msg_start, len(result))\n"
          ]
        },
        {
          "output_type": "stream",
          "name": "stdout",
          "text": [
            "Test Confusion Matrix \n",
            " [[ 9  1  0]\n",
            " [ 3  7  0]\n",
            " [ 0 10  0]]\n",
            "step 240: test loss 1.1752,test accuracy 0.5333, test precision 0.3796, , test recall 0.5333, , test f1 0.4394\n",
            "iter 240: loss 0.1666, time 13690.49ms, mfu 41.51%\n",
            "iter 241: loss 0.5498, time 204.82ms, mfu 41.74%\n",
            "iter 242: loss 0.3092, time 207.49ms, mfu 41.90%\n",
            "iter 243: loss 0.4281, time 203.68ms, mfu 42.12%\n",
            "iter 244: loss 0.1331, time 205.96ms, mfu 42.27%\n",
            "iter 245: loss 0.3881, time 205.80ms, mfu 42.40%\n",
            "iter 246: loss 0.0059, time 199.78ms, mfu 42.66%\n",
            "iter 247: loss 0.4415, time 84.74ms, mfu 48.99%\n",
            "iter 248: loss 0.2636, time 204.13ms, mfu 48.49%\n",
            "iter 249: loss 0.1592, time 203.63ms, mfu 48.05%\n",
            "Validation Confusion Matrix \n",
            " []\n"
          ]
        },
        {
          "output_type": "stream",
          "name": "stderr",
          "text": [
            "/usr/local/lib/python3.10/dist-packages/sklearn/metrics/_classification.py:1344: UndefinedMetricWarning: Precision is ill-defined and being set to 0.0 in labels with no predicted samples. Use `zero_division` parameter to control this behavior.\n",
            "  _warn_prf(average, modifier, msg_start, len(result))\n"
          ]
        },
        {
          "output_type": "stream",
          "name": "stdout",
          "text": [
            "Validation Confusion Matrix \n",
            " [[331   4   0]\n",
            " [100 327   0]\n",
            " [  1  13   0]]\n",
            "step 250: train loss 0.4361, val loss 0.4178,val accuracy 0.8479, val precision 0.8538, , val recall 0.8479, , val f1 0.8394\n",
            "iter 250: loss 0.2101, time 13378.52ms, mfu 43.32%\n",
            "iter 251: loss 0.2303, time 200.32ms, mfu 43.47%\n",
            "iter 252: loss 0.4081, time 205.42ms, mfu 43.49%\n",
            "iter 253: loss 0.1653, time 207.36ms, mfu 43.48%\n",
            "iter 254: loss 0.3134, time 205.05ms, mfu 43.51%\n",
            "iter 255: loss 0.0052, time 203.08ms, mfu 43.58%\n",
            "iter 256: loss 0.3419, time 88.43ms, mfu 49.38%\n",
            "iter 257: loss 0.1583, time 200.07ms, mfu 48.93%\n",
            "iter 258: loss 0.0782, time 204.77ms, mfu 48.42%\n",
            "iter 259: loss 0.2191, time 204.07ms, mfu 47.98%\n",
            "Validation Confusion Matrix \n",
            " []\n"
          ]
        },
        {
          "output_type": "stream",
          "name": "stderr",
          "text": [
            "/usr/local/lib/python3.10/dist-packages/sklearn/metrics/_classification.py:1344: UndefinedMetricWarning: Precision is ill-defined and being set to 0.0 in labels with no predicted samples. Use `zero_division` parameter to control this behavior.\n",
            "  _warn_prf(average, modifier, msg_start, len(result))\n"
          ]
        },
        {
          "output_type": "stream",
          "name": "stdout",
          "text": [
            "Validation Confusion Matrix \n",
            " [[317   4   0]\n",
            " [154 287   0]\n",
            " [  3  11   0]]\n",
            "step 260: train loss 0.6147, val loss 0.6155,val accuracy 0.7784, val precision 0.8167, , val recall 0.7784, , val f1 0.7689\n"
          ]
        },
        {
          "output_type": "stream",
          "name": "stderr",
          "text": [
            "/usr/local/lib/python3.10/dist-packages/sklearn/metrics/_classification.py:1344: UndefinedMetricWarning: Precision is ill-defined and being set to 0.0 in labels with no predicted samples. Use `zero_division` parameter to control this behavior.\n",
            "  _warn_prf(average, modifier, msg_start, len(result))\n"
          ]
        },
        {
          "output_type": "stream",
          "name": "stdout",
          "text": [
            "Test Confusion Matrix \n",
            " [[10  0  0]\n",
            " [ 3  7  0]\n",
            " [ 2  8  0]]\n",
            "step 260: test loss 1.1046,test accuracy 0.5667, test precision 0.3778, , test recall 0.5667, , test f1 0.4533\n",
            "iter 260: loss 0.1996, time 13959.16ms, mfu 43.25%\n",
            "iter 261: loss 0.3597, time 210.11ms, mfu 43.20%\n",
            "iter 262: loss 0.2955, time 201.49ms, mfu 43.34%\n",
            "iter 263: loss 0.0066, time 210.46ms, mfu 43.27%\n",
            "iter 264: loss 0.2767, time 84.99ms, mfu 49.51%\n",
            "iter 265: loss 0.1295, time 204.67ms, mfu 48.95%\n",
            "iter 266: loss 0.2553, time 210.13ms, mfu 48.33%\n",
            "iter 267: loss 0.2567, time 212.49ms, mfu 47.72%\n",
            "iter 268: loss 0.3182, time 205.12ms, mfu 47.33%\n",
            "iter 269: loss 0.2620, time 205.86ms, mfu 46.96%\n",
            "Validation Confusion Matrix \n",
            " []\n"
          ]
        },
        {
          "output_type": "stream",
          "name": "stderr",
          "text": [
            "/usr/local/lib/python3.10/dist-packages/sklearn/metrics/_classification.py:1344: UndefinedMetricWarning: Precision is ill-defined and being set to 0.0 in labels with no predicted samples. Use `zero_division` parameter to control this behavior.\n",
            "  _warn_prf(average, modifier, msg_start, len(result))\n"
          ]
        },
        {
          "output_type": "stream",
          "name": "stdout",
          "text": [
            "Validation Confusion Matrix \n",
            " [[331   2   0]\n",
            " [131 301   0]\n",
            " [  1  10   0]]\n",
            "step 270: train loss 0.5727, val loss 0.5478,val accuracy 0.8144, val precision 0.8421, , val recall 0.8144, , val f1 0.8067\n",
            "iter 270: loss 0.5465, time 13670.94ms, mfu 42.33%\n",
            "iter 271: loss 0.2505, time 203.36ms, mfu 42.51%\n",
            "iter 272: loss 0.0040, time 202.13ms, mfu 42.70%\n",
            "iter 273: loss 0.1812, time 85.22ms, mfu 48.97%\n",
            "iter 274: loss 0.2990, time 204.18ms, mfu 48.47%\n",
            "iter 275: loss 0.2018, time 205.09ms, mfu 48.01%\n",
            "iter 276: loss 0.3217, time 206.75ms, mfu 47.55%\n",
            "iter 277: loss 0.3651, time 204.03ms, mfu 47.20%\n",
            "iter 278: loss 0.3965, time 206.09ms, mfu 46.84%\n",
            "iter 279: loss 0.4485, time 204.21ms, mfu 46.55%\n",
            "Validation Confusion Matrix \n",
            " []\n"
          ]
        },
        {
          "output_type": "stream",
          "name": "stderr",
          "text": [
            "/usr/local/lib/python3.10/dist-packages/sklearn/metrics/_classification.py:1344: UndefinedMetricWarning: Precision is ill-defined and being set to 0.0 in labels with no predicted samples. Use `zero_division` parameter to control this behavior.\n",
            "  _warn_prf(average, modifier, msg_start, len(result))\n"
          ]
        },
        {
          "output_type": "stream",
          "name": "stdout",
          "text": [
            "Validation Confusion Matrix \n",
            " [[338   1   0]\n",
            " [107 318   0]\n",
            " [  2  10   0]]\n",
            "step 280: train loss 0.4323, val loss 0.4292,val accuracy 0.8454, val precision 0.8597, , val recall 0.8454, , val f1 0.8377\n"
          ]
        },
        {
          "output_type": "stream",
          "name": "stderr",
          "text": [
            "/usr/local/lib/python3.10/dist-packages/sklearn/metrics/_classification.py:1344: UndefinedMetricWarning: Precision is ill-defined and being set to 0.0 in labels with no predicted samples. Use `zero_division` parameter to control this behavior.\n",
            "  _warn_prf(average, modifier, msg_start, len(result))\n"
          ]
        },
        {
          "output_type": "stream",
          "name": "stdout",
          "text": [
            "Test Confusion Matrix \n",
            " [[10  0  0]\n",
            " [ 3  7  0]\n",
            " [ 0 10  0]]\n",
            "step 280: test loss 1.1022,test accuracy 0.5667, test precision 0.3937, , test recall 0.5667, , test f1 0.4627\n",
            "iter 280: loss 0.1919, time 13667.82ms, mfu 41.96%\n",
            "iter 281: loss 0.3992, time 203.28ms, mfu 42.18%\n",
            "iter 282: loss 0.4208, time 205.86ms, mfu 42.33%\n",
            "iter 283: loss 0.2149, time 208.15ms, mfu 42.41%\n",
            "iter 284: loss 0.3482, time 200.58ms, mfu 42.65%\n",
            "iter 285: loss 0.3079, time 206.99ms, mfu 42.72%\n",
            "iter 286: loss 0.1876, time 206.12ms, mfu 42.81%\n",
            "iter 287: loss 0.5185, time 204.51ms, mfu 42.92%\n",
            "iter 288: loss 0.2748, time 204.72ms, mfu 43.01%\n",
            "iter 289: loss 0.3710, time 203.61ms, mfu 43.12%\n",
            "Validation Confusion Matrix \n",
            " []\n"
          ]
        },
        {
          "output_type": "stream",
          "name": "stderr",
          "text": [
            "/usr/local/lib/python3.10/dist-packages/sklearn/metrics/_classification.py:1344: UndefinedMetricWarning: Precision is ill-defined and being set to 0.0 in labels with no predicted samples. Use `zero_division` parameter to control this behavior.\n",
            "  _warn_prf(average, modifier, msg_start, len(result))\n"
          ]
        },
        {
          "output_type": "stream",
          "name": "stdout",
          "text": [
            "Validation Confusion Matrix \n",
            " [[333   5   0]\n",
            " [ 62 364   0]\n",
            " [  0  12   0]]\n",
            "step 290: train loss 0.3245, val loss 0.2858,val accuracy 0.8982, val precision 0.8917, , val recall 0.8982, , val f1 0.8910\n",
            "iter 290: loss 0.2559, time 13390.40ms, mfu 38.88%\n",
            "iter 291: loss 0.4528, time 206.85ms, mfu 39.33%\n",
            "iter 292: loss 0.2523, time 202.44ms, mfu 39.84%\n",
            "iter 293: loss 0.3671, time 205.83ms, mfu 40.22%\n",
            "iter 294: loss 0.1126, time 205.74ms, mfu 40.56%\n",
            "iter 295: loss 0.3357, time 207.23ms, mfu 40.84%\n",
            "iter 296: loss 0.0050, time 202.99ms, mfu 41.18%\n",
            "iter 297: loss 0.1903, time 85.21ms, mfu 47.60%\n",
            "iter 298: loss 0.4736, time 203.74ms, mfu 47.25%\n",
            "iter 299: loss 0.4376, time 206.83ms, mfu 46.87%\n",
            "Validation Confusion Matrix \n",
            " []\n"
          ]
        },
        {
          "output_type": "stream",
          "name": "stderr",
          "text": [
            "/usr/local/lib/python3.10/dist-packages/sklearn/metrics/_classification.py:1344: UndefinedMetricWarning: Precision is ill-defined and being set to 0.0 in labels with no predicted samples. Use `zero_division` parameter to control this behavior.\n",
            "  _warn_prf(average, modifier, msg_start, len(result))\n"
          ]
        },
        {
          "output_type": "stream",
          "name": "stdout",
          "text": [
            "Validation Confusion Matrix \n",
            " [[326   4   0]\n",
            " [ 83 353   0]\n",
            " [  1   9   0]]\n",
            "step 300: train loss 0.3987, val loss 0.3541,val accuracy 0.8750, val precision 0.8800, , val recall 0.8750, , val f1 0.8693\n"
          ]
        },
        {
          "output_type": "stream",
          "name": "stderr",
          "text": [
            "/usr/local/lib/python3.10/dist-packages/sklearn/metrics/_classification.py:1344: UndefinedMetricWarning: Precision is ill-defined and being set to 0.0 in labels with no predicted samples. Use `zero_division` parameter to control this behavior.\n",
            "  _warn_prf(average, modifier, msg_start, len(result))\n"
          ]
        },
        {
          "output_type": "stream",
          "name": "stdout",
          "text": [
            "Test Confusion Matrix \n",
            " [[ 9  1  0]\n",
            " [ 3  7  0]\n",
            " [ 0 10  0]]\n",
            "step 300: test loss 0.9948,test accuracy 0.5333, test precision 0.3796, , test recall 0.5333, , test f1 0.4394\n",
            "iter 300: loss 0.1370, time 13651.83ms, mfu 42.25%\n"
          ]
        },
        {
          "output_type": "display_data",
          "data": {
            "text/plain": [
              "VBox(children=(Label(value='0.002 MB of 0.002 MB uploaded\\r'), FloatProgress(value=1.0, max=1.0)))"
            ],
            "application/vnd.jupyter.widget-view+json": {
              "version_major": 2,
              "version_minor": 0,
              "model_id": "cdb97ce5269b423e943173e397451ff5"
            }
          },
          "metadata": {}
        },
        {
          "output_type": "display_data",
          "data": {
            "text/plain": [
              "<IPython.core.display.HTML object>"
            ],
            "text/html": [
              "<style>\n",
              "    table.wandb td:nth-child(1) { padding: 0 10px; text-align: left ; width: auto;} td:nth-child(2) {text-align: left ; width: 100%}\n",
              "    .wandb-row { display: flex; flex-direction: row; flex-wrap: wrap; justify-content: flex-start; width: 100% }\n",
              "    .wandb-col { display: flex; flex-direction: column; flex-basis: 100%; flex: 1; padding: 10px; }\n",
              "    </style>\n",
              "<div class=\"wandb-row\"><div class=\"wandb-col\"><h3>Run history:</h3><br/><table class=\"wandb\"><tr><td>iter</td><td>▁▁▁▁▁▂▂▂▂▂▃▃▃▃▃▄▄▄▄▄▅▅▅▅▅▅▆▆▆▆▆▇▇▇▇▇████</td></tr><tr><td>lr</td><td>▁▁▁▁▁▁▁▁▁▁▁▁▁▁▁▁▁▁▁▁▁▁▁▁▁▁▁▁▁▁▁▁▁▁▁▁▁▁▁▁</td></tr><tr><td>mfu</td><td>▁▁██████████████████████████████████████</td></tr><tr><td>test/acc</td><td>▁▄▄▅▆█▇█▇▇█▇▇██▇</td></tr><tr><td>test/f1</td><td>▁▅▅▆▇█▇█▇▇█▇▇██▇</td></tr><tr><td>test/precision</td><td>▁▇▅▇▇▇▇█▇▇▇▇▇▇█▇</td></tr><tr><td>test/recall</td><td>▁▄▄▅▆█▇█▇▇█▇▇██▇</td></tr><tr><td>train/loss</td><td>█▄▂▂▂▂▂▂▂▂▁▁▁▁▁▁▁▂▂▁▂▁▁▁▁▁▂▁▁▁▁</td></tr><tr><td>val/acc</td><td>▁▁▆▆▆▆▆▇▇▆▇▇▇▇▇▇▇▇▆▇▇█████▇▇███</td></tr><tr><td>val/f1</td><td>▁▁▆▅▅▆▆▇▇▆▇▇▇▇▇▇▇▇▆▇▇█████▇▇███</td></tr><tr><td>val/loss</td><td>█▄▂▂▂▂▂▂▂▂▂▁▁▁▁▁▁▂▂▁▂▁▁▁▁▁▂▁▁▁▁</td></tr><tr><td>val/precision</td><td>▁▁▆▆▇▆▆▇▇▇▇▇▇▇▇▇▇▇▇▇▇█████▇████</td></tr><tr><td>val/recall</td><td>▁▁▆▆▆▆▆▇▇▆▇▇▇▇▇▇▇▇▆▇▇█████▇▇███</td></tr></table><br/></div><div class=\"wandb-col\"><h3>Run summary:</h3><br/><table class=\"wandb\"><tr><td>iter</td><td>300</td></tr><tr><td>lr</td><td>1e-05</td></tr><tr><td>mfu</td><td>46.86707</td></tr><tr><td>test/acc</td><td>0.53333</td></tr><tr><td>test/f1</td><td>0.43939</td></tr><tr><td>test/precision</td><td>0.37963</td></tr><tr><td>test/recall</td><td>0.53333</td></tr><tr><td>train/loss</td><td>0.3987</td></tr><tr><td>val/acc</td><td>0.875</td></tr><tr><td>val/f1</td><td>0.86929</td></tr><tr><td>val/loss</td><td>0.35405</td></tr><tr><td>val/precision</td><td>0.88003</td></tr><tr><td>val/recall</td><td>0.875</td></tr></table><br/></div></div>"
            ]
          },
          "metadata": {}
        },
        {
          "output_type": "display_data",
          "data": {
            "text/plain": [
              "<IPython.core.display.HTML object>"
            ],
            "text/html": [
              " View run <strong style=\"color:#cdcd00\">astral-sweep-4</strong> at: <a href='https://wandb.ai/di725/DI725-Assignment1/runs/h61ediv7' target=\"_blank\">https://wandb.ai/di725/DI725-Assignment1/runs/h61ediv7</a><br/> View project at: <a href='https://wandb.ai/di725/DI725-Assignment1' target=\"_blank\">https://wandb.ai/di725/DI725-Assignment1</a><br/>Synced 5 W&B file(s), 0 media file(s), 0 artifact file(s) and 0 other file(s)"
            ]
          },
          "metadata": {}
        },
        {
          "output_type": "display_data",
          "data": {
            "text/plain": [
              "<IPython.core.display.HTML object>"
            ],
            "text/html": [
              "Find logs at: <code>./wandb/run-20240415_111339-h61ediv7/logs</code>"
            ]
          },
          "metadata": {}
        },
        {
          "output_type": "stream",
          "name": "stderr",
          "text": [
            "\u001b[34m\u001b[1mwandb\u001b[0m: Agent Starting Run: 7nx39tj8 with config:\n",
            "\u001b[34m\u001b[1mwandb\u001b[0m: \tdropout: 0.2\n",
            "\u001b[34m\u001b[1mwandb\u001b[0m: \tlearning_rate: 0.0005\n"
          ]
        },
        {
          "output_type": "display_data",
          "data": {
            "text/plain": [
              "<IPython.core.display.HTML object>"
            ],
            "text/html": [
              "Tracking run with wandb version 0.16.6"
            ]
          },
          "metadata": {}
        },
        {
          "output_type": "display_data",
          "data": {
            "text/plain": [
              "<IPython.core.display.HTML object>"
            ],
            "text/html": [
              "Run data is saved locally in <code>/content/wandb/run-20240415_112152-7nx39tj8</code>"
            ]
          },
          "metadata": {}
        },
        {
          "output_type": "display_data",
          "data": {
            "text/plain": [
              "<IPython.core.display.HTML object>"
            ],
            "text/html": [
              "Syncing run <strong><a href='https://wandb.ai/di725/DI725-Assignment1/runs/7nx39tj8' target=\"_blank\">proud-sweep-5</a></strong> to <a href='https://wandb.ai/di725/DI725-Assignment1' target=\"_blank\">Weights & Biases</a> (<a href='https://wandb.me/run' target=\"_blank\">docs</a>)<br/>Sweep page: <a href='https://wandb.ai/di725/DI725-Assignment1/sweeps/sebpco96' target=\"_blank\">https://wandb.ai/di725/DI725-Assignment1/sweeps/sebpco96</a>"
            ]
          },
          "metadata": {}
        },
        {
          "output_type": "display_data",
          "data": {
            "text/plain": [
              "<IPython.core.display.HTML object>"
            ],
            "text/html": [
              " View project at <a href='https://wandb.ai/di725/DI725-Assignment1' target=\"_blank\">https://wandb.ai/di725/DI725-Assignment1</a>"
            ]
          },
          "metadata": {}
        },
        {
          "output_type": "display_data",
          "data": {
            "text/plain": [
              "<IPython.core.display.HTML object>"
            ],
            "text/html": [
              " View sweep at <a href='https://wandb.ai/di725/DI725-Assignment1/sweeps/sebpco96' target=\"_blank\">https://wandb.ai/di725/DI725-Assignment1/sweeps/sebpco96</a>"
            ]
          },
          "metadata": {}
        },
        {
          "output_type": "display_data",
          "data": {
            "text/plain": [
              "<IPython.core.display.HTML object>"
            ],
            "text/html": [
              " View run at <a href='https://wandb.ai/di725/DI725-Assignment1/runs/7nx39tj8' target=\"_blank\">https://wandb.ai/di725/DI725-Assignment1/runs/7nx39tj8</a>"
            ]
          },
          "metadata": {}
        },
        {
          "output_type": "stream",
          "name": "stdout",
          "text": [
            "tokens per iteration will be: 32,768\n",
            "Initializing from OpenAI GPT-2 weights: gpt2\n",
            "loading weights from pretrained gpt: gpt2\n",
            "forcing vocab_size=50257, block_size=1024, bias=True\n",
            "overriding dropout rate to 0.2\n",
            "number of parameters: 123.66M\n",
            "num decayed parameter tensors: 51, with 124,320,768 parameters\n",
            "num non-decayed parameter tensors: 99, with 121,347 parameters\n",
            "using fused AdamW: True\n",
            "Validation Confusion Matrix \n",
            " []\n"
          ]
        },
        {
          "output_type": "stream",
          "name": "stderr",
          "text": [
            "/usr/local/lib/python3.10/dist-packages/sklearn/metrics/_classification.py:1344: UndefinedMetricWarning: Precision is ill-defined and being set to 0.0 in labels with no predicted samples. Use `zero_division` parameter to control this behavior.\n",
            "  _warn_prf(average, modifier, msg_start, len(result))\n"
          ]
        },
        {
          "output_type": "stream",
          "name": "stdout",
          "text": [
            "Validation Confusion Matrix \n",
            " [[  0   0 329]\n",
            " [  0   0 433]\n",
            " [  0   0  14]]\n",
            "step 0: train loss 4.1345, val loss 4.2081,val accuracy 0.0180, val precision 0.0003, , val recall 0.0180, , val f1 0.0006\n"
          ]
        },
        {
          "output_type": "stream",
          "name": "stderr",
          "text": [
            "/usr/local/lib/python3.10/dist-packages/sklearn/metrics/_classification.py:1344: UndefinedMetricWarning: Precision is ill-defined and being set to 0.0 in labels with no predicted samples. Use `zero_division` parameter to control this behavior.\n",
            "  _warn_prf(average, modifier, msg_start, len(result))\n"
          ]
        },
        {
          "output_type": "stream",
          "name": "stdout",
          "text": [
            "Test Confusion Matrix \n",
            " [[ 0  0 10]\n",
            " [ 0  0 10]\n",
            " [ 0  0 10]]\n",
            "step 0: test loss 2.7203,test accuracy 0.3333, test precision 0.1111, , test recall 0.3333, , test f1 0.1667\n",
            "iter 0: loss 3.1014, time 8756.78ms, mfu -100.00%\n",
            "iter 1: loss 3.0600, time 196.43ms, mfu -100.00%\n",
            "iter 2: loss 3.2173, time 198.42ms, mfu -100.00%\n",
            "iter 3: loss 2.8411, time 200.38ms, mfu -100.00%\n",
            "iter 4: loss 2.8670, time 202.15ms, mfu -100.00%\n",
            "iter 5: loss 2.8137, time 199.99ms, mfu 44.91%\n",
            "iter 6: loss 3.3146, time 199.06ms, mfu 44.93%\n",
            "iter 7: loss 3.0852, time 200.06ms, mfu 44.93%\n",
            "iter 8: loss 3.1375, time 199.84ms, mfu 44.93%\n",
            "iter 9: loss 1.5063, time 205.02ms, mfu 44.82%\n",
            "Validation Confusion Matrix \n",
            " []\n"
          ]
        },
        {
          "output_type": "stream",
          "name": "stderr",
          "text": [
            "/usr/local/lib/python3.10/dist-packages/sklearn/metrics/_classification.py:1344: UndefinedMetricWarning: Precision is ill-defined and being set to 0.0 in labels with no predicted samples. Use `zero_division` parameter to control this behavior.\n",
            "  _warn_prf(average, modifier, msg_start, len(result))\n"
          ]
        },
        {
          "output_type": "stream",
          "name": "stdout",
          "text": [
            "Validation Confusion Matrix \n",
            " [[339   0   0]\n",
            " [426   0   0]\n",
            " [ 11   0   0]]\n",
            "step 10: train loss 1.7313, val loss 1.6818,val accuracy 0.4369, val precision 0.1908, , val recall 0.4369, , val f1 0.2656\n",
            "iter 10: loss 1.6900, time 13618.49ms, mfu 40.40%\n",
            "iter 11: loss 0.6655, time 203.27ms, mfu 40.78%\n",
            "iter 12: loss 2.0075, time 206.36ms, mfu 41.05%\n",
            "iter 13: loss 1.7769, time 203.11ms, mfu 41.37%\n",
            "iter 14: loss 0.9914, time 207.25ms, mfu 41.57%\n",
            "iter 15: loss 1.0616, time 209.39ms, mfu 41.70%\n",
            "iter 16: loss 0.7546, time 197.78ms, mfu 42.07%\n",
            "iter 17: loss 0.7007, time 82.94ms, mfu 48.69%\n",
            "iter 18: loss 0.7531, time 204.95ms, mfu 48.21%\n",
            "iter 19: loss 0.8690, time 209.74ms, mfu 47.67%\n",
            "Validation Confusion Matrix \n",
            " []\n"
          ]
        },
        {
          "output_type": "stream",
          "name": "stderr",
          "text": [
            "/usr/local/lib/python3.10/dist-packages/sklearn/metrics/_classification.py:1344: UndefinedMetricWarning: Precision is ill-defined and being set to 0.0 in labels with no predicted samples. Use `zero_division` parameter to control this behavior.\n",
            "  _warn_prf(average, modifier, msg_start, len(result))\n"
          ]
        },
        {
          "output_type": "stream",
          "name": "stdout",
          "text": [
            "Validation Confusion Matrix \n",
            " [[  1 303   0]\n",
            " [  0 459   0]\n",
            " [  0  13   0]]\n",
            "step 20: train loss 0.7478, val loss 0.7464,val accuracy 0.5928, val precision 0.7421, , val recall 0.5928, , val f1 0.4426\n"
          ]
        },
        {
          "output_type": "stream",
          "name": "stderr",
          "text": [
            "/usr/local/lib/python3.10/dist-packages/sklearn/metrics/_classification.py:1344: UndefinedMetricWarning: Precision is ill-defined and being set to 0.0 in labels with no predicted samples. Use `zero_division` parameter to control this behavior.\n",
            "  _warn_prf(average, modifier, msg_start, len(result))\n"
          ]
        },
        {
          "output_type": "stream",
          "name": "stdout",
          "text": [
            "Test Confusion Matrix \n",
            " [[ 0 10  0]\n",
            " [ 0 10  0]\n",
            " [ 0 10  0]]\n",
            "step 20: test loss 1.6841,test accuracy 0.3333, test precision 0.1111, , test recall 0.3333, , test f1 0.1667\n",
            "iter 20: loss 0.7947, time 13615.46ms, mfu 42.97%\n",
            "iter 21: loss 0.8731, time 206.65ms, mfu 43.02%\n",
            "iter 22: loss 0.7047, time 199.64ms, mfu 43.21%\n",
            "iter 23: loss 0.8388, time 209.10ms, mfu 43.19%\n",
            "iter 24: loss 0.7107, time 198.63ms, mfu 43.39%\n",
            "iter 25: loss 0.6324, time 86.67ms, mfu 49.41%\n",
            "iter 26: loss 0.7024, time 204.28ms, mfu 48.87%\n",
            "iter 27: loss 0.8330, time 204.27ms, mfu 48.38%\n",
            "iter 28: loss 0.9135, time 204.98ms, mfu 47.92%\n",
            "iter 29: loss 0.6278, time 216.12ms, mfu 47.29%\n",
            "Validation Confusion Matrix \n",
            " []\n"
          ]
        },
        {
          "output_type": "stream",
          "name": "stderr",
          "text": [
            "/usr/local/lib/python3.10/dist-packages/sklearn/metrics/_classification.py:1344: UndefinedMetricWarning: Precision is ill-defined and being set to 0.0 in labels with no predicted samples. Use `zero_division` parameter to control this behavior.\n",
            "  _warn_prf(average, modifier, msg_start, len(result))\n"
          ]
        },
        {
          "output_type": "stream",
          "name": "stdout",
          "text": [
            "Validation Confusion Matrix \n",
            " [[ 86 249   0]\n",
            " [ 17 411   0]\n",
            " [  0  13   0]]\n",
            "step 30: train loss 0.6829, val loss 0.6758,val accuracy 0.6405, val precision 0.6973, , val recall 0.6405, , val f1 0.5813\n",
            "iter 30: loss 0.8134, time 13607.21ms, mfu 42.62%\n",
            "iter 31: loss 0.6586, time 205.08ms, mfu 42.74%\n",
            "iter 32: loss 0.7557, time 205.55ms, mfu 42.84%\n",
            "iter 33: loss 0.5545, time 201.06ms, mfu 43.02%\n",
            "iter 34: loss 0.6862, time 85.09ms, mfu 49.27%\n",
            "iter 35: loss 0.5614, time 204.53ms, mfu 48.74%\n",
            "iter 36: loss 0.5947, time 205.51ms, mfu 48.23%\n",
            "iter 37: loss 0.6575, time 201.58ms, mfu 47.87%\n",
            "iter 38: loss 0.4180, time 207.32ms, mfu 47.41%\n",
            "iter 39: loss 0.7789, time 206.61ms, mfu 47.02%\n",
            "Validation Confusion Matrix \n",
            " []\n"
          ]
        },
        {
          "output_type": "stream",
          "name": "stderr",
          "text": [
            "/usr/local/lib/python3.10/dist-packages/sklearn/metrics/_classification.py:1344: UndefinedMetricWarning: Precision is ill-defined and being set to 0.0 in labels with no predicted samples. Use `zero_division` parameter to control this behavior.\n",
            "  _warn_prf(average, modifier, msg_start, len(result))\n"
          ]
        },
        {
          "output_type": "stream",
          "name": "stdout",
          "text": [
            "Validation Confusion Matrix \n",
            " [[303  19   0]\n",
            " [206 239   0]\n",
            " [  3   6   0]]\n",
            "step 40: train loss 0.6331, val loss 0.6231,val accuracy 0.6985, val precision 0.7647, , val recall 0.6985, , val f1 0.6881\n"
          ]
        },
        {
          "output_type": "stream",
          "name": "stderr",
          "text": [
            "/usr/local/lib/python3.10/dist-packages/sklearn/metrics/_classification.py:1344: UndefinedMetricWarning: Precision is ill-defined and being set to 0.0 in labels with no predicted samples. Use `zero_division` parameter to control this behavior.\n",
            "  _warn_prf(average, modifier, msg_start, len(result))\n"
          ]
        },
        {
          "output_type": "stream",
          "name": "stdout",
          "text": [
            "Test Confusion Matrix \n",
            " [[9 1 0]\n",
            " [5 5 0]\n",
            " [1 9 0]]\n",
            "step 40: test loss 1.8085,test accuracy 0.4667, test precision 0.3111, , test recall 0.4667, , test f1 0.3733\n",
            "iter 40: loss 0.4943, time 13890.36ms, mfu 42.38%\n",
            "iter 41: loss 0.3456, time 199.26ms, mfu 42.65%\n",
            "iter 42: loss 0.7922, time 85.64ms, mfu 48.87%\n",
            "iter 43: loss 0.5723, time 205.96ms, mfu 48.35%\n",
            "iter 44: loss 0.4941, time 199.65ms, mfu 48.01%\n",
            "iter 45: loss 0.5810, time 203.75ms, mfu 47.62%\n",
            "iter 46: loss 0.3825, time 205.39ms, mfu 47.23%\n",
            "iter 47: loss 0.4856, time 203.88ms, mfu 46.91%\n",
            "iter 48: loss 0.4570, time 205.97ms, mfu 46.58%\n",
            "iter 49: loss 0.2372, time 201.20ms, mfu 46.39%\n",
            "Validation Confusion Matrix \n",
            " []\n"
          ]
        },
        {
          "output_type": "stream",
          "name": "stderr",
          "text": [
            "/usr/local/lib/python3.10/dist-packages/sklearn/metrics/_classification.py:1344: UndefinedMetricWarning: Precision is ill-defined and being set to 0.0 in labels with no predicted samples. Use `zero_division` parameter to control this behavior.\n",
            "  _warn_prf(average, modifier, msg_start, len(result))\n"
          ]
        },
        {
          "output_type": "stream",
          "name": "stdout",
          "text": [
            "Validation Confusion Matrix \n",
            " [[287  53   0]\n",
            " [ 56 373   0]\n",
            " [  0   7   0]]\n",
            "step 50: train loss 0.4417, val loss 0.4184,val accuracy 0.8505, val precision 0.8428, , val recall 0.8505, , val f1 0.8467\n",
            "iter 50: loss 0.3738, time 13367.60ms, mfu 41.82%\n",
            "iter 51: loss 0.3746, time 204.75ms, mfu 42.02%\n",
            "iter 52: loss 0.2513, time 206.65ms, mfu 42.16%\n",
            "iter 53: loss 0.4867, time 203.53ms, mfu 42.36%\n",
            "iter 54: loss 0.4673, time 209.34ms, mfu 42.42%\n",
            "iter 55: loss 0.1297, time 202.70ms, mfu 42.60%\n",
            "iter 56: loss 0.6551, time 203.58ms, mfu 42.76%\n",
            "iter 57: loss 0.7900, time 202.64ms, mfu 42.91%\n",
            "iter 58: loss 0.5229, time 210.44ms, mfu 42.89%\n",
            "iter 59: loss 0.4657, time 203.89ms, mfu 43.01%\n",
            "Validation Confusion Matrix \n",
            " []\n"
          ]
        },
        {
          "output_type": "stream",
          "name": "stderr",
          "text": [
            "/usr/local/lib/python3.10/dist-packages/sklearn/metrics/_classification.py:1344: UndefinedMetricWarning: Precision is ill-defined and being set to 0.0 in labels with no predicted samples. Use `zero_division` parameter to control this behavior.\n",
            "  _warn_prf(average, modifier, msg_start, len(result))\n"
          ]
        },
        {
          "output_type": "stream",
          "name": "stdout",
          "text": [
            "Validation Confusion Matrix \n",
            " [[305  27   0]\n",
            " [ 58 374   0]\n",
            " [  2  10   0]]\n",
            "step 60: train loss 0.4670, val loss 0.4631,val accuracy 0.8750, val precision 0.8641, , val recall 0.8750, , val f1 0.8684\n"
          ]
        },
        {
          "output_type": "stream",
          "name": "stderr",
          "text": [
            "/usr/local/lib/python3.10/dist-packages/sklearn/metrics/_classification.py:1344: UndefinedMetricWarning: Precision is ill-defined and being set to 0.0 in labels with no predicted samples. Use `zero_division` parameter to control this behavior.\n",
            "  _warn_prf(average, modifier, msg_start, len(result))\n"
          ]
        },
        {
          "output_type": "stream",
          "name": "stdout",
          "text": [
            "Test Confusion Matrix \n",
            " [[ 9  1  0]\n",
            " [ 3  7  0]\n",
            " [ 0 10  0]]\n",
            "step 60: test loss 2.0709,test accuracy 0.5333, test precision 0.3796, , test recall 0.5333, , test f1 0.4394\n",
            "iter 60: loss 0.2181, time 13651.71ms, mfu 38.77%\n",
            "iter 61: loss 0.7093, time 204.03ms, mfu 39.30%\n",
            "iter 62: loss 0.6113, time 203.62ms, mfu 39.78%\n",
            "iter 63: loss 0.1013, time 202.30ms, mfu 40.24%\n",
            "iter 64: loss 0.5076, time 203.03ms, mfu 40.64%\n",
            "iter 65: loss 0.0958, time 194.81ms, mfu 41.19%\n",
            "iter 66: loss 0.6585, time 85.46ms, mfu 47.58%\n",
            "iter 67: loss 0.2320, time 202.67ms, mfu 47.25%\n",
            "iter 68: loss 0.2539, time 202.21ms, mfu 46.97%\n",
            "iter 69: loss 0.3159, time 203.42ms, mfu 46.69%\n",
            "Validation Confusion Matrix \n",
            " []\n"
          ]
        },
        {
          "output_type": "stream",
          "name": "stderr",
          "text": [
            "/usr/local/lib/python3.10/dist-packages/sklearn/metrics/_classification.py:1344: UndefinedMetricWarning: Precision is ill-defined and being set to 0.0 in labels with no predicted samples. Use `zero_division` parameter to control this behavior.\n",
            "  _warn_prf(average, modifier, msg_start, len(result))\n"
          ]
        },
        {
          "output_type": "stream",
          "name": "stdout",
          "text": [
            "Validation Confusion Matrix \n",
            " [[304  25   0]\n",
            " [ 29 408   0]\n",
            " [  1   9   0]]\n",
            "step 70: train loss 0.2982, val loss 0.2651,val accuracy 0.9175, val precision 0.9057, , val recall 0.9175, , val f1 0.9116\n",
            "iter 70: loss 0.3617, time 13363.91ms, mfu 42.08%\n",
            "iter 71: loss 0.6127, time 201.62ms, mfu 42.33%\n",
            "iter 72: loss 0.5334, time 202.92ms, mfu 42.52%\n",
            "iter 73: loss 0.3250, time 204.11ms, mfu 42.67%\n",
            "iter 74: loss 0.0617, time 195.30ms, mfu 43.00%\n",
            "iter 75: loss 0.8523, time 85.94ms, mfu 49.15%\n",
            "iter 76: loss 0.8354, time 203.27ms, mfu 48.66%\n",
            "iter 77: loss 0.3523, time 204.54ms, mfu 48.18%\n",
            "iter 78: loss 0.2325, time 203.17ms, mfu 47.78%\n",
            "iter 79: loss 0.4971, time 203.29ms, mfu 47.42%\n",
            "Validation Confusion Matrix \n",
            " []\n"
          ]
        },
        {
          "output_type": "stream",
          "name": "stderr",
          "text": [
            "/usr/local/lib/python3.10/dist-packages/sklearn/metrics/_classification.py:1344: UndefinedMetricWarning: Precision is ill-defined and being set to 0.0 in labels with no predicted samples. Use `zero_division` parameter to control this behavior.\n",
            "  _warn_prf(average, modifier, msg_start, len(result))\n"
          ]
        },
        {
          "output_type": "stream",
          "name": "stdout",
          "text": [
            "Validation Confusion Matrix \n",
            " [[322   6   0]\n",
            " [169 268   0]\n",
            " [  1  10   0]]\n",
            "step 80: train loss 0.8753, val loss 0.7754,val accuracy 0.7603, val precision 0.8081, , val recall 0.7603, , val f1 0.7506\n"
          ]
        },
        {
          "output_type": "stream",
          "name": "stderr",
          "text": [
            "/usr/local/lib/python3.10/dist-packages/sklearn/metrics/_classification.py:1344: UndefinedMetricWarning: Precision is ill-defined and being set to 0.0 in labels with no predicted samples. Use `zero_division` parameter to control this behavior.\n",
            "  _warn_prf(average, modifier, msg_start, len(result))\n"
          ]
        },
        {
          "output_type": "stream",
          "name": "stdout",
          "text": [
            "Test Confusion Matrix \n",
            " [[10  0  0]\n",
            " [ 6  4  0]\n",
            " [ 2  8  0]]\n",
            "step 80: test loss 1.9504,test accuracy 0.4667, test precision 0.2963, , test recall 0.4667, , test f1 0.3593\n",
            "iter 80: loss 0.4564, time 13929.30ms, mfu 42.75%\n",
            "iter 81: loss 0.4964, time 205.89ms, mfu 42.83%\n",
            "iter 82: loss 0.0451, time 193.01ms, mfu 43.20%\n",
            "iter 83: loss 0.2885, time 84.20ms, mfu 49.55%\n",
            "iter 84: loss 0.0909, time 203.88ms, mfu 49.00%\n",
            "iter 85: loss 0.3215, time 208.56ms, mfu 48.41%\n",
            "iter 86: loss 0.4275, time 200.42ms, mfu 48.05%\n",
            "iter 87: loss 0.1949, time 202.72ms, mfu 47.67%\n",
            "iter 88: loss 0.4892, time 201.96ms, mfu 47.35%\n",
            "iter 89: loss 0.3269, time 203.12ms, mfu 47.04%\n",
            "Validation Confusion Matrix \n",
            " []\n"
          ]
        },
        {
          "output_type": "stream",
          "name": "stderr",
          "text": [
            "/usr/local/lib/python3.10/dist-packages/sklearn/metrics/_classification.py:1344: UndefinedMetricWarning: Precision is ill-defined and being set to 0.0 in labels with no predicted samples. Use `zero_division` parameter to control this behavior.\n",
            "  _warn_prf(average, modifier, msg_start, len(result))\n"
          ]
        },
        {
          "output_type": "stream",
          "name": "stdout",
          "text": [
            "Validation Confusion Matrix \n",
            " [[316  13   0]\n",
            " [ 60 375   0]\n",
            " [  0  12   0]]\n",
            "step 90: train loss 0.3353, val loss 0.3296,val accuracy 0.8905, val precision 0.8818, , val recall 0.8905, , val f1 0.8836\n",
            "iter 90: loss 0.2754, time 13657.83ms, mfu 42.40%\n",
            "iter 91: loss 0.0213, time 193.54ms, mfu 42.80%\n",
            "iter 92: loss 0.3152, time 84.95ms, mfu 49.09%\n",
            "iter 93: loss 0.2277, time 204.10ms, mfu 48.59%\n",
            "iter 94: loss 0.2041, time 206.73ms, mfu 48.07%\n",
            "iter 95: loss 0.0992, time 201.12ms, mfu 47.73%\n",
            "iter 96: loss 0.0452, time 207.25ms, mfu 47.29%\n",
            "iter 97: loss 0.2316, time 204.16ms, mfu 46.96%\n",
            "iter 98: loss 0.1323, time 198.86ms, mfu 46.78%\n",
            "iter 99: loss 0.7116, time 202.59ms, mfu 46.54%\n",
            "Validation Confusion Matrix \n",
            " []\n"
          ]
        },
        {
          "output_type": "stream",
          "name": "stderr",
          "text": [
            "/usr/local/lib/python3.10/dist-packages/sklearn/metrics/_classification.py:1344: UndefinedMetricWarning: Precision is ill-defined and being set to 0.0 in labels with no predicted samples. Use `zero_division` parameter to control this behavior.\n",
            "  _warn_prf(average, modifier, msg_start, len(result))\n"
          ]
        },
        {
          "output_type": "stream",
          "name": "stdout",
          "text": [
            "Validation Confusion Matrix \n",
            " [[341   5   0]\n",
            " [218 198   0]\n",
            " [  5   9   0]]\n",
            "step 100: train loss 1.3481, val loss 1.2521,val accuracy 0.6946, val precision 0.7703, , val recall 0.6946, , val f1 0.6722\n"
          ]
        },
        {
          "output_type": "stream",
          "name": "stderr",
          "text": [
            "/usr/local/lib/python3.10/dist-packages/sklearn/metrics/_classification.py:1344: UndefinedMetricWarning: Precision is ill-defined and being set to 0.0 in labels with no predicted samples. Use `zero_division` parameter to control this behavior.\n",
            "  _warn_prf(average, modifier, msg_start, len(result))\n"
          ]
        },
        {
          "output_type": "stream",
          "name": "stdout",
          "text": [
            "Test Confusion Matrix \n",
            " [[10  0  0]\n",
            " [ 7  3  0]\n",
            " [ 2  8  0]]\n",
            "step 100: test loss 2.8878,test accuracy 0.4333, test precision 0.2663, , test recall 0.4333, , test f1 0.3251\n",
            "iter 100: loss 0.6752, time 13655.40ms, mfu 41.95%\n",
            "iter 101: loss 1.2553, time 203.45ms, mfu 42.17%\n",
            "iter 102: loss 0.8200, time 206.44ms, mfu 42.30%\n",
            "iter 103: loss 0.4375, time 202.84ms, mfu 42.50%\n",
            "iter 104: loss 0.0700, time 202.81ms, mfu 42.68%\n",
            "iter 105: loss 0.8378, time 204.06ms, mfu 42.81%\n",
            "iter 106: loss 0.0337, time 201.19ms, mfu 43.00%\n",
            "iter 107: loss 0.3609, time 88.37ms, mfu 48.86%\n",
            "iter 108: loss 0.3182, time 201.38ms, mfu 48.43%\n",
            "iter 109: loss 0.2953, time 202.44ms, mfu 48.03%\n",
            "Validation Confusion Matrix \n",
            " []\n"
          ]
        },
        {
          "output_type": "stream",
          "name": "stderr",
          "text": [
            "/usr/local/lib/python3.10/dist-packages/sklearn/metrics/_classification.py:1344: UndefinedMetricWarning: Precision is ill-defined and being set to 0.0 in labels with no predicted samples. Use `zero_division` parameter to control this behavior.\n",
            "  _warn_prf(average, modifier, msg_start, len(result))\n"
          ]
        },
        {
          "output_type": "stream",
          "name": "stdout",
          "text": [
            "Validation Confusion Matrix \n",
            " [[333   2   0]\n",
            " [141 289   0]\n",
            " [  2   9   0]]\n",
            "step 110: train loss 0.7846, val loss 0.7032,val accuracy 0.8015, val precision 0.8358, , val recall 0.8015, , val f1 0.7933\n",
            "iter 110: loss 0.3979, time 13367.66ms, mfu 43.29%\n",
            "iter 111: loss 0.6590, time 208.74ms, mfu 43.27%\n",
            "iter 112: loss 0.3018, time 204.65ms, mfu 43.33%\n",
            "iter 113: loss 0.2774, time 203.31ms, mfu 43.41%\n",
            "iter 114: loss 0.2920, time 203.76ms, mfu 43.48%\n",
            "iter 115: loss 0.0464, time 201.29ms, mfu 43.59%\n",
            "iter 116: loss 0.3077, time 85.05ms, mfu 49.79%\n",
            "iter 117: loss 0.3013, time 202.32ms, mfu 49.25%\n",
            "iter 118: loss 0.2433, time 208.21ms, mfu 48.64%\n",
            "iter 119: loss 0.2146, time 203.87ms, mfu 48.18%\n",
            "Validation Confusion Matrix \n",
            " []\n"
          ]
        },
        {
          "output_type": "stream",
          "name": "stderr",
          "text": [
            "/usr/local/lib/python3.10/dist-packages/sklearn/metrics/_classification.py:1344: UndefinedMetricWarning: Precision is ill-defined and being set to 0.0 in labels with no predicted samples. Use `zero_division` parameter to control this behavior.\n",
            "  _warn_prf(average, modifier, msg_start, len(result))\n"
          ]
        },
        {
          "output_type": "stream",
          "name": "stdout",
          "text": [
            "Validation Confusion Matrix \n",
            " [[312  21   0]\n",
            " [ 13 416   0]\n",
            " [  0  14   0]]\n",
            "step 120: train loss 0.2133, val loss 0.1951,val accuracy 0.9381, val precision 0.9219, , val recall 0.9381, , val f1 0.9296\n"
          ]
        },
        {
          "output_type": "stream",
          "name": "stderr",
          "text": [
            "/usr/local/lib/python3.10/dist-packages/sklearn/metrics/_classification.py:1344: UndefinedMetricWarning: Precision is ill-defined and being set to 0.0 in labels with no predicted samples. Use `zero_division` parameter to control this behavior.\n",
            "  _warn_prf(average, modifier, msg_start, len(result))\n"
          ]
        },
        {
          "output_type": "stream",
          "name": "stdout",
          "text": [
            "Test Confusion Matrix \n",
            " [[ 9  1  0]\n",
            " [ 2  8  0]\n",
            " [ 0 10  0]]\n",
            "step 120: test loss 1.3683,test accuracy 0.5667, test precision 0.4131, , test recall 0.5667, , test f1 0.4696\n",
            "iter 120: loss 0.0561, time 13894.08ms, mfu 43.43%\n",
            "iter 121: loss 0.0779, time 201.70ms, mfu 43.54%\n",
            "iter 122: loss 0.3042, time 202.62ms, mfu 43.62%\n",
            "iter 123: loss 0.0208, time 196.13ms, mfu 43.84%\n",
            "iter 124: loss 0.0266, time 84.29ms, mfu 50.11%\n",
            "iter 125: loss 0.2216, time 203.66ms, mfu 49.51%\n",
            "iter 126: loss 0.0402, time 201.06ms, mfu 49.02%\n",
            "iter 127: loss 0.0848, time 202.87ms, mfu 48.55%\n",
            "iter 128: loss 0.0387, time 203.83ms, mfu 48.10%\n",
            "iter 129: loss 0.0164, time 204.55ms, mfu 47.68%\n",
            "Validation Confusion Matrix \n",
            " []\n"
          ]
        },
        {
          "output_type": "stream",
          "name": "stderr",
          "text": [
            "/usr/local/lib/python3.10/dist-packages/sklearn/metrics/_classification.py:1344: UndefinedMetricWarning: Precision is ill-defined and being set to 0.0 in labels with no predicted samples. Use `zero_division` parameter to control this behavior.\n",
            "  _warn_prf(average, modifier, msg_start, len(result))\n"
          ]
        },
        {
          "output_type": "stream",
          "name": "stdout",
          "text": [
            "Validation Confusion Matrix \n",
            " [[296  26   0]\n",
            " [ 18 421   0]\n",
            " [  0  15   0]]\n",
            "step 130: train loss 0.2509, val loss 0.3188,val accuracy 0.9240, val precision 0.9067, , val recall 0.9240, , val f1 0.9149\n",
            "iter 130: loss 0.2881, time 13608.14ms, mfu 42.98%\n",
            "iter 131: loss 0.4441, time 208.36ms, mfu 42.99%\n",
            "iter 132: loss 0.0011, time 191.55ms, mfu 43.38%\n",
            "iter 133: loss 0.5277, time 88.86ms, mfu 49.15%\n",
            "iter 134: loss 0.2216, time 200.21ms, mfu 48.72%\n",
            "iter 135: loss 0.3731, time 202.62ms, mfu 48.28%\n",
            "iter 136: loss 0.2124, time 202.59ms, mfu 47.89%\n",
            "iter 137: loss 0.1030, time 202.84ms, mfu 47.53%\n",
            "iter 138: loss 0.0095, time 201.40ms, mfu 47.23%\n",
            "iter 139: loss 0.1427, time 203.53ms, mfu 46.92%\n",
            "Validation Confusion Matrix \n",
            " []\n"
          ]
        },
        {
          "output_type": "stream",
          "name": "stderr",
          "text": [
            "/usr/local/lib/python3.10/dist-packages/sklearn/metrics/_classification.py:1344: UndefinedMetricWarning: Precision is ill-defined and being set to 0.0 in labels with no predicted samples. Use `zero_division` parameter to control this behavior.\n",
            "  _warn_prf(average, modifier, msg_start, len(result))\n"
          ]
        },
        {
          "output_type": "stream",
          "name": "stdout",
          "text": [
            "Validation Confusion Matrix \n",
            " [[319  11   0]\n",
            " [ 20 416   0]\n",
            " [  0  10   0]]\n",
            "step 140: train loss 0.2439, val loss 0.2237,val accuracy 0.9472, val precision 0.9350, , val recall 0.9472, , val f1 0.9410\n"
          ]
        },
        {
          "output_type": "stream",
          "name": "stderr",
          "text": [
            "/usr/local/lib/python3.10/dist-packages/sklearn/metrics/_classification.py:1344: UndefinedMetricWarning: Precision is ill-defined and being set to 0.0 in labels with no predicted samples. Use `zero_division` parameter to control this behavior.\n",
            "  _warn_prf(average, modifier, msg_start, len(result))\n"
          ]
        },
        {
          "output_type": "stream",
          "name": "stdout",
          "text": [
            "Test Confusion Matrix \n",
            " [[ 9  1  0]\n",
            " [ 1  9  0]\n",
            " [ 0 10  0]]\n",
            "step 140: test loss 2.2077,test accuracy 0.6000, test precision 0.4500, , test recall 0.6000, , test f1 0.5000\n",
            "iter 140: loss 0.1854, time 13680.82ms, mfu 42.30%\n",
            "iter 141: loss 0.0283, time 203.08ms, mfu 42.49%\n",
            "iter 142: loss 0.6522, time 205.33ms, mfu 42.61%\n",
            "iter 143: loss 0.1634, time 203.84ms, mfu 42.76%\n",
            "iter 144: loss 0.0874, time 202.49ms, mfu 42.92%\n",
            "iter 145: loss 0.1865, time 202.92ms, mfu 43.05%\n",
            "iter 146: loss 0.4669, time 205.75ms, mfu 43.11%\n",
            "iter 147: loss 0.2717, time 200.62ms, mfu 43.28%\n",
            "iter 148: loss 0.0926, time 207.67ms, mfu 43.28%\n",
            "iter 149: loss 0.2176, time 203.17ms, mfu 43.37%\n",
            "Validation Confusion Matrix \n",
            " []\n"
          ]
        },
        {
          "output_type": "stream",
          "name": "stderr",
          "text": [
            "/usr/local/lib/python3.10/dist-packages/sklearn/metrics/_classification.py:1344: UndefinedMetricWarning: Precision is ill-defined and being set to 0.0 in labels with no predicted samples. Use `zero_division` parameter to control this behavior.\n",
            "  _warn_prf(average, modifier, msg_start, len(result))\n"
          ]
        },
        {
          "output_type": "stream",
          "name": "stdout",
          "text": [
            "Validation Confusion Matrix \n",
            " [[309  15   0]\n",
            " [  3 432   0]\n",
            " [  0  17   0]]\n",
            "step 150: train loss 0.2224, val loss 0.1694,val accuracy 0.9549, val precision 0.9354, , val recall 0.9549, , val f1 0.9445\n",
            "iter 150: loss 0.1256, time 13436.33ms, mfu 39.10%\n",
            "iter 151: loss 0.2014, time 202.89ms, mfu 39.62%\n",
            "iter 152: loss 0.1989, time 202.83ms, mfu 40.08%\n",
            "iter 153: loss 0.4246, time 209.47ms, mfu 40.36%\n",
            "iter 154: loss 0.0643, time 202.16ms, mfu 40.77%\n",
            "iter 155: loss 0.4076, time 201.85ms, mfu 41.14%\n",
            "iter 156: loss 0.0242, time 204.48ms, mfu 41.42%\n",
            "iter 157: loss 0.0848, time 84.39ms, mfu 47.92%\n",
            "iter 158: loss 0.0856, time 206.92ms, mfu 47.47%\n",
            "iter 159: loss 0.2825, time 199.75ms, mfu 47.22%\n",
            "Validation Confusion Matrix \n",
            " []\n"
          ]
        },
        {
          "output_type": "stream",
          "name": "stderr",
          "text": [
            "/usr/local/lib/python3.10/dist-packages/sklearn/metrics/_classification.py:1344: UndefinedMetricWarning: Precision is ill-defined and being set to 0.0 in labels with no predicted samples. Use `zero_division` parameter to control this behavior.\n",
            "  _warn_prf(average, modifier, msg_start, len(result))\n"
          ]
        },
        {
          "output_type": "stream",
          "name": "stdout",
          "text": [
            "Validation Confusion Matrix \n",
            " [[317   5   0]\n",
            " [ 39 404   0]\n",
            " [  0  11   0]]\n",
            "step 160: train loss 0.2319, val loss 0.2238,val accuracy 0.9291, val precision 0.9186, , val recall 0.9291, , val f1 0.9225\n"
          ]
        },
        {
          "output_type": "stream",
          "name": "stderr",
          "text": [
            "/usr/local/lib/python3.10/dist-packages/sklearn/metrics/_classification.py:1344: UndefinedMetricWarning: Precision is ill-defined and being set to 0.0 in labels with no predicted samples. Use `zero_division` parameter to control this behavior.\n",
            "  _warn_prf(average, modifier, msg_start, len(result))\n"
          ]
        },
        {
          "output_type": "stream",
          "name": "stdout",
          "text": [
            "Test Confusion Matrix \n",
            " [[10  0  0]\n",
            " [ 2  8  0]\n",
            " [ 0 10  0]]\n",
            "step 160: test loss 1.6921,test accuracy 0.6000, test precision 0.4259, , test recall 0.6000, , test f1 0.4935\n",
            "iter 160: loss 0.0284, time 13666.19ms, mfu 42.56%\n",
            "iter 161: loss 0.2932, time 198.43ms, mfu 42.83%\n",
            "iter 162: loss 0.0502, time 202.05ms, mfu 42.99%\n",
            "iter 163: loss 0.4521, time 206.27ms, mfu 43.05%\n",
            "iter 164: loss 0.0064, time 190.55ms, mfu 43.46%\n",
            "iter 165: loss 0.0937, time 85.10ms, mfu 49.67%\n",
            "iter 166: loss 0.1411, time 206.86ms, mfu 49.04%\n",
            "iter 167: loss 0.3470, time 197.69ms, mfu 48.68%\n",
            "iter 168: loss 0.1382, time 203.74ms, mfu 48.22%\n",
            "iter 169: loss 0.1472, time 202.77ms, mfu 47.83%\n",
            "Validation Confusion Matrix \n",
            " []\n"
          ]
        },
        {
          "output_type": "stream",
          "name": "stderr",
          "text": [
            "/usr/local/lib/python3.10/dist-packages/sklearn/metrics/_classification.py:1344: UndefinedMetricWarning: Precision is ill-defined and being set to 0.0 in labels with no predicted samples. Use `zero_division` parameter to control this behavior.\n",
            "  _warn_prf(average, modifier, msg_start, len(result))\n"
          ]
        },
        {
          "output_type": "stream",
          "name": "stdout",
          "text": [
            "Validation Confusion Matrix \n",
            " [[328   3   0]\n",
            " [ 85 345   0]\n",
            " [  0  15   0]]\n",
            "step 170: train loss 0.5126, val loss 0.5535,val accuracy 0.8673, val precision 0.8654, , val recall 0.8673, , val f1 0.8582\n",
            "iter 170: loss 0.3116, time 13662.45ms, mfu 43.11%\n",
            "iter 171: loss 0.1939, time 203.04ms, mfu 43.22%\n",
            "iter 172: loss 0.2028, time 202.60ms, mfu 43.33%\n",
            "iter 173: loss 0.0501, time 194.87ms, mfu 43.61%\n",
            "iter 174: loss 0.1807, time 84.50ms, mfu 49.88%\n",
            "iter 175: loss 0.1760, time 201.33ms, mfu 49.35%\n",
            "iter 176: loss 0.1561, time 204.23ms, mfu 48.81%\n",
            "iter 177: loss 0.1440, time 203.00ms, mfu 48.36%\n",
            "iter 178: loss 0.0334, time 203.55ms, mfu 47.93%\n",
            "iter 179: loss 0.0092, time 209.06ms, mfu 47.44%\n",
            "Validation Confusion Matrix \n",
            " []\n"
          ]
        },
        {
          "output_type": "stream",
          "name": "stderr",
          "text": [
            "/usr/local/lib/python3.10/dist-packages/sklearn/metrics/_classification.py:1344: UndefinedMetricWarning: Precision is ill-defined and being set to 0.0 in labels with no predicted samples. Use `zero_division` parameter to control this behavior.\n",
            "  _warn_prf(average, modifier, msg_start, len(result))\n"
          ]
        },
        {
          "output_type": "stream",
          "name": "stdout",
          "text": [
            "Validation Confusion Matrix \n",
            " [[320   7   0]\n",
            " [ 37 397   0]\n",
            " [  0  15   0]]\n",
            "step 180: train loss 0.2560, val loss 0.3337,val accuracy 0.9240, val precision 0.9076, , val recall 0.9240, , val f1 0.9149\n"
          ]
        },
        {
          "output_type": "stream",
          "name": "stderr",
          "text": [
            "/usr/local/lib/python3.10/dist-packages/sklearn/metrics/_classification.py:1344: UndefinedMetricWarning: Precision is ill-defined and being set to 0.0 in labels with no predicted samples. Use `zero_division` parameter to control this behavior.\n",
            "  _warn_prf(average, modifier, msg_start, len(result))\n"
          ]
        },
        {
          "output_type": "stream",
          "name": "stdout",
          "text": [
            "Test Confusion Matrix \n",
            " [[10  0  0]\n",
            " [ 2  8  0]\n",
            " [ 0 10  0]]\n",
            "step 180: test loss 2.2055,test accuracy 0.6000, test precision 0.4259, , test recall 0.6000, , test f1 0.4935\n",
            "iter 180: loss 0.3321, time 13881.72ms, mfu 42.76%\n",
            "iter 181: loss 0.0023, time 191.34ms, mfu 43.18%\n",
            "iter 182: loss 0.6488, time 84.62ms, mfu 49.47%\n",
            "iter 183: loss 0.0712, time 204.58ms, mfu 48.92%\n",
            "iter 184: loss 0.1875, time 201.10ms, mfu 48.49%\n",
            "iter 185: loss 0.0233, time 204.43ms, mfu 48.03%\n",
            "iter 186: loss 0.0042, time 201.66ms, mfu 47.68%\n",
            "iter 187: loss 0.0672, time 202.04ms, mfu 47.36%\n",
            "iter 188: loss 0.1680, time 201.97ms, mfu 47.07%\n",
            "iter 189: loss 0.0085, time 202.85ms, mfu 46.79%\n",
            "Validation Confusion Matrix \n",
            " []\n"
          ]
        },
        {
          "output_type": "stream",
          "name": "stderr",
          "text": [
            "/usr/local/lib/python3.10/dist-packages/sklearn/metrics/_classification.py:1344: UndefinedMetricWarning: Precision is ill-defined and being set to 0.0 in labels with no predicted samples. Use `zero_division` parameter to control this behavior.\n",
            "  _warn_prf(average, modifier, msg_start, len(result))\n"
          ]
        },
        {
          "output_type": "stream",
          "name": "stdout",
          "text": [
            "Validation Confusion Matrix \n",
            " [[302  13   0]\n",
            " [ 12 437   0]\n",
            " [  0  12   0]]\n",
            "step 190: train loss 0.2168, val loss 0.2534,val accuracy 0.9523, val precision 0.9377, , val recall 0.9523, , val f1 0.9449\n",
            "iter 190: loss 0.0166, time 13325.21ms, mfu 42.18%\n",
            "iter 191: loss 0.5259, time 198.47ms, mfu 42.49%\n",
            "iter 192: loss 0.3303, time 202.80ms, mfu 42.67%\n",
            "iter 193: loss 0.1495, time 205.67ms, mfu 42.77%\n",
            "iter 194: loss 0.0618, time 201.10ms, mfu 42.96%\n",
            "iter 195: loss 0.0518, time 200.66ms, mfu 43.14%\n",
            "iter 196: loss 0.1708, time 207.83ms, mfu 43.15%\n",
            "iter 197: loss 0.1337, time 200.35ms, mfu 43.31%\n",
            "iter 198: loss 0.1184, time 203.17ms, mfu 43.40%\n",
            "iter 199: loss 0.1955, time 207.66ms, mfu 43.39%\n",
            "Validation Confusion Matrix \n",
            " []\n"
          ]
        },
        {
          "output_type": "stream",
          "name": "stderr",
          "text": [
            "/usr/local/lib/python3.10/dist-packages/sklearn/metrics/_classification.py:1344: UndefinedMetricWarning: Precision is ill-defined and being set to 0.0 in labels with no predicted samples. Use `zero_division` parameter to control this behavior.\n",
            "  _warn_prf(average, modifier, msg_start, len(result))\n"
          ]
        },
        {
          "output_type": "stream",
          "name": "stdout",
          "text": [
            "Validation Confusion Matrix \n",
            " [[332   7   0]\n",
            " [ 26 400   0]\n",
            " [  0  11   0]]\n",
            "step 200: train loss 0.3849, val loss 0.3153,val accuracy 0.9433, val precision 0.9305, , val recall 0.9433, , val f1 0.9365\n"
          ]
        },
        {
          "output_type": "stream",
          "name": "stderr",
          "text": [
            "/usr/local/lib/python3.10/dist-packages/sklearn/metrics/_classification.py:1344: UndefinedMetricWarning: Precision is ill-defined and being set to 0.0 in labels with no predicted samples. Use `zero_division` parameter to control this behavior.\n",
            "  _warn_prf(average, modifier, msg_start, len(result))\n"
          ]
        },
        {
          "output_type": "stream",
          "name": "stdout",
          "text": [
            "Test Confusion Matrix \n",
            " [[10  0  0]\n",
            " [ 2  8  0]\n",
            " [ 0 10  0]]\n",
            "step 200: test loss 1.3042,test accuracy 0.6000, test precision 0.4259, , test recall 0.6000, , test f1 0.4935\n",
            "iter 200: loss 0.3106, time 13652.12ms, mfu 39.12%\n",
            "iter 201: loss 0.5382, time 196.98ms, mfu 39.76%\n",
            "iter 202: loss 0.5321, time 203.61ms, mfu 40.20%\n",
            "iter 203: loss 0.1019, time 206.57ms, mfu 40.53%\n",
            "iter 204: loss 0.1836, time 200.02ms, mfu 40.96%\n",
            "iter 205: loss 0.0663, time 203.01ms, mfu 41.29%\n",
            "iter 206: loss 0.2183, time 83.47ms, mfu 47.92%\n",
            "iter 207: loss 0.2365, time 204.57ms, mfu 47.52%\n",
            "iter 208: loss 0.0834, time 202.22ms, mfu 47.21%\n",
            "iter 209: loss 0.1671, time 204.30ms, mfu 46.89%\n",
            "Validation Confusion Matrix \n",
            " []\n"
          ]
        },
        {
          "output_type": "stream",
          "name": "stderr",
          "text": [
            "/usr/local/lib/python3.10/dist-packages/sklearn/metrics/_classification.py:1344: UndefinedMetricWarning: Precision is ill-defined and being set to 0.0 in labels with no predicted samples. Use `zero_division` parameter to control this behavior.\n",
            "  _warn_prf(average, modifier, msg_start, len(result))\n"
          ]
        },
        {
          "output_type": "stream",
          "name": "stdout",
          "text": [
            "Validation Confusion Matrix \n",
            " [[334   2   0]\n",
            " [ 79 352   0]\n",
            " [  0   9   0]]\n",
            "step 210: train loss 0.4774, val loss 0.4298,val accuracy 0.8840, val precision 0.8887, , val recall 0.8840, , val f1 0.8786\n",
            "iter 210: loss 0.3436, time 13346.53ms, mfu 42.26%\n",
            "iter 211: loss 0.3354, time 202.95ms, mfu 42.46%\n",
            "iter 212: loss 0.0287, time 203.39ms, mfu 42.63%\n",
            "iter 213: loss 0.2467, time 201.52ms, mfu 42.83%\n",
            "iter 214: loss 0.0059, time 194.74ms, mfu 43.16%\n",
            "iter 215: loss 0.3722, time 83.18ms, mfu 49.64%\n",
            "iter 216: loss 0.3998, time 202.71ms, mfu 49.11%\n",
            "iter 217: loss 0.0327, time 202.32ms, mfu 48.63%\n",
            "iter 218: loss 0.0663, time 203.39ms, mfu 48.19%\n",
            "iter 219: loss 0.2434, time 204.04ms, mfu 47.77%\n",
            "Validation Confusion Matrix \n",
            " []\n"
          ]
        },
        {
          "output_type": "stream",
          "name": "stderr",
          "text": [
            "/usr/local/lib/python3.10/dist-packages/sklearn/metrics/_classification.py:1344: UndefinedMetricWarning: Precision is ill-defined and being set to 0.0 in labels with no predicted samples. Use `zero_division` parameter to control this behavior.\n",
            "  _warn_prf(average, modifier, msg_start, len(result))\n"
          ]
        },
        {
          "output_type": "stream",
          "name": "stdout",
          "text": [
            "Validation Confusion Matrix \n",
            " [[335   2   0]\n",
            " [ 34 393   0]\n",
            " [  0  12   0]]\n",
            "step 220: train loss 0.2654, val loss 0.2488,val accuracy 0.9381, val precision 0.9256, , val recall 0.9381, , val f1 0.9307\n"
          ]
        },
        {
          "output_type": "stream",
          "name": "stderr",
          "text": [
            "/usr/local/lib/python3.10/dist-packages/sklearn/metrics/_classification.py:1344: UndefinedMetricWarning: Precision is ill-defined and being set to 0.0 in labels with no predicted samples. Use `zero_division` parameter to control this behavior.\n",
            "  _warn_prf(average, modifier, msg_start, len(result))\n"
          ]
        },
        {
          "output_type": "stream",
          "name": "stdout",
          "text": [
            "Test Confusion Matrix \n",
            " [[ 9  1  0]\n",
            " [ 3  7  0]\n",
            " [ 0 10  0]]\n",
            "step 220: test loss 1.8423,test accuracy 0.5333, test precision 0.3796, , test recall 0.5333, , test f1 0.4394\n",
            "iter 220: loss 0.2503, time 13871.71ms, mfu 43.06%\n",
            "iter 221: loss 0.4175, time 201.36ms, mfu 43.21%\n",
            "iter 222: loss 0.0105, time 200.61ms, mfu 43.37%\n",
            "iter 223: loss 0.2342, time 87.57ms, mfu 49.29%\n",
            "iter 224: loss 0.1431, time 200.42ms, mfu 48.84%\n",
            "iter 225: loss 0.2102, time 202.19ms, mfu 48.40%\n",
            "iter 226: loss 0.1481, time 203.73ms, mfu 47.97%\n",
            "iter 227: loss 0.2221, time 207.12ms, mfu 47.51%\n",
            "iter 228: loss 0.2709, time 201.59ms, mfu 47.21%\n",
            "iter 229: loss 0.0303, time 201.60ms, mfu 46.95%\n",
            "Validation Confusion Matrix \n",
            " []\n"
          ]
        },
        {
          "output_type": "stream",
          "name": "stderr",
          "text": [
            "/usr/local/lib/python3.10/dist-packages/sklearn/metrics/_classification.py:1344: UndefinedMetricWarning: Precision is ill-defined and being set to 0.0 in labels with no predicted samples. Use `zero_division` parameter to control this behavior.\n",
            "  _warn_prf(average, modifier, msg_start, len(result))\n"
          ]
        },
        {
          "output_type": "stream",
          "name": "stdout",
          "text": [
            "Validation Confusion Matrix \n",
            " [[333  10   0]\n",
            " [  2 419   0]\n",
            " [  0  12   0]]\n",
            "step 230: train loss 0.1550, val loss 0.1052,val accuracy 0.9691, val precision 0.9548, , val recall 0.9691, , val f1 0.9616\n",
            "iter 230: loss 0.1504, time 13601.46ms, mfu 42.32%\n",
            "iter 231: loss 0.0024, time 198.67ms, mfu 42.61%\n",
            "iter 232: loss 0.2744, time 85.30ms, mfu 48.88%\n",
            "iter 233: loss 0.0112, time 201.15ms, mfu 48.45%\n",
            "iter 234: loss 0.1967, time 205.55ms, mfu 47.98%\n",
            "iter 235: loss 0.0890, time 199.88ms, mfu 47.67%\n",
            "iter 236: loss 0.0299, time 202.43ms, mfu 47.34%\n",
            "iter 237: loss 0.1653, time 203.18ms, mfu 47.03%\n",
            "iter 238: loss 0.2879, time 201.68ms, mfu 46.78%\n",
            "iter 239: loss 0.0606, time 202.27ms, mfu 46.54%\n",
            "Validation Confusion Matrix \n",
            " []\n"
          ]
        },
        {
          "output_type": "stream",
          "name": "stderr",
          "text": [
            "/usr/local/lib/python3.10/dist-packages/sklearn/metrics/_classification.py:1344: UndefinedMetricWarning: Precision is ill-defined and being set to 0.0 in labels with no predicted samples. Use `zero_division` parameter to control this behavior.\n",
            "  _warn_prf(average, modifier, msg_start, len(result))\n"
          ]
        },
        {
          "output_type": "stream",
          "name": "stdout",
          "text": [
            "Validation Confusion Matrix \n",
            " [[323   1   0]\n",
            " [ 45 391   0]\n",
            " [  3  13   0]]\n",
            "step 240: train loss 0.4494, val loss 0.4110,val accuracy 0.9201, val precision 0.9059, , val recall 0.9201, , val f1 0.9105\n"
          ]
        },
        {
          "output_type": "stream",
          "name": "stderr",
          "text": [
            "/usr/local/lib/python3.10/dist-packages/sklearn/metrics/_classification.py:1344: UndefinedMetricWarning: Precision is ill-defined and being set to 0.0 in labels with no predicted samples. Use `zero_division` parameter to control this behavior.\n",
            "  _warn_prf(average, modifier, msg_start, len(result))\n"
          ]
        },
        {
          "output_type": "stream",
          "name": "stdout",
          "text": [
            "Test Confusion Matrix \n",
            " [[10  0  0]\n",
            " [ 2  8  0]\n",
            " [ 0 10  0]]\n",
            "step 240: test loss 2.7235,test accuracy 0.6000, test precision 0.4259, , test recall 0.6000, , test f1 0.4935\n",
            "iter 240: loss 0.0655, time 13697.46ms, mfu 41.95%\n",
            "iter 241: loss 0.1096, time 199.20ms, mfu 42.27%\n",
            "iter 242: loss 0.1925, time 203.51ms, mfu 42.45%\n",
            "iter 243: loss 0.4418, time 201.02ms, mfu 42.68%\n",
            "iter 244: loss 0.0105, time 202.49ms, mfu 42.84%\n",
            "iter 245: loss 0.3515, time 202.04ms, mfu 43.01%\n",
            "iter 246: loss 0.0036, time 199.46ms, mfu 43.21%\n",
            "iter 247: loss 0.2118, time 85.53ms, mfu 49.39%\n",
            "iter 248: loss 0.0237, time 201.17ms, mfu 48.91%\n",
            "iter 249: loss 0.0626, time 201.59ms, mfu 48.48%\n",
            "Validation Confusion Matrix \n",
            " []\n"
          ]
        },
        {
          "output_type": "stream",
          "name": "stderr",
          "text": [
            "/usr/local/lib/python3.10/dist-packages/sklearn/metrics/_classification.py:1344: UndefinedMetricWarning: Precision is ill-defined and being set to 0.0 in labels with no predicted samples. Use `zero_division` parameter to control this behavior.\n",
            "  _warn_prf(average, modifier, msg_start, len(result))\n"
          ]
        },
        {
          "output_type": "stream",
          "name": "stdout",
          "text": [
            "Validation Confusion Matrix \n",
            " [[332   3   0]\n",
            " [ 12 415   0]\n",
            " [  0  14   0]]\n",
            "step 250: train loss 0.1934, val loss 0.1755,val accuracy 0.9626, val precision 0.9452, , val recall 0.9626, , val f1 0.9538\n",
            "iter 250: loss 0.0216, time 13331.16ms, mfu 43.70%\n",
            "iter 251: loss 0.1379, time 208.05ms, mfu 43.65%\n",
            "iter 252: loss 0.2696, time 202.30ms, mfu 43.72%\n",
            "iter 253: loss 0.0149, time 202.60ms, mfu 43.78%\n",
            "iter 254: loss 0.2522, time 201.09ms, mfu 43.87%\n",
            "iter 255: loss 0.0039, time 205.40ms, mfu 43.86%\n",
            "iter 256: loss 0.2382, time 85.08ms, mfu 50.03%\n",
            "iter 257: loss 0.0206, time 205.50ms, mfu 49.39%\n",
            "iter 258: loss 0.0261, time 200.85ms, mfu 48.93%\n",
            "iter 259: loss 0.2320, time 201.65ms, mfu 48.49%\n",
            "Validation Confusion Matrix \n",
            " []\n"
          ]
        },
        {
          "output_type": "stream",
          "name": "stderr",
          "text": [
            "/usr/local/lib/python3.10/dist-packages/sklearn/metrics/_classification.py:1344: UndefinedMetricWarning: Precision is ill-defined and being set to 0.0 in labels with no predicted samples. Use `zero_division` parameter to control this behavior.\n",
            "  _warn_prf(average, modifier, msg_start, len(result))\n"
          ]
        },
        {
          "output_type": "stream",
          "name": "stdout",
          "text": [
            "Validation Confusion Matrix \n",
            " [[319   2   0]\n",
            " [ 19 422   0]\n",
            " [  1  13   0]]\n",
            "step 260: train loss 0.3671, val loss 0.3398,val accuracy 0.9549, val precision 0.9380, , val recall 0.9549, , val f1 0.9462\n"
          ]
        },
        {
          "output_type": "stream",
          "name": "stderr",
          "text": [
            "/usr/local/lib/python3.10/dist-packages/sklearn/metrics/_classification.py:1344: UndefinedMetricWarning: Precision is ill-defined and being set to 0.0 in labels with no predicted samples. Use `zero_division` parameter to control this behavior.\n",
            "  _warn_prf(average, modifier, msg_start, len(result))\n"
          ]
        },
        {
          "output_type": "stream",
          "name": "stdout",
          "text": [
            "Test Confusion Matrix \n",
            " [[10  0  0]\n",
            " [ 2  8  0]\n",
            " [ 0 10  0]]\n",
            "step 260: test loss 2.2842,test accuracy 0.6000, test precision 0.4259, , test recall 0.6000, , test f1 0.4935\n",
            "iter 260: loss 0.0363, time 13871.92ms, mfu 43.70%\n",
            "iter 261: loss 0.0235, time 203.21ms, mfu 43.75%\n",
            "iter 262: loss 0.2264, time 204.88ms, mfu 43.76%\n",
            "iter 263: loss 0.0009, time 194.92ms, mfu 43.99%\n",
            "iter 264: loss 0.1307, time 85.73ms, mfu 50.07%\n",
            "iter 265: loss 0.0041, time 202.35ms, mfu 49.50%\n",
            "iter 266: loss 0.2485, time 201.71ms, mfu 49.01%\n",
            "iter 267: loss 0.2597, time 201.77ms, mfu 48.56%\n",
            "iter 268: loss 0.1215, time 203.02ms, mfu 48.12%\n",
            "iter 269: loss 0.2057, time 204.47ms, mfu 47.70%\n",
            "Validation Confusion Matrix \n",
            " []\n"
          ]
        },
        {
          "output_type": "stream",
          "name": "stderr",
          "text": [
            "/usr/local/lib/python3.10/dist-packages/sklearn/metrics/_classification.py:1344: UndefinedMetricWarning: Precision is ill-defined and being set to 0.0 in labels with no predicted samples. Use `zero_division` parameter to control this behavior.\n",
            "  _warn_prf(average, modifier, msg_start, len(result))\n"
          ]
        },
        {
          "output_type": "stream",
          "name": "stdout",
          "text": [
            "Validation Confusion Matrix \n",
            " [[332   1   0]\n",
            " [ 29 403   0]\n",
            " [  1  10   0]]\n",
            "step 270: train loss 0.5316, val loss 0.4028,val accuracy 0.9472, val precision 0.9355, , val recall 0.9472, , val f1 0.9404\n",
            "iter 270: loss 0.6633, time 13596.15ms, mfu 43.00%\n",
            "iter 271: loss 0.1757, time 202.02ms, mfu 43.15%\n",
            "iter 272: loss 0.0114, time 201.33ms, mfu 43.29%\n",
            "iter 273: loss 0.0683, time 85.53ms, mfu 49.46%\n",
            "iter 274: loss 0.1495, time 202.62ms, mfu 48.95%\n",
            "iter 275: loss 0.0590, time 202.55ms, mfu 48.49%\n",
            "iter 276: loss 0.0862, time 203.16ms, mfu 48.06%\n",
            "iter 277: loss 0.0449, time 201.42ms, mfu 47.71%\n",
            "iter 278: loss 0.1940, time 205.37ms, mfu 47.32%\n",
            "iter 279: loss 0.1262, time 206.52ms, mfu 46.93%\n",
            "Validation Confusion Matrix \n",
            " []\n"
          ]
        },
        {
          "output_type": "stream",
          "name": "stderr",
          "text": [
            "/usr/local/lib/python3.10/dist-packages/sklearn/metrics/_classification.py:1344: UndefinedMetricWarning: Precision is ill-defined and being set to 0.0 in labels with no predicted samples. Use `zero_division` parameter to control this behavior.\n",
            "  _warn_prf(average, modifier, msg_start, len(result))\n"
          ]
        },
        {
          "output_type": "stream",
          "name": "stdout",
          "text": [
            "Validation Confusion Matrix \n",
            " [[339   0   0]\n",
            " [ 16 409   0]\n",
            " [  3   9   0]]\n",
            "step 280: train loss 0.1457, val loss 0.1859,val accuracy 0.9639, val precision 0.9496, , val recall 0.9639, , val f1 0.9564\n"
          ]
        },
        {
          "output_type": "stream",
          "name": "stderr",
          "text": [
            "/usr/local/lib/python3.10/dist-packages/sklearn/metrics/_classification.py:1344: UndefinedMetricWarning: Precision is ill-defined and being set to 0.0 in labels with no predicted samples. Use `zero_division` parameter to control this behavior.\n",
            "  _warn_prf(average, modifier, msg_start, len(result))\n"
          ]
        },
        {
          "output_type": "stream",
          "name": "stdout",
          "text": [
            "Test Confusion Matrix \n",
            " [[ 9  1  0]\n",
            " [ 2  8  0]\n",
            " [ 0 10  0]]\n",
            "step 280: test loss 2.3507,test accuracy 0.5667, test precision 0.4131, , test recall 0.5667, , test f1 0.4696\n",
            "iter 280: loss 0.0179, time 13603.40ms, mfu 42.31%\n",
            "iter 281: loss 0.0147, time 203.72ms, mfu 42.49%\n",
            "iter 282: loss 0.0086, time 204.13ms, mfu 42.64%\n",
            "iter 283: loss 0.0025, time 203.15ms, mfu 42.79%\n",
            "iter 284: loss 0.0273, time 202.58ms, mfu 42.95%\n",
            "iter 285: loss 0.3794, time 201.63ms, mfu 43.11%\n",
            "iter 286: loss 0.0824, time 200.50ms, mfu 43.28%\n",
            "iter 287: loss 0.2480, time 201.91ms, mfu 43.40%\n",
            "iter 288: loss 0.0221, time 202.37ms, mfu 43.50%\n",
            "iter 289: loss 0.7002, time 203.79ms, mfu 43.55%\n",
            "Validation Confusion Matrix \n",
            " []\n"
          ]
        },
        {
          "output_type": "stream",
          "name": "stderr",
          "text": [
            "/usr/local/lib/python3.10/dist-packages/sklearn/metrics/_classification.py:1344: UndefinedMetricWarning: Precision is ill-defined and being set to 0.0 in labels with no predicted samples. Use `zero_division` parameter to control this behavior.\n",
            "  _warn_prf(average, modifier, msg_start, len(result))\n"
          ]
        },
        {
          "output_type": "stream",
          "name": "stdout",
          "text": [
            "Validation Confusion Matrix \n",
            " [[336   2   0]\n",
            " [  1 425   0]\n",
            " [  0  12   0]]\n",
            "step 290: train loss 0.1902, val loss 0.1327,val accuracy 0.9807, val precision 0.9657, , val recall 0.9807, , val f1 0.9731\n",
            "iter 290: loss 0.3084, time 13344.41ms, mfu 39.27%\n",
            "iter 291: loss 0.2266, time 196.95ms, mfu 39.90%\n",
            "iter 292: loss 0.0079, time 204.48ms, mfu 40.30%\n",
            "iter 293: loss 0.4142, time 201.77ms, mfu 40.72%\n",
            "iter 294: loss 0.0111, time 202.49ms, mfu 41.09%\n",
            "iter 295: loss 0.3449, time 202.94ms, mfu 41.40%\n",
            "iter 296: loss 0.0017, time 193.27ms, mfu 41.91%\n",
            "iter 297: loss 0.2092, time 85.10ms, mfu 48.27%\n",
            "iter 298: loss 0.1390, time 201.08ms, mfu 47.91%\n",
            "iter 299: loss 0.2932, time 203.27ms, mfu 47.54%\n",
            "Validation Confusion Matrix \n",
            " []\n"
          ]
        },
        {
          "output_type": "stream",
          "name": "stderr",
          "text": [
            "/usr/local/lib/python3.10/dist-packages/sklearn/metrics/_classification.py:1344: UndefinedMetricWarning: Precision is ill-defined and being set to 0.0 in labels with no predicted samples. Use `zero_division` parameter to control this behavior.\n",
            "  _warn_prf(average, modifier, msg_start, len(result))\n"
          ]
        },
        {
          "output_type": "stream",
          "name": "stdout",
          "text": [
            "Validation Confusion Matrix \n",
            " [[327   3   0]\n",
            " [  5 431   0]\n",
            " [  1   9   0]]\n",
            "step 300: train loss 0.1102, val loss 0.0924,val accuracy 0.9768, val precision 0.9642, , val recall 0.9768, , val f1 0.9705\n"
          ]
        },
        {
          "output_type": "stream",
          "name": "stderr",
          "text": [
            "/usr/local/lib/python3.10/dist-packages/sklearn/metrics/_classification.py:1344: UndefinedMetricWarning: Precision is ill-defined and being set to 0.0 in labels with no predicted samples. Use `zero_division` parameter to control this behavior.\n",
            "  _warn_prf(average, modifier, msg_start, len(result))\n"
          ]
        },
        {
          "output_type": "stream",
          "name": "stdout",
          "text": [
            "Test Confusion Matrix \n",
            " [[ 9  1  0]\n",
            " [ 2  8  0]\n",
            " [ 0 10  0]]\n",
            "step 300: test loss 1.8478,test accuracy 0.5667, test precision 0.4131, , test recall 0.5667, , test f1 0.4696\n",
            "iter 300: loss 0.0189, time 13635.51ms, mfu 42.85%\n"
          ]
        },
        {
          "output_type": "display_data",
          "data": {
            "text/plain": [
              "VBox(children=(Label(value='0.002 MB of 0.002 MB uploaded\\r'), FloatProgress(value=1.0, max=1.0)))"
            ],
            "application/vnd.jupyter.widget-view+json": {
              "version_major": 2,
              "version_minor": 0,
              "model_id": "b29e2d2a0fb24536823b3292809e8a71"
            }
          },
          "metadata": {}
        },
        {
          "output_type": "display_data",
          "data": {
            "text/plain": [
              "<IPython.core.display.HTML object>"
            ],
            "text/html": [
              "<style>\n",
              "    table.wandb td:nth-child(1) { padding: 0 10px; text-align: left ; width: auto;} td:nth-child(2) {text-align: left ; width: 100%}\n",
              "    .wandb-row { display: flex; flex-direction: row; flex-wrap: wrap; justify-content: flex-start; width: 100% }\n",
              "    .wandb-col { display: flex; flex-direction: column; flex-basis: 100%; flex: 1; padding: 10px; }\n",
              "    </style>\n",
              "<div class=\"wandb-row\"><div class=\"wandb-col\"><h3>Run history:</h3><br/><table class=\"wandb\"><tr><td>iter</td><td>▁▁▁▁▁▂▂▂▂▂▃▃▃▃▃▄▄▄▄▄▅▅▅▅▅▅▆▆▆▆▆▇▇▇▇▇████</td></tr><tr><td>lr</td><td>▁▁▁▁▁▁▁▁▁▁▁▁▁▁▁▁▁▁▁▁▁▁▁▁▁▁▁▁▁▁▁▁▁▁▁▁▁▁▁▁</td></tr><tr><td>mfu</td><td>▁▁██████████████████████████████████████</td></tr><tr><td>test/acc</td><td>▁▁▄▆▄▄▇████▆██▇▇</td></tr><tr><td>test/f1</td><td>▁▁▅▇▅▄▇████▇██▇▇</td></tr><tr><td>test/precision</td><td>▁▁▅▇▅▄▇████▇██▇▇</td></tr><tr><td>test/recall</td><td>▁▁▄▆▄▄▇████▆██▇▇</td></tr><tr><td>train/loss</td><td>█▄▂▂▂▂▂▁▂▁▃▂▁▁▁▁▁▂▁▁▁▂▁▁▂▁▁▂▁▁▁</td></tr><tr><td>val/acc</td><td>▁▄▅▆▆▇▇█▆▇▆▇█████▇███▇█████████</td></tr><tr><td>val/f1</td><td>▁▃▄▅▆▇▇█▆▇▆▇█████▇███▇█████████</td></tr><tr><td>val/loss</td><td>█▄▂▂▂▂▂▁▂▁▃▂▁▁▁▁▁▂▁▁▁▂▁▁▂▁▁▂▁▁▁</td></tr><tr><td>val/precision</td><td>▁▂▆▆▇▇▇█▇▇▇▇█████▇███▇█████████</td></tr><tr><td>val/recall</td><td>▁▄▅▆▆▇▇█▆▇▆▇█████▇███▇█████████</td></tr></table><br/></div><div class=\"wandb-col\"><h3>Run summary:</h3><br/><table class=\"wandb\"><tr><td>iter</td><td>300</td></tr><tr><td>lr</td><td>0.0005</td></tr><tr><td>mfu</td><td>47.54001</td></tr><tr><td>test/acc</td><td>0.56667</td></tr><tr><td>test/f1</td><td>0.46962</td></tr><tr><td>test/precision</td><td>0.41308</td></tr><tr><td>test/recall</td><td>0.56667</td></tr><tr><td>train/loss</td><td>0.11015</td></tr><tr><td>val/acc</td><td>0.9768</td></tr><tr><td>val/f1</td><td>0.97047</td></tr><tr><td>val/loss</td><td>0.09242</td></tr><tr><td>val/precision</td><td>0.96423</td></tr><tr><td>val/recall</td><td>0.9768</td></tr></table><br/></div></div>"
            ]
          },
          "metadata": {}
        },
        {
          "output_type": "display_data",
          "data": {
            "text/plain": [
              "<IPython.core.display.HTML object>"
            ],
            "text/html": [
              " View run <strong style=\"color:#cdcd00\">proud-sweep-5</strong> at: <a href='https://wandb.ai/di725/DI725-Assignment1/runs/7nx39tj8' target=\"_blank\">https://wandb.ai/di725/DI725-Assignment1/runs/7nx39tj8</a><br/> View project at: <a href='https://wandb.ai/di725/DI725-Assignment1' target=\"_blank\">https://wandb.ai/di725/DI725-Assignment1</a><br/>Synced 5 W&B file(s), 0 media file(s), 0 artifact file(s) and 0 other file(s)"
            ]
          },
          "metadata": {}
        },
        {
          "output_type": "display_data",
          "data": {
            "text/plain": [
              "<IPython.core.display.HTML object>"
            ],
            "text/html": [
              "Find logs at: <code>./wandb/run-20240415_112152-7nx39tj8/logs</code>"
            ]
          },
          "metadata": {}
        },
        {
          "output_type": "stream",
          "name": "stderr",
          "text": [
            "\u001b[34m\u001b[1mwandb\u001b[0m: Agent Starting Run: uqvbd1lo with config:\n",
            "\u001b[34m\u001b[1mwandb\u001b[0m: \tdropout: 0.2\n",
            "\u001b[34m\u001b[1mwandb\u001b[0m: \tlearning_rate: 1e-05\n"
          ]
        },
        {
          "output_type": "display_data",
          "data": {
            "text/plain": [
              "<IPython.core.display.HTML object>"
            ],
            "text/html": [
              "Tracking run with wandb version 0.16.6"
            ]
          },
          "metadata": {}
        },
        {
          "output_type": "display_data",
          "data": {
            "text/plain": [
              "<IPython.core.display.HTML object>"
            ],
            "text/html": [
              "Run data is saved locally in <code>/content/wandb/run-20240415_113005-uqvbd1lo</code>"
            ]
          },
          "metadata": {}
        },
        {
          "output_type": "display_data",
          "data": {
            "text/plain": [
              "<IPython.core.display.HTML object>"
            ],
            "text/html": [
              "Syncing run <strong><a href='https://wandb.ai/di725/DI725-Assignment1/runs/uqvbd1lo' target=\"_blank\">serene-sweep-6</a></strong> to <a href='https://wandb.ai/di725/DI725-Assignment1' target=\"_blank\">Weights & Biases</a> (<a href='https://wandb.me/run' target=\"_blank\">docs</a>)<br/>Sweep page: <a href='https://wandb.ai/di725/DI725-Assignment1/sweeps/sebpco96' target=\"_blank\">https://wandb.ai/di725/DI725-Assignment1/sweeps/sebpco96</a>"
            ]
          },
          "metadata": {}
        },
        {
          "output_type": "display_data",
          "data": {
            "text/plain": [
              "<IPython.core.display.HTML object>"
            ],
            "text/html": [
              " View project at <a href='https://wandb.ai/di725/DI725-Assignment1' target=\"_blank\">https://wandb.ai/di725/DI725-Assignment1</a>"
            ]
          },
          "metadata": {}
        },
        {
          "output_type": "display_data",
          "data": {
            "text/plain": [
              "<IPython.core.display.HTML object>"
            ],
            "text/html": [
              " View sweep at <a href='https://wandb.ai/di725/DI725-Assignment1/sweeps/sebpco96' target=\"_blank\">https://wandb.ai/di725/DI725-Assignment1/sweeps/sebpco96</a>"
            ]
          },
          "metadata": {}
        },
        {
          "output_type": "display_data",
          "data": {
            "text/plain": [
              "<IPython.core.display.HTML object>"
            ],
            "text/html": [
              " View run at <a href='https://wandb.ai/di725/DI725-Assignment1/runs/uqvbd1lo' target=\"_blank\">https://wandb.ai/di725/DI725-Assignment1/runs/uqvbd1lo</a>"
            ]
          },
          "metadata": {}
        },
        {
          "output_type": "stream",
          "name": "stdout",
          "text": [
            "tokens per iteration will be: 32,768\n",
            "Initializing from OpenAI GPT-2 weights: gpt2\n",
            "loading weights from pretrained gpt: gpt2\n",
            "forcing vocab_size=50257, block_size=1024, bias=True\n",
            "overriding dropout rate to 0.2\n",
            "number of parameters: 123.66M\n",
            "num decayed parameter tensors: 51, with 124,320,768 parameters\n",
            "num non-decayed parameter tensors: 99, with 121,347 parameters\n",
            "using fused AdamW: True\n",
            "Validation Confusion Matrix \n",
            " []\n"
          ]
        },
        {
          "output_type": "stream",
          "name": "stderr",
          "text": [
            "/usr/local/lib/python3.10/dist-packages/sklearn/metrics/_classification.py:1344: UndefinedMetricWarning: Precision is ill-defined and being set to 0.0 in labels with no predicted samples. Use `zero_division` parameter to control this behavior.\n",
            "  _warn_prf(average, modifier, msg_start, len(result))\n"
          ]
        },
        {
          "output_type": "stream",
          "name": "stdout",
          "text": [
            "Validation Confusion Matrix \n",
            " [[  0   0 329]\n",
            " [  0   0 433]\n",
            " [  0   0  14]]\n",
            "step 0: train loss 4.1345, val loss 4.2081,val accuracy 0.0180, val precision 0.0003, , val recall 0.0180, , val f1 0.0006\n"
          ]
        },
        {
          "output_type": "stream",
          "name": "stderr",
          "text": [
            "/usr/local/lib/python3.10/dist-packages/sklearn/metrics/_classification.py:1344: UndefinedMetricWarning: Precision is ill-defined and being set to 0.0 in labels with no predicted samples. Use `zero_division` parameter to control this behavior.\n",
            "  _warn_prf(average, modifier, msg_start, len(result))\n"
          ]
        },
        {
          "output_type": "stream",
          "name": "stdout",
          "text": [
            "Test Confusion Matrix \n",
            " [[ 0  0 10]\n",
            " [ 0  0 10]\n",
            " [ 0  0 10]]\n",
            "step 0: test loss 2.7203,test accuracy 0.3333, test precision 0.1111, , test recall 0.3333, , test f1 0.1667\n",
            "iter 0: loss 3.1014, time 8765.73ms, mfu -100.00%\n",
            "iter 1: loss 3.0600, time 194.51ms, mfu -100.00%\n",
            "iter 2: loss 3.2173, time 200.90ms, mfu -100.00%\n",
            "iter 3: loss 2.8411, time 199.02ms, mfu -100.00%\n",
            "iter 4: loss 2.8670, time 200.16ms, mfu -100.00%\n",
            "iter 5: loss 2.8137, time 200.55ms, mfu 44.78%\n",
            "iter 6: loss 3.3146, time 200.12ms, mfu 44.79%\n",
            "iter 7: loss 3.0852, time 202.24ms, mfu 44.76%\n",
            "iter 8: loss 3.1375, time 202.74ms, mfu 44.71%\n",
            "iter 9: loss 2.2941, time 203.09ms, mfu 44.66%\n",
            "Validation Confusion Matrix \n",
            " []\n"
          ]
        },
        {
          "output_type": "stream",
          "name": "stderr",
          "text": [
            "/usr/local/lib/python3.10/dist-packages/sklearn/metrics/_classification.py:1344: UndefinedMetricWarning: Precision is ill-defined and being set to 0.0 in labels with no predicted samples. Use `zero_division` parameter to control this behavior.\n",
            "  _warn_prf(average, modifier, msg_start, len(result))\n"
          ]
        },
        {
          "output_type": "stream",
          "name": "stdout",
          "text": [
            "Validation Confusion Matrix \n",
            " [[  0   0 339]\n",
            " [  0   0 426]\n",
            " [  0   0  11]]\n",
            "step 10: train loss 2.2639, val loss 2.2591,val accuracy 0.0142, val precision 0.0002, , val recall 0.0142, , val f1 0.0004\n",
            "iter 10: loss 1.6824, time 13624.18ms, mfu 40.26%\n",
            "iter 11: loss 1.4268, time 205.55ms, mfu 40.61%\n",
            "iter 12: loss 1.1783, time 205.31ms, mfu 40.92%\n",
            "iter 13: loss 1.0302, time 205.39ms, mfu 41.20%\n",
            "iter 14: loss 0.8591, time 207.73ms, mfu 41.40%\n",
            "iter 15: loss 0.8522, time 207.63ms, mfu 41.59%\n",
            "iter 16: loss 0.8723, time 202.01ms, mfu 41.88%\n",
            "iter 17: loss 0.7461, time 84.42ms, mfu 48.33%\n",
            "iter 18: loss 0.7540, time 203.88ms, mfu 47.90%\n",
            "iter 19: loss 0.8408, time 205.97ms, mfu 47.47%\n",
            "Validation Confusion Matrix \n",
            " []\n"
          ]
        },
        {
          "output_type": "stream",
          "name": "stderr",
          "text": [
            "/usr/local/lib/python3.10/dist-packages/sklearn/metrics/_classification.py:1344: UndefinedMetricWarning: Precision is ill-defined and being set to 0.0 in labels with no predicted samples. Use `zero_division` parameter to control this behavior.\n",
            "  _warn_prf(average, modifier, msg_start, len(result))\n"
          ]
        },
        {
          "output_type": "stream",
          "name": "stdout",
          "text": [
            "Validation Confusion Matrix \n",
            " [[ 47 257   0]\n",
            " [ 13 446   0]\n",
            " [  0  13   0]]\n",
            "step 20: train loss 0.7257, val loss 0.6913,val accuracy 0.6353, val precision 0.6753, , val recall 0.6353, , val f1 0.5502\n"
          ]
        },
        {
          "output_type": "stream",
          "name": "stderr",
          "text": [
            "/usr/local/lib/python3.10/dist-packages/sklearn/metrics/_classification.py:1344: UndefinedMetricWarning: Precision is ill-defined and being set to 0.0 in labels with no predicted samples. Use `zero_division` parameter to control this behavior.\n",
            "  _warn_prf(average, modifier, msg_start, len(result))\n"
          ]
        },
        {
          "output_type": "stream",
          "name": "stdout",
          "text": [
            "Test Confusion Matrix \n",
            " [[ 2  8  0]\n",
            " [ 1  9  0]\n",
            " [ 0 10  0]]\n",
            "step 20: test loss 1.7301,test accuracy 0.3667, test precision 0.3333, , test recall 0.3667, , test f1 0.2647\n",
            "iter 20: loss 0.7252, time 13671.54ms, mfu 42.79%\n",
            "iter 21: loss 0.8696, time 207.79ms, mfu 42.83%\n",
            "iter 22: loss 0.6958, time 203.14ms, mfu 42.97%\n",
            "iter 23: loss 0.8020, time 203.80ms, mfu 43.08%\n",
            "iter 24: loss 0.7839, time 207.50ms, mfu 43.10%\n",
            "iter 25: loss 0.6215, time 89.19ms, mfu 48.86%\n",
            "iter 26: loss 0.6252, time 200.13ms, mfu 48.46%\n",
            "iter 27: loss 0.7374, time 207.88ms, mfu 47.94%\n",
            "iter 28: loss 0.8464, time 204.25ms, mfu 47.54%\n",
            "iter 29: loss 0.6348, time 203.47ms, mfu 47.20%\n",
            "Validation Confusion Matrix \n",
            " []\n"
          ]
        },
        {
          "output_type": "stream",
          "name": "stderr",
          "text": [
            "/usr/local/lib/python3.10/dist-packages/sklearn/metrics/_classification.py:1344: UndefinedMetricWarning: Precision is ill-defined and being set to 0.0 in labels with no predicted samples. Use `zero_division` parameter to control this behavior.\n",
            "  _warn_prf(average, modifier, msg_start, len(result))\n"
          ]
        },
        {
          "output_type": "stream",
          "name": "stdout",
          "text": [
            "Validation Confusion Matrix \n",
            " [[ 46 289   0]\n",
            " [ 13 415   0]\n",
            " [  0  13   0]]\n",
            "step 30: train loss 0.7704, val loss 0.7604,val accuracy 0.5941, val precision 0.6558, , val recall 0.5941, , val f1 0.5006\n",
            "iter 30: loss 0.7645, time 13691.34ms, mfu 42.55%\n",
            "iter 31: loss 0.6624, time 205.89ms, mfu 42.65%\n",
            "iter 32: loss 0.8503, time 207.67ms, mfu 42.71%\n",
            "iter 33: loss 0.7056, time 196.42ms, mfu 43.02%\n",
            "iter 34: loss 0.8907, time 87.22ms, mfu 49.01%\n",
            "iter 35: loss 0.5812, time 203.56ms, mfu 48.52%\n",
            "iter 36: loss 0.5878, time 205.58ms, mfu 48.04%\n",
            "iter 37: loss 0.8105, time 204.72ms, mfu 47.62%\n",
            "iter 38: loss 0.5795, time 209.24ms, mfu 47.15%\n",
            "iter 39: loss 0.7725, time 202.92ms, mfu 46.86%\n",
            "Validation Confusion Matrix \n",
            " []\n"
          ]
        },
        {
          "output_type": "stream",
          "name": "stderr",
          "text": [
            "/usr/local/lib/python3.10/dist-packages/sklearn/metrics/_classification.py:1344: UndefinedMetricWarning: Precision is ill-defined and being set to 0.0 in labels with no predicted samples. Use `zero_division` parameter to control this behavior.\n",
            "  _warn_prf(average, modifier, msg_start, len(result))\n"
          ]
        },
        {
          "output_type": "stream",
          "name": "stdout",
          "text": [
            "Validation Confusion Matrix \n",
            " [[192 130   0]\n",
            " [115 330   0]\n",
            " [  1   8   0]]\n",
            "step 40: train loss 0.6830, val loss 0.6598,val accuracy 0.6727, val precision 0.6630, , val recall 0.6727, , val f1 0.6675\n"
          ]
        },
        {
          "output_type": "stream",
          "name": "stderr",
          "text": [
            "/usr/local/lib/python3.10/dist-packages/sklearn/metrics/_classification.py:1344: UndefinedMetricWarning: Precision is ill-defined and being set to 0.0 in labels with no predicted samples. Use `zero_division` parameter to control this behavior.\n",
            "  _warn_prf(average, modifier, msg_start, len(result))\n"
          ]
        },
        {
          "output_type": "stream",
          "name": "stdout",
          "text": [
            "Test Confusion Matrix \n",
            " [[8 2 0]\n",
            " [3 7 0]\n",
            " [2 8 0]]\n",
            "step 40: test loss 1.9898,test accuracy 0.5000, test precision 0.3424, , test recall 0.5000, , test f1 0.4047\n",
            "iter 40: loss 0.5726, time 13964.01ms, mfu 42.24%\n",
            "iter 41: loss 0.7339, time 196.72ms, mfu 42.58%\n",
            "iter 42: loss 0.9112, time 84.21ms, mfu 48.99%\n",
            "iter 43: loss 0.8598, time 205.61ms, mfu 48.46%\n",
            "iter 44: loss 0.6377, time 203.95ms, mfu 48.02%\n",
            "iter 45: loss 0.8815, time 206.70ms, mfu 47.56%\n",
            "iter 46: loss 0.5859, time 207.64ms, mfu 47.13%\n",
            "iter 47: loss 0.7455, time 205.06ms, mfu 46.80%\n",
            "iter 48: loss 0.6051, time 204.76ms, mfu 46.50%\n",
            "iter 49: loss 0.5896, time 205.66ms, mfu 46.22%\n",
            "Validation Confusion Matrix \n",
            " []\n"
          ]
        },
        {
          "output_type": "stream",
          "name": "stderr",
          "text": [
            "/usr/local/lib/python3.10/dist-packages/sklearn/metrics/_classification.py:1344: UndefinedMetricWarning: Precision is ill-defined and being set to 0.0 in labels with no predicted samples. Use `zero_division` parameter to control this behavior.\n",
            "  _warn_prf(average, modifier, msg_start, len(result))\n"
          ]
        },
        {
          "output_type": "stream",
          "name": "stdout",
          "text": [
            "Validation Confusion Matrix \n",
            " [[133 207   0]\n",
            " [ 44 385   0]\n",
            " [  0   7   0]]\n",
            "step 50: train loss 0.6891, val loss 0.6473,val accuracy 0.6675, val precision 0.6846, , val recall 0.6675, , val f1 0.6395\n",
            "iter 50: loss 0.5564, time 13410.89ms, mfu 41.67%\n",
            "iter 51: loss 0.6845, time 205.71ms, mfu 41.86%\n",
            "iter 52: loss 0.6076, time 204.11ms, mfu 42.08%\n",
            "iter 53: loss 0.6546, time 207.37ms, mfu 42.20%\n",
            "iter 54: loss 0.7679, time 204.47ms, mfu 42.37%\n",
            "iter 55: loss 0.5447, time 203.59ms, mfu 42.55%\n",
            "iter 56: loss 0.6675, time 204.57ms, mfu 42.68%\n",
            "iter 57: loss 0.5895, time 208.87ms, mfu 42.72%\n",
            "iter 58: loss 0.7150, time 205.93ms, mfu 42.81%\n",
            "iter 59: loss 0.8763, time 203.27ms, mfu 42.94%\n",
            "Validation Confusion Matrix \n",
            " []\n"
          ]
        },
        {
          "output_type": "stream",
          "name": "stderr",
          "text": [
            "/usr/local/lib/python3.10/dist-packages/sklearn/metrics/_classification.py:1344: UndefinedMetricWarning: Precision is ill-defined and being set to 0.0 in labels with no predicted samples. Use `zero_division` parameter to control this behavior.\n",
            "  _warn_prf(average, modifier, msg_start, len(result))\n"
          ]
        },
        {
          "output_type": "stream",
          "name": "stdout",
          "text": [
            "Validation Confusion Matrix \n",
            " [[ 58 274   0]\n",
            " [ 13 419   0]\n",
            " [  0  12   0]]\n",
            "step 60: train loss 0.7770, val loss 0.7452,val accuracy 0.6147, val precision 0.6804, , val recall 0.6147, , val f1 0.5335\n"
          ]
        },
        {
          "output_type": "stream",
          "name": "stderr",
          "text": [
            "/usr/local/lib/python3.10/dist-packages/sklearn/metrics/_classification.py:1344: UndefinedMetricWarning: Precision is ill-defined and being set to 0.0 in labels with no predicted samples. Use `zero_division` parameter to control this behavior.\n",
            "  _warn_prf(average, modifier, msg_start, len(result))\n"
          ]
        },
        {
          "output_type": "stream",
          "name": "stdout",
          "text": [
            "Test Confusion Matrix \n",
            " [[ 3  7  0]\n",
            " [ 1  9  0]\n",
            " [ 0 10  0]]\n",
            "step 60: test loss 2.0729,test accuracy 0.4000, test precision 0.3654, , test recall 0.4000, , test f1 0.3095\n",
            "iter 60: loss 0.6824, time 13655.93ms, mfu 38.71%\n",
            "iter 61: loss 0.7070, time 205.57ms, mfu 39.21%\n",
            "iter 62: loss 0.9279, time 204.14ms, mfu 39.69%\n",
            "iter 63: loss 0.6301, time 205.03ms, mfu 40.10%\n",
            "iter 64: loss 0.7420, time 204.14ms, mfu 40.49%\n",
            "iter 65: loss 0.6573, time 198.29ms, mfu 40.97%\n",
            "iter 66: loss 0.6748, time 85.78ms, mfu 47.35%\n",
            "iter 67: loss 0.6142, time 203.34ms, mfu 47.03%\n",
            "iter 68: loss 0.7197, time 210.54ms, mfu 46.59%\n",
            "iter 69: loss 0.7921, time 204.24ms, mfu 46.33%\n",
            "Validation Confusion Matrix \n",
            " []\n"
          ]
        },
        {
          "output_type": "stream",
          "name": "stderr",
          "text": [
            "/usr/local/lib/python3.10/dist-packages/sklearn/metrics/_classification.py:1344: UndefinedMetricWarning: Precision is ill-defined and being set to 0.0 in labels with no predicted samples. Use `zero_division` parameter to control this behavior.\n",
            "  _warn_prf(average, modifier, msg_start, len(result))\n"
          ]
        },
        {
          "output_type": "stream",
          "name": "stdout",
          "text": [
            "Validation Confusion Matrix \n",
            " [[160 169   0]\n",
            " [ 64 373   0]\n",
            " [  0  10   0]]\n",
            "step 70: train loss 0.6831, val loss 0.6542,val accuracy 0.6869, val precision 0.6834, , val recall 0.6869, , val f1 0.6701\n",
            "iter 70: loss 0.5796, time 13409.39ms, mfu 41.76%\n",
            "iter 71: loss 0.9103, time 205.38ms, mfu 41.96%\n",
            "iter 72: loss 0.6353, time 206.88ms, mfu 42.11%\n",
            "iter 73: loss 0.6926, time 203.48ms, mfu 42.31%\n",
            "iter 74: loss 0.6522, time 200.16ms, mfu 42.57%\n",
            "iter 75: loss 0.5557, time 88.04ms, mfu 48.51%\n",
            "iter 76: loss 0.7753, time 204.27ms, mfu 48.06%\n",
            "iter 77: loss 0.6818, time 209.76ms, mfu 47.53%\n",
            "iter 78: loss 0.6117, time 200.78ms, mfu 47.25%\n",
            "iter 79: loss 0.6658, time 218.57ms, mfu 46.64%\n",
            "Validation Confusion Matrix \n",
            " []\n"
          ]
        },
        {
          "output_type": "stream",
          "name": "stderr",
          "text": [
            "/usr/local/lib/python3.10/dist-packages/sklearn/metrics/_classification.py:1344: UndefinedMetricWarning: Precision is ill-defined and being set to 0.0 in labels with no predicted samples. Use `zero_division` parameter to control this behavior.\n",
            "  _warn_prf(average, modifier, msg_start, len(result))\n"
          ]
        },
        {
          "output_type": "stream",
          "name": "stdout",
          "text": [
            "Validation Confusion Matrix \n",
            " [[ 89 239   0]\n",
            " [ 17 420   0]\n",
            " [  0  11   0]]\n",
            "step 80: train loss 0.7221, val loss 0.7020,val accuracy 0.6559, val precision 0.7079, , val recall 0.6559, , val f1 0.6007\n"
          ]
        },
        {
          "output_type": "stream",
          "name": "stderr",
          "text": [
            "/usr/local/lib/python3.10/dist-packages/sklearn/metrics/_classification.py:1344: UndefinedMetricWarning: Precision is ill-defined and being set to 0.0 in labels with no predicted samples. Use `zero_division` parameter to control this behavior.\n",
            "  _warn_prf(average, modifier, msg_start, len(result))\n"
          ]
        },
        {
          "output_type": "stream",
          "name": "stdout",
          "text": [
            "Test Confusion Matrix \n",
            " [[ 3  7  0]\n",
            " [ 2  8  0]\n",
            " [ 0 10  0]]\n",
            "step 80: test loss 1.5830,test accuracy 0.3667, test precision 0.3067, , test recall 0.3667, , test f1 0.2857\n",
            "iter 80: loss 0.7528, time 13896.31ms, mfu 42.04%\n",
            "iter 81: loss 0.7146, time 209.26ms, mfu 42.13%\n",
            "iter 82: loss 0.5378, time 202.55ms, mfu 42.35%\n",
            "iter 83: loss 0.5661, time 86.19ms, mfu 48.53%\n",
            "iter 84: loss 0.5178, time 206.42ms, mfu 48.03%\n",
            "iter 85: loss 0.7721, time 200.11ms, mfu 47.72%\n",
            "iter 86: loss 0.7998, time 205.63ms, mfu 47.31%\n",
            "iter 87: loss 0.6521, time 209.37ms, mfu 46.87%\n",
            "iter 88: loss 0.7173, time 201.13ms, mfu 46.65%\n",
            "iter 89: loss 0.6992, time 210.92ms, mfu 46.24%\n",
            "Validation Confusion Matrix \n",
            " []\n"
          ]
        },
        {
          "output_type": "stream",
          "name": "stderr",
          "text": [
            "/usr/local/lib/python3.10/dist-packages/sklearn/metrics/_classification.py:1344: UndefinedMetricWarning: Precision is ill-defined and being set to 0.0 in labels with no predicted samples. Use `zero_division` parameter to control this behavior.\n",
            "  _warn_prf(average, modifier, msg_start, len(result))\n"
          ]
        },
        {
          "output_type": "stream",
          "name": "stdout",
          "text": [
            "Validation Confusion Matrix \n",
            " [[186 143   0]\n",
            " [ 74 361   0]\n",
            " [  0  12   0]]\n",
            "step 90: train loss 0.6768, val loss 0.6568,val accuracy 0.7049, val precision 0.6955, , val recall 0.7049, , val f1 0.6934\n",
            "iter 90: loss 0.6611, time 13665.27ms, mfu 41.68%\n",
            "iter 91: loss 0.5020, time 193.56ms, mfu 42.16%\n",
            "iter 92: loss 0.5995, time 85.23ms, mfu 48.48%\n",
            "iter 93: loss 0.5640, time 204.34ms, mfu 48.03%\n",
            "iter 94: loss 0.6246, time 206.97ms, mfu 47.56%\n",
            "iter 95: loss 0.5586, time 206.69ms, mfu 47.15%\n",
            "iter 96: loss 0.6138, time 211.10ms, mfu 46.69%\n",
            "iter 97: loss 0.5825, time 202.91ms, mfu 46.45%\n",
            "iter 98: loss 0.5835, time 206.82ms, mfu 46.15%\n",
            "iter 99: loss 0.6158, time 203.88ms, mfu 45.94%\n",
            "Validation Confusion Matrix \n",
            " []\n"
          ]
        },
        {
          "output_type": "stream",
          "name": "stderr",
          "text": [
            "/usr/local/lib/python3.10/dist-packages/sklearn/metrics/_classification.py:1344: UndefinedMetricWarning: Precision is ill-defined and being set to 0.0 in labels with no predicted samples. Use `zero_division` parameter to control this behavior.\n",
            "  _warn_prf(average, modifier, msg_start, len(result))\n"
          ]
        },
        {
          "output_type": "stream",
          "name": "stdout",
          "text": [
            "Validation Confusion Matrix \n",
            " [[143 203   0]\n",
            " [ 26 390   0]\n",
            " [  0  14   0]]\n",
            "step 100: train loss 0.6315, val loss 0.6392,val accuracy 0.6869, val precision 0.7217, , val recall 0.6869, , val f1 0.6564\n"
          ]
        },
        {
          "output_type": "stream",
          "name": "stderr",
          "text": [
            "/usr/local/lib/python3.10/dist-packages/sklearn/metrics/_classification.py:1344: UndefinedMetricWarning: Precision is ill-defined and being set to 0.0 in labels with no predicted samples. Use `zero_division` parameter to control this behavior.\n",
            "  _warn_prf(average, modifier, msg_start, len(result))\n"
          ]
        },
        {
          "output_type": "stream",
          "name": "stdout",
          "text": [
            "Test Confusion Matrix \n",
            " [[ 5  5  0]\n",
            " [ 2  8  0]\n",
            " [ 0 10  0]]\n",
            "step 100: test loss 1.5562,test accuracy 0.4333, test precision 0.3540, , test recall 0.4333, , test f1 0.3577\n",
            "iter 100: loss 0.5067, time 13665.59ms, mfu 41.41%\n",
            "iter 101: loss 0.5954, time 203.77ms, mfu 41.68%\n",
            "iter 102: loss 0.5996, time 209.84ms, mfu 41.79%\n",
            "iter 103: loss 0.8772, time 204.77ms, mfu 42.00%\n",
            "iter 104: loss 0.5715, time 204.05ms, mfu 42.20%\n",
            "iter 105: loss 0.6734, time 203.27ms, mfu 42.40%\n",
            "iter 106: loss 0.3007, time 198.12ms, mfu 42.69%\n",
            "iter 107: loss 0.5520, time 90.64ms, mfu 48.33%\n",
            "iter 108: loss 0.5260, time 206.79ms, mfu 47.84%\n",
            "iter 109: loss 0.5544, time 199.85ms, mfu 47.55%\n",
            "Validation Confusion Matrix \n",
            " []\n"
          ]
        },
        {
          "output_type": "stream",
          "name": "stderr",
          "text": [
            "/usr/local/lib/python3.10/dist-packages/sklearn/metrics/_classification.py:1344: UndefinedMetricWarning: Precision is ill-defined and being set to 0.0 in labels with no predicted samples. Use `zero_division` parameter to control this behavior.\n",
            "  _warn_prf(average, modifier, msg_start, len(result))\n"
          ]
        },
        {
          "output_type": "stream",
          "name": "stdout",
          "text": [
            "Validation Confusion Matrix \n",
            " [[299  36   0]\n",
            " [151 279   0]\n",
            " [  2   9   0]]\n",
            "step 110: train loss 0.6392, val loss 0.6057,val accuracy 0.7448, val precision 0.7627, , val recall 0.7448, , val f1 0.7381\n",
            "iter 110: loss 0.4078, time 13399.86ms, mfu 42.86%\n",
            "iter 111: loss 0.5412, time 205.95ms, mfu 42.94%\n",
            "iter 112: loss 0.8362, time 208.58ms, mfu 42.95%\n",
            "iter 113: loss 0.5205, time 202.69ms, mfu 43.09%\n",
            "iter 114: loss 0.6587, time 206.96ms, mfu 43.12%\n",
            "iter 115: loss 0.1885, time 200.57ms, mfu 43.28%\n",
            "iter 116: loss 0.5302, time 87.22ms, mfu 49.25%\n",
            "iter 117: loss 0.6044, time 205.98ms, mfu 48.69%\n",
            "iter 118: loss 0.5116, time 209.53ms, mfu 48.11%\n",
            "iter 119: loss 0.4367, time 203.22ms, mfu 47.71%\n",
            "Validation Confusion Matrix \n",
            " []\n"
          ]
        },
        {
          "output_type": "stream",
          "name": "stderr",
          "text": [
            "/usr/local/lib/python3.10/dist-packages/sklearn/metrics/_classification.py:1344: UndefinedMetricWarning: Precision is ill-defined and being set to 0.0 in labels with no predicted samples. Use `zero_division` parameter to control this behavior.\n",
            "  _warn_prf(average, modifier, msg_start, len(result))\n"
          ]
        },
        {
          "output_type": "stream",
          "name": "stdout",
          "text": [
            "Validation Confusion Matrix \n",
            " [[313  20   0]\n",
            " [168 261   0]\n",
            " [  3  11   0]]\n",
            "step 120: train loss 0.6799, val loss 0.6447,val accuracy 0.7397, val precision 0.7717, , val recall 0.7397, , val f1 0.7291\n"
          ]
        },
        {
          "output_type": "stream",
          "name": "stderr",
          "text": [
            "/usr/local/lib/python3.10/dist-packages/sklearn/metrics/_classification.py:1344: UndefinedMetricWarning: Precision is ill-defined and being set to 0.0 in labels with no predicted samples. Use `zero_division` parameter to control this behavior.\n",
            "  _warn_prf(average, modifier, msg_start, len(result))\n"
          ]
        },
        {
          "output_type": "stream",
          "name": "stdout",
          "text": [
            "Test Confusion Matrix \n",
            " [[10  0  0]\n",
            " [ 4  6  0]\n",
            " [ 2  8  0]]\n",
            "step 120: test loss 1.3066,test accuracy 0.5333, test precision 0.3512, , test recall 0.5333, , test f1 0.4231\n",
            "iter 120: loss 0.3220, time 13976.67ms, mfu 43.01%\n",
            "iter 121: loss 0.4734, time 207.85ms, mfu 43.03%\n",
            "iter 122: loss 0.5420, time 200.77ms, mfu 43.20%\n",
            "iter 123: loss 0.1063, time 211.76ms, mfu 43.12%\n",
            "iter 124: loss 0.4204, time 85.05ms, mfu 49.37%\n",
            "iter 125: loss 0.4215, time 205.23ms, mfu 48.81%\n",
            "iter 126: loss 0.4601, time 205.77ms, mfu 48.29%\n",
            "iter 127: loss 0.4559, time 211.11ms, mfu 47.72%\n",
            "iter 128: loss 0.3264, time 206.88ms, mfu 47.29%\n",
            "iter 129: loss 0.5041, time 207.21ms, mfu 46.89%\n",
            "Validation Confusion Matrix \n",
            " []\n"
          ]
        },
        {
          "output_type": "stream",
          "name": "stderr",
          "text": [
            "/usr/local/lib/python3.10/dist-packages/sklearn/metrics/_classification.py:1344: UndefinedMetricWarning: Precision is ill-defined and being set to 0.0 in labels with no predicted samples. Use `zero_division` parameter to control this behavior.\n",
            "  _warn_prf(average, modifier, msg_start, len(result))\n"
          ]
        },
        {
          "output_type": "stream",
          "name": "stdout",
          "text": [
            "Validation Confusion Matrix \n",
            " [[255  67   0]\n",
            " [102 337   0]\n",
            " [  2  13   0]]\n",
            "step 130: train loss 0.6148, val loss 0.6120,val accuracy 0.7629, val precision 0.7519, , val recall 0.7629, , val f1 0.7562\n",
            "iter 130: loss 0.4411, time 13692.42ms, mfu 42.27%\n",
            "iter 131: loss 0.5266, time 205.50ms, mfu 42.41%\n",
            "iter 132: loss 0.0707, time 202.94ms, mfu 42.60%\n",
            "iter 133: loss 0.6260, time 86.24ms, mfu 48.75%\n",
            "iter 134: loss 0.6030, time 201.49ms, mfu 48.33%\n",
            "iter 135: loss 0.4098, time 205.97ms, mfu 47.86%\n",
            "iter 136: loss 0.4888, time 205.70ms, mfu 47.44%\n",
            "iter 137: loss 0.3330, time 205.70ms, mfu 47.06%\n",
            "iter 138: loss 0.2760, time 203.69ms, mfu 46.77%\n",
            "iter 139: loss 0.3931, time 204.66ms, mfu 46.48%\n",
            "Validation Confusion Matrix \n",
            " []\n"
          ]
        },
        {
          "output_type": "stream",
          "name": "stderr",
          "text": [
            "/usr/local/lib/python3.10/dist-packages/sklearn/metrics/_classification.py:1344: UndefinedMetricWarning: Precision is ill-defined and being set to 0.0 in labels with no predicted samples. Use `zero_division` parameter to control this behavior.\n",
            "  _warn_prf(average, modifier, msg_start, len(result))\n"
          ]
        },
        {
          "output_type": "stream",
          "name": "stdout",
          "text": [
            "Validation Confusion Matrix \n",
            " [[289  41   0]\n",
            " [115 321   0]\n",
            " [  1   9   0]]\n",
            "step 140: train loss 0.5823, val loss 0.5691,val accuracy 0.7861, val precision 0.7896, , val recall 0.7861, , val f1 0.7814\n"
          ]
        },
        {
          "output_type": "stream",
          "name": "stderr",
          "text": [
            "/usr/local/lib/python3.10/dist-packages/sklearn/metrics/_classification.py:1344: UndefinedMetricWarning: Precision is ill-defined and being set to 0.0 in labels with no predicted samples. Use `zero_division` parameter to control this behavior.\n",
            "  _warn_prf(average, modifier, msg_start, len(result))\n"
          ]
        },
        {
          "output_type": "stream",
          "name": "stdout",
          "text": [
            "Test Confusion Matrix \n",
            " [[ 9  1  0]\n",
            " [ 3  7  0]\n",
            " [ 0 10  0]]\n",
            "step 140: test loss 1.4104,test accuracy 0.5333, test precision 0.3796, , test recall 0.5333, , test f1 0.4394\n",
            "iter 140: loss 0.4534, time 13670.34ms, mfu 41.90%\n",
            "iter 141: loss 0.3513, time 204.37ms, mfu 42.10%\n",
            "iter 142: loss 0.8015, time 205.56ms, mfu 42.26%\n",
            "iter 143: loss 0.4308, time 204.67ms, mfu 42.42%\n",
            "iter 144: loss 0.4720, time 206.47ms, mfu 42.53%\n",
            "iter 145: loss 0.5081, time 206.31ms, mfu 42.63%\n",
            "iter 146: loss 0.6714, time 203.93ms, mfu 42.77%\n",
            "iter 147: loss 0.4041, time 205.45ms, mfu 42.87%\n",
            "iter 148: loss 0.3265, time 208.50ms, mfu 42.89%\n",
            "iter 149: loss 0.4681, time 211.06ms, mfu 42.85%\n",
            "Validation Confusion Matrix \n",
            " []\n"
          ]
        },
        {
          "output_type": "stream",
          "name": "stderr",
          "text": [
            "/usr/local/lib/python3.10/dist-packages/sklearn/metrics/_classification.py:1344: UndefinedMetricWarning: Precision is ill-defined and being set to 0.0 in labels with no predicted samples. Use `zero_division` parameter to control this behavior.\n",
            "  _warn_prf(average, modifier, msg_start, len(result))\n"
          ]
        },
        {
          "output_type": "stream",
          "name": "stdout",
          "text": [
            "Validation Confusion Matrix \n",
            " [[274  50   0]\n",
            " [ 89 346   0]\n",
            " [  1  16   0]]\n",
            "step 150: train loss 0.5438, val loss 0.5200,val accuracy 0.7990, val precision 0.7851, , val recall 0.7990, , val f1 0.7905\n",
            "iter 150: loss 0.3480, time 13372.24ms, mfu 38.64%\n",
            "iter 151: loss 0.5382, time 207.15ms, mfu 39.11%\n",
            "iter 152: loss 0.3994, time 203.78ms, mfu 39.61%\n",
            "iter 153: loss 0.7325, time 204.43ms, mfu 40.04%\n",
            "iter 154: loss 0.3137, time 206.62ms, mfu 40.38%\n",
            "iter 155: loss 0.5011, time 206.41ms, mfu 40.69%\n",
            "iter 156: loss 0.1157, time 210.13ms, mfu 40.90%\n",
            "iter 157: loss 0.3256, time 85.17ms, mfu 47.36%\n",
            "iter 158: loss 0.3993, time 205.39ms, mfu 46.99%\n",
            "iter 159: loss 0.3868, time 207.70ms, mfu 46.62%\n",
            "Validation Confusion Matrix \n",
            " []\n"
          ]
        },
        {
          "output_type": "stream",
          "name": "stderr",
          "text": [
            "/usr/local/lib/python3.10/dist-packages/sklearn/metrics/_classification.py:1344: UndefinedMetricWarning: Precision is ill-defined and being set to 0.0 in labels with no predicted samples. Use `zero_division` parameter to control this behavior.\n",
            "  _warn_prf(average, modifier, msg_start, len(result))\n"
          ]
        },
        {
          "output_type": "stream",
          "name": "stdout",
          "text": [
            "Validation Confusion Matrix \n",
            " [[302  20   0]\n",
            " [162 281   0]\n",
            " [  1  10   0]]\n",
            "step 160: train loss 0.5601, val loss 0.5786,val accuracy 0.7513, val precision 0.7853, , val recall 0.7513, , val f1 0.7440\n"
          ]
        },
        {
          "output_type": "stream",
          "name": "stderr",
          "text": [
            "/usr/local/lib/python3.10/dist-packages/sklearn/metrics/_classification.py:1344: UndefinedMetricWarning: Precision is ill-defined and being set to 0.0 in labels with no predicted samples. Use `zero_division` parameter to control this behavior.\n",
            "  _warn_prf(average, modifier, msg_start, len(result))\n"
          ]
        },
        {
          "output_type": "stream",
          "name": "stdout",
          "text": [
            "Test Confusion Matrix \n",
            " [[9 1 0]\n",
            " [4 6 0]\n",
            " [1 9 0]]\n",
            "step 160: test loss 1.3981,test accuracy 0.5000, test precision 0.3393, , test recall 0.5000, , test f1 0.4038\n",
            "iter 160: loss 0.2075, time 13676.07ms, mfu 42.02%\n",
            "iter 161: loss 0.7727, time 204.92ms, mfu 42.20%\n",
            "iter 162: loss 0.3266, time 205.84ms, mfu 42.35%\n",
            "iter 163: loss 0.4459, time 206.02ms, mfu 42.47%\n",
            "iter 164: loss 0.0616, time 197.68ms, mfu 42.77%\n",
            "iter 165: loss 0.2516, time 85.12ms, mfu 49.04%\n",
            "iter 166: loss 0.3528, time 209.97ms, mfu 48.42%\n",
            "iter 167: loss 0.5363, time 206.89ms, mfu 47.91%\n",
            "iter 168: loss 0.5242, time 198.71ms, mfu 47.64%\n",
            "iter 169: loss 0.3013, time 204.31ms, mfu 47.28%\n",
            "Validation Confusion Matrix \n",
            " []\n"
          ]
        },
        {
          "output_type": "stream",
          "name": "stderr",
          "text": [
            "/usr/local/lib/python3.10/dist-packages/sklearn/metrics/_classification.py:1344: UndefinedMetricWarning: Precision is ill-defined and being set to 0.0 in labels with no predicted samples. Use `zero_division` parameter to control this behavior.\n",
            "  _warn_prf(average, modifier, msg_start, len(result))\n"
          ]
        },
        {
          "output_type": "stream",
          "name": "stdout",
          "text": [
            "Validation Confusion Matrix \n",
            " [[319  12   0]\n",
            " [167 263   0]\n",
            " [  1  14   0]]\n",
            "step 170: train loss 0.6375, val loss 0.6313,val accuracy 0.7500, val precision 0.7837, , val recall 0.7500, , val f1 0.7381\n",
            "iter 170: loss 0.3638, time 13688.91ms, mfu 42.61%\n",
            "iter 171: loss 0.4174, time 204.66ms, mfu 42.74%\n",
            "iter 172: loss 0.4209, time 207.77ms, mfu 42.79%\n",
            "iter 173: loss 0.0451, time 197.53ms, mfu 43.06%\n",
            "iter 174: loss 0.2453, time 85.46ms, mfu 49.26%\n",
            "iter 175: loss 0.3843, time 208.92ms, mfu 48.63%\n",
            "iter 176: loss 0.4064, time 198.94ms, mfu 48.29%\n",
            "iter 177: loss 0.3710, time 205.02ms, mfu 47.84%\n",
            "iter 178: loss 0.3346, time 203.73ms, mfu 47.46%\n",
            "iter 179: loss 0.2140, time 206.41ms, mfu 47.07%\n",
            "Validation Confusion Matrix \n",
            " []\n"
          ]
        },
        {
          "output_type": "stream",
          "name": "stderr",
          "text": [
            "/usr/local/lib/python3.10/dist-packages/sklearn/metrics/_classification.py:1344: UndefinedMetricWarning: Precision is ill-defined and being set to 0.0 in labels with no predicted samples. Use `zero_division` parameter to control this behavior.\n",
            "  _warn_prf(average, modifier, msg_start, len(result))\n"
          ]
        },
        {
          "output_type": "stream",
          "name": "stdout",
          "text": [
            "Validation Confusion Matrix \n",
            " [[314  13   0]\n",
            " [207 227   0]\n",
            " [  3  12   0]]\n",
            "step 180: train loss 0.7216, val loss 0.7471,val accuracy 0.6972, val precision 0.7563, , val recall 0.6972, , val f1 0.6811\n"
          ]
        },
        {
          "output_type": "stream",
          "name": "stderr",
          "text": [
            "/usr/local/lib/python3.10/dist-packages/sklearn/metrics/_classification.py:1344: UndefinedMetricWarning: Precision is ill-defined and being set to 0.0 in labels with no predicted samples. Use `zero_division` parameter to control this behavior.\n",
            "  _warn_prf(average, modifier, msg_start, len(result))\n"
          ]
        },
        {
          "output_type": "stream",
          "name": "stdout",
          "text": [
            "Test Confusion Matrix \n",
            " [[10  0  0]\n",
            " [ 4  6  0]\n",
            " [ 1  9  0]]\n",
            "step 180: test loss 1.2682,test accuracy 0.5333, test precision 0.3556, , test recall 0.5333, , test f1 0.4267\n",
            "iter 180: loss 0.6703, time 13951.54ms, mfu 42.43%\n",
            "iter 181: loss 0.0901, time 202.02ms, mfu 42.63%\n",
            "iter 182: loss 0.7982, time 86.31ms, mfu 48.77%\n",
            "iter 183: loss 0.3625, time 203.16ms, mfu 48.32%\n",
            "iter 184: loss 0.4645, time 210.58ms, mfu 47.75%\n",
            "iter 185: loss 0.2982, time 203.27ms, mfu 47.39%\n",
            "iter 186: loss 0.2063, time 206.85ms, mfu 47.00%\n",
            "iter 187: loss 0.2550, time 203.98ms, mfu 46.70%\n",
            "iter 188: loss 0.3916, time 206.04ms, mfu 46.39%\n",
            "iter 189: loss 0.3149, time 205.36ms, mfu 46.12%\n",
            "Validation Confusion Matrix \n",
            " []\n"
          ]
        },
        {
          "output_type": "stream",
          "name": "stderr",
          "text": [
            "/usr/local/lib/python3.10/dist-packages/sklearn/metrics/_classification.py:1344: UndefinedMetricWarning: Precision is ill-defined and being set to 0.0 in labels with no predicted samples. Use `zero_division` parameter to control this behavior.\n",
            "  _warn_prf(average, modifier, msg_start, len(result))\n"
          ]
        },
        {
          "output_type": "stream",
          "name": "stdout",
          "text": [
            "Validation Confusion Matrix \n",
            " [[258  57   0]\n",
            " [ 75 374   0]\n",
            " [  2  10   0]]\n",
            "step 190: train loss 0.4659, val loss 0.4855,val accuracy 0.8144, val precision 0.8033, , val recall 0.8144, , val f1 0.8085\n",
            "iter 190: loss 0.2712, time 13420.13ms, mfu 41.58%\n",
            "iter 191: loss 0.6022, time 204.11ms, mfu 41.82%\n",
            "iter 192: loss 0.3560, time 205.25ms, mfu 42.01%\n",
            "iter 193: loss 0.2773, time 206.91ms, mfu 42.15%\n",
            "iter 194: loss 0.4785, time 204.26ms, mfu 42.34%\n",
            "iter 195: loss 0.2590, time 204.98ms, mfu 42.48%\n",
            "iter 196: loss 0.3977, time 204.18ms, mfu 42.63%\n",
            "iter 197: loss 0.5237, time 204.87ms, mfu 42.75%\n",
            "iter 198: loss 0.6588, time 209.01ms, mfu 42.78%\n",
            "iter 199: loss 0.4773, time 202.97ms, mfu 42.92%\n",
            "Validation Confusion Matrix \n",
            " []\n"
          ]
        },
        {
          "output_type": "stream",
          "name": "stderr",
          "text": [
            "/usr/local/lib/python3.10/dist-packages/sklearn/metrics/_classification.py:1344: UndefinedMetricWarning: Precision is ill-defined and being set to 0.0 in labels with no predicted samples. Use `zero_division` parameter to control this behavior.\n",
            "  _warn_prf(average, modifier, msg_start, len(result))\n"
          ]
        },
        {
          "output_type": "stream",
          "name": "stdout",
          "text": [
            "Validation Confusion Matrix \n",
            " [[305  34   0]\n",
            " [ 68 358   0]\n",
            " [  1  10   0]]\n",
            "step 200: train loss 0.4535, val loss 0.4226,val accuracy 0.8544, val precision 0.8451, , val recall 0.8544, , val f1 0.8485\n"
          ]
        },
        {
          "output_type": "stream",
          "name": "stderr",
          "text": [
            "/usr/local/lib/python3.10/dist-packages/sklearn/metrics/_classification.py:1344: UndefinedMetricWarning: Precision is ill-defined and being set to 0.0 in labels with no predicted samples. Use `zero_division` parameter to control this behavior.\n",
            "  _warn_prf(average, modifier, msg_start, len(result))\n"
          ]
        },
        {
          "output_type": "stream",
          "name": "stdout",
          "text": [
            "Test Confusion Matrix \n",
            " [[ 9  1  0]\n",
            " [ 2  8  0]\n",
            " [ 0 10  0]]\n",
            "step 200: test loss 1.3793,test accuracy 0.5667, test precision 0.4131, , test recall 0.5667, , test f1 0.4696\n",
            "iter 200: loss 0.4117, time 13653.91ms, mfu 38.70%\n",
            "iter 201: loss 0.3552, time 204.93ms, mfu 39.21%\n",
            "iter 202: loss 0.7108, time 207.81ms, mfu 39.61%\n",
            "iter 203: loss 0.2870, time 202.75ms, mfu 40.08%\n",
            "iter 204: loss 0.4624, time 206.03ms, mfu 40.43%\n",
            "iter 205: loss 0.0583, time 202.93ms, mfu 40.81%\n",
            "iter 206: loss 0.3838, time 84.99ms, mfu 47.30%\n",
            "iter 207: loss 0.5267, time 204.22ms, mfu 46.97%\n",
            "iter 208: loss 0.4425, time 205.46ms, mfu 46.64%\n",
            "iter 209: loss 0.3201, time 204.64ms, mfu 46.37%\n",
            "Validation Confusion Matrix \n",
            " []\n"
          ]
        },
        {
          "output_type": "stream",
          "name": "stderr",
          "text": [
            "/usr/local/lib/python3.10/dist-packages/sklearn/metrics/_classification.py:1344: UndefinedMetricWarning: Precision is ill-defined and being set to 0.0 in labels with no predicted samples. Use `zero_division` parameter to control this behavior.\n",
            "  _warn_prf(average, modifier, msg_start, len(result))\n"
          ]
        },
        {
          "output_type": "stream",
          "name": "stdout",
          "text": [
            "Validation Confusion Matrix \n",
            " [[322  14   0]\n",
            " [113 318   0]\n",
            " [  1   8   0]]\n",
            "step 210: train loss 0.4945, val loss 0.4516,val accuracy 0.8247, val precision 0.8393, , val recall 0.8247, , val f1 0.8194\n",
            "iter 210: loss 0.3968, time 13411.15ms, mfu 41.80%\n",
            "iter 211: loss 0.6224, time 208.39ms, mfu 41.93%\n",
            "iter 212: loss 0.2162, time 204.04ms, mfu 42.14%\n",
            "iter 213: loss 0.3884, time 201.19ms, mfu 42.39%\n",
            "iter 214: loss 0.0374, time 202.35ms, mfu 42.59%\n",
            "iter 215: loss 0.2866, time 83.44ms, mfu 49.09%\n",
            "iter 216: loss 0.3732, time 206.08ms, mfu 48.54%\n",
            "iter 217: loss 0.4244, time 205.63ms, mfu 48.06%\n",
            "iter 218: loss 0.3579, time 211.75ms, mfu 47.49%\n",
            "iter 219: loss 0.3900, time 199.87ms, mfu 47.24%\n",
            "Validation Confusion Matrix \n",
            " []\n"
          ]
        },
        {
          "output_type": "stream",
          "name": "stderr",
          "text": [
            "/usr/local/lib/python3.10/dist-packages/sklearn/metrics/_classification.py:1344: UndefinedMetricWarning: Precision is ill-defined and being set to 0.0 in labels with no predicted samples. Use `zero_division` parameter to control this behavior.\n",
            "  _warn_prf(average, modifier, msg_start, len(result))\n"
          ]
        },
        {
          "output_type": "stream",
          "name": "stdout",
          "text": [
            "Validation Confusion Matrix \n",
            " [[326  11   0]\n",
            " [129 298   0]\n",
            " [  0  12   0]]\n",
            "step 220: train loss 0.5718, val loss 0.5322,val accuracy 0.8041, val precision 0.8220, , val recall 0.8041, , val f1 0.7960\n"
          ]
        },
        {
          "output_type": "stream",
          "name": "stderr",
          "text": [
            "/usr/local/lib/python3.10/dist-packages/sklearn/metrics/_classification.py:1344: UndefinedMetricWarning: Precision is ill-defined and being set to 0.0 in labels with no predicted samples. Use `zero_division` parameter to control this behavior.\n",
            "  _warn_prf(average, modifier, msg_start, len(result))\n"
          ]
        },
        {
          "output_type": "stream",
          "name": "stdout",
          "text": [
            "Test Confusion Matrix \n",
            " [[ 9  1  0]\n",
            " [ 3  7  0]\n",
            " [ 0 10  0]]\n",
            "step 220: test loss 1.2195,test accuracy 0.5333, test precision 0.3796, , test recall 0.5333, , test f1 0.4394\n",
            "iter 220: loss 0.4343, time 13905.94ms, mfu 42.58%\n",
            "iter 221: loss 0.3778, time 206.44ms, mfu 42.67%\n",
            "iter 222: loss 0.0258, time 206.71ms, mfu 42.75%\n",
            "iter 223: loss 0.5242, time 84.45ms, mfu 49.11%\n",
            "iter 224: loss 0.6077, time 207.50ms, mfu 48.53%\n",
            "iter 225: loss 0.3879, time 204.30ms, mfu 48.07%\n",
            "iter 226: loss 0.6240, time 204.80ms, mfu 47.65%\n",
            "iter 227: loss 0.2950, time 204.27ms, mfu 47.28%\n",
            "iter 228: loss 0.3819, time 207.04ms, mfu 46.89%\n",
            "iter 229: loss 0.3878, time 203.87ms, mfu 46.61%\n",
            "Validation Confusion Matrix \n",
            " []\n"
          ]
        },
        {
          "output_type": "stream",
          "name": "stderr",
          "text": [
            "/usr/local/lib/python3.10/dist-packages/sklearn/metrics/_classification.py:1344: UndefinedMetricWarning: Precision is ill-defined and being set to 0.0 in labels with no predicted samples. Use `zero_division` parameter to control this behavior.\n",
            "  _warn_prf(average, modifier, msg_start, len(result))\n"
          ]
        },
        {
          "output_type": "stream",
          "name": "stdout",
          "text": [
            "Validation Confusion Matrix \n",
            " [[326  17   0]\n",
            " [ 88 333   0]\n",
            " [  2  10   0]]\n",
            "step 230: train loss 0.5011, val loss 0.4594,val accuracy 0.8492, val precision 0.8482, , val recall 0.8492, , val f1 0.8423\n",
            "iter 230: loss 0.1848, time 13661.37ms, mfu 42.01%\n",
            "iter 231: loss 0.0143, time 205.29ms, mfu 42.19%\n",
            "iter 232: loss 0.4039, time 83.52ms, mfu 48.72%\n",
            "iter 233: loss 0.1843, time 206.90ms, mfu 48.19%\n",
            "iter 234: loss 0.3740, time 203.98ms, mfu 47.77%\n",
            "iter 235: loss 0.2875, time 208.86ms, mfu 47.30%\n",
            "iter 236: loss 0.4039, time 201.42ms, mfu 47.03%\n",
            "iter 237: loss 0.4415, time 203.73ms, mfu 46.73%\n",
            "iter 238: loss 0.2508, time 206.05ms, mfu 46.42%\n",
            "iter 239: loss 0.2281, time 206.50ms, mfu 46.13%\n",
            "Validation Confusion Matrix \n",
            " []\n"
          ]
        },
        {
          "output_type": "stream",
          "name": "stderr",
          "text": [
            "/usr/local/lib/python3.10/dist-packages/sklearn/metrics/_classification.py:1344: UndefinedMetricWarning: Precision is ill-defined and being set to 0.0 in labels with no predicted samples. Use `zero_division` parameter to control this behavior.\n",
            "  _warn_prf(average, modifier, msg_start, len(result))\n"
          ]
        },
        {
          "output_type": "stream",
          "name": "stdout",
          "text": [
            "Validation Confusion Matrix \n",
            " [[308  16   0]\n",
            " [122 314   0]\n",
            " [  2  14   0]]\n",
            "step 240: train loss 0.5070, val loss 0.5128,val accuracy 0.8015, val precision 0.8105, , val recall 0.8015, , val f1 0.7926\n"
          ]
        },
        {
          "output_type": "stream",
          "name": "stderr",
          "text": [
            "/usr/local/lib/python3.10/dist-packages/sklearn/metrics/_classification.py:1344: UndefinedMetricWarning: Precision is ill-defined and being set to 0.0 in labels with no predicted samples. Use `zero_division` parameter to control this behavior.\n",
            "  _warn_prf(average, modifier, msg_start, len(result))\n"
          ]
        },
        {
          "output_type": "stream",
          "name": "stdout",
          "text": [
            "Test Confusion Matrix \n",
            " [[ 9  1  0]\n",
            " [ 3  7  0]\n",
            " [ 0 10  0]]\n",
            "step 240: test loss 1.4451,test accuracy 0.5333, test precision 0.3796, , test recall 0.5333, , test f1 0.4394\n",
            "iter 240: loss 0.2704, time 13690.29ms, mfu 41.58%\n",
            "iter 241: loss 0.5263, time 205.20ms, mfu 41.80%\n",
            "iter 242: loss 0.3444, time 208.19ms, mfu 41.93%\n",
            "iter 243: loss 0.8691, time 203.38ms, mfu 42.16%\n",
            "iter 244: loss 0.2161, time 207.13ms, mfu 42.28%\n",
            "iter 245: loss 0.6196, time 208.76ms, mfu 42.35%\n",
            "iter 246: loss 0.0228, time 196.47ms, mfu 42.69%\n",
            "iter 247: loss 0.5566, time 86.13ms, mfu 48.85%\n",
            "iter 248: loss 0.3561, time 202.19ms, mfu 48.40%\n",
            "iter 249: loss 0.3960, time 205.05ms, mfu 47.94%\n",
            "Validation Confusion Matrix \n",
            " []\n"
          ]
        },
        {
          "output_type": "stream",
          "name": "stderr",
          "text": [
            "/usr/local/lib/python3.10/dist-packages/sklearn/metrics/_classification.py:1344: UndefinedMetricWarning: Precision is ill-defined and being set to 0.0 in labels with no predicted samples. Use `zero_division` parameter to control this behavior.\n",
            "  _warn_prf(average, modifier, msg_start, len(result))\n"
          ]
        },
        {
          "output_type": "stream",
          "name": "stdout",
          "text": [
            "Validation Confusion Matrix \n",
            " [[327   8   0]\n",
            " [166 261   0]\n",
            " [  3  11   0]]\n",
            "step 250: train loss 0.5835, val loss 0.5674,val accuracy 0.7577, val precision 0.7975, , val recall 0.7577, , val f1 0.7460\n",
            "iter 250: loss 0.3863, time 13421.38ms, mfu 43.22%\n",
            "iter 251: loss 0.2962, time 205.06ms, mfu 43.27%\n",
            "iter 252: loss 0.6226, time 205.67ms, mfu 43.31%\n",
            "iter 253: loss 0.1988, time 216.54ms, mfu 43.13%\n",
            "iter 254: loss 0.4759, time 203.85ms, mfu 43.22%\n",
            "iter 255: loss 0.0113, time 202.01ms, mfu 43.35%\n",
            "iter 256: loss 0.5395, time 89.57ms, mfu 49.04%\n",
            "iter 257: loss 0.3269, time 198.45ms, mfu 48.66%\n",
            "iter 258: loss 0.2417, time 205.31ms, mfu 48.17%\n",
            "iter 259: loss 0.4435, time 204.97ms, mfu 47.74%\n",
            "Validation Confusion Matrix \n",
            " []\n"
          ]
        },
        {
          "output_type": "stream",
          "name": "stderr",
          "text": [
            "/usr/local/lib/python3.10/dist-packages/sklearn/metrics/_classification.py:1344: UndefinedMetricWarning: Precision is ill-defined and being set to 0.0 in labels with no predicted samples. Use `zero_division` parameter to control this behavior.\n",
            "  _warn_prf(average, modifier, msg_start, len(result))\n"
          ]
        },
        {
          "output_type": "stream",
          "name": "stdout",
          "text": [
            "Validation Confusion Matrix \n",
            " [[311  10   0]\n",
            " [122 319   0]\n",
            " [  2  12   0]]\n",
            "step 260: train loss 0.4774, val loss 0.4816,val accuracy 0.8119, val precision 0.8274, , val recall 0.8119, , val f1 0.8040\n"
          ]
        },
        {
          "output_type": "stream",
          "name": "stderr",
          "text": [
            "/usr/local/lib/python3.10/dist-packages/sklearn/metrics/_classification.py:1344: UndefinedMetricWarning: Precision is ill-defined and being set to 0.0 in labels with no predicted samples. Use `zero_division` parameter to control this behavior.\n",
            "  _warn_prf(average, modifier, msg_start, len(result))\n"
          ]
        },
        {
          "output_type": "stream",
          "name": "stdout",
          "text": [
            "Test Confusion Matrix \n",
            " [[ 9  1  0]\n",
            " [ 3  7  0]\n",
            " [ 0 10  0]]\n",
            "step 260: test loss 1.4703,test accuracy 0.5333, test precision 0.3796, , test recall 0.5333, , test f1 0.4394\n",
            "iter 260: loss 0.1367, time 13937.03ms, mfu 43.03%\n",
            "iter 261: loss 0.2184, time 208.14ms, mfu 43.04%\n",
            "iter 262: loss 0.3543, time 203.57ms, mfu 43.15%\n",
            "iter 263: loss 0.0237, time 200.67ms, mfu 43.31%\n",
            "iter 264: loss 0.4243, time 86.25ms, mfu 49.39%\n",
            "iter 265: loss 0.2006, time 203.55ms, mfu 48.86%\n",
            "iter 266: loss 0.3127, time 207.17ms, mfu 48.31%\n",
            "iter 267: loss 0.4622, time 213.84ms, mfu 47.68%\n",
            "iter 268: loss 0.3517, time 205.65ms, mfu 47.28%\n",
            "iter 269: loss 0.3992, time 204.56ms, mfu 46.94%\n",
            "Validation Confusion Matrix \n",
            " []\n"
          ]
        },
        {
          "output_type": "stream",
          "name": "stderr",
          "text": [
            "/usr/local/lib/python3.10/dist-packages/sklearn/metrics/_classification.py:1344: UndefinedMetricWarning: Precision is ill-defined and being set to 0.0 in labels with no predicted samples. Use `zero_division` parameter to control this behavior.\n",
            "  _warn_prf(average, modifier, msg_start, len(result))\n"
          ]
        },
        {
          "output_type": "stream",
          "name": "stdout",
          "text": [
            "Validation Confusion Matrix \n",
            " [[324   9   0]\n",
            " [120 312   0]\n",
            " [  2   9   0]]\n",
            "step 270: train loss 0.4929, val loss 0.4602,val accuracy 0.8196, val precision 0.8381, , val recall 0.8196, , val f1 0.8128\n",
            "iter 270: loss 0.5394, time 13674.92ms, mfu 42.31%\n",
            "iter 271: loss 0.3800, time 205.36ms, mfu 42.46%\n",
            "iter 272: loss 0.0146, time 201.92ms, mfu 42.66%\n",
            "iter 273: loss 0.2518, time 84.34ms, mfu 49.04%\n",
            "iter 274: loss 0.3193, time 206.23ms, mfu 48.49%\n",
            "iter 275: loss 0.3407, time 204.68ms, mfu 48.03%\n",
            "iter 276: loss 0.3786, time 204.74ms, mfu 47.62%\n",
            "iter 277: loss 0.6153, time 205.09ms, mfu 47.23%\n",
            "iter 278: loss 0.5292, time 205.95ms, mfu 46.87%\n",
            "iter 279: loss 0.5376, time 211.78ms, mfu 46.43%\n",
            "Validation Confusion Matrix \n",
            " []\n"
          ]
        },
        {
          "output_type": "stream",
          "name": "stderr",
          "text": [
            "/usr/local/lib/python3.10/dist-packages/sklearn/metrics/_classification.py:1344: UndefinedMetricWarning: Precision is ill-defined and being set to 0.0 in labels with no predicted samples. Use `zero_division` parameter to control this behavior.\n",
            "  _warn_prf(average, modifier, msg_start, len(result))\n"
          ]
        },
        {
          "output_type": "stream",
          "name": "stdout",
          "text": [
            "Validation Confusion Matrix \n",
            " [[338   1   0]\n",
            " [184 241   0]\n",
            " [  2  10   0]]\n",
            "step 280: train loss 0.6145, val loss 0.6182,val accuracy 0.7461, val precision 0.8056, , val recall 0.7461, , val f1 0.7321\n"
          ]
        },
        {
          "output_type": "stream",
          "name": "stderr",
          "text": [
            "/usr/local/lib/python3.10/dist-packages/sklearn/metrics/_classification.py:1344: UndefinedMetricWarning: Precision is ill-defined and being set to 0.0 in labels with no predicted samples. Use `zero_division` parameter to control this behavior.\n",
            "  _warn_prf(average, modifier, msg_start, len(result))\n"
          ]
        },
        {
          "output_type": "stream",
          "name": "stdout",
          "text": [
            "Test Confusion Matrix \n",
            " [[9 1 0]\n",
            " [4 6 0]\n",
            " [1 9 0]]\n",
            "step 280: test loss 1.3885,test accuracy 0.5000, test precision 0.3393, , test recall 0.5000, , test f1 0.4038\n",
            "iter 280: loss 0.2008, time 13685.32ms, mfu 41.85%\n",
            "iter 281: loss 0.4600, time 207.04ms, mfu 42.00%\n",
            "iter 282: loss 0.3738, time 205.12ms, mfu 42.18%\n",
            "iter 283: loss 0.1944, time 203.26ms, mfu 42.38%\n",
            "iter 284: loss 0.5542, time 204.07ms, mfu 42.54%\n",
            "iter 285: loss 0.6567, time 204.70ms, mfu 42.68%\n",
            "iter 286: loss 0.4495, time 212.68ms, mfu 42.63%\n",
            "iter 287: loss 0.4830, time 204.91ms, mfu 42.75%\n",
            "iter 288: loss 0.2548, time 205.70ms, mfu 42.84%\n",
            "iter 289: loss 0.4545, time 202.64ms, mfu 42.99%\n",
            "Validation Confusion Matrix \n",
            " []\n"
          ]
        },
        {
          "output_type": "stream",
          "name": "stderr",
          "text": [
            "/usr/local/lib/python3.10/dist-packages/sklearn/metrics/_classification.py:1344: UndefinedMetricWarning: Precision is ill-defined and being set to 0.0 in labels with no predicted samples. Use `zero_division` parameter to control this behavior.\n",
            "  _warn_prf(average, modifier, msg_start, len(result))\n"
          ]
        },
        {
          "output_type": "stream",
          "name": "stdout",
          "text": [
            "Validation Confusion Matrix \n",
            " [[332   6   0]\n",
            " [147 279   0]\n",
            " [  0  12   0]]\n",
            "step 290: train loss 0.5319, val loss 0.5157,val accuracy 0.7874, val precision 0.8176, , val recall 0.7874, , val f1 0.7777\n",
            "iter 290: loss 0.2511, time 13394.71ms, mfu 38.76%\n",
            "iter 291: loss 0.7481, time 202.48ms, mfu 39.32%\n",
            "iter 292: loss 0.4286, time 203.82ms, mfu 39.79%\n",
            "iter 293: loss 0.7170, time 205.72ms, mfu 40.18%\n",
            "iter 294: loss 0.3427, time 205.32ms, mfu 40.54%\n",
            "iter 295: loss 0.3644, time 206.06ms, mfu 40.84%\n",
            "iter 296: loss 0.0143, time 199.70ms, mfu 41.26%\n",
            "iter 297: loss 0.3080, time 88.69ms, mfu 47.26%\n",
            "iter 298: loss 0.7031, time 204.51ms, mfu 46.92%\n",
            "iter 299: loss 0.5478, time 206.51ms, mfu 46.58%\n",
            "Validation Confusion Matrix \n",
            " []\n"
          ]
        },
        {
          "output_type": "stream",
          "name": "stderr",
          "text": [
            "/usr/local/lib/python3.10/dist-packages/sklearn/metrics/_classification.py:1344: UndefinedMetricWarning: Precision is ill-defined and being set to 0.0 in labels with no predicted samples. Use `zero_division` parameter to control this behavior.\n",
            "  _warn_prf(average, modifier, msg_start, len(result))\n"
          ]
        },
        {
          "output_type": "stream",
          "name": "stdout",
          "text": [
            "Validation Confusion Matrix \n",
            " [[313  17   0]\n",
            " [ 51 385   0]\n",
            " [  0  10   0]]\n",
            "step 300: train loss 0.3669, val loss 0.3058,val accuracy 0.8995, val precision 0.8907, , val recall 0.8995, , val f1 0.8938\n"
          ]
        },
        {
          "output_type": "stream",
          "name": "stderr",
          "text": [
            "/usr/local/lib/python3.10/dist-packages/sklearn/metrics/_classification.py:1344: UndefinedMetricWarning: Precision is ill-defined and being set to 0.0 in labels with no predicted samples. Use `zero_division` parameter to control this behavior.\n",
            "  _warn_prf(average, modifier, msg_start, len(result))\n"
          ]
        },
        {
          "output_type": "stream",
          "name": "stdout",
          "text": [
            "Test Confusion Matrix \n",
            " [[ 9  1  0]\n",
            " [ 3  7  0]\n",
            " [ 0 10  0]]\n",
            "step 300: test loss 1.3137,test accuracy 0.5333, test precision 0.3796, , test recall 0.5333, , test f1 0.4394\n",
            "iter 300: loss 0.4070, time 13669.18ms, mfu 41.99%\n"
          ]
        },
        {
          "output_type": "display_data",
          "data": {
            "text/plain": [
              "VBox(children=(Label(value='0.002 MB of 0.002 MB uploaded\\r'), FloatProgress(value=1.0, max=1.0)))"
            ],
            "application/vnd.jupyter.widget-view+json": {
              "version_major": 2,
              "version_minor": 0,
              "model_id": "197ea9f9960c4726a70694d9bd1c475b"
            }
          },
          "metadata": {}
        },
        {
          "output_type": "display_data",
          "data": {
            "text/plain": [
              "<IPython.core.display.HTML object>"
            ],
            "text/html": [
              "<style>\n",
              "    table.wandb td:nth-child(1) { padding: 0 10px; text-align: left ; width: auto;} td:nth-child(2) {text-align: left ; width: 100%}\n",
              "    .wandb-row { display: flex; flex-direction: row; flex-wrap: wrap; justify-content: flex-start; width: 100% }\n",
              "    .wandb-col { display: flex; flex-direction: column; flex-basis: 100%; flex: 1; padding: 10px; }\n",
              "    </style>\n",
              "<div class=\"wandb-row\"><div class=\"wandb-col\"><h3>Run history:</h3><br/><table class=\"wandb\"><tr><td>iter</td><td>▁▁▁▁▁▂▂▂▂▂▃▃▃▃▃▄▄▄▄▄▅▅▅▅▅▅▆▆▆▆▆▇▇▇▇▇████</td></tr><tr><td>lr</td><td>▁▁▁▁▁▁▁▁▁▁▁▁▁▁▁▁▁▁▁▁▁▁▁▁▁▁▁▁▁▁▁▁▁▁▁▁▁▁▁▁</td></tr><tr><td>mfu</td><td>▁▁██████████████████████████████████████</td></tr><tr><td>test/acc</td><td>▁▂▆▃▂▄▇▇▆▇█▇▇▇▆▇</td></tr><tr><td>test/f1</td><td>▁▃▇▄▄▅▇▇▆▇█▇▇▇▆▇</td></tr><tr><td>test/precision</td><td>▁▆▆▇▆▇▇▇▆▇█▇▇▇▆▇</td></tr><tr><td>test/recall</td><td>▁▂▆▃▂▄▇▇▆▇█▇▇▇▆▇</td></tr><tr><td>train/loss</td><td>█▅▂▂▂▂▂▂▂▂▁▂▂▁▁▁▁▂▂▁▁▁▁▁▁▁▁▁▁▁▁</td></tr><tr><td>val/acc</td><td>▁▁▆▆▆▆▆▆▆▆▆▇▇▇▇▇▇▇▆▇█▇▇█▇▇▇▇▇▇█</td></tr><tr><td>val/f1</td><td>▁▁▅▅▆▆▅▆▆▆▆▇▇▇▇▇▇▇▆▇█▇▇█▇▇▇▇▇▇█</td></tr><tr><td>val/loss</td><td>█▅▂▂▂▂▂▂▂▂▂▂▂▂▁▁▁▂▂▁▁▁▁▁▁▁▁▁▂▁▁</td></tr><tr><td>val/precision</td><td>▁▁▆▆▆▆▆▆▇▆▇▇▇▇▇▇▇▇▇▇██▇█▇▇██▇▇█</td></tr><tr><td>val/recall</td><td>▁▁▆▆▆▆▆▆▆▆▆▇▇▇▇▇▇▇▆▇█▇▇█▇▇▇▇▇▇█</td></tr></table><br/></div><div class=\"wandb-col\"><h3>Run summary:</h3><br/><table class=\"wandb\"><tr><td>iter</td><td>300</td></tr><tr><td>lr</td><td>1e-05</td></tr><tr><td>mfu</td><td>46.57989</td></tr><tr><td>test/acc</td><td>0.53333</td></tr><tr><td>test/f1</td><td>0.43939</td></tr><tr><td>test/precision</td><td>0.37963</td></tr><tr><td>test/recall</td><td>0.53333</td></tr><tr><td>train/loss</td><td>0.36688</td></tr><tr><td>val/acc</td><td>0.89948</td></tr><tr><td>val/f1</td><td>0.89377</td></tr><tr><td>val/loss</td><td>0.30576</td></tr><tr><td>val/precision</td><td>0.89071</td></tr><tr><td>val/recall</td><td>0.89948</td></tr></table><br/></div></div>"
            ]
          },
          "metadata": {}
        },
        {
          "output_type": "display_data",
          "data": {
            "text/plain": [
              "<IPython.core.display.HTML object>"
            ],
            "text/html": [
              " View run <strong style=\"color:#cdcd00\">serene-sweep-6</strong> at: <a href='https://wandb.ai/di725/DI725-Assignment1/runs/uqvbd1lo' target=\"_blank\">https://wandb.ai/di725/DI725-Assignment1/runs/uqvbd1lo</a><br/> View project at: <a href='https://wandb.ai/di725/DI725-Assignment1' target=\"_blank\">https://wandb.ai/di725/DI725-Assignment1</a><br/>Synced 5 W&B file(s), 0 media file(s), 0 artifact file(s) and 0 other file(s)"
            ]
          },
          "metadata": {}
        },
        {
          "output_type": "display_data",
          "data": {
            "text/plain": [
              "<IPython.core.display.HTML object>"
            ],
            "text/html": [
              "Find logs at: <code>./wandb/run-20240415_113005-uqvbd1lo/logs</code>"
            ]
          },
          "metadata": {}
        },
        {
          "output_type": "stream",
          "name": "stderr",
          "text": [
            "\u001b[34m\u001b[1mwandb\u001b[0m: Sweep Agent: Waiting for job.\n",
            "\u001b[34m\u001b[1mwandb\u001b[0m: Sweep Agent: Exiting.\n"
          ]
        }
      ],
      "source": [
        "import wandb\n",
        "\n",
        "# Login (you can also set the WANDB_API_KEY environment variable)\n",
        "wandb.login()\n",
        "sweep_config = {\n",
        "    'method': 'grid',  # This will test all combinations of parameters\n",
        "    'metric': {\n",
        "        'name': 'val_loss',\n",
        "        'goal': 'minimize'\n",
        "    },\n",
        "    'parameters': {\n",
        "        'learning_rate': {\n",
        "            'values': [0.0005, 0.0005, 0.00001]  # Specific learning rates\n",
        "        },\n",
        "        'dropout': {\n",
        "            'values': [0.05, 0.1, 0.2]  # Specific dropout rates\n",
        "        }\n",
        "    }\n",
        "}\n",
        "\n",
        "sweep_id = wandb.sweep(sweep_config, project=\"DI725-Assignment1\")\n",
        "\n",
        "def train():\n",
        "  with wandb.init() as run:\n",
        "    \"\"\"\n",
        "    This training script can be run both on a single gpu in debug mode,\n",
        "    and also in a larger training run with distributed data parallel (ddp).\n",
        "\n",
        "    To run on a single GPU, example:\n",
        "    $ python train.py --batch_size=32 --compile=False\n",
        "\n",
        "    To run with DDP on 4 gpus on 1 node, example:\n",
        "    $ torchrun --standalone --nproc_per_node=4 train.py\n",
        "\n",
        "    To run with DDP on 4 gpus across 2 nodes, example:\n",
        "    - Run on the first (master) node with example IP 123.456.123.456:\n",
        "    $ torchrun --nproc_per_node=8 --nnodes=2 --node_rank=0 --master_addr=123.456.123.456 --master_port=1234 train.py\n",
        "    - Run on the worker node:\n",
        "    $ torchrun --nproc_per_node=8 --nnodes=2 --node_rank=1 --master_addr=123.456.123.456 --master_port=1234 train.py\n",
        "    (If your cluster does not have Infiniband interconnect prepend NCCL_IB_DISABLE=1)\n",
        "    \"\"\"\n",
        "\n",
        "    import os\n",
        "    import time\n",
        "    import math\n",
        "    import pickle\n",
        "    from contextlib import nullcontext\n",
        "\n",
        "    import numpy as np\n",
        "    import torch\n",
        "    from torch.nn.parallel import DistributedDataParallel as DDP\n",
        "    from torch.distributed import init_process_group, destroy_process_group\n",
        "    from sklearn.metrics import accuracy_score, precision_score, recall_score, f1_score\n",
        "    from sklearn.metrics import confusion_matrix\n",
        "    #from model import GPTConfig, GPT\n",
        "\n",
        "    # -----------------------------------------------------------------------------\n",
        "    # default config values designed to train a gpt2 (124M) on OpenWebText\n",
        "    # I/O\n",
        "    out_dir = 'out1'\n",
        "    eval_interval = 10\n",
        "    log_interval = 1\n",
        "    #eval_iters = 200\n",
        "    eval_only = False # if True, script exits right after the first eval\n",
        "    always_save_checkpoint = False # if True, always save a checkpoint after each eval\n",
        "    init_from = 'gpt2' # 'scratch' or 'resume' or 'gpt2*'\n",
        "    test_interval = 20\n",
        "    # wandb logging\n",
        "    wandb_log = True # disabled by default\n",
        "    wandb_project = 'owt'\n",
        "    wandb_run_name = 'gpt2' # 'run' + str(time.time())\n",
        "    # data\n",
        "    dataset = '/content'\n",
        "    gradient_accumulation_steps = 1 #5 * 8 # used to simulate larger batch sizes\n",
        "    batch_size = 32 # if gradient_accumulation_steps > 1, this is the micro-batch size\n",
        "    block_size = 1024\n",
        "    # model\n",
        "    n_layer = 12\n",
        "    n_head = 12\n",
        "    n_embd = 768\n",
        "    dropout = 0.0 # for pretraining 0 is good, for finetuning try 0.1+\n",
        "    bias = False # do we use bias inside LayerNorm and Linear layers?\n",
        "    # adamw optimizer\n",
        "    learning_rate = 5e-5 # max learning rate\n",
        "    max_iters = 300 # total number of training iterations\n",
        "    weight_decay = 1e-1\n",
        "    beta1 = 0.9\n",
        "    beta2 = 0.95\n",
        "    grad_clip = 1.0 # clip gradients at this value, or disable if == 0.0\n",
        "    # learning rate decay settings\n",
        "    decay_lr = False # whether to decay the learning rate\n",
        "    warmup_iters = 30 # how many steps to warm up for\n",
        "    lr_decay_iters = 500 # should be ~= max_iters per Chinchilla\n",
        "    min_lr = 6e-5 # minimum learning rate, should be ~= learning_rate/10 per Chinchilla\n",
        "    # DDP settings\n",
        "    backend = 'nccl' # 'nccl', 'gloo', etc.\n",
        "    # system\n",
        "    device = 'cuda' # examples: 'cpu', 'cuda', 'cuda:0', 'cuda:1' etc., or try 'mps' on macbooks\n",
        "    dtype = 'bfloat16' if torch.cuda.is_available() and torch.cuda.is_bf16_supported() else 'float16' # 'float32', 'bfloat16', or 'float16', the latter will auto implement a GradScaler\n",
        "    compile = False # use PyTorch 2.0 to compile the model to be faster\n",
        "    # -----------------------------------------------------------------------------\n",
        "    config_keys = [k for k,v in globals().items() if not k.startswith('_') and isinstance(v, (int, float, bool, str))]\n",
        "    #exec(open('configurator.py').read()) # overrides from command line or config file\n",
        "    config = {k: globals()[k] for k in config_keys} # will be useful for logging\n",
        "    # -----------------------------------------------------------------------------\n",
        "\n",
        "    iter_val = iter(val_loader)\n",
        "    iter_train = iter(train_loader)\n",
        "    iter_test = iter(test_loader)\n",
        "    # -----------------------------------------------------------------------------\n",
        "\n",
        "    # various inits, derived attributes, I/O setup\n",
        "    ddp = int(os.environ.get('RANK', -1)) != -1 # is this a ddp run?\n",
        "\n",
        "    config = run.config\n",
        "    dropout = config.dropout\n",
        "    learning_rate = config.learning_rate\n",
        "\n",
        "    if ddp:\n",
        "        init_process_group(backend=backend)\n",
        "        ddp_rank = int(os.environ['RANK'])\n",
        "        ddp_local_rank = int(os.environ['LOCAL_RANK'])\n",
        "        ddp_world_size = int(os.environ['WORLD_SIZE'])\n",
        "        device = f'cuda:{ddp_local_rank}'\n",
        "        torch.cuda.set_device(device)\n",
        "        master_process = ddp_rank == 0 # this process will do logging, checkpointing etc.\n",
        "        seed_offset = ddp_rank # each process gets a different seed\n",
        "        # world_size number of processes will be training simultaneously, so we can scale\n",
        "        # down the desired gradient accumulation iterations per process proportionally\n",
        "        assert gradient_accumulation_steps % ddp_world_size == 0\n",
        "        gradient_accumulation_steps //= ddp_world_size\n",
        "    else:\n",
        "        # if not ddp, we are running on a single gpu, and one process\n",
        "        master_process = True\n",
        "        seed_offset = 0\n",
        "        ddp_world_size = 1\n",
        "    tokens_per_iter = gradient_accumulation_steps * ddp_world_size * batch_size * block_size\n",
        "    print(f\"tokens per iteration will be: {tokens_per_iter:,}\")\n",
        "\n",
        "    if master_process:\n",
        "        os.makedirs(out_dir, exist_ok=True)\n",
        "    torch.manual_seed(1337 + seed_offset)\n",
        "    torch.backends.cuda.matmul.allow_tf32 = True # allow tf32 on matmul\n",
        "    torch.backends.cudnn.allow_tf32 = True # allow tf32 on cudnn\n",
        "    device_type = 'cuda' if 'cuda' in device else 'cpu' # for later use in torch.autocast\n",
        "    # note: float16 data type will automatically use a GradScaler\n",
        "    ptdtype = {'float32': torch.float32, 'bfloat16': torch.bfloat16, 'float16': torch.float16}[dtype]\n",
        "    ctx = nullcontext() if device_type == 'cpu' else torch.amp.autocast(device_type=device_type, dtype=ptdtype)\n",
        "\n",
        "    # poor man's data loader\n",
        "    data_dir = os.path.join('data', dataset)\n",
        "    def get_batch(iter_data):\n",
        "        try:\n",
        "            batch = next(iter_data)\n",
        "            input_ids = batch['input_ids'].to(device)\n",
        "            labels = batch['labels'].to(device)\n",
        "            return input_ids, labels, iter_data\n",
        "        except StopIteration:\n",
        "            # Reset the iterator\n",
        "            iter_data = iter(train_loader if iter_data is iter_train else val_loader)\n",
        "            batch = next(iter_data)\n",
        "            input_ids = batch['input_ids'].to(device)\n",
        "            labels = batch['labels'].to(device)\n",
        "            return input_ids, labels, iter_data\n",
        "    def get_test_batch(iter_data):\n",
        "        try:\n",
        "            batch = next(iter_data)\n",
        "            input_ids = batch['input_ids'].to(device)\n",
        "            labels = batch['labels'].to(device)\n",
        "            return input_ids, labels, iter_data\n",
        "        except StopIteration:\n",
        "            # Reset the iterator\n",
        "            iter_data = iter(test_loader)\n",
        "            batch = next(iter_data)\n",
        "            input_ids = batch['input_ids'].to(device)\n",
        "            labels = batch['labels'].to(device)\n",
        "            return input_ids, labels, iter_data\n",
        "\n",
        "    # init these up here, can override if init_from='resume' (i.e. from a checkpoint)\n",
        "    iter_num = 0\n",
        "    best_val_loss = 1e9\n",
        "\n",
        "    # attempt to derive vocab_size from the dataset\n",
        "    meta_path = os.path.join(data_dir, 'meta.pkl')\n",
        "    meta_vocab_size = None\n",
        "    if os.path.exists(meta_path):\n",
        "        with open(meta_path, 'rb') as f:\n",
        "            meta = pickle.load(f)\n",
        "        meta_vocab_size = meta['vocab_size']\n",
        "        print(f\"found vocab_size = {meta_vocab_size} (inside {meta_path})\")\n",
        "\n",
        "    # model init\n",
        "    model_args = dict(n_layer=n_layer, n_head=n_head, n_embd=n_embd, block_size=block_size,\n",
        "                      bias=bias, vocab_size=None, dropout=dropout) # start with model_args from command line\n",
        "    if init_from == 'scratch':\n",
        "        # init a new model from scratch\n",
        "        print(\"Initializing a new model from scratch\")\n",
        "        # determine the vocab size we'll use for from-scratch training\n",
        "        if meta_vocab_size is None:\n",
        "            print(\"defaulting to vocab_size of GPT-2 to 50304 (50257 rounded up for efficiency)\")\n",
        "        model_args['vocab_size'] = meta_vocab_size if meta_vocab_size is not None else 50304\n",
        "        gptconf = GPTConfig(**model_args)\n",
        "        model = GPT(gptconf)\n",
        "    elif init_from == 'resume':\n",
        "        print(f\"Resuming training from {out_dir}\")\n",
        "        # resume training from a checkpoint.\n",
        "        ckpt_path = os.path.join(out_dir, 'ckpt.pt')\n",
        "        checkpoint = torch.load(ckpt_path, map_location=device)\n",
        "        checkpoint_model_args = checkpoint['model_args']\n",
        "        # force these config attributes to be equal otherwise we can't even resume training\n",
        "        # the rest of the attributes (e.g. dropout) can stay as desired from command line\n",
        "        for k in ['n_layer', 'n_head', 'n_embd', 'block_size', 'bias', 'vocab_size']:\n",
        "            model_args[k] = checkpoint_model_args[k]\n",
        "        # create the model\n",
        "        gptconf = GPTConfig(**model_args)\n",
        "        model = GPT(gptconf)\n",
        "        state_dict = checkpoint['model']\n",
        "        # fix the keys of the state dictionary :(\n",
        "        # honestly no idea how checkpoints sometimes get this prefix, have to debug more\n",
        "        unwanted_prefix = '_orig_mod.'\n",
        "        for k,v in list(state_dict.items()):\n",
        "            if k.startswith(unwanted_prefix):\n",
        "                state_dict[k[len(unwanted_prefix):]] = state_dict.pop(k)\n",
        "        model.load_state_dict(state_dict)\n",
        "        iter_num = checkpoint['iter_num']\n",
        "        best_val_loss = checkpoint['best_val_loss']\n",
        "    elif init_from.startswith('gpt2'):\n",
        "        print(f\"Initializing from OpenAI GPT-2 weights: {init_from}\")\n",
        "        # initialize from OpenAI GPT-2 weights\n",
        "        override_args = dict(dropout=dropout)\n",
        "        model = GPT.from_pretrained(init_from, override_args)\n",
        "        # read off the created config params, so we can store them into checkpoint correctly\n",
        "        for k in ['n_layer', 'n_head', 'n_embd', 'block_size', 'bias', 'vocab_size']:\n",
        "            model_args[k] = getattr(model.config, k)\n",
        "    # crop down the model block size if desired, using model surgery\n",
        "    if block_size < model.config.block_size:\n",
        "        model.crop_block_size(block_size)\n",
        "        model_args['block_size'] = block_size # so that the checkpoint will have the right value\n",
        "    model.to(device)\n",
        "\n",
        "    # initialize a GradScaler. If enabled=False scaler is a no-op\n",
        "    scaler = torch.cuda.amp.GradScaler(enabled=(dtype == 'float16'))\n",
        "\n",
        "    # optimizer\n",
        "    optimizer = model.configure_optimizers(weight_decay, learning_rate, (beta1, beta2), device_type)\n",
        "    if init_from == 'resume':\n",
        "        optimizer.load_state_dict(checkpoint['optimizer'])\n",
        "    checkpoint = None # free up memory\n",
        "\n",
        "    # compile the model\n",
        "    if compile:\n",
        "        print(\"compiling the model... (takes a ~minute)\")\n",
        "        unoptimized_model = model\n",
        "        model = torch.compile(model) # requires PyTorch 2.0\n",
        "\n",
        "    # wrap model into DDP container\n",
        "    if ddp:\n",
        "        model = DDP(model, device_ids=[ddp_local_rank])\n",
        "\n",
        "    # helps estimate an arbitrarily accurate loss over either split using many batches\n",
        "    @torch.no_grad()\n",
        "    def estimate_loss(iter_train, iter_val):\n",
        "        out = {}\n",
        "        model.eval()\n",
        "        losses_train = []\n",
        "        losses_val = []\n",
        "        predictions_val, labels_val = [], []\n",
        "        val_precision, val_recall , val_f1, val_acc = 0, 0, 0, 0\n",
        "        for split in ['train', 'val']:\n",
        "            if split == 'train':\n",
        "                for i in range(len(iter_train)):\n",
        "                    X, Y, iter_train = get_batch(iter_train)\n",
        "                    output = model(X, Y)\n",
        "                    losses_train.append(output[1].item())\n",
        "            else:\n",
        "                for i in range(len(iter_val)):\n",
        "                    X, Y, iter_val = get_batch(iter_val)\n",
        "                    output = model(X, Y)\n",
        "                    losses_val.append(output[1].item())\n",
        "                    _, predicted_labels = torch.max(output[0], 1)\n",
        "                    predictions_val.extend(predicted_labels.cpu().numpy())\n",
        "                    labels_val.extend(Y.cpu().numpy())\n",
        "                val_acc = accuracy_score(labels_val, predictions_val)\n",
        "                val_precision = precision_score(labels_val, predictions_val, average='weighted')\n",
        "                val_recall = recall_score(labels_val, predictions_val, average='weighted')\n",
        "                val_f1 = f1_score(labels_val, predictions_val, average='weighted')\n",
        "            out['val_precision'] = val_precision\n",
        "            out['val_recall'] = val_recall\n",
        "            out['val_f1'] = val_f1\n",
        "            out['val_acc'] = val_acc\n",
        "            val_conf_matrix = confusion_matrix(labels_val, predictions_val)\n",
        "            print(\"Validation Confusion Matrix \\n\", val_conf_matrix)\n",
        "            out[split] = torch.tensor(losses_train if split == 'train' else losses_val).mean()\n",
        "        model.train()\n",
        "        return out, iter_train, iter_val\n",
        "\n",
        "    # helps estimate an arbitrarily accurate loss over either split using many batches\n",
        "    @torch.no_grad()\n",
        "    def estimate_test_loss(iter_test):\n",
        "        out = {}\n",
        "        losses_test = []\n",
        "        predictions_test, labels_test = [], []\n",
        "        model.eval()\n",
        "        for i in range(len(iter_test)):\n",
        "            X, Y, iter_test = get_test_batch(iter_test)\n",
        "            output = model(X, Y)\n",
        "            losses_test.append(output[1].item())\n",
        "            _, predicted_labels = torch.max(output[0], 1)\n",
        "            predictions_test.extend(predicted_labels.cpu().numpy())\n",
        "            labels_test.extend(Y.cpu().numpy())\n",
        "        test_acc = accuracy_score(labels_test, predictions_test)\n",
        "        test_precision = precision_score(labels_test, predictions_test, average='weighted')\n",
        "        test_recall = recall_score(labels_test, predictions_test, average='weighted')\n",
        "        test_f1 = f1_score(labels_test, predictions_test, average='weighted')\n",
        "        out['test_precision'] = test_precision\n",
        "        out['test_recall'] = test_recall\n",
        "        out['test_f1'] = test_f1\n",
        "        out['test_acc'] = test_acc\n",
        "        test_conf_matrix = confusion_matrix(labels_test, predictions_test)\n",
        "        print(\"Test Confusion Matrix \\n\",test_conf_matrix)\n",
        "        out['test'] = torch.tensor(losses_test).mean()\n",
        "        model.train()\n",
        "        return out, iter_test\n",
        "\n",
        "    # learning rate decay scheduler (cosine with warmup)\n",
        "    def get_lr(it):\n",
        "        # 1) linear warmup for warmup_iters steps\n",
        "        if it < warmup_iters:\n",
        "            return learning_rate * it / warmup_iters\n",
        "        # 2) if it > lr_decay_iters, return min learning rate\n",
        "        if it > lr_decay_iters:\n",
        "            return min_lr\n",
        "        # 3) in between, use cosine decay down to min learning rate\n",
        "        decay_ratio = (it - warmup_iters) / (lr_decay_iters - warmup_iters)\n",
        "        assert 0 <= decay_ratio <= 1\n",
        "        coeff = 0.5 * (1.0 + math.cos(math.pi * decay_ratio)) # coeff ranges 0..1\n",
        "        return min_lr + coeff * (learning_rate - min_lr)\n",
        "    '''\n",
        "    # logging\n",
        "    if wandb_log and master_process:\n",
        "        import wandb\n",
        "        wandb.init(project=wandb_project, name=wandb_run_name, config=config)\n",
        "    '''\n",
        "    # training loop\n",
        "    X, Y, iter_train = get_batch(iter_train) # fetch the very first batch\n",
        "    t0 = time.time()\n",
        "    local_iter_num = 0 # number of iterations in the lifetime of this process\n",
        "    raw_model = model.module if ddp else model # unwrap DDP container if needed\n",
        "    running_mfu = -1.0\n",
        "    while True:\n",
        "\n",
        "        # determine and set the learning rate for this iteration\n",
        "        lr = get_lr(iter_num) if decay_lr else learning_rate\n",
        "        for param_group in optimizer.param_groups:\n",
        "            param_group['lr'] = lr\n",
        "\n",
        "        # evaluate the loss on train/val sets and write checkpoints\n",
        "        if iter_num % eval_interval == 0 and master_process:\n",
        "            losses, iter_train, iter_val = estimate_loss(iter_val, iter_train)\n",
        "            print(f\"step {iter_num}: train loss {losses['train']:.4f}, val loss {losses['val']:.4f},val accuracy {losses['val_acc']:.4f}, val precision {losses['val_precision']:.4f}, , val recall {losses['val_recall']:.4f}, , val f1 {losses['val_f1']:.4f}\")\n",
        "            if wandb_log:\n",
        "                wandb.log({\n",
        "                    \"iter\": iter_num,\n",
        "                    \"train/loss\": losses['train'],\n",
        "                    \"val/loss\": losses['val'],\n",
        "                    \"lr\": lr,\n",
        "                    \"mfu\": running_mfu*100, # convert to percentage,\n",
        "                    \"val/acc\": losses['val_acc'],\n",
        "                    \"val/precision\": losses['val_precision'],\n",
        "                    \"val/recall\": losses['val_recall'],\n",
        "                    \"val/f1\": losses['val_f1'],\n",
        "                })\n",
        "                '''\n",
        "            if losses['val'] < best_val_loss or always_save_checkpoint:\n",
        "                best_val_loss = losses['val']\n",
        "                if iter_num > 0:\n",
        "                    checkpoint = {\n",
        "                        'model': raw_model.state_dict(),\n",
        "                        'optimizer': optimizer.state_dict(),\n",
        "                        'model_args': model_args,\n",
        "                        'iter_num': iter_num,\n",
        "                        'best_val_loss': best_val_loss,\n",
        "                        'config': config,\n",
        "                    }\n",
        "                    print(f\"saving checkpoint to {out_dir}\")\n",
        "                    torch.save(checkpoint, os.path.join(out_dir, 'ckpt.pt'))\n",
        "                    '''\n",
        "        if iter_num % test_interval == 0 and master_process:\n",
        "          losses, iter_test = estimate_test_loss(iter_test)\n",
        "          print(f\"step {iter_num}: test loss {losses['test']:.4f},test accuracy {losses['test_acc']:.4f}, test precision {losses['test_precision']:.4f}, , test recall {losses['test_recall']:.4f}, , test f1 {losses['test_f1']:.4f}\")\n",
        "          if wandb_log:\n",
        "            wandb.log({\n",
        "                \"iter\": iter_num,\n",
        "                \"test/loss\": losses,\n",
        "                \"lr\": lr,\n",
        "                \"mfu\": running_mfu*100, # convert to percentage\n",
        "                \"test/acc\": losses['test_acc'],\n",
        "                \"test/precision\": losses['test_precision'],\n",
        "                \"test/recall\": losses['test_recall'],\n",
        "                \"test/f1\": losses['test_f1'],\n",
        "            })\n",
        "        if iter_num == 0 and eval_only:\n",
        "            break\n",
        "\n",
        "        # forward backward update, with optional gradient accumulation to simulate larger batch size\n",
        "        # and using the GradScaler if data type is float16\n",
        "        for micro_step in range(gradient_accumulation_steps):\n",
        "            if ddp:\n",
        "                # in DDP training we only need to sync gradients at the last micro step.\n",
        "                # the official way to do this is with model.no_sync() context manager, but\n",
        "                # I really dislike that this bloats the code and forces us to repeat code\n",
        "                # looking at the source of that context manager, it just toggles this variable\n",
        "                model.require_backward_grad_sync = (micro_step == gradient_accumulation_steps - 1)\n",
        "            with ctx:\n",
        "                logits, loss = model(X, Y)\n",
        "                loss = loss / gradient_accumulation_steps # scale the loss to account for gradient accumulation\n",
        "            # immediately async prefetch next batch while model is doing the forward pass on the GPU\n",
        "            X, Y, iter_train = get_batch(iter_train)\n",
        "            if Y is None:\n",
        "                iter_train = iter(train_loader)\n",
        "                X, Y, iter_train = get_batch( iter_train)\n",
        "            # backward pass, with gradient scaling if training in fp16\n",
        "            scaler.scale(loss).backward()\n",
        "        # clip the gradient\n",
        "        if grad_clip != 0.0:\n",
        "            scaler.unscale_(optimizer)\n",
        "            torch.nn.utils.clip_grad_norm_(model.parameters(), grad_clip)\n",
        "        # step the optimizer and scaler if training in fp16\n",
        "        scaler.step(optimizer)\n",
        "        scaler.update()\n",
        "        # flush the gradients as soon as we can, no need for this memory anymore\n",
        "        optimizer.zero_grad(set_to_none=True)\n",
        "\n",
        "        # timing and logging\n",
        "        t1 = time.time()\n",
        "        dt = t1 - t0\n",
        "        t0 = t1\n",
        "        if iter_num % log_interval == 0 and master_process:\n",
        "            # get loss as float. note: this is a CPU-GPU sync point\n",
        "            # scale up to undo the division above, approximating the true total loss (exact would have been a sum)\n",
        "            lossf = loss.item() * gradient_accumulation_steps\n",
        "            if local_iter_num >= 5: # let the training loop settle a bit\n",
        "                mfu = raw_model.estimate_mfu(batch_size * gradient_accumulation_steps, dt)\n",
        "                running_mfu = mfu if running_mfu == -1.0 else 0.9*running_mfu + 0.1*mfu\n",
        "            print(f\"iter {iter_num}: loss {lossf:.4f}, time {dt*1000:.2f}ms, mfu {running_mfu*100:.2f}%\")\n",
        "        iter_num += 1\n",
        "        local_iter_num += 1\n",
        "\n",
        "        # termination conditions\n",
        "        if iter_num > max_iters:\n",
        "            break\n",
        "\n",
        "    if ddp:\n",
        "        destroy_process_group()\n",
        "\n",
        "wandb.agent(sweep_id, train)"
      ]
    }
  ],
  "metadata": {
    "colab": {
      "provenance": [],
      "collapsed_sections": [
        "a6K6eUDXjve1",
        "Ioxo6Rff6TKQ",
        "WVYwp0B79SMy",
        "kNW80QnyBip3",
        "TR2XdqGJD41D",
        "RpZogzdXUhee",
        "u05o4gTpU5-d"
      ]
    },
    "kernelspec": {
      "display_name": "Python 3",
      "name": "python3"
    },
    "language_info": {
      "name": "python"
    },
    "widgets": {
      "application/vnd.jupyter.widget-state+json": {
        "688389d77b1a41fcb4c2641ce41789f7": {
          "model_module": "@jupyter-widgets/controls",
          "model_name": "VBoxModel",
          "model_module_version": "1.5.0",
          "state": {
            "_dom_classes": [],
            "_model_module": "@jupyter-widgets/controls",
            "_model_module_version": "1.5.0",
            "_model_name": "VBoxModel",
            "_view_count": null,
            "_view_module": "@jupyter-widgets/controls",
            "_view_module_version": "1.5.0",
            "_view_name": "VBoxView",
            "box_style": "",
            "children": [
              "IPY_MODEL_49a9414d218a4ba59db343db592a9c4c",
              "IPY_MODEL_4cbe64ffc1ee4292a0d381ca4bd66254"
            ],
            "layout": "IPY_MODEL_6a4e3332e22a43eba3e65e337b35af05"
          }
        },
        "49a9414d218a4ba59db343db592a9c4c": {
          "model_module": "@jupyter-widgets/controls",
          "model_name": "LabelModel",
          "model_module_version": "1.5.0",
          "state": {
            "_dom_classes": [],
            "_model_module": "@jupyter-widgets/controls",
            "_model_module_version": "1.5.0",
            "_model_name": "LabelModel",
            "_view_count": null,
            "_view_module": "@jupyter-widgets/controls",
            "_view_module_version": "1.5.0",
            "_view_name": "LabelView",
            "description": "",
            "description_tooltip": null,
            "layout": "IPY_MODEL_efbf13a14a04466bb8163aa5216fa905",
            "placeholder": "​",
            "style": "IPY_MODEL_b0cbc7f9aff14a86b7f9c66cbd04aa22",
            "value": "0.044 MB of 0.044 MB uploaded\r"
          }
        },
        "4cbe64ffc1ee4292a0d381ca4bd66254": {
          "model_module": "@jupyter-widgets/controls",
          "model_name": "FloatProgressModel",
          "model_module_version": "1.5.0",
          "state": {
            "_dom_classes": [],
            "_model_module": "@jupyter-widgets/controls",
            "_model_module_version": "1.5.0",
            "_model_name": "FloatProgressModel",
            "_view_count": null,
            "_view_module": "@jupyter-widgets/controls",
            "_view_module_version": "1.5.0",
            "_view_name": "ProgressView",
            "bar_style": "",
            "description": "",
            "description_tooltip": null,
            "layout": "IPY_MODEL_b157ab83f3dc421e8588658dfdb56ec7",
            "max": 1,
            "min": 0,
            "orientation": "horizontal",
            "style": "IPY_MODEL_bace19870df445959b5b63aad5a06e31",
            "value": 1
          }
        },
        "6a4e3332e22a43eba3e65e337b35af05": {
          "model_module": "@jupyter-widgets/base",
          "model_name": "LayoutModel",
          "model_module_version": "1.2.0",
          "state": {
            "_model_module": "@jupyter-widgets/base",
            "_model_module_version": "1.2.0",
            "_model_name": "LayoutModel",
            "_view_count": null,
            "_view_module": "@jupyter-widgets/base",
            "_view_module_version": "1.2.0",
            "_view_name": "LayoutView",
            "align_content": null,
            "align_items": null,
            "align_self": null,
            "border": null,
            "bottom": null,
            "display": null,
            "flex": null,
            "flex_flow": null,
            "grid_area": null,
            "grid_auto_columns": null,
            "grid_auto_flow": null,
            "grid_auto_rows": null,
            "grid_column": null,
            "grid_gap": null,
            "grid_row": null,
            "grid_template_areas": null,
            "grid_template_columns": null,
            "grid_template_rows": null,
            "height": null,
            "justify_content": null,
            "justify_items": null,
            "left": null,
            "margin": null,
            "max_height": null,
            "max_width": null,
            "min_height": null,
            "min_width": null,
            "object_fit": null,
            "object_position": null,
            "order": null,
            "overflow": null,
            "overflow_x": null,
            "overflow_y": null,
            "padding": null,
            "right": null,
            "top": null,
            "visibility": null,
            "width": null
          }
        },
        "efbf13a14a04466bb8163aa5216fa905": {
          "model_module": "@jupyter-widgets/base",
          "model_name": "LayoutModel",
          "model_module_version": "1.2.0",
          "state": {
            "_model_module": "@jupyter-widgets/base",
            "_model_module_version": "1.2.0",
            "_model_name": "LayoutModel",
            "_view_count": null,
            "_view_module": "@jupyter-widgets/base",
            "_view_module_version": "1.2.0",
            "_view_name": "LayoutView",
            "align_content": null,
            "align_items": null,
            "align_self": null,
            "border": null,
            "bottom": null,
            "display": null,
            "flex": null,
            "flex_flow": null,
            "grid_area": null,
            "grid_auto_columns": null,
            "grid_auto_flow": null,
            "grid_auto_rows": null,
            "grid_column": null,
            "grid_gap": null,
            "grid_row": null,
            "grid_template_areas": null,
            "grid_template_columns": null,
            "grid_template_rows": null,
            "height": null,
            "justify_content": null,
            "justify_items": null,
            "left": null,
            "margin": null,
            "max_height": null,
            "max_width": null,
            "min_height": null,
            "min_width": null,
            "object_fit": null,
            "object_position": null,
            "order": null,
            "overflow": null,
            "overflow_x": null,
            "overflow_y": null,
            "padding": null,
            "right": null,
            "top": null,
            "visibility": null,
            "width": null
          }
        },
        "b0cbc7f9aff14a86b7f9c66cbd04aa22": {
          "model_module": "@jupyter-widgets/controls",
          "model_name": "DescriptionStyleModel",
          "model_module_version": "1.5.0",
          "state": {
            "_model_module": "@jupyter-widgets/controls",
            "_model_module_version": "1.5.0",
            "_model_name": "DescriptionStyleModel",
            "_view_count": null,
            "_view_module": "@jupyter-widgets/base",
            "_view_module_version": "1.2.0",
            "_view_name": "StyleView",
            "description_width": ""
          }
        },
        "b157ab83f3dc421e8588658dfdb56ec7": {
          "model_module": "@jupyter-widgets/base",
          "model_name": "LayoutModel",
          "model_module_version": "1.2.0",
          "state": {
            "_model_module": "@jupyter-widgets/base",
            "_model_module_version": "1.2.0",
            "_model_name": "LayoutModel",
            "_view_count": null,
            "_view_module": "@jupyter-widgets/base",
            "_view_module_version": "1.2.0",
            "_view_name": "LayoutView",
            "align_content": null,
            "align_items": null,
            "align_self": null,
            "border": null,
            "bottom": null,
            "display": null,
            "flex": null,
            "flex_flow": null,
            "grid_area": null,
            "grid_auto_columns": null,
            "grid_auto_flow": null,
            "grid_auto_rows": null,
            "grid_column": null,
            "grid_gap": null,
            "grid_row": null,
            "grid_template_areas": null,
            "grid_template_columns": null,
            "grid_template_rows": null,
            "height": null,
            "justify_content": null,
            "justify_items": null,
            "left": null,
            "margin": null,
            "max_height": null,
            "max_width": null,
            "min_height": null,
            "min_width": null,
            "object_fit": null,
            "object_position": null,
            "order": null,
            "overflow": null,
            "overflow_x": null,
            "overflow_y": null,
            "padding": null,
            "right": null,
            "top": null,
            "visibility": null,
            "width": null
          }
        },
        "bace19870df445959b5b63aad5a06e31": {
          "model_module": "@jupyter-widgets/controls",
          "model_name": "ProgressStyleModel",
          "model_module_version": "1.5.0",
          "state": {
            "_model_module": "@jupyter-widgets/controls",
            "_model_module_version": "1.5.0",
            "_model_name": "ProgressStyleModel",
            "_view_count": null,
            "_view_module": "@jupyter-widgets/base",
            "_view_module_version": "1.2.0",
            "_view_name": "StyleView",
            "bar_color": null,
            "description_width": ""
          }
        },
        "8837ef15a9b94404bf01be106932a7fe": {
          "model_module": "@jupyter-widgets/controls",
          "model_name": "VBoxModel",
          "model_module_version": "1.5.0",
          "state": {
            "_dom_classes": [],
            "_model_module": "@jupyter-widgets/controls",
            "_model_module_version": "1.5.0",
            "_model_name": "VBoxModel",
            "_view_count": null,
            "_view_module": "@jupyter-widgets/controls",
            "_view_module_version": "1.5.0",
            "_view_name": "VBoxView",
            "box_style": "",
            "children": [
              "IPY_MODEL_63db089c4d954fb69426275f5a12adff",
              "IPY_MODEL_f077016e45a34473a488bca27fa5697b"
            ],
            "layout": "IPY_MODEL_c0821fc4d2d34a6fa466fb04c46e0aa7"
          }
        },
        "63db089c4d954fb69426275f5a12adff": {
          "model_module": "@jupyter-widgets/controls",
          "model_name": "LabelModel",
          "model_module_version": "1.5.0",
          "state": {
            "_dom_classes": [],
            "_model_module": "@jupyter-widgets/controls",
            "_model_module_version": "1.5.0",
            "_model_name": "LabelModel",
            "_view_count": null,
            "_view_module": "@jupyter-widgets/controls",
            "_view_module_version": "1.5.0",
            "_view_name": "LabelView",
            "description": "",
            "description_tooltip": null,
            "layout": "IPY_MODEL_bf90a6ffae2d4e488a614cdd70a36e60",
            "placeholder": "​",
            "style": "IPY_MODEL_8c10f99435534766a2fdd039e6d73087",
            "value": "0.049 MB of 0.049 MB uploaded\r"
          }
        },
        "f077016e45a34473a488bca27fa5697b": {
          "model_module": "@jupyter-widgets/controls",
          "model_name": "FloatProgressModel",
          "model_module_version": "1.5.0",
          "state": {
            "_dom_classes": [],
            "_model_module": "@jupyter-widgets/controls",
            "_model_module_version": "1.5.0",
            "_model_name": "FloatProgressModel",
            "_view_count": null,
            "_view_module": "@jupyter-widgets/controls",
            "_view_module_version": "1.5.0",
            "_view_name": "ProgressView",
            "bar_style": "",
            "description": "",
            "description_tooltip": null,
            "layout": "IPY_MODEL_d07268d34fd54e33ae42240a43f88f3b",
            "max": 1,
            "min": 0,
            "orientation": "horizontal",
            "style": "IPY_MODEL_f3d942a9bffc44a6b385456e9cc86bb4",
            "value": 1
          }
        },
        "c0821fc4d2d34a6fa466fb04c46e0aa7": {
          "model_module": "@jupyter-widgets/base",
          "model_name": "LayoutModel",
          "model_module_version": "1.2.0",
          "state": {
            "_model_module": "@jupyter-widgets/base",
            "_model_module_version": "1.2.0",
            "_model_name": "LayoutModel",
            "_view_count": null,
            "_view_module": "@jupyter-widgets/base",
            "_view_module_version": "1.2.0",
            "_view_name": "LayoutView",
            "align_content": null,
            "align_items": null,
            "align_self": null,
            "border": null,
            "bottom": null,
            "display": null,
            "flex": null,
            "flex_flow": null,
            "grid_area": null,
            "grid_auto_columns": null,
            "grid_auto_flow": null,
            "grid_auto_rows": null,
            "grid_column": null,
            "grid_gap": null,
            "grid_row": null,
            "grid_template_areas": null,
            "grid_template_columns": null,
            "grid_template_rows": null,
            "height": null,
            "justify_content": null,
            "justify_items": null,
            "left": null,
            "margin": null,
            "max_height": null,
            "max_width": null,
            "min_height": null,
            "min_width": null,
            "object_fit": null,
            "object_position": null,
            "order": null,
            "overflow": null,
            "overflow_x": null,
            "overflow_y": null,
            "padding": null,
            "right": null,
            "top": null,
            "visibility": null,
            "width": null
          }
        },
        "bf90a6ffae2d4e488a614cdd70a36e60": {
          "model_module": "@jupyter-widgets/base",
          "model_name": "LayoutModel",
          "model_module_version": "1.2.0",
          "state": {
            "_model_module": "@jupyter-widgets/base",
            "_model_module_version": "1.2.0",
            "_model_name": "LayoutModel",
            "_view_count": null,
            "_view_module": "@jupyter-widgets/base",
            "_view_module_version": "1.2.0",
            "_view_name": "LayoutView",
            "align_content": null,
            "align_items": null,
            "align_self": null,
            "border": null,
            "bottom": null,
            "display": null,
            "flex": null,
            "flex_flow": null,
            "grid_area": null,
            "grid_auto_columns": null,
            "grid_auto_flow": null,
            "grid_auto_rows": null,
            "grid_column": null,
            "grid_gap": null,
            "grid_row": null,
            "grid_template_areas": null,
            "grid_template_columns": null,
            "grid_template_rows": null,
            "height": null,
            "justify_content": null,
            "justify_items": null,
            "left": null,
            "margin": null,
            "max_height": null,
            "max_width": null,
            "min_height": null,
            "min_width": null,
            "object_fit": null,
            "object_position": null,
            "order": null,
            "overflow": null,
            "overflow_x": null,
            "overflow_y": null,
            "padding": null,
            "right": null,
            "top": null,
            "visibility": null,
            "width": null
          }
        },
        "8c10f99435534766a2fdd039e6d73087": {
          "model_module": "@jupyter-widgets/controls",
          "model_name": "DescriptionStyleModel",
          "model_module_version": "1.5.0",
          "state": {
            "_model_module": "@jupyter-widgets/controls",
            "_model_module_version": "1.5.0",
            "_model_name": "DescriptionStyleModel",
            "_view_count": null,
            "_view_module": "@jupyter-widgets/base",
            "_view_module_version": "1.2.0",
            "_view_name": "StyleView",
            "description_width": ""
          }
        },
        "d07268d34fd54e33ae42240a43f88f3b": {
          "model_module": "@jupyter-widgets/base",
          "model_name": "LayoutModel",
          "model_module_version": "1.2.0",
          "state": {
            "_model_module": "@jupyter-widgets/base",
            "_model_module_version": "1.2.0",
            "_model_name": "LayoutModel",
            "_view_count": null,
            "_view_module": "@jupyter-widgets/base",
            "_view_module_version": "1.2.0",
            "_view_name": "LayoutView",
            "align_content": null,
            "align_items": null,
            "align_self": null,
            "border": null,
            "bottom": null,
            "display": null,
            "flex": null,
            "flex_flow": null,
            "grid_area": null,
            "grid_auto_columns": null,
            "grid_auto_flow": null,
            "grid_auto_rows": null,
            "grid_column": null,
            "grid_gap": null,
            "grid_row": null,
            "grid_template_areas": null,
            "grid_template_columns": null,
            "grid_template_rows": null,
            "height": null,
            "justify_content": null,
            "justify_items": null,
            "left": null,
            "margin": null,
            "max_height": null,
            "max_width": null,
            "min_height": null,
            "min_width": null,
            "object_fit": null,
            "object_position": null,
            "order": null,
            "overflow": null,
            "overflow_x": null,
            "overflow_y": null,
            "padding": null,
            "right": null,
            "top": null,
            "visibility": null,
            "width": null
          }
        },
        "f3d942a9bffc44a6b385456e9cc86bb4": {
          "model_module": "@jupyter-widgets/controls",
          "model_name": "ProgressStyleModel",
          "model_module_version": "1.5.0",
          "state": {
            "_model_module": "@jupyter-widgets/controls",
            "_model_module_version": "1.5.0",
            "_model_name": "ProgressStyleModel",
            "_view_count": null,
            "_view_module": "@jupyter-widgets/base",
            "_view_module_version": "1.2.0",
            "_view_name": "StyleView",
            "bar_color": null,
            "description_width": ""
          }
        },
        "38187cf4053a47fa93bf65ed0786d492": {
          "model_module": "@jupyter-widgets/controls",
          "model_name": "VBoxModel",
          "model_module_version": "1.5.0",
          "state": {
            "_dom_classes": [],
            "_model_module": "@jupyter-widgets/controls",
            "_model_module_version": "1.5.0",
            "_model_name": "VBoxModel",
            "_view_count": null,
            "_view_module": "@jupyter-widgets/controls",
            "_view_module_version": "1.5.0",
            "_view_name": "VBoxView",
            "box_style": "",
            "children": [
              "IPY_MODEL_99203d1c28ef4636b4a078ee9b48ead9",
              "IPY_MODEL_35b7997c4b4d436e91152784b1f56a86"
            ],
            "layout": "IPY_MODEL_5de04446b1fb405998eebf5755dd4788"
          }
        },
        "99203d1c28ef4636b4a078ee9b48ead9": {
          "model_module": "@jupyter-widgets/controls",
          "model_name": "LabelModel",
          "model_module_version": "1.5.0",
          "state": {
            "_dom_classes": [],
            "_model_module": "@jupyter-widgets/controls",
            "_model_module_version": "1.5.0",
            "_model_name": "LabelModel",
            "_view_count": null,
            "_view_module": "@jupyter-widgets/controls",
            "_view_module_version": "1.5.0",
            "_view_name": "LabelView",
            "description": "",
            "description_tooltip": null,
            "layout": "IPY_MODEL_b91f709066894190a30ee4355edc6254",
            "placeholder": "​",
            "style": "IPY_MODEL_7c85866c07224bec99f018c0fe385644",
            "value": "0.048 MB of 0.048 MB uploaded\r"
          }
        },
        "35b7997c4b4d436e91152784b1f56a86": {
          "model_module": "@jupyter-widgets/controls",
          "model_name": "FloatProgressModel",
          "model_module_version": "1.5.0",
          "state": {
            "_dom_classes": [],
            "_model_module": "@jupyter-widgets/controls",
            "_model_module_version": "1.5.0",
            "_model_name": "FloatProgressModel",
            "_view_count": null,
            "_view_module": "@jupyter-widgets/controls",
            "_view_module_version": "1.5.0",
            "_view_name": "ProgressView",
            "bar_style": "",
            "description": "",
            "description_tooltip": null,
            "layout": "IPY_MODEL_9aff8ef856b74ea8a607f7a0e3047b78",
            "max": 1,
            "min": 0,
            "orientation": "horizontal",
            "style": "IPY_MODEL_16d0fb8d356940da98c90ac78c06c31e",
            "value": 1
          }
        },
        "5de04446b1fb405998eebf5755dd4788": {
          "model_module": "@jupyter-widgets/base",
          "model_name": "LayoutModel",
          "model_module_version": "1.2.0",
          "state": {
            "_model_module": "@jupyter-widgets/base",
            "_model_module_version": "1.2.0",
            "_model_name": "LayoutModel",
            "_view_count": null,
            "_view_module": "@jupyter-widgets/base",
            "_view_module_version": "1.2.0",
            "_view_name": "LayoutView",
            "align_content": null,
            "align_items": null,
            "align_self": null,
            "border": null,
            "bottom": null,
            "display": null,
            "flex": null,
            "flex_flow": null,
            "grid_area": null,
            "grid_auto_columns": null,
            "grid_auto_flow": null,
            "grid_auto_rows": null,
            "grid_column": null,
            "grid_gap": null,
            "grid_row": null,
            "grid_template_areas": null,
            "grid_template_columns": null,
            "grid_template_rows": null,
            "height": null,
            "justify_content": null,
            "justify_items": null,
            "left": null,
            "margin": null,
            "max_height": null,
            "max_width": null,
            "min_height": null,
            "min_width": null,
            "object_fit": null,
            "object_position": null,
            "order": null,
            "overflow": null,
            "overflow_x": null,
            "overflow_y": null,
            "padding": null,
            "right": null,
            "top": null,
            "visibility": null,
            "width": null
          }
        },
        "b91f709066894190a30ee4355edc6254": {
          "model_module": "@jupyter-widgets/base",
          "model_name": "LayoutModel",
          "model_module_version": "1.2.0",
          "state": {
            "_model_module": "@jupyter-widgets/base",
            "_model_module_version": "1.2.0",
            "_model_name": "LayoutModel",
            "_view_count": null,
            "_view_module": "@jupyter-widgets/base",
            "_view_module_version": "1.2.0",
            "_view_name": "LayoutView",
            "align_content": null,
            "align_items": null,
            "align_self": null,
            "border": null,
            "bottom": null,
            "display": null,
            "flex": null,
            "flex_flow": null,
            "grid_area": null,
            "grid_auto_columns": null,
            "grid_auto_flow": null,
            "grid_auto_rows": null,
            "grid_column": null,
            "grid_gap": null,
            "grid_row": null,
            "grid_template_areas": null,
            "grid_template_columns": null,
            "grid_template_rows": null,
            "height": null,
            "justify_content": null,
            "justify_items": null,
            "left": null,
            "margin": null,
            "max_height": null,
            "max_width": null,
            "min_height": null,
            "min_width": null,
            "object_fit": null,
            "object_position": null,
            "order": null,
            "overflow": null,
            "overflow_x": null,
            "overflow_y": null,
            "padding": null,
            "right": null,
            "top": null,
            "visibility": null,
            "width": null
          }
        },
        "7c85866c07224bec99f018c0fe385644": {
          "model_module": "@jupyter-widgets/controls",
          "model_name": "DescriptionStyleModel",
          "model_module_version": "1.5.0",
          "state": {
            "_model_module": "@jupyter-widgets/controls",
            "_model_module_version": "1.5.0",
            "_model_name": "DescriptionStyleModel",
            "_view_count": null,
            "_view_module": "@jupyter-widgets/base",
            "_view_module_version": "1.2.0",
            "_view_name": "StyleView",
            "description_width": ""
          }
        },
        "9aff8ef856b74ea8a607f7a0e3047b78": {
          "model_module": "@jupyter-widgets/base",
          "model_name": "LayoutModel",
          "model_module_version": "1.2.0",
          "state": {
            "_model_module": "@jupyter-widgets/base",
            "_model_module_version": "1.2.0",
            "_model_name": "LayoutModel",
            "_view_count": null,
            "_view_module": "@jupyter-widgets/base",
            "_view_module_version": "1.2.0",
            "_view_name": "LayoutView",
            "align_content": null,
            "align_items": null,
            "align_self": null,
            "border": null,
            "bottom": null,
            "display": null,
            "flex": null,
            "flex_flow": null,
            "grid_area": null,
            "grid_auto_columns": null,
            "grid_auto_flow": null,
            "grid_auto_rows": null,
            "grid_column": null,
            "grid_gap": null,
            "grid_row": null,
            "grid_template_areas": null,
            "grid_template_columns": null,
            "grid_template_rows": null,
            "height": null,
            "justify_content": null,
            "justify_items": null,
            "left": null,
            "margin": null,
            "max_height": null,
            "max_width": null,
            "min_height": null,
            "min_width": null,
            "object_fit": null,
            "object_position": null,
            "order": null,
            "overflow": null,
            "overflow_x": null,
            "overflow_y": null,
            "padding": null,
            "right": null,
            "top": null,
            "visibility": null,
            "width": null
          }
        },
        "16d0fb8d356940da98c90ac78c06c31e": {
          "model_module": "@jupyter-widgets/controls",
          "model_name": "ProgressStyleModel",
          "model_module_version": "1.5.0",
          "state": {
            "_model_module": "@jupyter-widgets/controls",
            "_model_module_version": "1.5.0",
            "_model_name": "ProgressStyleModel",
            "_view_count": null,
            "_view_module": "@jupyter-widgets/base",
            "_view_module_version": "1.2.0",
            "_view_name": "StyleView",
            "bar_color": null,
            "description_width": ""
          }
        },
        "cdb97ce5269b423e943173e397451ff5": {
          "model_module": "@jupyter-widgets/controls",
          "model_name": "VBoxModel",
          "model_module_version": "1.5.0",
          "state": {
            "_dom_classes": [],
            "_model_module": "@jupyter-widgets/controls",
            "_model_module_version": "1.5.0",
            "_model_name": "VBoxModel",
            "_view_count": null,
            "_view_module": "@jupyter-widgets/controls",
            "_view_module_version": "1.5.0",
            "_view_name": "VBoxView",
            "box_style": "",
            "children": [
              "IPY_MODEL_9891aa21641d400aa03fc8655cfd7777",
              "IPY_MODEL_f4fce592be8c45d19fffd5e6cca46c69"
            ],
            "layout": "IPY_MODEL_8b9cb1f206bc4a1d843b7c30ab5160a3"
          }
        },
        "9891aa21641d400aa03fc8655cfd7777": {
          "model_module": "@jupyter-widgets/controls",
          "model_name": "LabelModel",
          "model_module_version": "1.5.0",
          "state": {
            "_dom_classes": [],
            "_model_module": "@jupyter-widgets/controls",
            "_model_module_version": "1.5.0",
            "_model_name": "LabelModel",
            "_view_count": null,
            "_view_module": "@jupyter-widgets/controls",
            "_view_module_version": "1.5.0",
            "_view_name": "LabelView",
            "description": "",
            "description_tooltip": null,
            "layout": "IPY_MODEL_ed5c20d6d07a44198309ae01ab9fd920",
            "placeholder": "​",
            "style": "IPY_MODEL_ca122d296ec445faa25de69482a47131",
            "value": "0.049 MB of 0.049 MB uploaded\r"
          }
        },
        "f4fce592be8c45d19fffd5e6cca46c69": {
          "model_module": "@jupyter-widgets/controls",
          "model_name": "FloatProgressModel",
          "model_module_version": "1.5.0",
          "state": {
            "_dom_classes": [],
            "_model_module": "@jupyter-widgets/controls",
            "_model_module_version": "1.5.0",
            "_model_name": "FloatProgressModel",
            "_view_count": null,
            "_view_module": "@jupyter-widgets/controls",
            "_view_module_version": "1.5.0",
            "_view_name": "ProgressView",
            "bar_style": "",
            "description": "",
            "description_tooltip": null,
            "layout": "IPY_MODEL_5d76a1d2322c4c08adb98d5966890f42",
            "max": 1,
            "min": 0,
            "orientation": "horizontal",
            "style": "IPY_MODEL_d4bec1d3ee6c40eaae56764dd029a56c",
            "value": 1
          }
        },
        "8b9cb1f206bc4a1d843b7c30ab5160a3": {
          "model_module": "@jupyter-widgets/base",
          "model_name": "LayoutModel",
          "model_module_version": "1.2.0",
          "state": {
            "_model_module": "@jupyter-widgets/base",
            "_model_module_version": "1.2.0",
            "_model_name": "LayoutModel",
            "_view_count": null,
            "_view_module": "@jupyter-widgets/base",
            "_view_module_version": "1.2.0",
            "_view_name": "LayoutView",
            "align_content": null,
            "align_items": null,
            "align_self": null,
            "border": null,
            "bottom": null,
            "display": null,
            "flex": null,
            "flex_flow": null,
            "grid_area": null,
            "grid_auto_columns": null,
            "grid_auto_flow": null,
            "grid_auto_rows": null,
            "grid_column": null,
            "grid_gap": null,
            "grid_row": null,
            "grid_template_areas": null,
            "grid_template_columns": null,
            "grid_template_rows": null,
            "height": null,
            "justify_content": null,
            "justify_items": null,
            "left": null,
            "margin": null,
            "max_height": null,
            "max_width": null,
            "min_height": null,
            "min_width": null,
            "object_fit": null,
            "object_position": null,
            "order": null,
            "overflow": null,
            "overflow_x": null,
            "overflow_y": null,
            "padding": null,
            "right": null,
            "top": null,
            "visibility": null,
            "width": null
          }
        },
        "ed5c20d6d07a44198309ae01ab9fd920": {
          "model_module": "@jupyter-widgets/base",
          "model_name": "LayoutModel",
          "model_module_version": "1.2.0",
          "state": {
            "_model_module": "@jupyter-widgets/base",
            "_model_module_version": "1.2.0",
            "_model_name": "LayoutModel",
            "_view_count": null,
            "_view_module": "@jupyter-widgets/base",
            "_view_module_version": "1.2.0",
            "_view_name": "LayoutView",
            "align_content": null,
            "align_items": null,
            "align_self": null,
            "border": null,
            "bottom": null,
            "display": null,
            "flex": null,
            "flex_flow": null,
            "grid_area": null,
            "grid_auto_columns": null,
            "grid_auto_flow": null,
            "grid_auto_rows": null,
            "grid_column": null,
            "grid_gap": null,
            "grid_row": null,
            "grid_template_areas": null,
            "grid_template_columns": null,
            "grid_template_rows": null,
            "height": null,
            "justify_content": null,
            "justify_items": null,
            "left": null,
            "margin": null,
            "max_height": null,
            "max_width": null,
            "min_height": null,
            "min_width": null,
            "object_fit": null,
            "object_position": null,
            "order": null,
            "overflow": null,
            "overflow_x": null,
            "overflow_y": null,
            "padding": null,
            "right": null,
            "top": null,
            "visibility": null,
            "width": null
          }
        },
        "ca122d296ec445faa25de69482a47131": {
          "model_module": "@jupyter-widgets/controls",
          "model_name": "DescriptionStyleModel",
          "model_module_version": "1.5.0",
          "state": {
            "_model_module": "@jupyter-widgets/controls",
            "_model_module_version": "1.5.0",
            "_model_name": "DescriptionStyleModel",
            "_view_count": null,
            "_view_module": "@jupyter-widgets/base",
            "_view_module_version": "1.2.0",
            "_view_name": "StyleView",
            "description_width": ""
          }
        },
        "5d76a1d2322c4c08adb98d5966890f42": {
          "model_module": "@jupyter-widgets/base",
          "model_name": "LayoutModel",
          "model_module_version": "1.2.0",
          "state": {
            "_model_module": "@jupyter-widgets/base",
            "_model_module_version": "1.2.0",
            "_model_name": "LayoutModel",
            "_view_count": null,
            "_view_module": "@jupyter-widgets/base",
            "_view_module_version": "1.2.0",
            "_view_name": "LayoutView",
            "align_content": null,
            "align_items": null,
            "align_self": null,
            "border": null,
            "bottom": null,
            "display": null,
            "flex": null,
            "flex_flow": null,
            "grid_area": null,
            "grid_auto_columns": null,
            "grid_auto_flow": null,
            "grid_auto_rows": null,
            "grid_column": null,
            "grid_gap": null,
            "grid_row": null,
            "grid_template_areas": null,
            "grid_template_columns": null,
            "grid_template_rows": null,
            "height": null,
            "justify_content": null,
            "justify_items": null,
            "left": null,
            "margin": null,
            "max_height": null,
            "max_width": null,
            "min_height": null,
            "min_width": null,
            "object_fit": null,
            "object_position": null,
            "order": null,
            "overflow": null,
            "overflow_x": null,
            "overflow_y": null,
            "padding": null,
            "right": null,
            "top": null,
            "visibility": null,
            "width": null
          }
        },
        "d4bec1d3ee6c40eaae56764dd029a56c": {
          "model_module": "@jupyter-widgets/controls",
          "model_name": "ProgressStyleModel",
          "model_module_version": "1.5.0",
          "state": {
            "_model_module": "@jupyter-widgets/controls",
            "_model_module_version": "1.5.0",
            "_model_name": "ProgressStyleModel",
            "_view_count": null,
            "_view_module": "@jupyter-widgets/base",
            "_view_module_version": "1.2.0",
            "_view_name": "StyleView",
            "bar_color": null,
            "description_width": ""
          }
        },
        "b29e2d2a0fb24536823b3292809e8a71": {
          "model_module": "@jupyter-widgets/controls",
          "model_name": "VBoxModel",
          "model_module_version": "1.5.0",
          "state": {
            "_dom_classes": [],
            "_model_module": "@jupyter-widgets/controls",
            "_model_module_version": "1.5.0",
            "_model_name": "VBoxModel",
            "_view_count": null,
            "_view_module": "@jupyter-widgets/controls",
            "_view_module_version": "1.5.0",
            "_view_name": "VBoxView",
            "box_style": "",
            "children": [
              "IPY_MODEL_097419929df74013889cd29be508bdca",
              "IPY_MODEL_e23aaba5f5d44608996df7711815bbb2"
            ],
            "layout": "IPY_MODEL_b035945af1714a7aa71496a72732086a"
          }
        },
        "097419929df74013889cd29be508bdca": {
          "model_module": "@jupyter-widgets/controls",
          "model_name": "LabelModel",
          "model_module_version": "1.5.0",
          "state": {
            "_dom_classes": [],
            "_model_module": "@jupyter-widgets/controls",
            "_model_module_version": "1.5.0",
            "_model_name": "LabelModel",
            "_view_count": null,
            "_view_module": "@jupyter-widgets/controls",
            "_view_module_version": "1.5.0",
            "_view_name": "LabelView",
            "description": "",
            "description_tooltip": null,
            "layout": "IPY_MODEL_b660df8ce3834af1875fe2718f6cb98f",
            "placeholder": "​",
            "style": "IPY_MODEL_b5e6098b34324a7abb0bbfd13e83d737",
            "value": "0.049 MB of 0.049 MB uploaded\r"
          }
        },
        "e23aaba5f5d44608996df7711815bbb2": {
          "model_module": "@jupyter-widgets/controls",
          "model_name": "FloatProgressModel",
          "model_module_version": "1.5.0",
          "state": {
            "_dom_classes": [],
            "_model_module": "@jupyter-widgets/controls",
            "_model_module_version": "1.5.0",
            "_model_name": "FloatProgressModel",
            "_view_count": null,
            "_view_module": "@jupyter-widgets/controls",
            "_view_module_version": "1.5.0",
            "_view_name": "ProgressView",
            "bar_style": "",
            "description": "",
            "description_tooltip": null,
            "layout": "IPY_MODEL_6e097d9bcb8e4d1f830a7f30dd986d4e",
            "max": 1,
            "min": 0,
            "orientation": "horizontal",
            "style": "IPY_MODEL_c4438086355647faa1cfa7c1b7cb3597",
            "value": 1
          }
        },
        "b035945af1714a7aa71496a72732086a": {
          "model_module": "@jupyter-widgets/base",
          "model_name": "LayoutModel",
          "model_module_version": "1.2.0",
          "state": {
            "_model_module": "@jupyter-widgets/base",
            "_model_module_version": "1.2.0",
            "_model_name": "LayoutModel",
            "_view_count": null,
            "_view_module": "@jupyter-widgets/base",
            "_view_module_version": "1.2.0",
            "_view_name": "LayoutView",
            "align_content": null,
            "align_items": null,
            "align_self": null,
            "border": null,
            "bottom": null,
            "display": null,
            "flex": null,
            "flex_flow": null,
            "grid_area": null,
            "grid_auto_columns": null,
            "grid_auto_flow": null,
            "grid_auto_rows": null,
            "grid_column": null,
            "grid_gap": null,
            "grid_row": null,
            "grid_template_areas": null,
            "grid_template_columns": null,
            "grid_template_rows": null,
            "height": null,
            "justify_content": null,
            "justify_items": null,
            "left": null,
            "margin": null,
            "max_height": null,
            "max_width": null,
            "min_height": null,
            "min_width": null,
            "object_fit": null,
            "object_position": null,
            "order": null,
            "overflow": null,
            "overflow_x": null,
            "overflow_y": null,
            "padding": null,
            "right": null,
            "top": null,
            "visibility": null,
            "width": null
          }
        },
        "b660df8ce3834af1875fe2718f6cb98f": {
          "model_module": "@jupyter-widgets/base",
          "model_name": "LayoutModel",
          "model_module_version": "1.2.0",
          "state": {
            "_model_module": "@jupyter-widgets/base",
            "_model_module_version": "1.2.0",
            "_model_name": "LayoutModel",
            "_view_count": null,
            "_view_module": "@jupyter-widgets/base",
            "_view_module_version": "1.2.0",
            "_view_name": "LayoutView",
            "align_content": null,
            "align_items": null,
            "align_self": null,
            "border": null,
            "bottom": null,
            "display": null,
            "flex": null,
            "flex_flow": null,
            "grid_area": null,
            "grid_auto_columns": null,
            "grid_auto_flow": null,
            "grid_auto_rows": null,
            "grid_column": null,
            "grid_gap": null,
            "grid_row": null,
            "grid_template_areas": null,
            "grid_template_columns": null,
            "grid_template_rows": null,
            "height": null,
            "justify_content": null,
            "justify_items": null,
            "left": null,
            "margin": null,
            "max_height": null,
            "max_width": null,
            "min_height": null,
            "min_width": null,
            "object_fit": null,
            "object_position": null,
            "order": null,
            "overflow": null,
            "overflow_x": null,
            "overflow_y": null,
            "padding": null,
            "right": null,
            "top": null,
            "visibility": null,
            "width": null
          }
        },
        "b5e6098b34324a7abb0bbfd13e83d737": {
          "model_module": "@jupyter-widgets/controls",
          "model_name": "DescriptionStyleModel",
          "model_module_version": "1.5.0",
          "state": {
            "_model_module": "@jupyter-widgets/controls",
            "_model_module_version": "1.5.0",
            "_model_name": "DescriptionStyleModel",
            "_view_count": null,
            "_view_module": "@jupyter-widgets/base",
            "_view_module_version": "1.2.0",
            "_view_name": "StyleView",
            "description_width": ""
          }
        },
        "6e097d9bcb8e4d1f830a7f30dd986d4e": {
          "model_module": "@jupyter-widgets/base",
          "model_name": "LayoutModel",
          "model_module_version": "1.2.0",
          "state": {
            "_model_module": "@jupyter-widgets/base",
            "_model_module_version": "1.2.0",
            "_model_name": "LayoutModel",
            "_view_count": null,
            "_view_module": "@jupyter-widgets/base",
            "_view_module_version": "1.2.0",
            "_view_name": "LayoutView",
            "align_content": null,
            "align_items": null,
            "align_self": null,
            "border": null,
            "bottom": null,
            "display": null,
            "flex": null,
            "flex_flow": null,
            "grid_area": null,
            "grid_auto_columns": null,
            "grid_auto_flow": null,
            "grid_auto_rows": null,
            "grid_column": null,
            "grid_gap": null,
            "grid_row": null,
            "grid_template_areas": null,
            "grid_template_columns": null,
            "grid_template_rows": null,
            "height": null,
            "justify_content": null,
            "justify_items": null,
            "left": null,
            "margin": null,
            "max_height": null,
            "max_width": null,
            "min_height": null,
            "min_width": null,
            "object_fit": null,
            "object_position": null,
            "order": null,
            "overflow": null,
            "overflow_x": null,
            "overflow_y": null,
            "padding": null,
            "right": null,
            "top": null,
            "visibility": null,
            "width": null
          }
        },
        "c4438086355647faa1cfa7c1b7cb3597": {
          "model_module": "@jupyter-widgets/controls",
          "model_name": "ProgressStyleModel",
          "model_module_version": "1.5.0",
          "state": {
            "_model_module": "@jupyter-widgets/controls",
            "_model_module_version": "1.5.0",
            "_model_name": "ProgressStyleModel",
            "_view_count": null,
            "_view_module": "@jupyter-widgets/base",
            "_view_module_version": "1.2.0",
            "_view_name": "StyleView",
            "bar_color": null,
            "description_width": ""
          }
        },
        "197ea9f9960c4726a70694d9bd1c475b": {
          "model_module": "@jupyter-widgets/controls",
          "model_name": "VBoxModel",
          "model_module_version": "1.5.0",
          "state": {
            "_dom_classes": [],
            "_model_module": "@jupyter-widgets/controls",
            "_model_module_version": "1.5.0",
            "_model_name": "VBoxModel",
            "_view_count": null,
            "_view_module": "@jupyter-widgets/controls",
            "_view_module_version": "1.5.0",
            "_view_name": "VBoxView",
            "box_style": "",
            "children": [
              "IPY_MODEL_5fe6ef7a301644ffa3422916aa86e249",
              "IPY_MODEL_4822c404026347d7954c920bad56358f"
            ],
            "layout": "IPY_MODEL_9f7741410ebc43f6aaf9983f33239c6d"
          }
        },
        "5fe6ef7a301644ffa3422916aa86e249": {
          "model_module": "@jupyter-widgets/controls",
          "model_name": "LabelModel",
          "model_module_version": "1.5.0",
          "state": {
            "_dom_classes": [],
            "_model_module": "@jupyter-widgets/controls",
            "_model_module_version": "1.5.0",
            "_model_name": "LabelModel",
            "_view_count": null,
            "_view_module": "@jupyter-widgets/controls",
            "_view_module_version": "1.5.0",
            "_view_name": "LabelView",
            "description": "",
            "description_tooltip": null,
            "layout": "IPY_MODEL_16e8c43c189844c89bca0572eaeb7199",
            "placeholder": "​",
            "style": "IPY_MODEL_461b80ee13b54479b9ea5e13d4dca5a7",
            "value": "0.049 MB of 0.049 MB uploaded\r"
          }
        },
        "4822c404026347d7954c920bad56358f": {
          "model_module": "@jupyter-widgets/controls",
          "model_name": "FloatProgressModel",
          "model_module_version": "1.5.0",
          "state": {
            "_dom_classes": [],
            "_model_module": "@jupyter-widgets/controls",
            "_model_module_version": "1.5.0",
            "_model_name": "FloatProgressModel",
            "_view_count": null,
            "_view_module": "@jupyter-widgets/controls",
            "_view_module_version": "1.5.0",
            "_view_name": "ProgressView",
            "bar_style": "",
            "description": "",
            "description_tooltip": null,
            "layout": "IPY_MODEL_cae70b12fc2544d9b0026d45ab890f3e",
            "max": 1,
            "min": 0,
            "orientation": "horizontal",
            "style": "IPY_MODEL_4043545b934441aabaffca8cb03dbe90",
            "value": 1
          }
        },
        "9f7741410ebc43f6aaf9983f33239c6d": {
          "model_module": "@jupyter-widgets/base",
          "model_name": "LayoutModel",
          "model_module_version": "1.2.0",
          "state": {
            "_model_module": "@jupyter-widgets/base",
            "_model_module_version": "1.2.0",
            "_model_name": "LayoutModel",
            "_view_count": null,
            "_view_module": "@jupyter-widgets/base",
            "_view_module_version": "1.2.0",
            "_view_name": "LayoutView",
            "align_content": null,
            "align_items": null,
            "align_self": null,
            "border": null,
            "bottom": null,
            "display": null,
            "flex": null,
            "flex_flow": null,
            "grid_area": null,
            "grid_auto_columns": null,
            "grid_auto_flow": null,
            "grid_auto_rows": null,
            "grid_column": null,
            "grid_gap": null,
            "grid_row": null,
            "grid_template_areas": null,
            "grid_template_columns": null,
            "grid_template_rows": null,
            "height": null,
            "justify_content": null,
            "justify_items": null,
            "left": null,
            "margin": null,
            "max_height": null,
            "max_width": null,
            "min_height": null,
            "min_width": null,
            "object_fit": null,
            "object_position": null,
            "order": null,
            "overflow": null,
            "overflow_x": null,
            "overflow_y": null,
            "padding": null,
            "right": null,
            "top": null,
            "visibility": null,
            "width": null
          }
        },
        "16e8c43c189844c89bca0572eaeb7199": {
          "model_module": "@jupyter-widgets/base",
          "model_name": "LayoutModel",
          "model_module_version": "1.2.0",
          "state": {
            "_model_module": "@jupyter-widgets/base",
            "_model_module_version": "1.2.0",
            "_model_name": "LayoutModel",
            "_view_count": null,
            "_view_module": "@jupyter-widgets/base",
            "_view_module_version": "1.2.0",
            "_view_name": "LayoutView",
            "align_content": null,
            "align_items": null,
            "align_self": null,
            "border": null,
            "bottom": null,
            "display": null,
            "flex": null,
            "flex_flow": null,
            "grid_area": null,
            "grid_auto_columns": null,
            "grid_auto_flow": null,
            "grid_auto_rows": null,
            "grid_column": null,
            "grid_gap": null,
            "grid_row": null,
            "grid_template_areas": null,
            "grid_template_columns": null,
            "grid_template_rows": null,
            "height": null,
            "justify_content": null,
            "justify_items": null,
            "left": null,
            "margin": null,
            "max_height": null,
            "max_width": null,
            "min_height": null,
            "min_width": null,
            "object_fit": null,
            "object_position": null,
            "order": null,
            "overflow": null,
            "overflow_x": null,
            "overflow_y": null,
            "padding": null,
            "right": null,
            "top": null,
            "visibility": null,
            "width": null
          }
        },
        "461b80ee13b54479b9ea5e13d4dca5a7": {
          "model_module": "@jupyter-widgets/controls",
          "model_name": "DescriptionStyleModel",
          "model_module_version": "1.5.0",
          "state": {
            "_model_module": "@jupyter-widgets/controls",
            "_model_module_version": "1.5.0",
            "_model_name": "DescriptionStyleModel",
            "_view_count": null,
            "_view_module": "@jupyter-widgets/base",
            "_view_module_version": "1.2.0",
            "_view_name": "StyleView",
            "description_width": ""
          }
        },
        "cae70b12fc2544d9b0026d45ab890f3e": {
          "model_module": "@jupyter-widgets/base",
          "model_name": "LayoutModel",
          "model_module_version": "1.2.0",
          "state": {
            "_model_module": "@jupyter-widgets/base",
            "_model_module_version": "1.2.0",
            "_model_name": "LayoutModel",
            "_view_count": null,
            "_view_module": "@jupyter-widgets/base",
            "_view_module_version": "1.2.0",
            "_view_name": "LayoutView",
            "align_content": null,
            "align_items": null,
            "align_self": null,
            "border": null,
            "bottom": null,
            "display": null,
            "flex": null,
            "flex_flow": null,
            "grid_area": null,
            "grid_auto_columns": null,
            "grid_auto_flow": null,
            "grid_auto_rows": null,
            "grid_column": null,
            "grid_gap": null,
            "grid_row": null,
            "grid_template_areas": null,
            "grid_template_columns": null,
            "grid_template_rows": null,
            "height": null,
            "justify_content": null,
            "justify_items": null,
            "left": null,
            "margin": null,
            "max_height": null,
            "max_width": null,
            "min_height": null,
            "min_width": null,
            "object_fit": null,
            "object_position": null,
            "order": null,
            "overflow": null,
            "overflow_x": null,
            "overflow_y": null,
            "padding": null,
            "right": null,
            "top": null,
            "visibility": null,
            "width": null
          }
        },
        "4043545b934441aabaffca8cb03dbe90": {
          "model_module": "@jupyter-widgets/controls",
          "model_name": "ProgressStyleModel",
          "model_module_version": "1.5.0",
          "state": {
            "_model_module": "@jupyter-widgets/controls",
            "_model_module_version": "1.5.0",
            "_model_name": "ProgressStyleModel",
            "_view_count": null,
            "_view_module": "@jupyter-widgets/base",
            "_view_module_version": "1.2.0",
            "_view_name": "StyleView",
            "bar_color": null,
            "description_width": ""
          }
        }
      }
    }
  },
  "nbformat": 4,
  "nbformat_minor": 0
}